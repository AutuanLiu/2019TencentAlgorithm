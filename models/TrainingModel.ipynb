{
 "cells": [
  {
   "cell_type": "code",
   "execution_count": 1,
   "metadata": {},
   "outputs": [],
   "source": [
    "import pandas as pd\n",
    "from sklearn.metrics import mean_squared_error\n",
    "from sklearn.model_selection import train_test_split\n",
    "import numpy as np\n",
    "from deepctr.utils import SingleFeat\n",
    "from TrainingUtils import *\n",
    "from deepctr.models import xDeepFM\n",
    "import math"
   ]
  },
  {
   "cell_type": "code",
   "execution_count": 2,
   "metadata": {},
   "outputs": [],
   "source": [
    "path='/home/htc/code/Github/train_set_final.csv'                         #请把数据的路径写在这里\n",
    "data=pd.read_csv(path,low_memory=False,encoding='utf-8')"
   ]
  },
  {
   "cell_type": "code",
   "execution_count": 3,
   "metadata": {},
   "outputs": [
    {
     "data": {
      "text/plain": [
       "35"
      ]
     },
     "execution_count": 3,
     "metadata": {},
     "output_type": "execute_result"
    }
   ],
   "source": [
    "len(data.columns )"
   ]
  },
  {
   "cell_type": "code",
   "execution_count": 4,
   "metadata": {},
   "outputs": [
    {
     "data": {
      "text/plain": [
       "0    1.0\n",
       "1    1.0\n",
       "2    6.0\n",
       "3    1.0\n",
       "4    1.0\n",
       "Name: target, dtype: float64"
      ]
     },
     "execution_count": 4,
     "metadata": {},
     "output_type": "execute_result"
    }
   ],
   "source": [
    "new_columns=['ad_id','ad_type_id','ad_account_id','item_id','item_type','size','is_all_field',\n",
    "       'has_product_id', 'time', 'age', 'area', 'behavior', 'connectionType',\n",
    "       'consuptionAbility', 'device', 'education', 'gender', 'status', 'work',\n",
    "       'price', 'crt_dateYear', 'crt_dateMonth', 'crt_dateWeek', 'crt_dateDay',\n",
    "       'crt_dateDayofweek', 'crt_dateDayofyear', 'crt_dateIs_month_end',\n",
    "       'crt_dateIs_month_start', 'crt_dateIs_quarter_end',\n",
    "       'crt_dateIs_quarter_start', 'crt_dateIs_year_end',\n",
    "       'crt_dateIs_year_start', 'crt_dateHour', 'crt_dateElapsed','target']\n",
    "data.columns=new_columns\n",
    "data.columns\n",
    "data['target'].head()"
   ]
  },
  {
   "cell_type": "code",
   "execution_count": 5,
   "metadata": {},
   "outputs": [
    {
     "data": {
      "text/plain": [
       "0    0.693147\n",
       "1    0.693147\n",
       "2    1.945910\n",
       "3    0.693147\n",
       "4    0.693147\n",
       "Name: target, dtype: float64"
      ]
     },
     "execution_count": 5,
     "metadata": {},
     "output_type": "execute_result"
    }
   ],
   "source": [
    "p=lambda x: math.log(1+x)\n",
    "data['target']=data['target'].apply(p)\n",
    "data['target'].head()"
   ]
  },
  {
   "cell_type": "code",
   "execution_count": 6,
   "metadata": {},
   "outputs": [],
   "source": [
    "sparse_features = ['ad_id','ad_type_id','ad_account_id','item_id','item_type','is_all_field',\n",
    "       'has_product_id','consuptionAbility','crt_dateYear', 'crt_dateMonth', 'crt_dateWeek', 'crt_dateDay',\n",
    "       'crt_dateDayofweek', 'crt_dateDayofyear', 'crt_dateIs_month_end','crt_dateIs_month_start', 'crt_dateIs_quarter_end',\n",
    "       'crt_dateIs_quarter_start', 'crt_dateIs_year_end',\n",
    "       'crt_dateIs_year_start','crt_dateHour', 'crt_dateElapsed'] #在此加入稀疏特征名\n",
    "dense=['price',]\n",
    "multi_value_features=['size','time', 'age', 'area','device','behavior','connectionType','gender','education','area','status', 'work' ]#在此加入多值特征名\n",
    "target = ['target']#在此加入标签名\n",
    "hashing=False\n",
    "data=sparse_feature_encoding(data,sparse_features)"
   ]
  },
  {
   "cell_type": "code",
   "execution_count": 7,
   "metadata": {},
   "outputs": [],
   "source": [
    "# sequence_input,max_len_list=multi_value_feature_encoding(data,multi_value_features)"
   ]
  },
  {
   "cell_type": "code",
   "execution_count": 8,
   "metadata": {},
   "outputs": [],
   "source": [
    "sparse_feat_list=sparse_feat_list_gen(data,sparse_features,hashing)\n",
    "# sequence_output=sequence_feature_acquire(max_len_list,multi_value_features,hashing)"
   ]
  },
  {
   "cell_type": "code",
   "execution_count": 9,
   "metadata": {},
   "outputs": [],
   "source": [
    "# 3.generate input data for model\n",
    "sparse_input = [data[feat.name].values for feat in sparse_feat_list]\n",
    "# dense_input = []#加入密集特征\n",
    "# sequence_input = [genres_list]\n",
    "model_input=sparse_input\n",
    "# model_input = sparse_input + dense_input + \\\n",
    "#               sequence_input  # make sure the order is right"
   ]
  },
  {
   "cell_type": "code",
   "execution_count": 10,
   "metadata": {},
   "outputs": [
    {
     "name": "stdout",
     "output_type": "stream",
     "text": [
      "WARNING:tensorflow:From /home/htc/.local/lib/python3.6/site-packages/tensorflow/python/ops/resource_variable_ops.py:435: colocate_with (from tensorflow.python.framework.ops) is deprecated and will be removed in a future version.\n",
      "Instructions for updating:\n",
      "Colocations handled automatically by placer.\n",
      "WARNING:tensorflow:From /home/htc/.conda/envs/Tencent/lib/python3.6/site-packages/deepctr/layers/interaction.py:297: calling reduce_sum_v1 (from tensorflow.python.ops.math_ops) with keep_dims is deprecated and will be removed in a future version.\n",
      "Instructions for updating:\n",
      "keep_dims is deprecated, use keepdims instead\n",
      "WARNING:tensorflow:From /home/htc/.local/lib/python3.6/site-packages/tensorflow/python/keras/layers/core.py:143: calling dropout (from tensorflow.python.ops.nn_ops) with keep_prob is deprecated and will be removed in a future version.\n",
      "Instructions for updating:\n",
      "Please use `rate` instead of `keep_prob`. Rate should be set to `rate = 1 - keep_prob`.\n"
     ]
    }
   ],
   "source": [
    "# 4.Define Model,compile and train\n",
    "model = xDeepFM({\"sparse\": sparse_feat_list,\n",
    "                }, task='regression')"
   ]
  },
  {
   "cell_type": "code",
   "execution_count": 11,
   "metadata": {},
   "outputs": [
    {
     "name": "stdout",
     "output_type": "stream",
     "text": [
      "WARNING:tensorflow:From /home/htc/.local/lib/python3.6/site-packages/tensorflow/python/keras/utils/losses_utils.py:170: to_float (from tensorflow.python.ops.math_ops) is deprecated and will be removed in a future version.\n",
      "Instructions for updating:\n",
      "Use tf.cast instead.\n",
      "Train on 168684 samples, validate on 42171 samples\n",
      "WARNING:tensorflow:From /home/htc/.local/lib/python3.6/site-packages/tensorflow/python/ops/math_ops.py:3066: to_int32 (from tensorflow.python.ops.math_ops) is deprecated and will be removed in a future version.\n",
      "Instructions for updating:\n",
      "Use tf.cast instead.\n",
      " - 14s - loss: 0.6599 - mean_squared_error: 0.6588 - val_loss: 0.9071 - val_mean_squared_error: 0.9048\n"
     ]
    }
   ],
   "source": [
    "#训练\n",
    "model.compile(\"adam\", \"mse\", metrics=['mse'], )\n",
    "history = model.fit(model_input, data[target].values,\n",
    "                    batch_size=256, epochs=1, verbose=2, validation_split=0.2, )"
   ]
  },
  {
   "cell_type": "code",
   "execution_count": 12,
   "metadata": {},
   "outputs": [
    {
     "data": {
      "text/plain": [
       "(20290,)"
      ]
     },
     "execution_count": 12,
     "metadata": {},
     "output_type": "execute_result"
    }
   ],
   "source": [
    "test_path='/home/htc/code/Github/TencentAlgo/test_set_final.csv'\n",
    "test_data=pd.read_csv(test_path,low_memory=False,encoding='utf-8')\n",
    "pred=test_data.iloc[:,0]\n",
    "# pred.columns=['样本id']\n",
    "test_data=test_data.iloc[:,1:]\n",
    "test_columns=new_columns[:-1]\n",
    "test_data.columns=test_columns\n",
    "pred.shape"
   ]
  },
  {
   "cell_type": "code",
   "execution_count": 13,
   "metadata": {},
   "outputs": [],
   "source": [
    "test_model_input=[test_data[feat.name].values for feat in sparse_feat_list]"
   ]
  },
  {
   "cell_type": "code",
   "execution_count": 14,
   "metadata": {},
   "outputs": [],
   "source": [
    "p2=lambda x: (np.exp(x) - 1)"
   ]
  },
  {
   "cell_type": "code",
   "execution_count": 15,
   "metadata": {},
   "outputs": [
    {
     "data": {
      "text/plain": [
       "(20290, 1)"
      ]
     },
     "execution_count": 15,
     "metadata": {},
     "output_type": "execute_result"
    }
   ],
   "source": [
    "pred_ans = model.predict(test_model_input, batch_size=256)\n",
    "pred_ans.shape"
   ]
  },
  {
   "cell_type": "code",
   "execution_count": 16,
   "metadata": {},
   "outputs": [
    {
     "data": {
      "text/plain": [
       "(20290,)"
      ]
     },
     "execution_count": 16,
     "metadata": {},
     "output_type": "execute_result"
    }
   ],
   "source": [
    "\n",
    "pred_ans=np.exp(pred_ans)-1\n",
    "pred_ans=pred_ans.squeeze(1)\n",
    "pred=pd.DataFrame(pred)\n",
    "pred_ans.shape"
   ]
  },
  {
   "cell_type": "code",
   "execution_count": 17,
   "metadata": {},
   "outputs": [
    {
     "data": {
      "text/html": [
       "<div>\n",
       "<style scoped>\n",
       "    .dataframe tbody tr th:only-of-type {\n",
       "        vertical-align: middle;\n",
       "    }\n",
       "\n",
       "    .dataframe tbody tr th {\n",
       "        vertical-align: top;\n",
       "    }\n",
       "\n",
       "    .dataframe thead th {\n",
       "        text-align: right;\n",
       "    }\n",
       "</style>\n",
       "<table border=\"1\" class=\"dataframe\">\n",
       "  <thead>\n",
       "    <tr style=\"text-align: right;\">\n",
       "      <th></th>\n",
       "      <th>样本id</th>\n",
       "      <th>预估日曝光</th>\n",
       "    </tr>\n",
       "  </thead>\n",
       "  <tbody>\n",
       "    <tr>\n",
       "      <th>0</th>\n",
       "      <td>1</td>\n",
       "      <td>3.953377</td>\n",
       "    </tr>\n",
       "    <tr>\n",
       "      <th>1</th>\n",
       "      <td>2</td>\n",
       "      <td>9.260545</td>\n",
       "    </tr>\n",
       "    <tr>\n",
       "      <th>2</th>\n",
       "      <td>3</td>\n",
       "      <td>2.467767</td>\n",
       "    </tr>\n",
       "    <tr>\n",
       "      <th>3</th>\n",
       "      <td>4</td>\n",
       "      <td>4.201241</td>\n",
       "    </tr>\n",
       "    <tr>\n",
       "      <th>4</th>\n",
       "      <td>5</td>\n",
       "      <td>5.052727</td>\n",
       "    </tr>\n",
       "  </tbody>\n",
       "</table>\n",
       "</div>"
      ],
      "text/plain": [
       "   样本id     预估日曝光\n",
       "0     1  3.953377\n",
       "1     2  9.260545\n",
       "2     3  2.467767\n",
       "3     4  4.201241\n",
       "4     5  5.052727"
      ]
     },
     "execution_count": 17,
     "metadata": {},
     "output_type": "execute_result"
    }
   ],
   "source": [
    "pred['预估日曝光']=pred_ans\n",
    "result_name='submission.csv'\n",
    "pred.head()"
   ]
  },
  {
   "cell_type": "code",
   "execution_count": 18,
   "metadata": {},
   "outputs": [],
   "source": [
    "pred.to_csv(result_name,encoding='UTF-8')"
   ]
  },
  {
   "cell_type": "code",
   "execution_count": null,
   "metadata": {},
   "outputs": [],
   "source": []
  }
 ],
 "metadata": {
  "kernelspec": {
   "display_name": "Python [conda env:Tencent] *",
   "language": "python",
   "name": "conda-env-Tencent-py"
  },
  "language_info": {
   "codemirror_mode": {
    "name": "ipython",
    "version": 3
   },
   "file_extension": ".py",
   "mimetype": "text/x-python",
   "name": "python",
   "nbconvert_exporter": "python",
   "pygments_lexer": "ipython3",
   "version": "3.6.8"
  }
 },
 "nbformat": 4,
 "nbformat_minor": 2
}
