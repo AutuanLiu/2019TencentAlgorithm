{
 "cells": [
  {
   "cell_type": "code",
   "execution_count": 1,
   "metadata": {},
   "outputs": [],
   "source": [
    "import pandas as pd\n",
    "import torch\n",
    "from torch import nn\n",
    "import numpy as np\n",
    "from torch import nn\n",
    "from collections import *\n",
    "from sklearn.feature_extraction.text import CountVectorizer, TfidfVectorizer\n",
    "from sklearn.preprocessing import LabelBinarizer, LabelEncoder, StandardScaler, MinMaxScaler, Binarizer"
   ]
  },
  {
   "cell_type": "code",
   "execution_count": 2,
   "metadata": {},
   "outputs": [],
   "source": [
    "data = pd.read_csv('test_set_B.csv')"
   ]
  },
  {
   "cell_type": "code",
   "execution_count": 3,
   "metadata": {},
   "outputs": [
    {
     "data": {
      "text/html": [
       "<div>\n",
       "<style scoped>\n",
       "    .dataframe tbody tr th:only-of-type {\n",
       "        vertical-align: middle;\n",
       "    }\n",
       "\n",
       "    .dataframe tbody tr th {\n",
       "        vertical-align: top;\n",
       "    }\n",
       "\n",
       "    .dataframe thead th {\n",
       "        text-align: right;\n",
       "    }\n",
       "</style>\n",
       "<table border=\"1\" class=\"dataframe\">\n",
       "  <thead>\n",
       "    <tr style=\"text-align: right;\">\n",
       "      <th></th>\n",
       "      <th>sample_id</th>\n",
       "      <th>ad_id</th>\n",
       "      <th>ad_type_id</th>\n",
       "      <th>ad_account_id</th>\n",
       "      <th>item_id</th>\n",
       "      <th>item_type</th>\n",
       "      <th>size</th>\n",
       "      <th>is_all_field</th>\n",
       "      <th>has_product_id</th>\n",
       "      <th>has_price</th>\n",
       "      <th>...</th>\n",
       "      <th>crt_dateDayofweek</th>\n",
       "      <th>crt_dateDayofyear</th>\n",
       "      <th>crt_dateIs_month_end</th>\n",
       "      <th>crt_dateIs_month_start</th>\n",
       "      <th>crt_dateIs_quarter_end</th>\n",
       "      <th>crt_dateIs_quarter_start</th>\n",
       "      <th>crt_dateIs_year_end</th>\n",
       "      <th>crt_dateIs_year_start</th>\n",
       "      <th>crt_dateHour</th>\n",
       "      <th>crt_dateElapsed</th>\n",
       "    </tr>\n",
       "  </thead>\n",
       "  <tbody>\n",
       "    <tr>\n",
       "      <th>0</th>\n",
       "      <td>1</td>\n",
       "      <td>152978</td>\n",
       "      <td>118</td>\n",
       "      <td>23511</td>\n",
       "      <td>-1</td>\n",
       "      <td>3</td>\n",
       "      <td>30</td>\n",
       "      <td>False</td>\n",
       "      <td>False</td>\n",
       "      <td>False</td>\n",
       "      <td>...</td>\n",
       "      <td>1</td>\n",
       "      <td>334</td>\n",
       "      <td>False</td>\n",
       "      <td>False</td>\n",
       "      <td>False</td>\n",
       "      <td>False</td>\n",
       "      <td>False</td>\n",
       "      <td>False</td>\n",
       "      <td>2</td>\n",
       "      <td>1480387159</td>\n",
       "    </tr>\n",
       "    <tr>\n",
       "      <th>1</th>\n",
       "      <td>2</td>\n",
       "      <td>507977</td>\n",
       "      <td>122</td>\n",
       "      <td>4211</td>\n",
       "      <td>629</td>\n",
       "      <td>13</td>\n",
       "      <td>30</td>\n",
       "      <td>True</td>\n",
       "      <td>True</td>\n",
       "      <td>False</td>\n",
       "      <td>...</td>\n",
       "      <td>1</td>\n",
       "      <td>64</td>\n",
       "      <td>False</td>\n",
       "      <td>False</td>\n",
       "      <td>False</td>\n",
       "      <td>False</td>\n",
       "      <td>False</td>\n",
       "      <td>False</td>\n",
       "      <td>13</td>\n",
       "      <td>1551793928</td>\n",
       "    </tr>\n",
       "    <tr>\n",
       "      <th>2</th>\n",
       "      <td>3</td>\n",
       "      <td>639943</td>\n",
       "      <td>84</td>\n",
       "      <td>15582</td>\n",
       "      <td>2525</td>\n",
       "      <td>13</td>\n",
       "      <td>34</td>\n",
       "      <td>False</td>\n",
       "      <td>True</td>\n",
       "      <td>False</td>\n",
       "      <td>...</td>\n",
       "      <td>3</td>\n",
       "      <td>172</td>\n",
       "      <td>False</td>\n",
       "      <td>False</td>\n",
       "      <td>False</td>\n",
       "      <td>False</td>\n",
       "      <td>False</td>\n",
       "      <td>False</td>\n",
       "      <td>7</td>\n",
       "      <td>1529565757</td>\n",
       "    </tr>\n",
       "    <tr>\n",
       "      <th>3</th>\n",
       "      <td>4</td>\n",
       "      <td>605859</td>\n",
       "      <td>98</td>\n",
       "      <td>10907</td>\n",
       "      <td>3808</td>\n",
       "      <td>13</td>\n",
       "      <td>40</td>\n",
       "      <td>True</td>\n",
       "      <td>True</td>\n",
       "      <td>False</td>\n",
       "      <td>...</td>\n",
       "      <td>3</td>\n",
       "      <td>80</td>\n",
       "      <td>False</td>\n",
       "      <td>False</td>\n",
       "      <td>False</td>\n",
       "      <td>False</td>\n",
       "      <td>False</td>\n",
       "      <td>False</td>\n",
       "      <td>9</td>\n",
       "      <td>1553161934</td>\n",
       "    </tr>\n",
       "    <tr>\n",
       "      <th>4</th>\n",
       "      <td>5</td>\n",
       "      <td>742582</td>\n",
       "      <td>122</td>\n",
       "      <td>15855</td>\n",
       "      <td>7017</td>\n",
       "      <td>13</td>\n",
       "      <td>40</td>\n",
       "      <td>False</td>\n",
       "      <td>True</td>\n",
       "      <td>False</td>\n",
       "      <td>...</td>\n",
       "      <td>3</td>\n",
       "      <td>59</td>\n",
       "      <td>True</td>\n",
       "      <td>False</td>\n",
       "      <td>False</td>\n",
       "      <td>False</td>\n",
       "      <td>False</td>\n",
       "      <td>False</td>\n",
       "      <td>4</td>\n",
       "      <td>1551329520</td>\n",
       "    </tr>\n",
       "  </tbody>\n",
       "</table>\n",
       "<p>5 rows × 36 columns</p>\n",
       "</div>"
      ],
      "text/plain": [
       "   sample_id   ad_id  ad_type_id  ad_account_id  item_id  item_type  size  \\\n",
       "0          1  152978         118          23511       -1          3    30   \n",
       "1          2  507977         122           4211      629         13    30   \n",
       "2          3  639943          84          15582     2525         13    34   \n",
       "3          4  605859          98          10907     3808         13    40   \n",
       "4          5  742582         122          15855     7017         13    40   \n",
       "\n",
       "   is_all_field  has_product_id  has_price  ... crt_dateDayofweek  \\\n",
       "0         False           False      False  ...                 1   \n",
       "1          True            True      False  ...                 1   \n",
       "2         False            True      False  ...                 3   \n",
       "3          True            True      False  ...                 3   \n",
       "4         False            True      False  ...                 3   \n",
       "\n",
       "  crt_dateDayofyear crt_dateIs_month_end crt_dateIs_month_start  \\\n",
       "0               334                False                  False   \n",
       "1                64                False                  False   \n",
       "2               172                False                  False   \n",
       "3                80                False                  False   \n",
       "4                59                 True                  False   \n",
       "\n",
       "  crt_dateIs_quarter_end crt_dateIs_quarter_start crt_dateIs_year_end  \\\n",
       "0                  False                    False               False   \n",
       "1                  False                    False               False   \n",
       "2                  False                    False               False   \n",
       "3                  False                    False               False   \n",
       "4                  False                    False               False   \n",
       "\n",
       "  crt_dateIs_year_start crt_dateHour crt_dateElapsed  \n",
       "0                 False            2      1480387159  \n",
       "1                 False           13      1551793928  \n",
       "2                 False            7      1529565757  \n",
       "3                 False            9      1553161934  \n",
       "4                 False            4      1551329520  \n",
       "\n",
       "[5 rows x 36 columns]"
      ]
     },
     "execution_count": 3,
     "metadata": {},
     "output_type": "execute_result"
    }
   ],
   "source": [
    "data.head()"
   ]
  },
  {
   "cell_type": "code",
   "execution_count": 4,
   "metadata": {},
   "outputs": [
    {
     "data": {
      "text/plain": [
       "0    182,202,739,340,536,287,690,988,187,367,479,94...\n",
       "1                                                   -9\n",
       "2    433,202,739,340,988,479,942,731,844,837,333,40...\n",
       "3                                                   -9\n",
       "4                   433,819,79,522,601,753,347,829,741\n",
       "Name: age, dtype: object"
      ]
     },
     "execution_count": 4,
     "metadata": {},
     "output_type": "execute_result"
    }
   ],
   "source": [
    "data['age'].head()"
   ]
  },
  {
   "cell_type": "code",
   "execution_count": 5,
   "metadata": {},
   "outputs": [],
   "source": [
    "data['age'] = data['age'].astype('object')"
   ]
  },
  {
   "cell_type": "code",
   "execution_count": 6,
   "metadata": {},
   "outputs": [],
   "source": [
    "data['age'].replace({'-999': 'unk', '-9': 'all'}, inplace=True)"
   ]
  },
  {
   "cell_type": "code",
   "execution_count": 7,
   "metadata": {},
   "outputs": [
    {
     "data": {
      "text/plain": [
       "0    182,202,739,340,536,287,690,988,187,367,479,94...\n",
       "1                                                  all\n",
       "2    433,202,739,340,988,479,942,731,844,837,333,40...\n",
       "3                                                  all\n",
       "4                   433,819,79,522,601,753,347,829,741\n",
       "Name: age, dtype: object"
      ]
     },
     "execution_count": 7,
     "metadata": {},
     "output_type": "execute_result"
    }
   ],
   "source": [
    "data['age'].head()"
   ]
  },
  {
   "cell_type": "code",
   "execution_count": 8,
   "metadata": {},
   "outputs": [],
   "source": [
    "cv = CountVectorizer()"
   ]
  },
  {
   "cell_type": "code",
   "execution_count": 9,
   "metadata": {},
   "outputs": [],
   "source": [
    "hot = cv.fit_transform(data['age']).toarray()"
   ]
  },
  {
   "cell_type": "code",
   "execution_count": 10,
   "metadata": {},
   "outputs": [
    {
     "data": {
      "text/plain": [
       "(38596, 993)"
      ]
     },
     "execution_count": 10,
     "metadata": {},
     "output_type": "execute_result"
    }
   ],
   "source": [
    "hot.shape"
   ]
  },
  {
   "cell_type": "code",
   "execution_count": 11,
   "metadata": {},
   "outputs": [
    {
     "data": {
      "text/plain": [
       "array([[0, 0, 0, ..., 0, 0, 0],\n",
       "       [0, 0, 0, ..., 0, 1, 0],\n",
       "       [0, 0, 0, ..., 0, 0, 0],\n",
       "       ...,\n",
       "       [0, 0, 0, ..., 0, 0, 1],\n",
       "       [0, 0, 0, ..., 0, 0, 0],\n",
       "       [0, 0, 0, ..., 0, 1, 0]], dtype=int64)"
      ]
     },
     "execution_count": 11,
     "metadata": {},
     "output_type": "execute_result"
    }
   ],
   "source": [
    "hot"
   ]
  },
  {
   "cell_type": "code",
   "execution_count": 12,
   "metadata": {},
   "outputs": [],
   "source": [
    "t = set.union(*[set(i.split(',')) for i in data['age']])"
   ]
  },
  {
   "cell_type": "code",
   "execution_count": 13,
   "metadata": {},
   "outputs": [
    {
     "data": {
      "text/plain": [
       "1002"
      ]
     },
     "execution_count": 13,
     "metadata": {},
     "output_type": "execute_result"
    }
   ],
   "source": [
    "len(t)"
   ]
  },
  {
   "cell_type": "code",
   "execution_count": 14,
   "metadata": {},
   "outputs": [
    {
     "data": {
      "text/plain": [
       "['992', '993', '994', '995', '996', '997', '998', '999', 'all', 'unk']"
      ]
     },
     "execution_count": 14,
     "metadata": {},
     "output_type": "execute_result"
    }
   ],
   "source": [
    "sorted(cv.get_feature_names())[-10:]"
   ]
  },
  {
   "cell_type": "code",
   "execution_count": 15,
   "metadata": {},
   "outputs": [
    {
     "data": {
      "text/plain": [
       "{'1', '2', '3', '4', '5', '6', '7', '8', '9'}"
      ]
     },
     "execution_count": 15,
     "metadata": {},
     "output_type": "execute_result"
    }
   ],
   "source": [
    "t - set(cv.get_feature_names())"
   ]
  },
  {
   "cell_type": "code",
   "execution_count": 16,
   "metadata": {},
   "outputs": [],
   "source": [
    "ebb = nn.EmbeddingBag(993, 10)\n",
    "eb = nn.Embedding(993, 10)"
   ]
  },
  {
   "cell_type": "code",
   "execution_count": 17,
   "metadata": {},
   "outputs": [
    {
     "data": {
      "text/plain": [
       "tensor([[ 0.7191, -1.9375,  0.9649,  ...,  0.5438,  0.9943,  0.5826],\n",
       "        [ 0.7286, -2.0240,  0.9879,  ...,  0.5171,  0.9781,  0.5556],\n",
       "        [ 0.7208, -1.9524,  0.9689,  ...,  0.5392,  0.9915,  0.5780],\n",
       "        ...,\n",
       "        [ 0.7286, -2.0240,  0.9879,  ...,  0.5171,  0.9781,  0.5556],\n",
       "        [ 0.7248, -1.9894,  0.9787,  ...,  0.5278,  0.9846,  0.5664],\n",
       "        [ 0.7286, -2.0240,  0.9879,  ...,  0.5171,  0.9781,  0.5556]],\n",
       "       grad_fn=<EmbeddingBagBackward>)"
      ]
     },
     "execution_count": 17,
     "metadata": {},
     "output_type": "execute_result"
    }
   ],
   "source": [
    "out1 = ebb(torch.LongTensor(hot))\n",
    "out1"
   ]
  },
  {
   "cell_type": "code",
   "execution_count": 18,
   "metadata": {},
   "outputs": [
    {
     "data": {
      "text/plain": [
       "torch.Size([38596, 10])"
      ]
     },
     "execution_count": 18,
     "metadata": {},
     "output_type": "execute_result"
    }
   ],
   "source": [
    "out1.shape"
   ]
  },
  {
   "cell_type": "code",
   "execution_count": 19,
   "metadata": {},
   "outputs": [
    {
     "data": {
      "text/plain": [
       "tensor([[[-0.9139,  0.3207, -0.3649,  ..., -1.6118,  0.1159, -0.8864],\n",
       "         [-0.9139,  0.3207, -0.3649,  ..., -1.6118,  0.1159, -0.8864],\n",
       "         [-0.9139,  0.3207, -0.3649,  ..., -1.6118,  0.1159, -0.8864],\n",
       "         ...,\n",
       "         [-0.9139,  0.3207, -0.3649,  ..., -1.6118,  0.1159, -0.8864],\n",
       "         [-0.9139,  0.3207, -0.3649,  ..., -1.6118,  0.1159, -0.8864],\n",
       "         [-0.9139,  0.3207, -0.3649,  ..., -1.6118,  0.1159, -0.8864]],\n",
       "\n",
       "        [[-0.9139,  0.3207, -0.3649,  ..., -1.6118,  0.1159, -0.8864],\n",
       "         [-0.9139,  0.3207, -0.3649,  ..., -1.6118,  0.1159, -0.8864],\n",
       "         [-0.9139,  0.3207, -0.3649,  ..., -1.6118,  0.1159, -0.8864],\n",
       "         ...,\n",
       "         [-0.9139,  0.3207, -0.3649,  ..., -1.6118,  0.1159, -0.8864],\n",
       "         [ 0.9018,  0.4865,  0.0934,  ..., -0.1478,  0.4544, -0.0535],\n",
       "         [-0.9139,  0.3207, -0.3649,  ..., -1.6118,  0.1159, -0.8864]],\n",
       "\n",
       "        [[-0.9139,  0.3207, -0.3649,  ..., -1.6118,  0.1159, -0.8864],\n",
       "         [-0.9139,  0.3207, -0.3649,  ..., -1.6118,  0.1159, -0.8864],\n",
       "         [-0.9139,  0.3207, -0.3649,  ..., -1.6118,  0.1159, -0.8864],\n",
       "         ...,\n",
       "         [-0.9139,  0.3207, -0.3649,  ..., -1.6118,  0.1159, -0.8864],\n",
       "         [-0.9139,  0.3207, -0.3649,  ..., -1.6118,  0.1159, -0.8864],\n",
       "         [-0.9139,  0.3207, -0.3649,  ..., -1.6118,  0.1159, -0.8864]],\n",
       "\n",
       "        ...,\n",
       "\n",
       "        [[-0.9139,  0.3207, -0.3649,  ..., -1.6118,  0.1159, -0.8864],\n",
       "         [-0.9139,  0.3207, -0.3649,  ..., -1.6118,  0.1159, -0.8864],\n",
       "         [-0.9139,  0.3207, -0.3649,  ..., -1.6118,  0.1159, -0.8864],\n",
       "         ...,\n",
       "         [-0.9139,  0.3207, -0.3649,  ..., -1.6118,  0.1159, -0.8864],\n",
       "         [-0.9139,  0.3207, -0.3649,  ..., -1.6118,  0.1159, -0.8864],\n",
       "         [ 0.9018,  0.4865,  0.0934,  ..., -0.1478,  0.4544, -0.0535]],\n",
       "\n",
       "        [[-0.9139,  0.3207, -0.3649,  ..., -1.6118,  0.1159, -0.8864],\n",
       "         [-0.9139,  0.3207, -0.3649,  ..., -1.6118,  0.1159, -0.8864],\n",
       "         [-0.9139,  0.3207, -0.3649,  ..., -1.6118,  0.1159, -0.8864],\n",
       "         ...,\n",
       "         [-0.9139,  0.3207, -0.3649,  ..., -1.6118,  0.1159, -0.8864],\n",
       "         [-0.9139,  0.3207, -0.3649,  ..., -1.6118,  0.1159, -0.8864],\n",
       "         [-0.9139,  0.3207, -0.3649,  ..., -1.6118,  0.1159, -0.8864]],\n",
       "\n",
       "        [[-0.9139,  0.3207, -0.3649,  ..., -1.6118,  0.1159, -0.8864],\n",
       "         [-0.9139,  0.3207, -0.3649,  ..., -1.6118,  0.1159, -0.8864],\n",
       "         [-0.9139,  0.3207, -0.3649,  ..., -1.6118,  0.1159, -0.8864],\n",
       "         ...,\n",
       "         [-0.9139,  0.3207, -0.3649,  ..., -1.6118,  0.1159, -0.8864],\n",
       "         [ 0.9018,  0.4865,  0.0934,  ..., -0.1478,  0.4544, -0.0535],\n",
       "         [-0.9139,  0.3207, -0.3649,  ..., -1.6118,  0.1159, -0.8864]]],\n",
       "       grad_fn=<EmbeddingBackward>)"
      ]
     },
     "execution_count": 19,
     "metadata": {},
     "output_type": "execute_result"
    }
   ],
   "source": [
    "out2 = eb(torch.LongTensor(hot))\n",
    "out2"
   ]
  },
  {
   "cell_type": "code",
   "execution_count": 20,
   "metadata": {},
   "outputs": [
    {
     "data": {
      "text/plain": [
       "torch.Size([38596, 993, 10])"
      ]
     },
     "execution_count": 20,
     "metadata": {},
     "output_type": "execute_result"
    }
   ],
   "source": [
    "out2.shape"
   ]
  },
  {
   "cell_type": "code",
   "execution_count": 21,
   "metadata": {},
   "outputs": [
    {
     "data": {
      "text/plain": [
       "tensor([[-0.8480,  0.3267, -0.3483,  ..., -1.5587,  0.1282, -0.8562],\n",
       "        [-0.9120,  0.3209, -0.3645,  ..., -1.6103,  0.1162, -0.8856],\n",
       "        [-0.8590,  0.3257, -0.3511,  ..., -1.5676,  0.1261, -0.8612],\n",
       "        ...,\n",
       "        [-0.9120,  0.3209, -0.3645,  ..., -1.6103,  0.1162, -0.8856],\n",
       "        [-0.8864,  0.3232, -0.3580,  ..., -1.5897,  0.1210, -0.8738],\n",
       "        [-0.9120,  0.3209, -0.3645,  ..., -1.6103,  0.1162, -0.8856]],\n",
       "       grad_fn=<MeanBackward0>)"
      ]
     },
     "execution_count": 21,
     "metadata": {},
     "output_type": "execute_result"
    }
   ],
   "source": [
    "out3 = torch.mean(out2, dim=1)\n",
    "out3"
   ]
  },
  {
   "cell_type": "code",
   "execution_count": 22,
   "metadata": {},
   "outputs": [
    {
     "data": {
      "text/plain": [
       "torch.Size([38596, 10])"
      ]
     },
     "execution_count": 22,
     "metadata": {},
     "output_type": "execute_result"
    }
   ],
   "source": [
    "out3.shape"
   ]
  },
  {
   "cell_type": "markdown",
   "metadata": {},
   "source": [
    "- cat 变量"
   ]
  },
  {
   "cell_type": "code",
   "execution_count": 23,
   "metadata": {},
   "outputs": [],
   "source": [
    "id = data['ad_id']"
   ]
  },
  {
   "cell_type": "code",
   "execution_count": 24,
   "metadata": {},
   "outputs": [
    {
     "data": {
      "text/plain": [
       "0    152978\n",
       "1    507977\n",
       "2    639943\n",
       "3    605859\n",
       "4    742582\n",
       "Name: ad_id, dtype: int64"
      ]
     },
     "execution_count": 24,
     "metadata": {},
     "output_type": "execute_result"
    }
   ],
   "source": [
    "id.head()"
   ]
  },
  {
   "cell_type": "code",
   "execution_count": 25,
   "metadata": {},
   "outputs": [
    {
     "data": {
      "text/plain": [
       "0        152978\n",
       "1        507977\n",
       "2        639943\n",
       "3        605859\n",
       "4        742582\n",
       "5        742243\n",
       "6        306151\n",
       "7        739668\n",
       "8        443852\n",
       "9        647165\n",
       "10       737743\n",
       "11       340690\n",
       "12       743220\n",
       "13       199900\n",
       "14       542355\n",
       "15       470179\n",
       "16       276721\n",
       "17       640941\n",
       "18       533697\n",
       "19       745079\n",
       "20       670144\n",
       "21       738723\n",
       "22       737768\n",
       "23       584723\n",
       "24       665275\n",
       "25       112801\n",
       "26       738912\n",
       "27       742737\n",
       "28       740586\n",
       "29       737714\n",
       "          ...  \n",
       "38566    737732\n",
       "38567    737662\n",
       "38568    270239\n",
       "38569    378147\n",
       "38570    704373\n",
       "38571    299588\n",
       "38572    122852\n",
       "38573    232723\n",
       "38574    745563\n",
       "38575    745044\n",
       "38576    311850\n",
       "38577    743898\n",
       "38578    218244\n",
       "38579    738799\n",
       "38580    737847\n",
       "38581    344646\n",
       "38582    209113\n",
       "38583    295613\n",
       "38584    744895\n",
       "38585     92897\n",
       "38586    523918\n",
       "38587     30311\n",
       "38588    745019\n",
       "38589    739549\n",
       "38590    106223\n",
       "38591    188991\n",
       "38592    142084\n",
       "38593    542258\n",
       "38594    738623\n",
       "38595    600679\n",
       "Name: ad_id, Length: 38596, dtype: category\n",
       "Categories (3750, int64): [415 < 1030 < 1090 < 1383 ... 746083 < 746085 < 746093 < 746103]"
      ]
     },
     "execution_count": 25,
     "metadata": {},
     "output_type": "execute_result"
    }
   ],
   "source": [
    "id.astype('category').cat.as_ordered()"
   ]
  },
  {
   "cell_type": "code",
   "execution_count": 26,
   "metadata": {},
   "outputs": [],
   "source": [
    "y = data['area'].astype('category')"
   ]
  },
  {
   "cell_type": "code",
   "execution_count": 27,
   "metadata": {},
   "outputs": [
    {
     "data": {
      "text/plain": [
       "0                                                     -999\n",
       "1                                                       -9\n",
       "2                                                     -999\n",
       "3                                                       -9\n",
       "4                                                     -999\n",
       "5                                                     -999\n",
       "6                                                     -999\n",
       "7                                                3766,5241\n",
       "8                                                       -9\n",
       "9        2189,9073,11253,3852,10648,2785,14369,3955,517...\n",
       "10       11497,12347,8834,8419,13404,10838,3895,12250,8...\n",
       "11       10793,14237,10799,8333,11088,185,11710,11908,2...\n",
       "12                                                    -999\n",
       "13                                                      -9\n",
       "14                                                    -999\n",
       "15                                                    9686\n",
       "16                                                      -9\n",
       "17                        7731,12815,13909,7803,13866,9700\n",
       "18                                                    2852\n",
       "19                                                   11442\n",
       "20                                                    7572\n",
       "21                                                    -999\n",
       "22                                                    -999\n",
       "23                                                    7572\n",
       "24       13938,626,6804,11155,10362,2322,4530,8824,1446...\n",
       "25                                                    -999\n",
       "26                                                    -999\n",
       "27                                                    -999\n",
       "28                                                   11442\n",
       "29       604,9073,10648,2785,3336,13310,2852,5779,4969,...\n",
       "                               ...                        \n",
       "38566                                           3386,13859\n",
       "38567                                                 -999\n",
       "38568                                                 -999\n",
       "38569                                                 -999\n",
       "38570                                                 -999\n",
       "38571                                                   -9\n",
       "38572    9073,10648,2785,2954,3336,13310,2852,5779,4969...\n",
       "38573                                                   -9\n",
       "38574                                                 -999\n",
       "38575                                                 -999\n",
       "38576                     7731,12815,13909,7803,13866,9700\n",
       "38577                                           12872,1050\n",
       "38578                                                  917\n",
       "38579                                                 6982\n",
       "38580                                                 -999\n",
       "38581    7030,19,11155,2694,2510,13703,2841,13200,14440...\n",
       "38582                                                11442\n",
       "38583                                                11223\n",
       "38584                                            8624,7613\n",
       "38585                                                 -999\n",
       "38586    2189,9073,3852,3503,1939,12995,7613,9452,10543...\n",
       "38587                                                 7572\n",
       "38588                                                 -999\n",
       "38589                                                 -999\n",
       "38590                                                 7572\n",
       "38591                                                   -9\n",
       "38592                                                 -999\n",
       "38593                                                 7572\n",
       "38594                                                 -999\n",
       "38595                                                   -9\n",
       "Name: area, Length: 38596, dtype: category\n",
       "Categories (302, object): [-9 < -999 < 10102,8934,7176 < 10331,10639,9418,12238,4826,3720 ... 9692 < 9840,12146,9405,301 < 9918,4502,10793,13938,5232,6364,588,6425,10220... < 993]"
      ]
     },
     "execution_count": 27,
     "metadata": {},
     "output_type": "execute_result"
    }
   ],
   "source": [
    "y.cat.as_ordered()"
   ]
  },
  {
   "cell_type": "code",
   "execution_count": 28,
   "metadata": {},
   "outputs": [
    {
     "data": {
      "text/plain": [
       "array([0, 1, 1, ..., 1, 1, 1])"
      ]
     },
     "execution_count": 28,
     "metadata": {},
     "output_type": "execute_result"
    }
   ],
   "source": [
    "bi = LabelEncoder()\n",
    "bi.fit_transform(data['has_product_id'])"
   ]
  },
  {
   "cell_type": "code",
   "execution_count": 29,
   "metadata": {},
   "outputs": [
    {
     "data": {
      "text/plain": [
       "array([ 397, 1331, 1658, ..., 1407, 2387, 1558])"
      ]
     },
     "execution_count": 29,
     "metadata": {},
     "output_type": "execute_result"
    }
   ],
   "source": [
    "bi = LabelEncoder()\n",
    "y = bi.fit_transform(data['ad_id'])\n",
    "y"
   ]
  },
  {
   "cell_type": "code",
   "execution_count": 30,
   "metadata": {},
   "outputs": [
    {
     "data": {
      "text/plain": [
       "3750"
      ]
     },
     "execution_count": 30,
     "metadata": {},
     "output_type": "execute_result"
    }
   ],
   "source": [
    "len(bi.classes_)"
   ]
  },
  {
   "cell_type": "code",
   "execution_count": 31,
   "metadata": {},
   "outputs": [
    {
     "data": {
      "text/plain": [
       "array([ 27, 962, 543, ..., 963, 754, 962])"
      ]
     },
     "execution_count": 31,
     "metadata": {},
     "output_type": "execute_result"
    }
   ],
   "source": [
    "bi = LabelEncoder()\n",
    "y = bi.fit_transform(data['age'])\n",
    "y"
   ]
  },
  {
   "cell_type": "code",
   "execution_count": 32,
   "metadata": {},
   "outputs": [
    {
     "data": {
      "text/plain": [
       "964"
      ]
     },
     "execution_count": 32,
     "metadata": {},
     "output_type": "execute_result"
    }
   ],
   "source": [
    "data['age'].nunique()"
   ]
  },
  {
   "cell_type": "code",
   "execution_count": 33,
   "metadata": {},
   "outputs": [
    {
     "data": {
      "text/plain": [
       "964"
      ]
     },
     "execution_count": 33,
     "metadata": {},
     "output_type": "execute_result"
    }
   ],
   "source": [
    "len(set(y))"
   ]
  },
  {
   "cell_type": "code",
   "execution_count": 34,
   "metadata": {},
   "outputs": [],
   "source": [
    "def split(x, sep=','):\n",
    "    \"\"\"处理多值特征,该函数主要做分离\"\"\"\n",
    "\n",
    "    x = str(x) if not isinstance(x, str) else x\n",
    "    key_ans = x.split(sep)\n",
    "    for key in key_ans:\n",
    "        if key not in key2index:\n",
    "            key2index[key] = len(key2index) + 1\n",
    "    return list(map(lambda x: key2index[x], key_ans))"
   ]
  },
  {
   "cell_type": "code",
   "execution_count": 35,
   "metadata": {},
   "outputs": [],
   "source": [
    "key2index={}\n",
    "l1 = split(data['age'])"
   ]
  },
  {
   "cell_type": "code",
   "execution_count": 36,
   "metadata": {},
   "outputs": [
    {
     "data": {
      "text/plain": [
       "147"
      ]
     },
     "execution_count": 36,
     "metadata": {},
     "output_type": "execute_result"
    }
   ],
   "source": [
    "len(data['age'][0])"
   ]
  },
  {
   "cell_type": "code",
   "execution_count": 37,
   "metadata": {},
   "outputs": [],
   "source": [
    "vocab = set.union(*[set(str(x).strip().split(',')) for x in data['age']])"
   ]
  },
  {
   "cell_type": "code",
   "execution_count": 38,
   "metadata": {},
   "outputs": [
    {
     "data": {
      "text/plain": [
       "1002"
      ]
     },
     "execution_count": 38,
     "metadata": {},
     "output_type": "execute_result"
    }
   ],
   "source": [
    "len(vocab)"
   ]
  },
  {
   "cell_type": "code",
   "execution_count": 39,
   "metadata": {},
   "outputs": [
    {
     "data": {
      "text/plain": [
       "87"
      ]
     },
     "execution_count": 39,
     "metadata": {},
     "output_type": "execute_result"
    }
   ],
   "source": [
    "len(key2index)"
   ]
  },
  {
   "cell_type": "code",
   "execution_count": 40,
   "metadata": {},
   "outputs": [
    {
     "data": {
      "text/plain": [
       "964"
      ]
     },
     "execution_count": 40,
     "metadata": {},
     "output_type": "execute_result"
    }
   ],
   "source": [
    "data['age'].nunique()"
   ]
  },
  {
   "cell_type": "code",
   "execution_count": 41,
   "metadata": {},
   "outputs": [],
   "source": [
    "vec = CountVectorizer(analyzer='word')"
   ]
  },
  {
   "cell_type": "code",
   "execution_count": null,
   "metadata": {},
   "outputs": [],
   "source": []
  },
  {
   "cell_type": "code",
   "execution_count": 42,
   "metadata": {},
   "outputs": [
    {
     "data": {
      "text/plain": [
       "array(['182,202,739,340,536,287,690,988,187,367,479,942,731,844,837,333,903,400,5,217,714,394,366,393,1,638,105,363,753,728,229,972,517,602,361,935,787,608',\n",
       "       'all',\n",
       "       '433,202,739,340,988,479,942,731,844,837,333,400,741,217,394,819,366,393,1,522,638,601,347,753,728,229,79,361,787,608,829',\n",
       "       ..., 'unk',\n",
       "       '433,819,231,144,137,79,522,633,847,821,677,347,846,829,741',\n",
       "       'all'], dtype=object)"
      ]
     },
     "execution_count": 42,
     "metadata": {},
     "output_type": "execute_result"
    }
   ],
   "source": [
    "data['age'].values"
   ]
  },
  {
   "cell_type": "code",
   "execution_count": 116,
   "metadata": {},
   "outputs": [],
   "source": [
    "ret = vec.fit_transform(data['age'])"
   ]
  },
  {
   "cell_type": "code",
   "execution_count": 117,
   "metadata": {},
   "outputs": [
    {
     "data": {
      "text/plain": [
       "array([[0, 0, 0, ..., 0, 0, 0],\n",
       "       [0, 0, 0, ..., 0, 1, 0],\n",
       "       [0, 0, 0, ..., 0, 0, 0],\n",
       "       ...,\n",
       "       [0, 0, 0, ..., 0, 0, 1],\n",
       "       [0, 0, 0, ..., 0, 0, 0],\n",
       "       [0, 0, 0, ..., 0, 1, 0]], dtype=int64)"
      ]
     },
     "execution_count": 117,
     "metadata": {},
     "output_type": "execute_result"
    }
   ],
   "source": [
    "ret.toarray()"
   ]
  },
  {
   "cell_type": "code",
   "execution_count": 118,
   "metadata": {},
   "outputs": [
    {
     "data": {
      "text/plain": [
       "(38596, 993)"
      ]
     },
     "execution_count": 118,
     "metadata": {},
     "output_type": "execute_result"
    }
   ],
   "source": [
    "ret.shape"
   ]
  },
  {
   "cell_type": "code",
   "execution_count": 119,
   "metadata": {},
   "outputs": [],
   "source": [
    "vocab1 = vec.get_feature_names()"
   ]
  },
  {
   "cell_type": "code",
   "execution_count": 120,
   "metadata": {},
   "outputs": [],
   "source": [
    "# vocab1"
   ]
  },
  {
   "cell_type": "code",
   "execution_count": 121,
   "metadata": {},
   "outputs": [
    {
     "data": {
      "text/plain": [
       "{'1', '2', '3', '4', '5', '6', '7', '8', '9'}"
      ]
     },
     "execution_count": 121,
     "metadata": {},
     "output_type": "execute_result"
    }
   ],
   "source": [
    "set.difference(vocab, vocab1)"
   ]
  },
  {
   "cell_type": "code",
   "execution_count": 43,
   "metadata": {},
   "outputs": [],
   "source": [
    "vec1 = CountVectorizer(vocabulary=vocab)"
   ]
  },
  {
   "cell_type": "code",
   "execution_count": 49,
   "metadata": {},
   "outputs": [
    {
     "data": {
      "text/plain": [
       "1002"
      ]
     },
     "execution_count": 49,
     "metadata": {},
     "output_type": "execute_result"
    }
   ],
   "source": [
    "len(vocab)"
   ]
  },
  {
   "cell_type": "code",
   "execution_count": null,
   "metadata": {},
   "outputs": [],
   "source": []
  },
  {
   "cell_type": "code",
   "execution_count": 46,
   "metadata": {},
   "outputs": [],
   "source": [
    "ret1 = vec1.transform(data['age'])"
   ]
  },
  {
   "cell_type": "code",
   "execution_count": 48,
   "metadata": {},
   "outputs": [
    {
     "data": {
      "text/plain": [
       "1002"
      ]
     },
     "execution_count": 48,
     "metadata": {},
     "output_type": "execute_result"
    }
   ],
   "source": [
    "len(vec1.vocabulary_)"
   ]
  },
  {
   "cell_type": "code",
   "execution_count": 124,
   "metadata": {},
   "outputs": [
    {
     "data": {
      "text/plain": [
       "(38596, 1002)"
      ]
     },
     "execution_count": 124,
     "metadata": {},
     "output_type": "execute_result"
    }
   ],
   "source": [
    "ret1.shape"
   ]
  },
  {
   "cell_type": "code",
   "execution_count": 125,
   "metadata": {},
   "outputs": [],
   "source": [
    "i = data['age'][0].split(',')"
   ]
  },
  {
   "cell_type": "code",
   "execution_count": 126,
   "metadata": {},
   "outputs": [
    {
     "data": {
      "text/plain": [
       "93"
      ]
     },
     "execution_count": 126,
     "metadata": {},
     "output_type": "execute_result"
    }
   ],
   "source": [
    "vec1.vocabulary_[i[0]]"
   ]
  },
  {
   "cell_type": "code",
   "execution_count": 127,
   "metadata": {},
   "outputs": [
    {
     "data": {
      "text/plain": [
       "1002"
      ]
     },
     "execution_count": 127,
     "metadata": {},
     "output_type": "execute_result"
    }
   ],
   "source": [
    "len(vec1.vocabulary_)"
   ]
  },
  {
   "cell_type": "code",
   "execution_count": 128,
   "metadata": {},
   "outputs": [
    {
     "data": {
      "text/plain": [
       "array([[0, 0, 0, ..., 0, 0, 0],\n",
       "       [0, 0, 0, ..., 0, 1, 0],\n",
       "       [0, 0, 0, ..., 0, 0, 0],\n",
       "       ...,\n",
       "       [0, 0, 0, ..., 0, 0, 1],\n",
       "       [0, 0, 0, ..., 0, 0, 0],\n",
       "       [0, 0, 0, ..., 0, 1, 0]])"
      ]
     },
     "execution_count": 128,
     "metadata": {},
     "output_type": "execute_result"
    }
   ],
   "source": [
    "ret1.toarray()"
   ]
  },
  {
   "cell_type": "code",
   "execution_count": 129,
   "metadata": {},
   "outputs": [
    {
     "data": {
      "text/plain": [
       "LabelEncoder()"
      ]
     },
     "execution_count": 129,
     "metadata": {},
     "output_type": "execute_result"
    }
   ],
   "source": [
    "lae = LabelEncoder()\n",
    "lae.fit(list(vocab))"
   ]
  },
  {
   "cell_type": "code",
   "execution_count": 130,
   "metadata": {},
   "outputs": [],
   "source": [
    "vocab_itos = {idx: word for idx, word in enumerate(vocab)}\n",
    "vocab_stoi = {word: idx for idx, word in enumerate(vocab)}"
   ]
  },
  {
   "cell_type": "code",
   "execution_count": 131,
   "metadata": {},
   "outputs": [
    {
     "data": {
      "text/plain": [
       "'182,202,739,340,536,287,690,988,187,367,479,942,731,844,837,333,903,400,5,217,714,394,366,393,1,638,105,363,753,728,229,972,517,602,361,935,787,608'"
      ]
     },
     "execution_count": 131,
     "metadata": {},
     "output_type": "execute_result"
    }
   ],
   "source": [
    "data.loc[0, 'age']"
   ]
  },
  {
   "cell_type": "code",
   "execution_count": 132,
   "metadata": {},
   "outputs": [
    {
     "data": {
      "text/plain": [
       "(38596, 1002)"
      ]
     },
     "execution_count": 132,
     "metadata": {},
     "output_type": "execute_result"
    }
   ],
   "source": [
    "ret1.shape"
   ]
  },
  {
   "cell_type": "code",
   "execution_count": 133,
   "metadata": {},
   "outputs": [],
   "source": [
    "ret2 = ret1.toarray()"
   ]
  },
  {
   "cell_type": "code",
   "execution_count": 144,
   "metadata": {},
   "outputs": [
    {
     "data": {
      "text/plain": [
       "['152978']"
      ]
     },
     "execution_count": 144,
     "metadata": {},
     "output_type": "execute_result"
    }
   ],
   "source": [
    "str(data['ad_id'][0]).split(',')"
   ]
  },
  {
   "cell_type": "code",
   "execution_count": 151,
   "metadata": {},
   "outputs": [],
   "source": [
    "ret3 = [list(map(lambda word: vec1.vocabulary_[word], str(row).split(','))) for row in data['age']]"
   ]
  },
  {
   "cell_type": "code",
   "execution_count": 154,
   "metadata": {},
   "outputs": [],
   "source": [
    "ret4, offsets, offset = [], [], 0\n",
    "for row in data['age']:\n",
    "    offsets.append(offset)\n",
    "    row = row.split(',') if isinstance(row, str) else str(row).split(',')\n",
    "    ret4.extend(map(lambda word: vec1.vocabulary_[word], row))\n",
    "    offset += len(row)"
   ]
  },
  {
   "cell_type": "code",
   "execution_count": 162,
   "metadata": {},
   "outputs": [
    {
     "data": {
      "text/plain": [
       "(38596, 1092955, 1092955, 1092954, [0, 38, 39, 70])"
      ]
     },
     "execution_count": 162,
     "metadata": {},
     "output_type": "execute_result"
    }
   ],
   "source": [
    "len(offsets), len(ret4), offset, offsets[-1], offsets[:4]"
   ]
  },
  {
   "cell_type": "code",
   "execution_count": 166,
   "metadata": {},
   "outputs": [
    {
     "data": {
      "text/plain": [
       "[38, 1, 31, 1]"
      ]
     },
     "execution_count": 166,
     "metadata": {},
     "output_type": "execute_result"
    }
   ],
   "source": [
    "[len(str(x).split(',')) for x in data['age'][:4]]"
   ]
  },
  {
   "cell_type": "code",
   "execution_count": 191,
   "metadata": {},
   "outputs": [],
   "source": [
    "ret5 = []\n",
    "ret5.append(np.array(ret4))"
   ]
  },
  {
   "cell_type": "code",
   "execution_count": 192,
   "metadata": {},
   "outputs": [],
   "source": [
    "ret5.append(np.array(ret4[:-123]))"
   ]
  },
  {
   "cell_type": "code",
   "execution_count": 195,
   "metadata": {},
   "outputs": [
    {
     "data": {
      "text/plain": [
       "(2,)"
      ]
     },
     "execution_count": 195,
     "metadata": {},
     "output_type": "execute_result"
    }
   ],
   "source": [
    "np.asarray(ret5).shape"
   ]
  },
  {
   "cell_type": "code",
   "execution_count": 73,
   "metadata": {},
   "outputs": [
    {
     "data": {
      "text/plain": [
       "array([list([93, 116, 711, 269, 486, 209, 657, 987, 98, 298, 422, 937, 703, 828, 820, 261, 894, 336, 445, 132, 684, 328, 297, 327, 0, 599, 8, 294, 727, 699, 145, 970, 465, 560, 292, 929, 764, 566]),\n",
       "       list([1000]),\n",
       "       list([372, 116, 711, 269, 987, 422, 937, 703, 828, 820, 261, 336, 714, 132, 328, 800, 297, 327, 0, 471, 599, 559, 276, 727, 699, 145, 767, 292, 764, 566, 811]),\n",
       "       ..., list([1001]),\n",
       "       list([372, 800, 148, 51, 43, 767, 471, 594, 831, 803, 642, 276, 830, 811, 714]),\n",
       "       list([1000])], dtype=object)"
      ]
     },
     "execution_count": 73,
     "metadata": {},
     "output_type": "execute_result"
    }
   ],
   "source": [
    "data['age'].values.reshape(-1,)"
   ]
  },
  {
   "cell_type": "code",
   "execution_count": 66,
   "metadata": {},
   "outputs": [
    {
     "data": {
      "text/html": [
       "<div>\n",
       "<style scoped>\n",
       "    .dataframe tbody tr th:only-of-type {\n",
       "        vertical-align: middle;\n",
       "    }\n",
       "\n",
       "    .dataframe tbody tr th {\n",
       "        vertical-align: top;\n",
       "    }\n",
       "\n",
       "    .dataframe thead th {\n",
       "        text-align: right;\n",
       "    }\n",
       "</style>\n",
       "<table border=\"1\" class=\"dataframe\">\n",
       "  <thead>\n",
       "    <tr style=\"text-align: right;\">\n",
       "      <th></th>\n",
       "      <th>0</th>\n",
       "      <th>1</th>\n",
       "      <th>2</th>\n",
       "      <th>3</th>\n",
       "      <th>4</th>\n",
       "    </tr>\n",
       "  </thead>\n",
       "  <tbody>\n",
       "    <tr>\n",
       "      <th>time</th>\n",
       "      <td>281474976710655,281474976710655,28147497671065...</td>\n",
       "      <td>70368744161280,70368744161280,70368744161280,7...</td>\n",
       "      <td>281474976694272,281474976694272,28147497669427...</td>\n",
       "      <td>1099243192320,1099243192320,1099243192320,1099...</td>\n",
       "      <td>274936627200,274936627200,274936627200,2749366...</td>\n",
       "    </tr>\n",
       "    <tr>\n",
       "      <th>age</th>\n",
       "      <td>[93, 116, 711, 269, 486, 209, 657, 987, 98, 29...</td>\n",
       "      <td>[1000]</td>\n",
       "      <td>[372, 116, 711, 269, 987, 422, 937, 703, 828, ...</td>\n",
       "      <td>[1000]</td>\n",
       "      <td>[372, 800, 767, 471, 559, 727, 276, 811, 714]</td>\n",
       "    </tr>\n",
       "    <tr>\n",
       "      <th>area</th>\n",
       "      <td>-999</td>\n",
       "      <td>-9</td>\n",
       "      <td>-999</td>\n",
       "      <td>-9</td>\n",
       "      <td>-999</td>\n",
       "    </tr>\n",
       "    <tr>\n",
       "      <th>behavior</th>\n",
       "      <td>-999</td>\n",
       "      <td>-9</td>\n",
       "      <td>-999</td>\n",
       "      <td>-9</td>\n",
       "      <td>-999</td>\n",
       "    </tr>\n",
       "    <tr>\n",
       "      <th>connectionType</th>\n",
       "      <td>-999</td>\n",
       "      <td>-9</td>\n",
       "      <td>-999</td>\n",
       "      <td>-9</td>\n",
       "      <td>-999</td>\n",
       "    </tr>\n",
       "    <tr>\n",
       "      <th>consuptionAbility</th>\n",
       "      <td>-999</td>\n",
       "      <td>-9</td>\n",
       "      <td>-999</td>\n",
       "      <td>-9</td>\n",
       "      <td>-999</td>\n",
       "    </tr>\n",
       "    <tr>\n",
       "      <th>device</th>\n",
       "      <td>-999</td>\n",
       "      <td>-9</td>\n",
       "      <td>-999</td>\n",
       "      <td>-9</td>\n",
       "      <td>-999</td>\n",
       "    </tr>\n",
       "  </tbody>\n",
       "</table>\n",
       "</div>"
      ],
      "text/plain": [
       "                                                                   0  \\\n",
       "time               281474976710655,281474976710655,28147497671065...   \n",
       "age                [93, 116, 711, 269, 486, 209, 657, 987, 98, 29...   \n",
       "area                                                            -999   \n",
       "behavior                                                        -999   \n",
       "connectionType                                                  -999   \n",
       "consuptionAbility                                               -999   \n",
       "device                                                          -999   \n",
       "\n",
       "                                                                   1  \\\n",
       "time               70368744161280,70368744161280,70368744161280,7...   \n",
       "age                                                           [1000]   \n",
       "area                                                              -9   \n",
       "behavior                                                          -9   \n",
       "connectionType                                                    -9   \n",
       "consuptionAbility                                                 -9   \n",
       "device                                                            -9   \n",
       "\n",
       "                                                                   2  \\\n",
       "time               281474976694272,281474976694272,28147497669427...   \n",
       "age                [372, 116, 711, 269, 987, 422, 937, 703, 828, ...   \n",
       "area                                                            -999   \n",
       "behavior                                                        -999   \n",
       "connectionType                                                  -999   \n",
       "consuptionAbility                                               -999   \n",
       "device                                                          -999   \n",
       "\n",
       "                                                                   3  \\\n",
       "time               1099243192320,1099243192320,1099243192320,1099...   \n",
       "age                                                           [1000]   \n",
       "area                                                              -9   \n",
       "behavior                                                          -9   \n",
       "connectionType                                                    -9   \n",
       "consuptionAbility                                                 -9   \n",
       "device                                                            -9   \n",
       "\n",
       "                                                                   4  \n",
       "time               274936627200,274936627200,274936627200,2749366...  \n",
       "age                    [372, 800, 767, 471, 559, 727, 276, 811, 714]  \n",
       "area                                                            -999  \n",
       "behavior                                                        -999  \n",
       "connectionType                                                  -999  \n",
       "consuptionAbility                                               -999  \n",
       "device                                                          -999  "
      ]
     },
     "execution_count": 66,
     "metadata": {},
     "output_type": "execute_result"
    }
   ],
   "source": [
    "data.loc[:, 'time':'device'].head().T"
   ]
  },
  {
   "cell_type": "code",
   "execution_count": 67,
   "metadata": {},
   "outputs": [
    {
     "data": {
      "text/plain": [
       "0        [93, 116, 711, 269, 486, 209, 657, 987, 98, 29...\n",
       "1                                                   [1000]\n",
       "2        [372, 116, 711, 269, 987, 422, 937, 703, 828, ...\n",
       "3                                                   [1000]\n",
       "4            [372, 800, 767, 471, 559, 727, 276, 811, 714]\n",
       "5        [372, 328, 800, 145, 116, 764, 559, 566, 422, ...\n",
       "6        [372, 800, 145, 767, 471, 559, 422, 727, 276, ...\n",
       "7                             [328, 116, 0, 261, 764, 566]\n",
       "8                                                   [1000]\n",
       "9                                                   [1001]\n",
       "10        [328, 703, 116, 327, 0, 261, 422, 764, 566, 937]\n",
       "11                                                  [1001]\n",
       "12       [372, 116, 711, 269, 209, 987, 298, 422, 937, ...\n",
       "13                                                  [1000]\n",
       "14       [372, 116, 711, 269, 987, 422, 937, 703, 828, ...\n",
       "15                                                  [1001]\n",
       "16                                                  [1000]\n",
       "17                                              [703, 937]\n",
       "18       [372, 116, 711, 269, 987, 422, 937, 703, 828, ...\n",
       "19       [372, 116, 711, 269, 987, 422, 830, 937, 703, ...\n",
       "20                                                  [1001]\n",
       "21       [372, 328, 145, 116, 764, 559, 261, 422, 727, ...\n",
       "22                     [328, 145, 116, 764, 559, 422, 727]\n",
       "23                                                  [1001]\n",
       "24       [116, 711, 269, 987, 422, 937, 703, 828, 820, ...\n",
       "25       [372, 116, 711, 269, 987, 422, 937, 703, 828, ...\n",
       "26       [297, 699, 269, 828, 292, 970, 465, 987, 820, ...\n",
       "27       [372, 116, 422, 830, 703, 261, 831, 714, 328, ...\n",
       "28       [297, 703, 699, 327, 711, 828, 269, 292, 0, 59...\n",
       "29                               [465, 209, 298, 445, 684]\n",
       "                               ...                        \n",
       "38566                                 [328, 261, 764, 566]\n",
       "38567    [372, 800, 145, 767, 471, 559, 422, 727, 276, ...\n",
       "38568    [372, 116, 711, 269, 987, 422, 937, 703, 828, ...\n",
       "38569    [372, 116, 711, 269, 987, 422, 937, 703, 828, ...\n",
       "38570    [372, 116, 711, 269, 987, 422, 937, 703, 828, ...\n",
       "38571                                               [1000]\n",
       "38572                                               [1001]\n",
       "38573                                               [1000]\n",
       "38574                                      [800, 276, 714]\n",
       "38575    [372, 116, 711, 269, 987, 422, 937, 703, 828, ...\n",
       "38576                                           [703, 327]\n",
       "38577    [328, 703, 116, 327, 0, 599, 261, 422, 764, 56...\n",
       "38578    [116, 711, 269, 209, 987, 298, 422, 937, 703, ...\n",
       "38579    [93, 699, 294, 292, 828, 269, 970, 465, 209, 5...\n",
       "38580    [297, 699, 711, 828, 269, 292, 970, 465, 599, ...\n",
       "38581                                               [1001]\n",
       "38582                                               [1001]\n",
       "38583                                               [1001]\n",
       "38584        [372, 800, 145, 116, 559, 422, 727, 276, 714]\n",
       "38585    [372, 116, 711, 269, 987, 422, 937, 703, 828, ...\n",
       "38586                                               [1001]\n",
       "38587                                               [1001]\n",
       "38588    [372, 328, 800, 145, 116, 764, 767, 471, 559, ...\n",
       "38589                              [328, 0, 261, 764, 566]\n",
       "38590                                               [1001]\n",
       "38591                                               [1000]\n",
       "38592    [372, 116, 711, 269, 987, 422, 937, 703, 828, ...\n",
       "38593                                               [1001]\n",
       "38594    [372, 800, 148, 51, 43, 767, 471, 594, 831, 80...\n",
       "38595                                               [1000]\n",
       "Name: age, Length: 38596, dtype: object"
      ]
     },
     "execution_count": 67,
     "metadata": {},
     "output_type": "execute_result"
    }
   ],
   "source": [
    "data.age"
   ]
  },
  {
   "cell_type": "code",
   "execution_count": 70,
   "metadata": {},
   "outputs": [
    {
     "data": {
      "text/plain": [
       "(38596, 2)"
      ]
     },
     "execution_count": 70,
     "metadata": {},
     "output_type": "execute_result"
    }
   ],
   "source": [
    "data[['age', 'area']].shape"
   ]
  },
  {
   "cell_type": "code",
   "execution_count": 69,
   "metadata": {},
   "outputs": [
    {
     "data": {
      "text/plain": [
       "(1002,)"
      ]
     },
     "execution_count": 69,
     "metadata": {},
     "output_type": "execute_result"
    }
   ],
   "source": [
    "np.array(range(1002)).shape"
   ]
  },
  {
   "cell_type": "code",
   "execution_count": null,
   "metadata": {},
   "outputs": [],
   "source": [
    "y"
   ]
  },
  {
   "cell_type": "code",
   "execution_count": null,
   "metadata": {},
   "outputs": [],
   "source": []
  },
  {
   "cell_type": "code",
   "execution_count": null,
   "metadata": {},
   "outputs": [],
   "source": [
    "n = nn.EmbeddingBag(1002, 15)"
   ]
  },
  {
   "cell_type": "code",
   "execution_count": null,
   "metadata": {},
   "outputs": [],
   "source": [
    "yt = torch.LongTensor(y)"
   ]
  },
  {
   "cell_type": "code",
   "execution_count": null,
   "metadata": {},
   "outputs": [],
   "source": [
    "r = n(yt)"
   ]
  },
  {
   "cell_type": "code",
   "execution_count": null,
   "metadata": {},
   "outputs": [],
   "source": [
    "r.shape"
   ]
  },
  {
   "cell_type": "code",
   "execution_count": null,
   "metadata": {},
   "outputs": [],
   "source": [
    "x = torch.LongTensor([1,4,5,2,8,0,3,7,5])"
   ]
  },
  {
   "cell_type": "code",
   "execution_count": null,
   "metadata": {},
   "outputs": [],
   "source": []
  },
  {
   "cell_type": "code",
   "execution_count": null,
   "metadata": {},
   "outputs": [],
   "source": [
    "x = torch.LongTensor([1,4,5,2,8,0,3,7,5])"
   ]
  },
  {
   "cell_type": "code",
   "execution_count": null,
   "metadata": {},
   "outputs": [],
   "source": [
    "p=torch.LongTensor([0,2,7])"
   ]
  },
  {
   "cell_type": "code",
   "execution_count": null,
   "metadata": {},
   "outputs": [],
   "source": [
    "n(x,p)"
   ]
  },
  {
   "cell_type": "code",
   "execution_count": null,
   "metadata": {},
   "outputs": [],
   "source": []
  },
  {
   "cell_type": "code",
   "execution_count": null,
   "metadata": {},
   "outputs": [],
   "source": []
  },
  {
   "cell_type": "code",
   "execution_count": null,
   "metadata": {},
   "outputs": [],
   "source": []
  },
  {
   "cell_type": "code",
   "execution_count": null,
   "metadata": {},
   "outputs": [],
   "source": []
  },
  {
   "cell_type": "code",
   "execution_count": null,
   "metadata": {},
   "outputs": [],
   "source": []
  },
  {
   "cell_type": "code",
   "execution_count": null,
   "metadata": {},
   "outputs": [],
   "source": []
  },
  {
   "cell_type": "code",
   "execution_count": null,
   "metadata": {},
   "outputs": [],
   "source": []
  },
  {
   "cell_type": "code",
   "execution_count": null,
   "metadata": {},
   "outputs": [],
   "source": []
  },
  {
   "cell_type": "code",
   "execution_count": null,
   "metadata": {},
   "outputs": [],
   "source": []
  },
  {
   "cell_type": "code",
   "execution_count": null,
   "metadata": {},
   "outputs": [],
   "source": []
  },
  {
   "cell_type": "code",
   "execution_count": null,
   "metadata": {},
   "outputs": [],
   "source": []
  },
  {
   "cell_type": "code",
   "execution_count": null,
   "metadata": {},
   "outputs": [],
   "source": []
  },
  {
   "cell_type": "code",
   "execution_count": null,
   "metadata": {},
   "outputs": [],
   "source": []
  },
  {
   "cell_type": "code",
   "execution_count": null,
   "metadata": {},
   "outputs": [],
   "source": []
  },
  {
   "cell_type": "code",
   "execution_count": null,
   "metadata": {},
   "outputs": [],
   "source": []
  },
  {
   "cell_type": "code",
   "execution_count": null,
   "metadata": {},
   "outputs": [],
   "source": []
  },
  {
   "cell_type": "code",
   "execution_count": null,
   "metadata": {},
   "outputs": [],
   "source": []
  },
  {
   "cell_type": "code",
   "execution_count": null,
   "metadata": {},
   "outputs": [],
   "source": []
  },
  {
   "cell_type": "code",
   "execution_count": null,
   "metadata": {},
   "outputs": [],
   "source": []
  }
 ],
 "metadata": {
  "kernelspec": {
   "display_name": "Python 3",
   "language": "python",
   "name": "python3"
  },
  "language_info": {
   "codemirror_mode": {
    "name": "ipython",
    "version": 3
   },
   "file_extension": ".py",
   "mimetype": "text/x-python",
   "name": "python",
   "nbconvert_exporter": "python",
   "pygments_lexer": "ipython3",
   "version": "3.6.7"
  }
 },
 "nbformat": 4,
 "nbformat_minor": 2
}
