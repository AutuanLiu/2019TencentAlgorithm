{
 "cells": [
  {
   "cell_type": "code",
   "execution_count": 5,
   "metadata": {},
   "outputs": [],
   "source": [
    "import pandas as pd\n",
    "import torch\n",
    "from torch import nn\n",
    "from sklearn.feature_extraction.text import CountVectorizer"
   ]
  },
  {
   "cell_type": "code",
   "execution_count": 68,
   "metadata": {},
   "outputs": [],
   "source": [
    "data = pd.read_csv('test_set_B.csv')"
   ]
  },
  {
   "cell_type": "code",
   "execution_count": 69,
   "metadata": {},
   "outputs": [
    {
     "data": {
      "text/html": [
       "<div>\n",
       "<style scoped>\n",
       "    .dataframe tbody tr th:only-of-type {\n",
       "        vertical-align: middle;\n",
       "    }\n",
       "\n",
       "    .dataframe tbody tr th {\n",
       "        vertical-align: top;\n",
       "    }\n",
       "\n",
       "    .dataframe thead th {\n",
       "        text-align: right;\n",
       "    }\n",
       "</style>\n",
       "<table border=\"1\" class=\"dataframe\">\n",
       "  <thead>\n",
       "    <tr style=\"text-align: right;\">\n",
       "      <th></th>\n",
       "      <th>sample_id</th>\n",
       "      <th>ad_id</th>\n",
       "      <th>ad_type_id</th>\n",
       "      <th>ad_account_id</th>\n",
       "      <th>item_id</th>\n",
       "      <th>item_type</th>\n",
       "      <th>size</th>\n",
       "      <th>is_all_field</th>\n",
       "      <th>has_product_id</th>\n",
       "      <th>has_price</th>\n",
       "      <th>...</th>\n",
       "      <th>crt_dateDayofweek</th>\n",
       "      <th>crt_dateDayofyear</th>\n",
       "      <th>crt_dateIs_month_end</th>\n",
       "      <th>crt_dateIs_month_start</th>\n",
       "      <th>crt_dateIs_quarter_end</th>\n",
       "      <th>crt_dateIs_quarter_start</th>\n",
       "      <th>crt_dateIs_year_end</th>\n",
       "      <th>crt_dateIs_year_start</th>\n",
       "      <th>crt_dateHour</th>\n",
       "      <th>crt_dateElapsed</th>\n",
       "    </tr>\n",
       "  </thead>\n",
       "  <tbody>\n",
       "    <tr>\n",
       "      <th>0</th>\n",
       "      <td>1</td>\n",
       "      <td>152978</td>\n",
       "      <td>118</td>\n",
       "      <td>23511</td>\n",
       "      <td>-1</td>\n",
       "      <td>3</td>\n",
       "      <td>30</td>\n",
       "      <td>False</td>\n",
       "      <td>False</td>\n",
       "      <td>False</td>\n",
       "      <td>...</td>\n",
       "      <td>1</td>\n",
       "      <td>334</td>\n",
       "      <td>False</td>\n",
       "      <td>False</td>\n",
       "      <td>False</td>\n",
       "      <td>False</td>\n",
       "      <td>False</td>\n",
       "      <td>False</td>\n",
       "      <td>2</td>\n",
       "      <td>1480387159</td>\n",
       "    </tr>\n",
       "    <tr>\n",
       "      <th>1</th>\n",
       "      <td>2</td>\n",
       "      <td>507977</td>\n",
       "      <td>122</td>\n",
       "      <td>4211</td>\n",
       "      <td>629</td>\n",
       "      <td>13</td>\n",
       "      <td>30</td>\n",
       "      <td>True</td>\n",
       "      <td>True</td>\n",
       "      <td>False</td>\n",
       "      <td>...</td>\n",
       "      <td>1</td>\n",
       "      <td>64</td>\n",
       "      <td>False</td>\n",
       "      <td>False</td>\n",
       "      <td>False</td>\n",
       "      <td>False</td>\n",
       "      <td>False</td>\n",
       "      <td>False</td>\n",
       "      <td>13</td>\n",
       "      <td>1551793928</td>\n",
       "    </tr>\n",
       "    <tr>\n",
       "      <th>2</th>\n",
       "      <td>3</td>\n",
       "      <td>639943</td>\n",
       "      <td>84</td>\n",
       "      <td>15582</td>\n",
       "      <td>2525</td>\n",
       "      <td>13</td>\n",
       "      <td>34</td>\n",
       "      <td>False</td>\n",
       "      <td>True</td>\n",
       "      <td>False</td>\n",
       "      <td>...</td>\n",
       "      <td>3</td>\n",
       "      <td>172</td>\n",
       "      <td>False</td>\n",
       "      <td>False</td>\n",
       "      <td>False</td>\n",
       "      <td>False</td>\n",
       "      <td>False</td>\n",
       "      <td>False</td>\n",
       "      <td>7</td>\n",
       "      <td>1529565757</td>\n",
       "    </tr>\n",
       "    <tr>\n",
       "      <th>3</th>\n",
       "      <td>4</td>\n",
       "      <td>605859</td>\n",
       "      <td>98</td>\n",
       "      <td>10907</td>\n",
       "      <td>3808</td>\n",
       "      <td>13</td>\n",
       "      <td>40</td>\n",
       "      <td>True</td>\n",
       "      <td>True</td>\n",
       "      <td>False</td>\n",
       "      <td>...</td>\n",
       "      <td>3</td>\n",
       "      <td>80</td>\n",
       "      <td>False</td>\n",
       "      <td>False</td>\n",
       "      <td>False</td>\n",
       "      <td>False</td>\n",
       "      <td>False</td>\n",
       "      <td>False</td>\n",
       "      <td>9</td>\n",
       "      <td>1553161934</td>\n",
       "    </tr>\n",
       "    <tr>\n",
       "      <th>4</th>\n",
       "      <td>5</td>\n",
       "      <td>742582</td>\n",
       "      <td>122</td>\n",
       "      <td>15855</td>\n",
       "      <td>7017</td>\n",
       "      <td>13</td>\n",
       "      <td>40</td>\n",
       "      <td>False</td>\n",
       "      <td>True</td>\n",
       "      <td>False</td>\n",
       "      <td>...</td>\n",
       "      <td>3</td>\n",
       "      <td>59</td>\n",
       "      <td>True</td>\n",
       "      <td>False</td>\n",
       "      <td>False</td>\n",
       "      <td>False</td>\n",
       "      <td>False</td>\n",
       "      <td>False</td>\n",
       "      <td>4</td>\n",
       "      <td>1551329520</td>\n",
       "    </tr>\n",
       "  </tbody>\n",
       "</table>\n",
       "<p>5 rows × 36 columns</p>\n",
       "</div>"
      ],
      "text/plain": [
       "   sample_id   ad_id  ad_type_id  ad_account_id  item_id  item_type  size  \\\n",
       "0          1  152978         118          23511       -1          3    30   \n",
       "1          2  507977         122           4211      629         13    30   \n",
       "2          3  639943          84          15582     2525         13    34   \n",
       "3          4  605859          98          10907     3808         13    40   \n",
       "4          5  742582         122          15855     7017         13    40   \n",
       "\n",
       "   is_all_field  has_product_id  has_price  ... crt_dateDayofweek  \\\n",
       "0         False           False      False  ...                 1   \n",
       "1          True            True      False  ...                 1   \n",
       "2         False            True      False  ...                 3   \n",
       "3          True            True      False  ...                 3   \n",
       "4         False            True      False  ...                 3   \n",
       "\n",
       "  crt_dateDayofyear crt_dateIs_month_end crt_dateIs_month_start  \\\n",
       "0               334                False                  False   \n",
       "1                64                False                  False   \n",
       "2               172                False                  False   \n",
       "3                80                False                  False   \n",
       "4                59                 True                  False   \n",
       "\n",
       "  crt_dateIs_quarter_end crt_dateIs_quarter_start crt_dateIs_year_end  \\\n",
       "0                  False                    False               False   \n",
       "1                  False                    False               False   \n",
       "2                  False                    False               False   \n",
       "3                  False                    False               False   \n",
       "4                  False                    False               False   \n",
       "\n",
       "  crt_dateIs_year_start crt_dateHour crt_dateElapsed  \n",
       "0                 False            2      1480387159  \n",
       "1                 False           13      1551793928  \n",
       "2                 False            7      1529565757  \n",
       "3                 False            9      1553161934  \n",
       "4                 False            4      1551329520  \n",
       "\n",
       "[5 rows x 36 columns]"
      ]
     },
     "execution_count": 69,
     "metadata": {},
     "output_type": "execute_result"
    }
   ],
   "source": [
    "data.head()"
   ]
  },
  {
   "cell_type": "code",
   "execution_count": 70,
   "metadata": {},
   "outputs": [
    {
     "data": {
      "text/plain": [
       "0    182,202,739,340,536,287,690,988,187,367,479,94...\n",
       "1                                                   -9\n",
       "2    433,202,739,340,988,479,942,731,844,837,333,40...\n",
       "3                                                   -9\n",
       "4                   433,819,79,522,601,753,347,829,741\n",
       "Name: age, dtype: object"
      ]
     },
     "execution_count": 70,
     "metadata": {},
     "output_type": "execute_result"
    }
   ],
   "source": [
    "data['age'].head()"
   ]
  },
  {
   "cell_type": "code",
   "execution_count": 71,
   "metadata": {},
   "outputs": [],
   "source": [
    "data['age'] = data['age'].astype('object')"
   ]
  },
  {
   "cell_type": "code",
   "execution_count": 74,
   "metadata": {},
   "outputs": [],
   "source": [
    "data['age'].replace({'-999': 'unk', '-9': 'all'}, inplace=True)"
   ]
  },
  {
   "cell_type": "code",
   "execution_count": 75,
   "metadata": {},
   "outputs": [
    {
     "data": {
      "text/plain": [
       "0    182,202,739,340,536,287,690,988,187,367,479,94...\n",
       "1                                                  all\n",
       "2    433,202,739,340,988,479,942,731,844,837,333,40...\n",
       "3                                                  all\n",
       "4                   433,819,79,522,601,753,347,829,741\n",
       "Name: age, dtype: object"
      ]
     },
     "execution_count": 75,
     "metadata": {},
     "output_type": "execute_result"
    }
   ],
   "source": [
    "data['age'].head()"
   ]
  },
  {
   "cell_type": "code",
   "execution_count": 76,
   "metadata": {},
   "outputs": [],
   "source": [
    "cv = CountVectorizer()"
   ]
  },
  {
   "cell_type": "code",
   "execution_count": 77,
   "metadata": {},
   "outputs": [],
   "source": [
    "hot = cv.fit_transform(data['age']).toarray()"
   ]
  },
  {
   "cell_type": "code",
   "execution_count": 78,
   "metadata": {},
   "outputs": [
    {
     "data": {
      "text/plain": [
       "(38596, 993)"
      ]
     },
     "execution_count": 78,
     "metadata": {},
     "output_type": "execute_result"
    }
   ],
   "source": [
    "hot.shape"
   ]
  },
  {
   "cell_type": "code",
   "execution_count": 79,
   "metadata": {},
   "outputs": [
    {
     "data": {
      "text/plain": [
       "array([[0, 0, 0, ..., 0, 0, 0],\n",
       "       [0, 0, 0, ..., 0, 1, 0],\n",
       "       [0, 0, 0, ..., 0, 0, 0],\n",
       "       ...,\n",
       "       [0, 0, 0, ..., 0, 0, 1],\n",
       "       [0, 0, 0, ..., 0, 0, 0],\n",
       "       [0, 0, 0, ..., 0, 1, 0]], dtype=int64)"
      ]
     },
     "execution_count": 79,
     "metadata": {},
     "output_type": "execute_result"
    }
   ],
   "source": [
    "hot"
   ]
  },
  {
   "cell_type": "code",
   "execution_count": 82,
   "metadata": {},
   "outputs": [],
   "source": [
    "t = set.union(*[set(i.split(',')) for i in data['age']])"
   ]
  },
  {
   "cell_type": "code",
   "execution_count": 83,
   "metadata": {},
   "outputs": [
    {
     "data": {
      "text/plain": [
       "1002"
      ]
     },
     "execution_count": 83,
     "metadata": {},
     "output_type": "execute_result"
    }
   ],
   "source": [
    "len(t)"
   ]
  },
  {
   "cell_type": "code",
   "execution_count": 84,
   "metadata": {},
   "outputs": [
    {
     "data": {
      "text/plain": [
       "['992', '993', '994', '995', '996', '997', '998', '999', 'all', 'unk']"
      ]
     },
     "execution_count": 84,
     "metadata": {},
     "output_type": "execute_result"
    }
   ],
   "source": [
    "sorted(cv.get_feature_names())[-10:]"
   ]
  },
  {
   "cell_type": "code",
   "execution_count": 85,
   "metadata": {},
   "outputs": [
    {
     "data": {
      "text/plain": [
       "{'1', '2', '3', '4', '5', '6', '7', '8', '9'}"
      ]
     },
     "execution_count": 85,
     "metadata": {},
     "output_type": "execute_result"
    }
   ],
   "source": [
    "t - set(cv.get_feature_names())"
   ]
  },
  {
   "cell_type": "code",
   "execution_count": 86,
   "metadata": {},
   "outputs": [],
   "source": [
    "ebb = nn.EmbeddingBag(993, 10)\n",
    "eb = nn.Embedding(993, 10)"
   ]
  },
  {
   "cell_type": "code",
   "execution_count": 91,
   "metadata": {},
   "outputs": [
    {
     "data": {
      "text/plain": [
       "tensor([[ 0.2780, -1.4996, -1.0239,  ..., -0.6200, -0.6794,  0.5832],\n",
       "        [ 0.3323, -1.5744, -1.0652,  ..., -0.6533, -0.7629,  0.6060],\n",
       "        [ 0.2873, -1.5124, -1.0310,  ..., -0.6257, -0.6937,  0.5871],\n",
       "        ...,\n",
       "        [ 0.3323, -1.5744, -1.0652,  ..., -0.6533, -0.7629,  0.6060],\n",
       "        [ 0.3106, -1.5445, -1.0487,  ..., -0.6400, -0.7295,  0.5969],\n",
       "        [ 0.3323, -1.5744, -1.0652,  ..., -0.6533, -0.7629,  0.6060]],\n",
       "       grad_fn=<EmbeddingBagBackward>)"
      ]
     },
     "execution_count": 91,
     "metadata": {},
     "output_type": "execute_result"
    }
   ],
   "source": [
    "out1 = ebb(torch.LongTensor(hot))\n",
    "out1"
   ]
  },
  {
   "cell_type": "code",
   "execution_count": 92,
   "metadata": {},
   "outputs": [
    {
     "data": {
      "text/plain": [
       "torch.Size([38596, 10])"
      ]
     },
     "execution_count": 92,
     "metadata": {},
     "output_type": "execute_result"
    }
   ],
   "source": [
    "out1.shape"
   ]
  },
  {
   "cell_type": "code",
   "execution_count": 93,
   "metadata": {},
   "outputs": [
    {
     "data": {
      "text/plain": [
       "tensor([[[-0.5017,  0.2927, -0.7549,  ..., -0.0204, -0.7708,  0.3467],\n",
       "         [-0.5017,  0.2927, -0.7549,  ..., -0.0204, -0.7708,  0.3467],\n",
       "         [-0.5017,  0.2927, -0.7549,  ..., -0.0204, -0.7708,  0.3467],\n",
       "         ...,\n",
       "         [-0.5017,  0.2927, -0.7549,  ..., -0.0204, -0.7708,  0.3467],\n",
       "         [-0.5017,  0.2927, -0.7549,  ..., -0.0204, -0.7708,  0.3467],\n",
       "         [-0.5017,  0.2927, -0.7549,  ..., -0.0204, -0.7708,  0.3467]],\n",
       "\n",
       "        [[-0.5017,  0.2927, -0.7549,  ..., -0.0204, -0.7708,  0.3467],\n",
       "         [-0.5017,  0.2927, -0.7549,  ..., -0.0204, -0.7708,  0.3467],\n",
       "         [-0.5017,  0.2927, -0.7549,  ..., -0.0204, -0.7708,  0.3467],\n",
       "         ...,\n",
       "         [-0.5017,  0.2927, -0.7549,  ..., -0.0204, -0.7708,  0.3467],\n",
       "         [-1.7149,  0.5675,  0.1259,  ...,  0.9270,  0.0234, -1.4817],\n",
       "         [-0.5017,  0.2927, -0.7549,  ..., -0.0204, -0.7708,  0.3467]],\n",
       "\n",
       "        [[-0.5017,  0.2927, -0.7549,  ..., -0.0204, -0.7708,  0.3467],\n",
       "         [-0.5017,  0.2927, -0.7549,  ..., -0.0204, -0.7708,  0.3467],\n",
       "         [-0.5017,  0.2927, -0.7549,  ..., -0.0204, -0.7708,  0.3467],\n",
       "         ...,\n",
       "         [-0.5017,  0.2927, -0.7549,  ..., -0.0204, -0.7708,  0.3467],\n",
       "         [-0.5017,  0.2927, -0.7549,  ..., -0.0204, -0.7708,  0.3467],\n",
       "         [-0.5017,  0.2927, -0.7549,  ..., -0.0204, -0.7708,  0.3467]],\n",
       "\n",
       "        ...,\n",
       "\n",
       "        [[-0.5017,  0.2927, -0.7549,  ..., -0.0204, -0.7708,  0.3467],\n",
       "         [-0.5017,  0.2927, -0.7549,  ..., -0.0204, -0.7708,  0.3467],\n",
       "         [-0.5017,  0.2927, -0.7549,  ..., -0.0204, -0.7708,  0.3467],\n",
       "         ...,\n",
       "         [-0.5017,  0.2927, -0.7549,  ..., -0.0204, -0.7708,  0.3467],\n",
       "         [-0.5017,  0.2927, -0.7549,  ..., -0.0204, -0.7708,  0.3467],\n",
       "         [-1.7149,  0.5675,  0.1259,  ...,  0.9270,  0.0234, -1.4817]],\n",
       "\n",
       "        [[-0.5017,  0.2927, -0.7549,  ..., -0.0204, -0.7708,  0.3467],\n",
       "         [-0.5017,  0.2927, -0.7549,  ..., -0.0204, -0.7708,  0.3467],\n",
       "         [-0.5017,  0.2927, -0.7549,  ..., -0.0204, -0.7708,  0.3467],\n",
       "         ...,\n",
       "         [-0.5017,  0.2927, -0.7549,  ..., -0.0204, -0.7708,  0.3467],\n",
       "         [-0.5017,  0.2927, -0.7549,  ..., -0.0204, -0.7708,  0.3467],\n",
       "         [-0.5017,  0.2927, -0.7549,  ..., -0.0204, -0.7708,  0.3467]],\n",
       "\n",
       "        [[-0.5017,  0.2927, -0.7549,  ..., -0.0204, -0.7708,  0.3467],\n",
       "         [-0.5017,  0.2927, -0.7549,  ..., -0.0204, -0.7708,  0.3467],\n",
       "         [-0.5017,  0.2927, -0.7549,  ..., -0.0204, -0.7708,  0.3467],\n",
       "         ...,\n",
       "         [-0.5017,  0.2927, -0.7549,  ..., -0.0204, -0.7708,  0.3467],\n",
       "         [-1.7149,  0.5675,  0.1259,  ...,  0.9270,  0.0234, -1.4817],\n",
       "         [-0.5017,  0.2927, -0.7549,  ..., -0.0204, -0.7708,  0.3467]]],\n",
       "       grad_fn=<EmbeddingBackward>)"
      ]
     },
     "execution_count": 93,
     "metadata": {},
     "output_type": "execute_result"
    }
   ],
   "source": [
    "out2 = eb(torch.LongTensor(hot))\n",
    "out2"
   ]
  },
  {
   "cell_type": "code",
   "execution_count": 94,
   "metadata": {},
   "outputs": [
    {
     "data": {
      "text/plain": [
       "torch.Size([38596, 993, 10])"
      ]
     },
     "execution_count": 94,
     "metadata": {},
     "output_type": "execute_result"
    }
   ],
   "source": [
    "out2.shape"
   ]
  },
  {
   "cell_type": "code",
   "execution_count": 100,
   "metadata": {},
   "outputs": [
    {
     "data": {
      "text/plain": [
       "tensor([[-0.5457,  0.3027, -0.7230,  ...,  0.0139, -0.7420,  0.2804],\n",
       "        [-0.5029,  0.2930, -0.7541,  ..., -0.0195, -0.7700,  0.3449],\n",
       "        [-0.5383,  0.3010, -0.7283,  ...,  0.0082, -0.7468,  0.2915],\n",
       "        ...,\n",
       "        [-0.5029,  0.2930, -0.7541,  ..., -0.0195, -0.7700,  0.3449],\n",
       "        [-0.5200,  0.2969, -0.7416,  ..., -0.0061, -0.7588,  0.3191],\n",
       "        [-0.5029,  0.2930, -0.7541,  ..., -0.0195, -0.7700,  0.3449]],\n",
       "       grad_fn=<MeanBackward0>)"
      ]
     },
     "execution_count": 100,
     "metadata": {},
     "output_type": "execute_result"
    }
   ],
   "source": [
    "out3 = torch.mean(out2, dim=1)\n",
    "out3"
   ]
  },
  {
   "cell_type": "code",
   "execution_count": 101,
   "metadata": {},
   "outputs": [
    {
     "data": {
      "text/plain": [
       "torch.Size([38596, 10])"
      ]
     },
     "execution_count": 101,
     "metadata": {},
     "output_type": "execute_result"
    }
   ],
   "source": [
    "out3.shape"
   ]
  },
  {
   "cell_type": "code",
   "execution_count": null,
   "metadata": {},
   "outputs": [],
   "source": []
  }
 ],
 "metadata": {
  "kernelspec": {
   "display_name": "Python 3",
   "language": "python",
   "name": "python3"
  },
  "language_info": {
   "codemirror_mode": {
    "name": "ipython",
    "version": 3
   },
   "file_extension": ".py",
   "mimetype": "text/x-python",
   "name": "python",
   "nbconvert_exporter": "python",
   "pygments_lexer": "ipython3",
   "version": "3.6.7"
  }
 },
 "nbformat": 4,
 "nbformat_minor": 2
}
