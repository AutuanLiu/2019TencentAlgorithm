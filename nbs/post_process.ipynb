{
 "cells": [
  {
   "cell_type": "code",
   "execution_count": 100,
   "metadata": {},
   "outputs": [],
   "source": [
    "%matplotlib inline\n",
    "%reload_ext autoreload\n",
    "%autoreload 2\n",
    "# 多行输出\n",
    "from IPython.core.interactiveshell import InteractiveShell\n",
    "InteractiveShell.ast_node_interactivity = \"all\""
   ]
  },
  {
   "cell_type": "markdown",
   "metadata": {},
   "source": [
    "## 数据集的后处理"
   ]
  },
  {
   "cell_type": "code",
   "execution_count": 101,
   "metadata": {},
   "outputs": [],
   "source": [
    "import pandas as pd\n",
    "import numpy as np"
   ]
  },
  {
   "cell_type": "code",
   "execution_count": 102,
   "metadata": {},
   "outputs": [],
   "source": [
    "test = pd.read_csv('../data/test_set.csv', low_memory=False, encoding='utf-8')\n",
    "train = pd.read_csv('../data/train_set.csv', low_memory=False, encoding='utf-8')"
   ]
  },
  {
   "cell_type": "code",
   "execution_count": 103,
   "metadata": {},
   "outputs": [
    {
     "data": {
      "text/html": [
       "<div>\n",
       "<style scoped>\n",
       "    .dataframe tbody tr th:only-of-type {\n",
       "        vertical-align: middle;\n",
       "    }\n",
       "\n",
       "    .dataframe tbody tr th {\n",
       "        vertical-align: top;\n",
       "    }\n",
       "\n",
       "    .dataframe thead th {\n",
       "        text-align: right;\n",
       "    }\n",
       "</style>\n",
       "<table border=\"1\" class=\"dataframe\">\n",
       "  <thead>\n",
       "    <tr style=\"text-align: right;\">\n",
       "      <th></th>\n",
       "      <th>样本id</th>\n",
       "      <th>广告id</th>\n",
       "      <th>素材尺寸</th>\n",
       "      <th>广告行业id</th>\n",
       "      <th>商品类型</th>\n",
       "      <th>商品id</th>\n",
       "      <th>广告账户id</th>\n",
       "      <th>is_all_field</th>\n",
       "      <th>time</th>\n",
       "      <th>has_product_id</th>\n",
       "      <th>...</th>\n",
       "      <th>crt_dateIs_month_start</th>\n",
       "      <th>crt_dateIs_quarter_end</th>\n",
       "      <th>crt_dateIs_quarter_start</th>\n",
       "      <th>crt_dateIs_year_end</th>\n",
       "      <th>crt_dateIs_year_start</th>\n",
       "      <th>crt_dateHour</th>\n",
       "      <th>crt_dateMinute</th>\n",
       "      <th>crt_dateSecond</th>\n",
       "      <th>crt_dateElapsed</th>\n",
       "      <th>price</th>\n",
       "    </tr>\n",
       "  </thead>\n",
       "  <tbody>\n",
       "    <tr>\n",
       "      <th>0</th>\n",
       "      <td>1</td>\n",
       "      <td>394352</td>\n",
       "      <td>34</td>\n",
       "      <td>84</td>\n",
       "      <td>13</td>\n",
       "      <td>29663</td>\n",
       "      <td>26657</td>\n",
       "      <td>False</td>\n",
       "      <td>281474976645120,281474976645120,28147497664512...</td>\n",
       "      <td>True</td>\n",
       "      <td>...</td>\n",
       "      <td>False</td>\n",
       "      <td>False</td>\n",
       "      <td>False</td>\n",
       "      <td>False</td>\n",
       "      <td>False</td>\n",
       "      <td>6</td>\n",
       "      <td>20</td>\n",
       "      <td>12</td>\n",
       "      <td>1529648412</td>\n",
       "      <td>120</td>\n",
       "    </tr>\n",
       "    <tr>\n",
       "      <th>1</th>\n",
       "      <td>2</td>\n",
       "      <td>585401</td>\n",
       "      <td>40</td>\n",
       "      <td>221</td>\n",
       "      <td>1</td>\n",
       "      <td>-1</td>\n",
       "      <td>6262</td>\n",
       "      <td>False</td>\n",
       "      <td>281474976579587,281474976579587,28147497657958...</td>\n",
       "      <td>False</td>\n",
       "      <td>...</td>\n",
       "      <td>False</td>\n",
       "      <td>False</td>\n",
       "      <td>False</td>\n",
       "      <td>False</td>\n",
       "      <td>False</td>\n",
       "      <td>10</td>\n",
       "      <td>3</td>\n",
       "      <td>10</td>\n",
       "      <td>1553076190</td>\n",
       "      <td>42</td>\n",
       "    </tr>\n",
       "    <tr>\n",
       "      <th>2</th>\n",
       "      <td>3</td>\n",
       "      <td>419408</td>\n",
       "      <td>30</td>\n",
       "      <td>122</td>\n",
       "      <td>13</td>\n",
       "      <td>32110</td>\n",
       "      <td>17436</td>\n",
       "      <td>True</td>\n",
       "      <td>17592185782272,17592185782272,17592185782272,1...</td>\n",
       "      <td>True</td>\n",
       "      <td>...</td>\n",
       "      <td>False</td>\n",
       "      <td>False</td>\n",
       "      <td>False</td>\n",
       "      <td>False</td>\n",
       "      <td>False</td>\n",
       "      <td>21</td>\n",
       "      <td>36</td>\n",
       "      <td>34</td>\n",
       "      <td>1553031394</td>\n",
       "      <td>6</td>\n",
       "    </tr>\n",
       "    <tr>\n",
       "      <th>3</th>\n",
       "      <td>4</td>\n",
       "      <td>405326</td>\n",
       "      <td>64</td>\n",
       "      <td>136</td>\n",
       "      <td>1</td>\n",
       "      <td>-1</td>\n",
       "      <td>22359</td>\n",
       "      <td>False</td>\n",
       "      <td>281474976694272,281474976694272,28147497669427...</td>\n",
       "      <td>False</td>\n",
       "      <td>...</td>\n",
       "      <td>False</td>\n",
       "      <td>False</td>\n",
       "      <td>False</td>\n",
       "      <td>False</td>\n",
       "      <td>False</td>\n",
       "      <td>7</td>\n",
       "      <td>13</td>\n",
       "      <td>56</td>\n",
       "      <td>1553238836</td>\n",
       "      <td>181</td>\n",
       "    </tr>\n",
       "    <tr>\n",
       "      <th>4</th>\n",
       "      <td>5</td>\n",
       "      <td>578942</td>\n",
       "      <td>34</td>\n",
       "      <td>12</td>\n",
       "      <td>13</td>\n",
       "      <td>6372</td>\n",
       "      <td>24082</td>\n",
       "      <td>False</td>\n",
       "      <td>68719214592,68719214592,68719214592,6871921459...</td>\n",
       "      <td>True</td>\n",
       "      <td>...</td>\n",
       "      <td>False</td>\n",
       "      <td>False</td>\n",
       "      <td>False</td>\n",
       "      <td>False</td>\n",
       "      <td>False</td>\n",
       "      <td>20</td>\n",
       "      <td>46</td>\n",
       "      <td>25</td>\n",
       "      <td>1541191585</td>\n",
       "      <td>31</td>\n",
       "    </tr>\n",
       "  </tbody>\n",
       "</table>\n",
       "<p>5 rows × 37 columns</p>\n",
       "</div>"
      ],
      "text/plain": [
       "   样本id    广告id  素材尺寸  广告行业id  商品类型   商品id  广告账户id  is_all_field  \\\n",
       "0     1  394352    34      84    13  29663   26657         False   \n",
       "1     2  585401    40     221     1     -1    6262         False   \n",
       "2     3  419408    30     122    13  32110   17436          True   \n",
       "3     4  405326    64     136     1     -1   22359         False   \n",
       "4     5  578942    34      12    13   6372   24082         False   \n",
       "\n",
       "                                                time  has_product_id  ...  \\\n",
       "0  281474976645120,281474976645120,28147497664512...            True  ...   \n",
       "1  281474976579587,281474976579587,28147497657958...           False  ...   \n",
       "2  17592185782272,17592185782272,17592185782272,1...            True  ...   \n",
       "3  281474976694272,281474976694272,28147497669427...           False  ...   \n",
       "4  68719214592,68719214592,68719214592,6871921459...            True  ...   \n",
       "\n",
       "  crt_dateIs_month_start crt_dateIs_quarter_end crt_dateIs_quarter_start  \\\n",
       "0                  False                  False                    False   \n",
       "1                  False                  False                    False   \n",
       "2                  False                  False                    False   \n",
       "3                  False                  False                    False   \n",
       "4                  False                  False                    False   \n",
       "\n",
       "  crt_dateIs_year_end  crt_dateIs_year_start crt_dateHour crt_dateMinute  \\\n",
       "0               False                  False            6             20   \n",
       "1               False                  False           10              3   \n",
       "2               False                  False           21             36   \n",
       "3               False                  False            7             13   \n",
       "4               False                  False           20             46   \n",
       "\n",
       "  crt_dateSecond crt_dateElapsed price  \n",
       "0             12      1529648412   120  \n",
       "1             10      1553076190    42  \n",
       "2             34      1553031394     6  \n",
       "3             56      1553238836   181  \n",
       "4             25      1541191585    31  \n",
       "\n",
       "[5 rows x 37 columns]"
      ]
     },
     "execution_count": 103,
     "metadata": {},
     "output_type": "execute_result"
    },
    {
     "data": {
      "text/html": [
       "<div>\n",
       "<style scoped>\n",
       "    .dataframe tbody tr th:only-of-type {\n",
       "        vertical-align: middle;\n",
       "    }\n",
       "\n",
       "    .dataframe tbody tr th {\n",
       "        vertical-align: top;\n",
       "    }\n",
       "\n",
       "    .dataframe thead th {\n",
       "        text-align: right;\n",
       "    }\n",
       "</style>\n",
       "<table border=\"1\" class=\"dataframe\">\n",
       "  <thead>\n",
       "    <tr style=\"text-align: right;\">\n",
       "      <th></th>\n",
       "      <th>age</th>\n",
       "      <th>area</th>\n",
       "      <th>behavior</th>\n",
       "      <th>cnt</th>\n",
       "      <th>connectionType</th>\n",
       "      <th>consuptionAbility</th>\n",
       "      <th>device</th>\n",
       "      <th>education</th>\n",
       "      <th>gender</th>\n",
       "      <th>price</th>\n",
       "      <th>...</th>\n",
       "      <th>crt_dateIs_quarter_end</th>\n",
       "      <th>crt_dateIs_quarter_start</th>\n",
       "      <th>crt_dateIs_year_end</th>\n",
       "      <th>crt_dateIs_year_start</th>\n",
       "      <th>crt_dateHour</th>\n",
       "      <th>crt_dateMinute</th>\n",
       "      <th>crt_dateSecond</th>\n",
       "      <th>crt_dateElapsed</th>\n",
       "      <th>is_all_field</th>\n",
       "      <th>has_product_id</th>\n",
       "    </tr>\n",
       "  </thead>\n",
       "  <tbody>\n",
       "    <tr>\n",
       "      <th>0</th>\n",
       "      <td>-999</td>\n",
       "      <td>-999</td>\n",
       "      <td>-999</td>\n",
       "      <td>3</td>\n",
       "      <td>-999</td>\n",
       "      <td>-999</td>\n",
       "      <td>-999</td>\n",
       "      <td>-999</td>\n",
       "      <td>-999.0</td>\n",
       "      <td>44.0</td>\n",
       "      <td>...</td>\n",
       "      <td>False</td>\n",
       "      <td>False</td>\n",
       "      <td>False</td>\n",
       "      <td>False</td>\n",
       "      <td>6</td>\n",
       "      <td>14</td>\n",
       "      <td>44</td>\n",
       "      <td>1460528084</td>\n",
       "      <td>False</td>\n",
       "      <td>False</td>\n",
       "    </tr>\n",
       "    <tr>\n",
       "      <th>1</th>\n",
       "      <td>-999.0</td>\n",
       "      <td>-999.0</td>\n",
       "      <td>-999.0</td>\n",
       "      <td>3</td>\n",
       "      <td>-999.0</td>\n",
       "      <td>-999.0</td>\n",
       "      <td>2</td>\n",
       "      <td>-999.0</td>\n",
       "      <td>-999.0</td>\n",
       "      <td>-999.0</td>\n",
       "      <td>...</td>\n",
       "      <td>False</td>\n",
       "      <td>False</td>\n",
       "      <td>False</td>\n",
       "      <td>False</td>\n",
       "      <td>7</td>\n",
       "      <td>25</td>\n",
       "      <td>17</td>\n",
       "      <td>1464161117</td>\n",
       "      <td>False</td>\n",
       "      <td>True</td>\n",
       "    </tr>\n",
       "    <tr>\n",
       "      <th>2</th>\n",
       "      <td>-9</td>\n",
       "      <td>-9</td>\n",
       "      <td>-9</td>\n",
       "      <td>3</td>\n",
       "      <td>-9</td>\n",
       "      <td>-9</td>\n",
       "      <td>-9</td>\n",
       "      <td>-9</td>\n",
       "      <td>-9.0</td>\n",
       "      <td>-999.0</td>\n",
       "      <td>...</td>\n",
       "      <td>False</td>\n",
       "      <td>False</td>\n",
       "      <td>False</td>\n",
       "      <td>False</td>\n",
       "      <td>2</td>\n",
       "      <td>35</td>\n",
       "      <td>46</td>\n",
       "      <td>1472697346</td>\n",
       "      <td>True</td>\n",
       "      <td>False</td>\n",
       "    </tr>\n",
       "    <tr>\n",
       "      <th>3</th>\n",
       "      <td>-999</td>\n",
       "      <td>-999</td>\n",
       "      <td>-999</td>\n",
       "      <td>3</td>\n",
       "      <td>-999</td>\n",
       "      <td>-999</td>\n",
       "      <td>-999</td>\n",
       "      <td>-999</td>\n",
       "      <td>-999.0</td>\n",
       "      <td>49.0</td>\n",
       "      <td>...</td>\n",
       "      <td>False</td>\n",
       "      <td>False</td>\n",
       "      <td>False</td>\n",
       "      <td>False</td>\n",
       "      <td>7</td>\n",
       "      <td>54</td>\n",
       "      <td>44</td>\n",
       "      <td>1478678084</td>\n",
       "      <td>False</td>\n",
       "      <td>False</td>\n",
       "    </tr>\n",
       "    <tr>\n",
       "      <th>4</th>\n",
       "      <td>-999</td>\n",
       "      <td>-999</td>\n",
       "      <td>-999</td>\n",
       "      <td>3</td>\n",
       "      <td>-999</td>\n",
       "      <td>-999</td>\n",
       "      <td>-999</td>\n",
       "      <td>-999</td>\n",
       "      <td>-999.0</td>\n",
       "      <td>30.0</td>\n",
       "      <td>...</td>\n",
       "      <td>False</td>\n",
       "      <td>False</td>\n",
       "      <td>False</td>\n",
       "      <td>False</td>\n",
       "      <td>2</td>\n",
       "      <td>39</td>\n",
       "      <td>19</td>\n",
       "      <td>1480387159</td>\n",
       "      <td>False</td>\n",
       "      <td>False</td>\n",
       "    </tr>\n",
       "  </tbody>\n",
       "</table>\n",
       "<p>5 rows × 40 columns</p>\n",
       "</div>"
      ],
      "text/plain": [
       "      age    area behavior  cnt connectionType consuptionAbility device  \\\n",
       "0    -999    -999     -999    3           -999              -999   -999   \n",
       "1  -999.0  -999.0   -999.0    3         -999.0            -999.0      2   \n",
       "2      -9      -9       -9    3             -9                -9     -9   \n",
       "3    -999    -999     -999    3           -999              -999   -999   \n",
       "4    -999    -999     -999    3           -999              -999   -999   \n",
       "\n",
       "  education  gender  price  ...  crt_dateIs_quarter_end  \\\n",
       "0      -999  -999.0   44.0  ...                   False   \n",
       "1    -999.0  -999.0 -999.0  ...                   False   \n",
       "2        -9    -9.0 -999.0  ...                   False   \n",
       "3      -999  -999.0   49.0  ...                   False   \n",
       "4      -999  -999.0   30.0  ...                   False   \n",
       "\n",
       "  crt_dateIs_quarter_start crt_dateIs_year_end crt_dateIs_year_start  \\\n",
       "0                    False               False                 False   \n",
       "1                    False               False                 False   \n",
       "2                    False               False                 False   \n",
       "3                    False               False                 False   \n",
       "4                    False               False                 False   \n",
       "\n",
       "   crt_dateHour  crt_dateMinute  crt_dateSecond  crt_dateElapsed  \\\n",
       "0             6              14              44       1460528084   \n",
       "1             7              25              17       1464161117   \n",
       "2             2              35              46       1472697346   \n",
       "3             7              54              44       1478678084   \n",
       "4             2              39              19       1480387159   \n",
       "\n",
       "   is_all_field  has_product_id  \n",
       "0         False           False  \n",
       "1         False            True  \n",
       "2          True           False  \n",
       "3         False           False  \n",
       "4         False           False  \n",
       "\n",
       "[5 rows x 40 columns]"
      ]
     },
     "execution_count": 103,
     "metadata": {},
     "output_type": "execute_result"
    }
   ],
   "source": [
    "test.head()\n",
    "train.head()"
   ]
  },
  {
   "cell_type": "code",
   "execution_count": 104,
   "metadata": {},
   "outputs": [
    {
     "data": {
      "text/plain": [
       "Index(['样本id', '广告id', '素材尺寸', '广告行业id', '商品类型', '商品id', '广告账户id',\n",
       "       'is_all_field', 'time', 'has_product_id', 'age', 'area', 'behavior',\n",
       "       'connectionType', 'consuptionAbility', 'device', 'education', 'gender',\n",
       "       'status', 'work', 'crt_dateYear', 'crt_dateMonth', 'crt_dateWeek',\n",
       "       'crt_dateDay', 'crt_dateDayofweek', 'crt_dateDayofyear',\n",
       "       'crt_dateIs_month_end', 'crt_dateIs_month_start',\n",
       "       'crt_dateIs_quarter_end', 'crt_dateIs_quarter_start',\n",
       "       'crt_dateIs_year_end', 'crt_dateIs_year_start', 'crt_dateHour',\n",
       "       'crt_dateMinute', 'crt_dateSecond', 'crt_dateElapsed', 'price'],\n",
       "      dtype='object')"
      ]
     },
     "execution_count": 104,
     "metadata": {},
     "output_type": "execute_result"
    },
    {
     "data": {
      "text/plain": [
       "Index(['age', 'area', 'behavior', 'cnt', 'connectionType', 'consuptionAbility',\n",
       "       'device', 'education', 'gender', 'price', 'state', 'status', 'time',\n",
       "       'work', '商品id', '商品类型', '广告id', '广告行业id', '广告账户id', '曝光广告id', '曝光量',\n",
       "       '素材尺寸', 'crt_dateYear', 'crt_dateMonth', 'crt_dateWeek', 'crt_dateDay',\n",
       "       'crt_dateDayofweek', 'crt_dateDayofyear', 'crt_dateIs_month_end',\n",
       "       'crt_dateIs_month_start', 'crt_dateIs_quarter_end',\n",
       "       'crt_dateIs_quarter_start', 'crt_dateIs_year_end',\n",
       "       'crt_dateIs_year_start', 'crt_dateHour', 'crt_dateMinute',\n",
       "       'crt_dateSecond', 'crt_dateElapsed', 'is_all_field', 'has_product_id'],\n",
       "      dtype='object')"
      ]
     },
     "execution_count": 104,
     "metadata": {},
     "output_type": "execute_result"
    }
   ],
   "source": [
    "test.columns\n",
    "train.columns"
   ]
  },
  {
   "cell_type": "code",
   "execution_count": 105,
   "metadata": {},
   "outputs": [],
   "source": [
    "test_id = ['样本id']\n",
    "train_id = ['曝光量']"
   ]
  },
  {
   "cell_type": "code",
   "execution_count": 106,
   "metadata": {},
   "outputs": [],
   "source": [
    "v_cols = ['广告id', '广告行业id', '广告账户id', '商品id', '商品类型', '素材尺寸', 'is_all_field', 'has_product_id', 'time', 'age', 'area', 'behavior',\n",
    "          'connectionType', 'consuptionAbility', 'device', 'education', 'gender', 'status', 'work', 'price', 'crt_dateYear', 'crt_dateMonth', \n",
    "          'crt_dateWeek', 'crt_dateDay', 'crt_dateDayofweek', 'crt_dateDayofyear', 'crt_dateIs_month_end', 'crt_dateIs_month_start',\n",
    "          'crt_dateIs_quarter_end', 'crt_dateIs_quarter_start', 'crt_dateIs_year_end', 'crt_dateIs_year_start', 'crt_dateHour', 'crt_dateElapsed']"
   ]
  },
  {
   "cell_type": "code",
   "execution_count": 107,
   "metadata": {},
   "outputs": [],
   "source": [
    "test = test[test_id + v_cols]\n",
    "train = train[v_cols + train_id]"
   ]
  },
  {
   "cell_type": "code",
   "execution_count": 108,
   "metadata": {},
   "outputs": [
    {
     "data": {
      "text/plain": [
       "Index(['样本id', '广告id', '广告行业id', '广告账户id', '商品id', '商品类型', '素材尺寸',\n",
       "       'is_all_field', 'has_product_id', 'time', 'age', 'area', 'behavior',\n",
       "       'connectionType', 'consuptionAbility', 'device', 'education', 'gender',\n",
       "       'status', 'work', 'price', 'crt_dateYear', 'crt_dateMonth',\n",
       "       'crt_dateWeek', 'crt_dateDay', 'crt_dateDayofweek', 'crt_dateDayofyear',\n",
       "       'crt_dateIs_month_end', 'crt_dateIs_month_start',\n",
       "       'crt_dateIs_quarter_end', 'crt_dateIs_quarter_start',\n",
       "       'crt_dateIs_year_end', 'crt_dateIs_year_start', 'crt_dateHour',\n",
       "       'crt_dateElapsed'],\n",
       "      dtype='object')"
      ]
     },
     "execution_count": 108,
     "metadata": {},
     "output_type": "execute_result"
    },
    {
     "data": {
      "text/plain": [
       "Index(['广告id', '广告行业id', '广告账户id', '商品id', '商品类型', '素材尺寸', 'is_all_field',\n",
       "       'has_product_id', 'time', 'age', 'area', 'behavior', 'connectionType',\n",
       "       'consuptionAbility', 'device', 'education', 'gender', 'status', 'work',\n",
       "       'price', 'crt_dateYear', 'crt_dateMonth', 'crt_dateWeek', 'crt_dateDay',\n",
       "       'crt_dateDayofweek', 'crt_dateDayofyear', 'crt_dateIs_month_end',\n",
       "       'crt_dateIs_month_start', 'crt_dateIs_quarter_end',\n",
       "       'crt_dateIs_quarter_start', 'crt_dateIs_year_end',\n",
       "       'crt_dateIs_year_start', 'crt_dateHour', 'crt_dateElapsed', '曝光量'],\n",
       "      dtype='object')"
      ]
     },
     "execution_count": 108,
     "metadata": {},
     "output_type": "execute_result"
    }
   ],
   "source": [
    "test.columns\n",
    "train.columns"
   ]
  },
  {
   "cell_type": "code",
   "execution_count": 109,
   "metadata": {},
   "outputs": [],
   "source": [
    "for i in ['素材尺寸']:\n",
    "    train[i] = train[i].astype('int64')\n",
    "test['price'] = test['price'].astype('float64')"
   ]
  },
  {
   "cell_type": "code",
   "execution_count": 110,
   "metadata": {},
   "outputs": [],
   "source": [
    "def fx(x):\n",
    "    if x == '-999.0' or x == '-999' or x == -999.0 or x == -999:\n",
    "        return -999\n",
    "    else:\n",
    "        return x"
   ]
  },
  {
   "cell_type": "code",
   "execution_count": 111,
   "metadata": {},
   "outputs": [],
   "source": [
    "def fx1(x):\n",
    "    if x == -999.0:\n",
    "        return np.nan\n",
    "    else:\n",
    "        return x"
   ]
  },
  {
   "cell_type": "code",
   "execution_count": 112,
   "metadata": {},
   "outputs": [],
   "source": [
    "train['consuptionAbility'] = train['consuptionAbility'].apply(fx)"
   ]
  },
  {
   "cell_type": "code",
   "execution_count": 113,
   "metadata": {},
   "outputs": [],
   "source": [
    "test['consuptionAbility'] = test['consuptionAbility'].astype('object')"
   ]
  },
  {
   "cell_type": "code",
   "execution_count": 114,
   "metadata": {},
   "outputs": [],
   "source": [
    "for i in v_cols:\n",
    "    train[i] = train[i].apply(fx)\n",
    "    test[i] = test[i].apply(fx)"
   ]
  },
  {
   "cell_type": "code",
   "execution_count": null,
   "metadata": {},
   "outputs": [],
   "source": []
  },
  {
   "cell_type": "markdown",
   "metadata": {},
   "source": [
    "## 变量名英文"
   ]
  },
  {
   "cell_type": "code",
   "execution_count": 115,
   "metadata": {},
   "outputs": [],
   "source": [
    "cz = ['广告id', '广告行业id', '广告账户id', '商品id', '商品类型', '素材尺寸']\n",
    "ez = ['ad_id', 'ad_type_id', 'ad_account_id', 'item_id', 'item_type', 'size']\n",
    "v_cols = ['ad_id', 'ad_type_id', 'ad_account_id', 'item_id', 'item_type', 'size', 'is_all_field', 'has_product_id', 'has_price', 'time', 'age', 'area', 'behavior',\n",
    "          'connectionType', 'consuptionAbility', 'device', 'education', 'gender', 'status', 'work', 'price', 'crt_dateYear', 'crt_dateMonth', \n",
    "          'crt_dateWeek', 'crt_dateDay', 'crt_dateDayofweek', 'crt_dateDayofyear', 'crt_dateIs_month_end', 'crt_dateIs_month_start',\n",
    "          'crt_dateIs_quarter_end', 'crt_dateIs_quarter_start', 'crt_dateIs_year_end', 'crt_dateIs_year_start', 'crt_dateHour', 'crt_dateElapsed']\n",
    "test_id = ['sample_id']\n",
    "train_id = ['target']"
   ]
  },
  {
   "cell_type": "code",
   "execution_count": 116,
   "metadata": {},
   "outputs": [],
   "source": [
    "train['price'] = train['price'].apply(fx1)\n",
    "test['price'] = test['price'].apply(fx1)"
   ]
  },
  {
   "cell_type": "markdown",
   "metadata": {},
   "source": [
    "- 由于是数值 所以我们使用中值填充"
   ]
  },
  {
   "cell_type": "code",
   "execution_count": 129,
   "metadata": {},
   "outputs": [
    {
     "data": {
      "text/plain": [
       "0    100.0\n",
       "dtype: float64"
      ]
     },
     "execution_count": 18,
     "metadata": {},
     "output_type": "execute_result"
    }
   ],
   "source": [
    "fill_v = train['price'].mode()\n",
    "fill_v"
   ]
  },
  {
   "cell_type": "code",
   "execution_count": 118,
   "metadata": {},
   "outputs": [],
   "source": [
    "fill_v = train['price'].mode()"
   ]
  },
  {
   "cell_type": "code",
   "execution_count": 20,
   "metadata": {},
   "outputs": [],
   "source": [
    "train['has_price'] = train['price'].isna()\n",
    "test['has_price'] = test['price'].isna()"
   ]
  },
  {
   "cell_type": "code",
   "metadata": {},
   "outputs": [],
   "source": [
    "train['price'].fillna(fill_v, inplace=True)\n",
    "test['price'].fillna(fill_v, inplace=True)\n",
    "train['target'] = train['曝光量'].apply(lambda x: np.log(1 + x))\n",
    "train['price'] = train['price'].apply(lambda x: np.log(1 + x))\n",
    "test['price'] = test['price'].apply(lambda x: np.log(1 + x))\n",
    "test['sample_id'] = test['样本id']\n",
    "for i, j in zip(cz, ez):\n",
    "    train[j], test[j] = train[i], test[i]\n",
    "train = train[v_cols + train_id]\n",
    "test = test[v_cols + test_id]"
   ]
  },
  {
   "cell_type": "code",
   "execution_count": 120,
   "metadata": {},
   "outputs": [
    {
     "name": "stdout",
     "output_type": "stream",
     "text": [
      "<class 'pandas.core.frame.DataFrame'>\n",
      "RangeIndex: 20290 entries, 0 to 20289\n",
      "Data columns (total 36 columns):\n",
      "ad_id                       20290 non-null int64\n",
      "ad_type_id                  20290 non-null int64\n",
      "ad_account_id               20290 non-null int64\n",
      "item_id                     20290 non-null int64\n",
      "item_type                   20290 non-null int64\n",
      "size                        20290 non-null int64\n",
      "is_all_field                20290 non-null bool\n",
      "has_product_id              20290 non-null bool\n",
      "has_price                   20290 non-null bool\n",
      "time                        20290 non-null object\n",
      "age                         20290 non-null object\n",
      "area                        20290 non-null object\n",
      "behavior                    20290 non-null object\n",
      "connectionType              20290 non-null object\n",
      "consuptionAbility           20290 non-null int64\n",
      "device                      20290 non-null object\n",
      "education                   20290 non-null object\n",
      "gender                      20290 non-null object\n",
      "status                      20290 non-null object\n",
      "work                        20290 non-null object\n",
      "price                       20290 non-null float64\n",
      "crt_dateYear                20290 non-null int64\n",
      "crt_dateMonth               20290 non-null int64\n",
      "crt_dateWeek                20290 non-null int64\n",
      "crt_dateDay                 20290 non-null int64\n",
      "crt_dateDayofweek           20290 non-null int64\n",
      "crt_dateDayofyear           20290 non-null int64\n",
      "crt_dateIs_month_end        20290 non-null bool\n",
      "crt_dateIs_month_start      20290 non-null bool\n",
      "crt_dateIs_quarter_end      20290 non-null bool\n",
      "crt_dateIs_quarter_start    20290 non-null bool\n",
      "crt_dateIs_year_end         20290 non-null bool\n",
      "crt_dateIs_year_start       20290 non-null bool\n",
      "crt_dateHour                20290 non-null int64\n",
      "crt_dateElapsed             20290 non-null int64\n",
      "sample_id                   20290 non-null int64\n",
      "dtypes: bool(9), float64(1), int64(16), object(10)\n",
      "memory usage: 4.4+ MB\n",
      "<class 'pandas.core.frame.DataFrame'>\n",
      "RangeIndex: 210855 entries, 0 to 210854\n",
      "Data columns (total 36 columns):\n",
      "ad_id                       210855 non-null int64\n",
      "ad_type_id                  210855 non-null int64\n",
      "ad_account_id               210855 non-null int64\n",
      "item_id                     210855 non-null int64\n",
      "item_type                   210855 non-null int64\n",
      "size                        210855 non-null int64\n",
      "is_all_field                210855 non-null bool\n",
      "has_product_id              210855 non-null bool\n",
      "has_price                   210855 non-null bool\n",
      "time                        210855 non-null object\n",
      "age                         210855 non-null object\n",
      "area                        210855 non-null object\n",
      "behavior                    210855 non-null object\n",
      "connectionType              210855 non-null object\n",
      "consuptionAbility           210855 non-null object\n",
      "device                      210855 non-null object\n",
      "education                   210855 non-null object\n",
      "gender                      210855 non-null float64\n",
      "status                      210855 non-null object\n",
      "work                        210855 non-null object\n",
      "price                       159882 non-null float64\n",
      "crt_dateYear                210855 non-null int64\n",
      "crt_dateMonth               210855 non-null int64\n",
      "crt_dateWeek                210855 non-null int64\n",
      "crt_dateDay                 210855 non-null int64\n",
      "crt_dateDayofweek           210855 non-null int64\n",
      "crt_dateDayofyear           210855 non-null int64\n",
      "crt_dateIs_month_end        210855 non-null bool\n",
      "crt_dateIs_month_start      210855 non-null bool\n",
      "crt_dateIs_quarter_end      210855 non-null bool\n",
      "crt_dateIs_quarter_start    210855 non-null bool\n",
      "crt_dateIs_year_end         210855 non-null bool\n",
      "crt_dateIs_year_start       210855 non-null bool\n",
      "crt_dateHour                210855 non-null int64\n",
      "crt_dateElapsed             210855 non-null int64\n",
      "target                      210855 non-null float64\n",
      "dtypes: bool(9), float64(3), int64(14), object(10)\n",
      "memory usage: 45.2+ MB\n"
     ]
    }
   ],
   "source": [
    "test.info()\n",
    "train.info()"
   ]
  },
  {
   "cell_type": "code",
   "execution_count": 33,
   "metadata": {},
   "outputs": [
    {
     "name": "stdout",
     "output_type": "stream",
     "text": [
      "connectionType\n"
     ]
    },
    {
     "data": {
      "text/plain": [
       "-999         200018\n",
       "-9             8195\n",
       "2,4            1275\n",
       "2,3,4          1109\n",
       "2               117\n",
       "2,3,5,4          46\n",
       "2,3,5,4,1        40\n",
       "2,4,1            30\n",
       "2,3,4,1          11\n",
       "2,1               9\n",
       "4                 3\n",
       "3                 1\n",
       "2,3,5,1           1\n",
       "Name: connectionType, dtype: int64"
      ]
     },
     "execution_count": 33,
     "metadata": {},
     "output_type": "execute_result"
    },
    {
     "data": {
      "text/plain": [
       "-999         13682\n",
       "-9            5141\n",
       "2,4           1009\n",
       "2,4,3          257\n",
       "2,4,1,3        110\n",
       "2,4,5,1,3       41\n",
       "2               30\n",
       "2,1,4           20\n",
       "Name: connectionType, dtype: int64"
      ]
     },
     "execution_count": 33,
     "metadata": {},
     "output_type": "execute_result"
    },
    {
     "name": "stdout",
     "output_type": "stream",
     "text": [
      "consuptionAbility\n"
     ]
    },
    {
     "data": {
      "text/plain": [
       "-999    202254\n",
       "-9        8195\n",
       "3          404\n",
       "3,2          2\n",
       "Name: consuptionAbility, dtype: int64"
      ]
     },
     "execution_count": 33,
     "metadata": {},
     "output_type": "execute_result"
    },
    {
     "data": {
      "text/plain": [
       "-999    14938\n",
       "-9       5141\n",
       " 2        120\n",
       " 3         91\n",
       "Name: consuptionAbility, dtype: int64"
      ]
     },
     "execution_count": 33,
     "metadata": {},
     "output_type": "execute_result"
    },
    {
     "name": "stdout",
     "output_type": "stream",
     "text": [
      "device\n"
     ]
    },
    {
     "data": {
      "text/plain": [
       "-999           201871\n",
       "-9               8195\n",
       "3                 375\n",
       "3,2               216\n",
       "2                 156\n",
       "6,3,2              22\n",
       "4,1,5,3,2           6\n",
       "4,3,2               6\n",
       "4,2                 2\n",
       "4,3,5,2             2\n",
       "4,1,5,6,3,2         1\n",
       "1,5,6,3,2           1\n",
       "6,2                 1\n",
       "1,3,2               1\n",
       "Name: device, dtype: int64"
      ]
     },
     "execution_count": 33,
     "metadata": {},
     "output_type": "execute_result"
    },
    {
     "data": {
      "text/plain": [
       "-999     14866\n",
       "-9        5141\n",
       "4,2,3      130\n",
       "2           70\n",
       "2,3         42\n",
       "3           31\n",
       "6,2,3       10\n",
       "Name: device, dtype: int64"
      ]
     },
     "execution_count": 33,
     "metadata": {},
     "output_type": "execute_result"
    },
    {
     "name": "stdout",
     "output_type": "stream",
     "text": [
      "education\n"
     ]
    },
    {
     "data": {
      "text/plain": [
       "-999             199986\n",
       "-9                 8195\n",
       "1,5,4,7,8           566\n",
       "1,5,4,7             485\n",
       "7,2,3,8             208\n",
       "1,7,5,8             175\n",
       "1,4,5,6,8           174\n",
       "1,5,4,2,7,8         125\n",
       "5,2,3,7,8           113\n",
       "1,5,4,8             107\n",
       "7,5                 101\n",
       "2                    98\n",
       "1,5,4                80\n",
       "7,5,8                67\n",
       "7,2,8                41\n",
       "7,2,5,8              36\n",
       "1,5,4,2,8            34\n",
       "8                    25\n",
       "1,7,5                25\n",
       "1,5,4,2,3,7,8        25\n",
       "2,3,8                24\n",
       "1,7,4                20\n",
       "4                    19\n",
       "2,8                  16\n",
       "3,2                  16\n",
       "1,2,5,8              15\n",
       "5                    14\n",
       "1,5,4,2,3,8          13\n",
       "3                    10\n",
       "1,5,2,3,7,8           9\n",
       "7,8                   8\n",
       "5,8                   4\n",
       "1                     3\n",
       "1,4,5,6,7,8           3\n",
       "5,7,4,8               2\n",
       "1,5                   2\n",
       "7                     2\n",
       "7,3,8                 2\n",
       "2,3,6,8               2\n",
       "1,4                   1\n",
       "5,4,2,3,7,8           1\n",
       "4,3                   1\n",
       "2,5,8                 1\n",
       "1,4,5,6,2,3,8         1\n",
       "Name: education, dtype: int64"
      ]
     },
     "execution_count": 33,
     "metadata": {},
     "output_type": "execute_result"
    },
    {
     "data": {
      "text/plain": [
       "-999             13454\n",
       "-9                5141\n",
       "1,5,4,7            861\n",
       "8,3,2              180\n",
       "6,8,1,5,4          113\n",
       "8,7,1,5,4           92\n",
       "8,7,2               61\n",
       "1,5,4               50\n",
       "8,7,3,2             41\n",
       "5,8,7               40\n",
       "2,8,7,3,5           31\n",
       "1,5,7               21\n",
       "2,8,1,5,4           21\n",
       "2,8,7,1,5,4         20\n",
       "5                   20\n",
       "5,7                 20\n",
       "1,5,8,4             20\n",
       "1,5,8,2             11\n",
       "2,8,7,1,3,5,4       11\n",
       "8                   11\n",
       "1,5                 11\n",
       "2,8,7,1,3,5         10\n",
       "4,1,5,6             10\n",
       "1,5,8,7             10\n",
       "8,2                 10\n",
       "4                   10\n",
       "2,6,8,1,3,5         10\n",
       "Name: education, dtype: int64"
      ]
     },
     "execution_count": 33,
     "metadata": {},
     "output_type": "execute_result"
    },
    {
     "name": "stdout",
     "output_type": "stream",
     "text": [
      "gender\n"
     ]
    },
    {
     "data": {
      "text/plain": [
       "-999.0    198458\n",
       "-9.0        8195\n",
       " 3.0        2214\n",
       " 2.0        1988\n",
       "Name: gender, dtype: int64"
      ]
     },
     "execution_count": 33,
     "metadata": {},
     "output_type": "execute_result"
    },
    {
     "data": {
      "text/plain": [
       "-999     13464\n",
       "-9        5141\n",
       "2          945\n",
       "3          730\n",
       "3,1,2       10\n",
       "Name: gender, dtype: int64"
      ]
     },
     "execution_count": 33,
     "metadata": {},
     "output_type": "execute_result"
    },
    {
     "name": "stdout",
     "output_type": "stream",
     "text": [
      "status\n"
     ]
    },
    {
     "data": {
      "text/plain": [
       "-999                  199765\n",
       "-9                      8195\n",
       "13,9                    1638\n",
       "13,15,6,9                186\n",
       "15,6,9                   175\n",
       "13,5,9                   171\n",
       "6                         90\n",
       "15,6                      85\n",
       "14,15,7                   69\n",
       "15,7,6,9                  68\n",
       "7,11,9,2,5,15,6,14        59\n",
       "15,7,6                    51\n",
       "5,9                       41\n",
       "9                         36\n",
       "15,7                      26\n",
       "13,5,6,9                  23\n",
       "14,15,7,6                 20\n",
       "7,11,15,6,14              15\n",
       "13,5                      12\n",
       "13                        12\n",
       "2                         10\n",
       "7,11,9,2,15,6,14          10\n",
       "7,11,2,15,6,14            10\n",
       "11,2                       9\n",
       "13,9,8,5,3,18              8\n",
       "14,7,11                    8\n",
       "13,15,6,1                  7\n",
       "7,9,15,6,14                7\n",
       "14,7,17,1                  6\n",
       "1,7,11,6,14                6\n",
       "14,15,7,11                 4\n",
       "5,6,9                      3\n",
       "14,7,6,11                  3\n",
       "13,5,15,9                  3\n",
       "14,7                       3\n",
       "13,9,5,15,6                2\n",
       "5                          2\n",
       "14,11,2                    2\n",
       "13,6,9                     2\n",
       "7                          2\n",
       "17,1,7,6,14                1\n",
       "7,11,9,15,6,14             1\n",
       "14                         1\n",
       "14,7,6                     1\n",
       "13,7,9,5,15,6              1\n",
       "15,7,6,2                   1\n",
       "15                         1\n",
       "3,6,9                      1\n",
       "14,7,1                     1\n",
       "7,2,15,6,14                1\n",
       "13,6                       1\n",
       "Name: status, dtype: int64"
      ]
     },
     "execution_count": 33,
     "metadata": {},
     "output_type": "execute_result"
    },
    {
     "data": {
      "text/plain": [
       "-999                   14196\n",
       "-9                      5141\n",
       "13,9                     325\n",
       "15,7,6,9                 140\n",
       "15,13,6,9                113\n",
       "5,13,9                   108\n",
       "11,15,5,7,2,6,14,9        40\n",
       "15,6,9                    30\n",
       "15,6                      22\n",
       "5,13                      20\n",
       "11,15,7,2,6,14            20\n",
       "5,13,6,9                  20\n",
       "5,9                       11\n",
       "11,15,5,13,7,6,14,9       11\n",
       "13,6                      11\n",
       "15,13,6,1                 11\n",
       "15,7,14                   11\n",
       "15,4,13,9                 10\n",
       "11,15,7,6,14,9            10\n",
       "11,15,7,2,6,14,9          10\n",
       "4                         10\n",
       "7                         10\n",
       "13,6,9                    10\n",
       "Name: status, dtype: int64"
      ]
     },
     "execution_count": 33,
     "metadata": {},
     "output_type": "execute_result"
    },
    {
     "name": "stdout",
     "output_type": "stream",
     "text": [
      "work\n"
     ]
    },
    {
     "data": {
      "text/plain": [
       "-999         202570\n",
       "-9             8195\n",
       "6                83\n",
       "6,4,1,5,2         7\n",
       "Name: work, dtype: int64"
      ]
     },
     "execution_count": 33,
     "metadata": {},
     "output_type": "execute_result"
    },
    {
     "data": {
      "text/plain": [
       "-999         15085\n",
       "-9            5141\n",
       "6               53\n",
       "2,5,1,6,4       11\n",
       "Name: work, dtype: int64"
      ]
     },
     "execution_count": 33,
     "metadata": {},
     "output_type": "execute_result"
    }
   ],
   "source": [
    "cols3 = ['connectionType','consuptionAbility','device','education','gender','status','work']\n",
    "for i in cols3:\n",
    "    print(i)\n",
    "    train[i].value_counts()\n",
    "    test[i].value_counts()"
   ]
  },
  {
   "cell_type": "code",
   "execution_count": null,
   "metadata": {},
   "outputs": [],
   "source": [
    "train[''].value_counts()\n",
    "test[''].value_counts()"
   ]
  },
  {
   "cell_type": "code",
   "execution_count": 28,
   "metadata": {},
   "outputs": [
    {
     "data": {
      "text/plain": [
       "14"
      ]
     },
     "execution_count": 28,
     "metadata": {},
     "output_type": "execute_result"
    }
   ],
   "source": [
    "train['device'].nunique()"
   ]
  },
  {
   "cell_type": "markdown",
   "metadata": {},
   "source": [
    "### 保存数据集"
   ]
  },
  {
   "cell_type": "code",
   "execution_count": 23,
   "metadata": {},
   "outputs": [],
   "source": [
    "test.to_csv('../data/test_set_final.csv', index=None, encoding='utf-8')\n",
    "train.to_csv('../data/train_set_final.csv', index=None, encoding='utf-8')"
   ]
  },
  {
   "cell_type": "markdown",
   "metadata": {},
   "source": [
    "### 以下为无效测试"
   ]
  },
  {
   "cell_type": "code",
   "execution_count": 122,
   "metadata": {},
   "outputs": [],
   "source": [
    "def split(x):\n",
    "    x = str(x) if not isinstance(x, str) else x\n",
    "    key_ans = x.split(',')\n",
    "    for key in key_ans:\n",
    "        if key not in key2index:\n",
    "            # Notice : input value 0 is a special \"padding\",so we do not use 0 to encode valid feature for sequence input\n",
    "            key2index[key] = len(key2index) + 1\n",
    "    return list(map(lambda x: key2index[x], key_ans))"
   ]
  },
  {
   "cell_type": "code",
   "execution_count": 123,
   "metadata": {},
   "outputs": [
    {
     "data": {
      "text/plain": [
       "-999.0    198458\n",
       "-9.0        8195\n",
       " 3.0        2214\n",
       " 2.0        1988\n",
       "Name: gender, dtype: int64"
      ]
     },
     "execution_count": 123,
     "metadata": {},
     "output_type": "execute_result"
    }
   ],
   "source": [
    "train.gender.value_counts()"
   ]
  },
  {
   "cell_type": "code",
   "execution_count": 124,
   "metadata": {},
   "outputs": [
    {
     "data": {
      "text/plain": [
       "array([-999., -999.,   -9., ..., -999., -999., -999.])"
      ]
     },
     "execution_count": 124,
     "metadata": {},
     "output_type": "execute_result"
    }
   ],
   "source": [
    "train.gender.values"
   ]
  },
  {
   "cell_type": "code",
   "execution_count": 125,
   "metadata": {},
   "outputs": [],
   "source": [
    "key2index = {}\n",
    "gens = list(map(split, train.age.values))"
   ]
  },
  {
   "cell_type": "code",
   "execution_count": 126,
   "metadata": {},
   "outputs": [
    {
     "data": {
      "text/plain": [
       "997"
      ]
     },
     "execution_count": 126,
     "metadata": {},
     "output_type": "execute_result"
    }
   ],
   "source": [
    "len(key2index)"
   ]
  },
  {
   "cell_type": "code",
   "execution_count": 127,
   "metadata": {},
   "outputs": [
    {
     "data": {
      "text/plain": [
       "array([1, 3, 4, 0])"
      ]
     },
     "execution_count": 127,
     "metadata": {},
     "output_type": "execute_result"
    }
   ],
   "source": [
    "np.clip(np.array([1,3,4, -7]), 0, None)"
   ]
  },
  {
   "cell_type": "code",
   "execution_count": 128,
   "metadata": {},
   "outputs": [
    {
     "data": {
      "text/plain": [
       "4"
      ]
     },
     "execution_count": 128,
     "metadata": {},
     "output_type": "execute_result"
    }
   ],
   "source": [
    "min(600, round(3.6))"
   ]
  },
  {
   "cell_type": "code",
   "execution_count": 30,
   "metadata": {},
   "outputs": [
    {
     "name": "stdout",
     "output_type": "stream",
     "text": [
      "cpu cores\t: 6\n"
     ]
    }
   ],
   "source": [
    "!cat /proc/cpuinfo| grep \"cpu cores\"| uniq"
   ]
  },
  {
   "cell_type": "code",
   "execution_count": 31,
   "metadata": {},
   "outputs": [
    {
     "name": "stdout",
     "output_type": "stream",
     "text": [
      "1\n"
     ]
    }
   ],
   "source": [
    "!cat /proc/cpuinfo| grep \"physical id\"| sort| uniq| wc -l"
   ]
  },
  {
   "cell_type": "code",
   "execution_count": 32,
   "metadata": {},
   "outputs": [
    {
     "name": "stdout",
     "output_type": "stream",
     "text": [
      "12\n"
     ]
    }
   ],
   "source": [
    "!cat /proc/cpuinfo| grep \"processor\"| wc -l"
   ]
  },
  {
   "cell_type": "code",
   "execution_count": 36,
   "metadata": {},
   "outputs": [],
   "source": [
    "x = np.zeros((2,3,4))"
   ]
  },
  {
   "cell_type": "code",
   "execution_count": 38,
   "metadata": {},
   "outputs": [],
   "source": [
    "(*y,)=x.shape"
   ]
  },
  {
   "cell_type": "code",
   "execution_count": 39,
   "metadata": {},
   "outputs": [
    {
     "data": {
      "text/plain": [
       "3"
      ]
     },
     "execution_count": 39,
     "metadata": {},
     "output_type": "execute_result"
    }
   ],
   "source": [
    "y[1]"
   ]
  },
  {
   "cell_type": "code",
   "execution_count": null,
   "metadata": {},
   "outputs": [],
   "source": []
  }
 ],
 "metadata": {
  "kernelspec": {
   "display_name": "Python 3",
   "language": "python",
   "name": "python3"
  },
  "language_info": {
   "codemirror_mode": {
    "name": "ipython",
    "version": 3
   },
   "file_extension": ".py",
   "mimetype": "text/x-python",
   "name": "python",
   "nbconvert_exporter": "python",
   "pygments_lexer": "ipython3",
   "version": "3.6.7"
  }
 },
 "nbformat": 4,
 "nbformat_minor": 2
}
