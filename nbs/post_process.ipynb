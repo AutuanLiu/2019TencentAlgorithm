{
 "cells": [
  {
   "cell_type": "code",
   "execution_count": 2,
   "metadata": {},
   "outputs": [],
   "source": [
    "%matplotlib inline\n",
    "%reload_ext autoreload\n",
    "%autoreload 2\n",
    "# 多行输出\n",
    "from IPython.core.interactiveshell import InteractiveShell\n",
    "InteractiveShell.ast_node_interactivity = \"all\""
   ]
  },
  {
   "cell_type": "markdown",
   "metadata": {},
   "source": [
    "## 数据集的后处理"
   ]
  },
  {
   "cell_type": "code",
   "execution_count": 3,
   "metadata": {},
   "outputs": [],
   "source": [
    "import pandas as pd\n",
    "import numpy as np"
   ]
  },
  {
   "cell_type": "code",
   "execution_count": 4,
   "metadata": {},
   "outputs": [],
   "source": [
    "test = pd.read_csv('../data/test_set.csv', low_memory=False, encoding='utf-8')\n",
    "train = pd.read_csv('../data/train_set.csv', low_memory=False, encoding='utf-8')"
   ]
  },
  {
   "cell_type": "code",
   "execution_count": 5,
   "metadata": {},
   "outputs": [
    {
     "data": {
      "text/html": [
       "<div>\n",
       "<style scoped>\n",
       "    .dataframe tbody tr th:only-of-type {\n",
       "        vertical-align: middle;\n",
       "    }\n",
       "\n",
       "    .dataframe tbody tr th {\n",
       "        vertical-align: top;\n",
       "    }\n",
       "\n",
       "    .dataframe thead th {\n",
       "        text-align: right;\n",
       "    }\n",
       "</style>\n",
       "<table border=\"1\" class=\"dataframe\">\n",
       "  <thead>\n",
       "    <tr style=\"text-align: right;\">\n",
       "      <th></th>\n",
       "      <th>样本id</th>\n",
       "      <th>广告id</th>\n",
       "      <th>素材尺寸</th>\n",
       "      <th>广告行业id</th>\n",
       "      <th>商品类型</th>\n",
       "      <th>商品id</th>\n",
       "      <th>广告账户id</th>\n",
       "      <th>is_all_field</th>\n",
       "      <th>time</th>\n",
       "      <th>has_product_id</th>\n",
       "      <th>...</th>\n",
       "      <th>crt_dateIs_month_start</th>\n",
       "      <th>crt_dateIs_quarter_end</th>\n",
       "      <th>crt_dateIs_quarter_start</th>\n",
       "      <th>crt_dateIs_year_end</th>\n",
       "      <th>crt_dateIs_year_start</th>\n",
       "      <th>crt_dateHour</th>\n",
       "      <th>crt_dateMinute</th>\n",
       "      <th>crt_dateSecond</th>\n",
       "      <th>crt_dateElapsed</th>\n",
       "      <th>price</th>\n",
       "    </tr>\n",
       "  </thead>\n",
       "  <tbody>\n",
       "    <tr>\n",
       "      <th>0</th>\n",
       "      <td>1</td>\n",
       "      <td>394352</td>\n",
       "      <td>34</td>\n",
       "      <td>84</td>\n",
       "      <td>13</td>\n",
       "      <td>29663</td>\n",
       "      <td>26657</td>\n",
       "      <td>False</td>\n",
       "      <td>281474976645120,281474976645120,28147497664512...</td>\n",
       "      <td>True</td>\n",
       "      <td>...</td>\n",
       "      <td>False</td>\n",
       "      <td>False</td>\n",
       "      <td>False</td>\n",
       "      <td>False</td>\n",
       "      <td>False</td>\n",
       "      <td>6</td>\n",
       "      <td>20</td>\n",
       "      <td>12</td>\n",
       "      <td>1529648412</td>\n",
       "      <td>120</td>\n",
       "    </tr>\n",
       "    <tr>\n",
       "      <th>1</th>\n",
       "      <td>2</td>\n",
       "      <td>585401</td>\n",
       "      <td>40</td>\n",
       "      <td>221</td>\n",
       "      <td>1</td>\n",
       "      <td>-1</td>\n",
       "      <td>6262</td>\n",
       "      <td>False</td>\n",
       "      <td>281474976579587,281474976579587,28147497657958...</td>\n",
       "      <td>False</td>\n",
       "      <td>...</td>\n",
       "      <td>False</td>\n",
       "      <td>False</td>\n",
       "      <td>False</td>\n",
       "      <td>False</td>\n",
       "      <td>False</td>\n",
       "      <td>10</td>\n",
       "      <td>3</td>\n",
       "      <td>10</td>\n",
       "      <td>1553076190</td>\n",
       "      <td>42</td>\n",
       "    </tr>\n",
       "    <tr>\n",
       "      <th>2</th>\n",
       "      <td>3</td>\n",
       "      <td>419408</td>\n",
       "      <td>30</td>\n",
       "      <td>122</td>\n",
       "      <td>13</td>\n",
       "      <td>32110</td>\n",
       "      <td>17436</td>\n",
       "      <td>True</td>\n",
       "      <td>17592185782272,17592185782272,17592185782272,1...</td>\n",
       "      <td>True</td>\n",
       "      <td>...</td>\n",
       "      <td>False</td>\n",
       "      <td>False</td>\n",
       "      <td>False</td>\n",
       "      <td>False</td>\n",
       "      <td>False</td>\n",
       "      <td>21</td>\n",
       "      <td>36</td>\n",
       "      <td>34</td>\n",
       "      <td>1553031394</td>\n",
       "      <td>6</td>\n",
       "    </tr>\n",
       "    <tr>\n",
       "      <th>3</th>\n",
       "      <td>4</td>\n",
       "      <td>405326</td>\n",
       "      <td>64</td>\n",
       "      <td>136</td>\n",
       "      <td>1</td>\n",
       "      <td>-1</td>\n",
       "      <td>22359</td>\n",
       "      <td>False</td>\n",
       "      <td>281474976694272,281474976694272,28147497669427...</td>\n",
       "      <td>False</td>\n",
       "      <td>...</td>\n",
       "      <td>False</td>\n",
       "      <td>False</td>\n",
       "      <td>False</td>\n",
       "      <td>False</td>\n",
       "      <td>False</td>\n",
       "      <td>7</td>\n",
       "      <td>13</td>\n",
       "      <td>56</td>\n",
       "      <td>1553238836</td>\n",
       "      <td>181</td>\n",
       "    </tr>\n",
       "    <tr>\n",
       "      <th>4</th>\n",
       "      <td>5</td>\n",
       "      <td>578942</td>\n",
       "      <td>34</td>\n",
       "      <td>12</td>\n",
       "      <td>13</td>\n",
       "      <td>6372</td>\n",
       "      <td>24082</td>\n",
       "      <td>False</td>\n",
       "      <td>68719214592,68719214592,68719214592,6871921459...</td>\n",
       "      <td>True</td>\n",
       "      <td>...</td>\n",
       "      <td>False</td>\n",
       "      <td>False</td>\n",
       "      <td>False</td>\n",
       "      <td>False</td>\n",
       "      <td>False</td>\n",
       "      <td>20</td>\n",
       "      <td>46</td>\n",
       "      <td>25</td>\n",
       "      <td>1541191585</td>\n",
       "      <td>31</td>\n",
       "    </tr>\n",
       "  </tbody>\n",
       "</table>\n",
       "<p>5 rows × 37 columns</p>\n",
       "</div>"
      ],
      "text/plain": [
       "   样本id    广告id  素材尺寸  广告行业id  商品类型   商品id  广告账户id  is_all_field  \\\n",
       "0     1  394352    34      84    13  29663   26657         False   \n",
       "1     2  585401    40     221     1     -1    6262         False   \n",
       "2     3  419408    30     122    13  32110   17436          True   \n",
       "3     4  405326    64     136     1     -1   22359         False   \n",
       "4     5  578942    34      12    13   6372   24082         False   \n",
       "\n",
       "                                                time  has_product_id  ...  \\\n",
       "0  281474976645120,281474976645120,28147497664512...            True  ...   \n",
       "1  281474976579587,281474976579587,28147497657958...           False  ...   \n",
       "2  17592185782272,17592185782272,17592185782272,1...            True  ...   \n",
       "3  281474976694272,281474976694272,28147497669427...           False  ...   \n",
       "4  68719214592,68719214592,68719214592,6871921459...            True  ...   \n",
       "\n",
       "  crt_dateIs_month_start crt_dateIs_quarter_end crt_dateIs_quarter_start  \\\n",
       "0                  False                  False                    False   \n",
       "1                  False                  False                    False   \n",
       "2                  False                  False                    False   \n",
       "3                  False                  False                    False   \n",
       "4                  False                  False                    False   \n",
       "\n",
       "  crt_dateIs_year_end  crt_dateIs_year_start crt_dateHour crt_dateMinute  \\\n",
       "0               False                  False            6             20   \n",
       "1               False                  False           10              3   \n",
       "2               False                  False           21             36   \n",
       "3               False                  False            7             13   \n",
       "4               False                  False           20             46   \n",
       "\n",
       "  crt_dateSecond crt_dateElapsed price  \n",
       "0             12      1529648412   120  \n",
       "1             10      1553076190    42  \n",
       "2             34      1553031394     6  \n",
       "3             56      1553238836   181  \n",
       "4             25      1541191585    31  \n",
       "\n",
       "[5 rows x 37 columns]"
      ]
     },
     "execution_count": 5,
     "metadata": {},
     "output_type": "execute_result"
    },
    {
     "data": {
      "text/html": [
       "<div>\n",
       "<style scoped>\n",
       "    .dataframe tbody tr th:only-of-type {\n",
       "        vertical-align: middle;\n",
       "    }\n",
       "\n",
       "    .dataframe tbody tr th {\n",
       "        vertical-align: top;\n",
       "    }\n",
       "\n",
       "    .dataframe thead th {\n",
       "        text-align: right;\n",
       "    }\n",
       "</style>\n",
       "<table border=\"1\" class=\"dataframe\">\n",
       "  <thead>\n",
       "    <tr style=\"text-align: right;\">\n",
       "      <th></th>\n",
       "      <th>age</th>\n",
       "      <th>area</th>\n",
       "      <th>behavior</th>\n",
       "      <th>cnt</th>\n",
       "      <th>connectionType</th>\n",
       "      <th>consuptionAbility</th>\n",
       "      <th>device</th>\n",
       "      <th>education</th>\n",
       "      <th>gender</th>\n",
       "      <th>price</th>\n",
       "      <th>...</th>\n",
       "      <th>crt_dateIs_quarter_end</th>\n",
       "      <th>crt_dateIs_quarter_start</th>\n",
       "      <th>crt_dateIs_year_end</th>\n",
       "      <th>crt_dateIs_year_start</th>\n",
       "      <th>crt_dateHour</th>\n",
       "      <th>crt_dateMinute</th>\n",
       "      <th>crt_dateSecond</th>\n",
       "      <th>crt_dateElapsed</th>\n",
       "      <th>is_all_field</th>\n",
       "      <th>has_product_id</th>\n",
       "    </tr>\n",
       "  </thead>\n",
       "  <tbody>\n",
       "    <tr>\n",
       "      <th>0</th>\n",
       "      <td>-999</td>\n",
       "      <td>-999</td>\n",
       "      <td>-999</td>\n",
       "      <td>3</td>\n",
       "      <td>-999</td>\n",
       "      <td>-999</td>\n",
       "      <td>-999</td>\n",
       "      <td>-999</td>\n",
       "      <td>-999.0</td>\n",
       "      <td>44.0</td>\n",
       "      <td>...</td>\n",
       "      <td>False</td>\n",
       "      <td>False</td>\n",
       "      <td>False</td>\n",
       "      <td>False</td>\n",
       "      <td>6</td>\n",
       "      <td>14</td>\n",
       "      <td>44</td>\n",
       "      <td>1460528084</td>\n",
       "      <td>False</td>\n",
       "      <td>False</td>\n",
       "    </tr>\n",
       "    <tr>\n",
       "      <th>1</th>\n",
       "      <td>-999.0</td>\n",
       "      <td>-999.0</td>\n",
       "      <td>-999.0</td>\n",
       "      <td>3</td>\n",
       "      <td>-999.0</td>\n",
       "      <td>-999.0</td>\n",
       "      <td>2</td>\n",
       "      <td>-999.0</td>\n",
       "      <td>-999.0</td>\n",
       "      <td>-999.0</td>\n",
       "      <td>...</td>\n",
       "      <td>False</td>\n",
       "      <td>False</td>\n",
       "      <td>False</td>\n",
       "      <td>False</td>\n",
       "      <td>7</td>\n",
       "      <td>25</td>\n",
       "      <td>17</td>\n",
       "      <td>1464161117</td>\n",
       "      <td>False</td>\n",
       "      <td>True</td>\n",
       "    </tr>\n",
       "    <tr>\n",
       "      <th>2</th>\n",
       "      <td>-9</td>\n",
       "      <td>-9</td>\n",
       "      <td>-9</td>\n",
       "      <td>3</td>\n",
       "      <td>-9</td>\n",
       "      <td>-9</td>\n",
       "      <td>-9</td>\n",
       "      <td>-9</td>\n",
       "      <td>-9.0</td>\n",
       "      <td>-999.0</td>\n",
       "      <td>...</td>\n",
       "      <td>False</td>\n",
       "      <td>False</td>\n",
       "      <td>False</td>\n",
       "      <td>False</td>\n",
       "      <td>2</td>\n",
       "      <td>35</td>\n",
       "      <td>46</td>\n",
       "      <td>1472697346</td>\n",
       "      <td>True</td>\n",
       "      <td>False</td>\n",
       "    </tr>\n",
       "    <tr>\n",
       "      <th>3</th>\n",
       "      <td>-999</td>\n",
       "      <td>-999</td>\n",
       "      <td>-999</td>\n",
       "      <td>3</td>\n",
       "      <td>-999</td>\n",
       "      <td>-999</td>\n",
       "      <td>-999</td>\n",
       "      <td>-999</td>\n",
       "      <td>-999.0</td>\n",
       "      <td>49.0</td>\n",
       "      <td>...</td>\n",
       "      <td>False</td>\n",
       "      <td>False</td>\n",
       "      <td>False</td>\n",
       "      <td>False</td>\n",
       "      <td>7</td>\n",
       "      <td>54</td>\n",
       "      <td>44</td>\n",
       "      <td>1478678084</td>\n",
       "      <td>False</td>\n",
       "      <td>False</td>\n",
       "    </tr>\n",
       "    <tr>\n",
       "      <th>4</th>\n",
       "      <td>-999</td>\n",
       "      <td>-999</td>\n",
       "      <td>-999</td>\n",
       "      <td>3</td>\n",
       "      <td>-999</td>\n",
       "      <td>-999</td>\n",
       "      <td>-999</td>\n",
       "      <td>-999</td>\n",
       "      <td>-999.0</td>\n",
       "      <td>30.0</td>\n",
       "      <td>...</td>\n",
       "      <td>False</td>\n",
       "      <td>False</td>\n",
       "      <td>False</td>\n",
       "      <td>False</td>\n",
       "      <td>2</td>\n",
       "      <td>39</td>\n",
       "      <td>19</td>\n",
       "      <td>1480387159</td>\n",
       "      <td>False</td>\n",
       "      <td>False</td>\n",
       "    </tr>\n",
       "  </tbody>\n",
       "</table>\n",
       "<p>5 rows × 40 columns</p>\n",
       "</div>"
      ],
      "text/plain": [
       "      age    area behavior  cnt connectionType consuptionAbility device  \\\n",
       "0    -999    -999     -999    3           -999              -999   -999   \n",
       "1  -999.0  -999.0   -999.0    3         -999.0            -999.0      2   \n",
       "2      -9      -9       -9    3             -9                -9     -9   \n",
       "3    -999    -999     -999    3           -999              -999   -999   \n",
       "4    -999    -999     -999    3           -999              -999   -999   \n",
       "\n",
       "  education  gender  price  ...  crt_dateIs_quarter_end  \\\n",
       "0      -999  -999.0   44.0  ...                   False   \n",
       "1    -999.0  -999.0 -999.0  ...                   False   \n",
       "2        -9    -9.0 -999.0  ...                   False   \n",
       "3      -999  -999.0   49.0  ...                   False   \n",
       "4      -999  -999.0   30.0  ...                   False   \n",
       "\n",
       "  crt_dateIs_quarter_start crt_dateIs_year_end crt_dateIs_year_start  \\\n",
       "0                    False               False                 False   \n",
       "1                    False               False                 False   \n",
       "2                    False               False                 False   \n",
       "3                    False               False                 False   \n",
       "4                    False               False                 False   \n",
       "\n",
       "   crt_dateHour  crt_dateMinute  crt_dateSecond  crt_dateElapsed  \\\n",
       "0             6              14              44       1460528084   \n",
       "1             7              25              17       1464161117   \n",
       "2             2              35              46       1472697346   \n",
       "3             7              54              44       1478678084   \n",
       "4             2              39              19       1480387159   \n",
       "\n",
       "   is_all_field  has_product_id  \n",
       "0         False           False  \n",
       "1         False            True  \n",
       "2          True           False  \n",
       "3         False           False  \n",
       "4         False           False  \n",
       "\n",
       "[5 rows x 40 columns]"
      ]
     },
     "execution_count": 5,
     "metadata": {},
     "output_type": "execute_result"
    }
   ],
   "source": [
    "test.head()\n",
    "train.head()"
   ]
  },
  {
   "cell_type": "code",
   "execution_count": 6,
   "metadata": {},
   "outputs": [
    {
     "data": {
      "text/plain": [
       "Index(['样本id', '广告id', '素材尺寸', '广告行业id', '商品类型', '商品id', '广告账户id',\n",
       "       'is_all_field', 'time', 'has_product_id', 'age', 'area', 'behavior',\n",
       "       'connectionType', 'consuptionAbility', 'device', 'education', 'gender',\n",
       "       'status', 'work', 'crt_dateYear', 'crt_dateMonth', 'crt_dateWeek',\n",
       "       'crt_dateDay', 'crt_dateDayofweek', 'crt_dateDayofyear',\n",
       "       'crt_dateIs_month_end', 'crt_dateIs_month_start',\n",
       "       'crt_dateIs_quarter_end', 'crt_dateIs_quarter_start',\n",
       "       'crt_dateIs_year_end', 'crt_dateIs_year_start', 'crt_dateHour',\n",
       "       'crt_dateMinute', 'crt_dateSecond', 'crt_dateElapsed', 'price'],\n",
       "      dtype='object')"
      ]
     },
     "execution_count": 6,
     "metadata": {},
     "output_type": "execute_result"
    },
    {
     "data": {
      "text/plain": [
       "Index(['age', 'area', 'behavior', 'cnt', 'connectionType', 'consuptionAbility',\n",
       "       'device', 'education', 'gender', 'price', 'state', 'status', 'time',\n",
       "       'work', '商品id', '商品类型', '广告id', '广告行业id', '广告账户id', '曝光广告id', '曝光量',\n",
       "       '素材尺寸', 'crt_dateYear', 'crt_dateMonth', 'crt_dateWeek', 'crt_dateDay',\n",
       "       'crt_dateDayofweek', 'crt_dateDayofyear', 'crt_dateIs_month_end',\n",
       "       'crt_dateIs_month_start', 'crt_dateIs_quarter_end',\n",
       "       'crt_dateIs_quarter_start', 'crt_dateIs_year_end',\n",
       "       'crt_dateIs_year_start', 'crt_dateHour', 'crt_dateMinute',\n",
       "       'crt_dateSecond', 'crt_dateElapsed', 'is_all_field', 'has_product_id'],\n",
       "      dtype='object')"
      ]
     },
     "execution_count": 6,
     "metadata": {},
     "output_type": "execute_result"
    }
   ],
   "source": [
    "test.columns\n",
    "train.columns"
   ]
  },
  {
   "cell_type": "code",
   "execution_count": 7,
   "metadata": {},
   "outputs": [],
   "source": [
    "test_id = ['样本id']\n",
    "train_id = ['曝光量']"
   ]
  },
  {
   "cell_type": "code",
   "execution_count": 8,
   "metadata": {},
   "outputs": [],
   "source": [
    "v_cols = ['广告id', '广告行业id', '广告账户id', '商品id', '商品类型', '素材尺寸', 'is_all_field', 'has_product_id', 'time', 'age', 'area', 'behavior',\n",
    "          'connectionType', 'consuptionAbility', 'device', 'education', 'gender', 'status', 'work', 'price', 'crt_dateYear', 'crt_dateMonth', \n",
    "          'crt_dateWeek', 'crt_dateDay', 'crt_dateDayofweek', 'crt_dateDayofyear', 'crt_dateIs_month_end', 'crt_dateIs_month_start',\n",
    "          'crt_dateIs_quarter_end', 'crt_dateIs_quarter_start', 'crt_dateIs_year_end', 'crt_dateIs_year_start', 'crt_dateHour', 'crt_dateElapsed']"
   ]
  },
  {
   "cell_type": "code",
   "execution_count": 9,
   "metadata": {},
   "outputs": [],
   "source": [
    "test = test[test_id + v_cols]\n",
    "train = train[v_cols + train_id]"
   ]
  },
  {
   "cell_type": "code",
   "execution_count": 10,
   "metadata": {},
   "outputs": [
    {
     "data": {
      "text/plain": [
       "Index(['样本id', '广告id', '广告行业id', '广告账户id', '商品id', '商品类型', '素材尺寸',\n",
       "       'is_all_field', 'has_product_id', 'time', 'age', 'area', 'behavior',\n",
       "       'connectionType', 'consuptionAbility', 'device', 'education', 'gender',\n",
       "       'status', 'work', 'price', 'crt_dateYear', 'crt_dateMonth',\n",
       "       'crt_dateWeek', 'crt_dateDay', 'crt_dateDayofweek', 'crt_dateDayofyear',\n",
       "       'crt_dateIs_month_end', 'crt_dateIs_month_start',\n",
       "       'crt_dateIs_quarter_end', 'crt_dateIs_quarter_start',\n",
       "       'crt_dateIs_year_end', 'crt_dateIs_year_start', 'crt_dateHour',\n",
       "       'crt_dateElapsed'],\n",
       "      dtype='object')"
      ]
     },
     "execution_count": 10,
     "metadata": {},
     "output_type": "execute_result"
    },
    {
     "data": {
      "text/plain": [
       "Index(['广告id', '广告行业id', '广告账户id', '商品id', '商品类型', '素材尺寸', 'is_all_field',\n",
       "       'has_product_id', 'time', 'age', 'area', 'behavior', 'connectionType',\n",
       "       'consuptionAbility', 'device', 'education', 'gender', 'status', 'work',\n",
       "       'price', 'crt_dateYear', 'crt_dateMonth', 'crt_dateWeek', 'crt_dateDay',\n",
       "       'crt_dateDayofweek', 'crt_dateDayofyear', 'crt_dateIs_month_end',\n",
       "       'crt_dateIs_month_start', 'crt_dateIs_quarter_end',\n",
       "       'crt_dateIs_quarter_start', 'crt_dateIs_year_end',\n",
       "       'crt_dateIs_year_start', 'crt_dateHour', 'crt_dateElapsed', '曝光量'],\n",
       "      dtype='object')"
      ]
     },
     "execution_count": 10,
     "metadata": {},
     "output_type": "execute_result"
    }
   ],
   "source": [
    "test.columns\n",
    "train.columns"
   ]
  },
  {
   "cell_type": "code",
   "execution_count": 11,
   "metadata": {},
   "outputs": [],
   "source": [
    "for i in ['素材尺寸']:\n",
    "    train[i] = train[i].astype('int64')\n",
    "test['price'] = test['price'].astype('float64')"
   ]
  },
  {
   "cell_type": "code",
   "execution_count": 12,
   "metadata": {},
   "outputs": [],
   "source": [
    "def fx(x):\n",
    "    if x == '-999.0' or x == '-999' or x == -999.0 or x == -999:\n",
    "        return -999\n",
    "    else:\n",
    "        return x"
   ]
  },
  {
   "cell_type": "code",
   "execution_count": 13,
   "metadata": {},
   "outputs": [],
   "source": [
    "def fx1(x):\n",
    "    if x + 999 < 1e-6:\n",
    "        return np.nan\n",
    "    else:\n",
    "        return x"
   ]
  },
  {
   "cell_type": "code",
   "execution_count": 14,
   "metadata": {},
   "outputs": [],
   "source": [
    "test['consuptionAbility'] = test['consuptionAbility'].astype('object')"
   ]
  },
  {
   "cell_type": "code",
   "execution_count": 15,
   "metadata": {},
   "outputs": [],
   "source": [
    "for i in v_cols:\n",
    "    train[i] = train[i].apply(fx)\n",
    "    test[i] = test[i].apply(fx)"
   ]
  },
  {
   "cell_type": "code",
   "execution_count": 16,
   "metadata": {},
   "outputs": [
    {
     "data": {
      "text/plain": [
       "0     44.0\n",
       "1   -999.0\n",
       "2   -999.0\n",
       "3     49.0\n",
       "4     30.0\n",
       "Name: price, dtype: float64"
      ]
     },
     "execution_count": 16,
     "metadata": {},
     "output_type": "execute_result"
    }
   ],
   "source": [
    "train['price'].head()"
   ]
  },
  {
   "cell_type": "markdown",
   "metadata": {},
   "source": [
    "## 变量名英文"
   ]
  },
  {
   "cell_type": "code",
   "execution_count": 17,
   "metadata": {},
   "outputs": [],
   "source": [
    "cz = ['广告id', '广告行业id', '广告账户id', '商品id', '商品类型', '素材尺寸']\n",
    "ez = ['ad_id', 'ad_type_id', 'ad_account_id', 'item_id', 'item_type', 'size']\n",
    "v_cols = ['ad_id', 'ad_type_id', 'ad_account_id', 'item_id', 'item_type', 'size', 'is_all_field', 'has_product_id', 'has_price', 'time', 'age', 'area', 'behavior',\n",
    "          'connectionType', 'consuptionAbility', 'device', 'education', 'gender', 'status', 'work', 'price', 'crt_dateYear', 'crt_dateMonth', \n",
    "          'crt_dateWeek', 'crt_dateDay', 'crt_dateDayofweek', 'crt_dateDayofyear', 'crt_dateIs_month_end', 'crt_dateIs_month_start',\n",
    "          'crt_dateIs_quarter_end', 'crt_dateIs_quarter_start', 'crt_dateIs_year_end', 'crt_dateIs_year_start', 'crt_dateHour', 'crt_dateElapsed']\n",
    "test_id = ['sample_id']\n",
    "train_id = ['target']"
   ]
  },
  {
   "cell_type": "code",
   "execution_count": 18,
   "metadata": {},
   "outputs": [],
   "source": [
    "train['price'] = train['price'].apply(fx1)\n",
    "test['price'] = test['price'].apply(fx1)"
   ]
  },
  {
   "cell_type": "code",
   "execution_count": 19,
   "metadata": {},
   "outputs": [
    {
     "data": {
      "text/plain": [
       "0    44.0\n",
       "1     NaN\n",
       "2     NaN\n",
       "3    49.0\n",
       "4    30.0\n",
       "Name: price, dtype: float64"
      ]
     },
     "execution_count": 19,
     "metadata": {},
     "output_type": "execute_result"
    }
   ],
   "source": [
    "train['price'].head()"
   ]
  },
  {
   "cell_type": "markdown",
   "metadata": {},
   "source": [
    "- 由于是数值 所以我们使用中值填充"
   ]
  },
  {
   "cell_type": "code",
   "execution_count": 20,
   "metadata": {},
   "outputs": [
    {
     "data": {
      "text/plain": [
       "0    100.0\n",
       "dtype: float64"
      ]
     },
     "execution_count": 20,
     "metadata": {},
     "output_type": "execute_result"
    }
   ],
   "source": [
    "fill_v = train['price'].mode()\n",
    "fill_v"
   ]
  },
  {
   "cell_type": "code",
   "execution_count": 21,
   "metadata": {},
   "outputs": [],
   "source": [
    "fill_v = train['price'].mode()"
   ]
  },
  {
   "cell_type": "code",
   "execution_count": 22,
   "metadata": {},
   "outputs": [],
   "source": [
    "train['has_price'] = train['price'].isna()\n",
    "test['has_price'] = test['price'].isna()"
   ]
  },
  {
   "cell_type": "code",
   "execution_count": 23,
   "metadata": {},
   "outputs": [
    {
     "data": {
      "text/plain": [
       "100.0"
      ]
     },
     "execution_count": 23,
     "metadata": {},
     "output_type": "execute_result"
    }
   ],
   "source": [
    "fill_v[0]"
   ]
  },
  {
   "cell_type": "code",
   "execution_count": 24,
   "metadata": {},
   "outputs": [
    {
     "data": {
      "text/plain": [
       "0     44.0\n",
       "1    100.0\n",
       "2    100.0\n",
       "3     49.0\n",
       "4     30.0\n",
       "Name: price, dtype: float64"
      ]
     },
     "execution_count": 24,
     "metadata": {},
     "output_type": "execute_result"
    }
   ],
   "source": [
    "train['price'].fillna(fill_v[0], inplace=True)\n",
    "test['price'].fillna(fill_v[0], inplace=True)\n",
    "train['price'].head()"
   ]
  },
  {
   "cell_type": "code",
   "execution_count": 25,
   "metadata": {},
   "outputs": [],
   "source": [
    "train['target'] = train['曝光量'].apply(lambda x: np.log(1 + x))\n",
    "#train['price'] = train['price'].apply(lambda x: np.log(1 + x))\n",
    "#test['price'] = test['price'].apply(lambda x: np.log(1 + x))\n",
    "test['sample_id'] = test['样本id']\n",
    "for i, j in zip(cz, ez):\n",
    "    train[j], test[j] = train[i], test[i]\n",
    "train = train[v_cols + train_id]\n",
    "test = test[v_cols + test_id]"
   ]
  },
  {
   "cell_type": "code",
   "execution_count": null,
   "metadata": {},
   "outputs": [],
   "source": []
  },
  {
   "cell_type": "code",
   "execution_count": 26,
   "metadata": {},
   "outputs": [
    {
     "name": "stdout",
     "output_type": "stream",
     "text": [
      "<class 'pandas.core.frame.DataFrame'>\n",
      "RangeIndex: 20290 entries, 0 to 20289\n",
      "Data columns (total 36 columns):\n",
      "ad_id                       20290 non-null int64\n",
      "ad_type_id                  20290 non-null int64\n",
      "ad_account_id               20290 non-null int64\n",
      "item_id                     20290 non-null int64\n",
      "item_type                   20290 non-null int64\n",
      "size                        20290 non-null int64\n",
      "is_all_field                20290 non-null bool\n",
      "has_product_id              20290 non-null bool\n",
      "has_price                   20290 non-null bool\n",
      "time                        20290 non-null object\n",
      "age                         20290 non-null object\n",
      "area                        20290 non-null object\n",
      "behavior                    20290 non-null object\n",
      "connectionType              20290 non-null object\n",
      "consuptionAbility           20290 non-null int64\n",
      "device                      20290 non-null object\n",
      "education                   20290 non-null object\n",
      "gender                      20290 non-null object\n",
      "status                      20290 non-null object\n",
      "work                        20290 non-null object\n",
      "price                       20290 non-null float64\n",
      "crt_dateYear                20290 non-null int64\n",
      "crt_dateMonth               20290 non-null int64\n",
      "crt_dateWeek                20290 non-null int64\n",
      "crt_dateDay                 20290 non-null int64\n",
      "crt_dateDayofweek           20290 non-null int64\n",
      "crt_dateDayofyear           20290 non-null int64\n",
      "crt_dateIs_month_end        20290 non-null bool\n",
      "crt_dateIs_month_start      20290 non-null bool\n",
      "crt_dateIs_quarter_end      20290 non-null bool\n",
      "crt_dateIs_quarter_start    20290 non-null bool\n",
      "crt_dateIs_year_end         20290 non-null bool\n",
      "crt_dateIs_year_start       20290 non-null bool\n",
      "crt_dateHour                20290 non-null int64\n",
      "crt_dateElapsed             20290 non-null int64\n",
      "sample_id                   20290 non-null int64\n",
      "dtypes: bool(9), float64(1), int64(16), object(10)\n",
      "memory usage: 4.4+ MB\n",
      "<class 'pandas.core.frame.DataFrame'>\n",
      "RangeIndex: 210855 entries, 0 to 210854\n",
      "Data columns (total 36 columns):\n",
      "ad_id                       210855 non-null int64\n",
      "ad_type_id                  210855 non-null int64\n",
      "ad_account_id               210855 non-null int64\n",
      "item_id                     210855 non-null int64\n",
      "item_type                   210855 non-null int64\n",
      "size                        210855 non-null int64\n",
      "is_all_field                210855 non-null bool\n",
      "has_product_id              210855 non-null bool\n",
      "has_price                   210855 non-null bool\n",
      "time                        210855 non-null object\n",
      "age                         210855 non-null object\n",
      "area                        210855 non-null object\n",
      "behavior                    210855 non-null object\n",
      "connectionType              210855 non-null object\n",
      "consuptionAbility           210855 non-null object\n",
      "device                      210855 non-null object\n",
      "education                   210855 non-null object\n",
      "gender                      210855 non-null float64\n",
      "status                      210855 non-null object\n",
      "work                        210855 non-null object\n",
      "price                       210855 non-null float64\n",
      "crt_dateYear                210855 non-null int64\n",
      "crt_dateMonth               210855 non-null int64\n",
      "crt_dateWeek                210855 non-null int64\n",
      "crt_dateDay                 210855 non-null int64\n",
      "crt_dateDayofweek           210855 non-null int64\n",
      "crt_dateDayofyear           210855 non-null int64\n",
      "crt_dateIs_month_end        210855 non-null bool\n",
      "crt_dateIs_month_start      210855 non-null bool\n",
      "crt_dateIs_quarter_end      210855 non-null bool\n",
      "crt_dateIs_quarter_start    210855 non-null bool\n",
      "crt_dateIs_year_end         210855 non-null bool\n",
      "crt_dateIs_year_start       210855 non-null bool\n",
      "crt_dateHour                210855 non-null int64\n",
      "crt_dateElapsed             210855 non-null int64\n",
      "target                      210855 non-null float64\n",
      "dtypes: bool(9), float64(3), int64(14), object(10)\n",
      "memory usage: 45.2+ MB\n"
     ]
    }
   ],
   "source": [
    "test.info()\n",
    "train.info()"
   ]
  },
  {
   "cell_type": "code",
   "execution_count": 27,
   "metadata": {},
   "outputs": [
    {
     "name": "stdout",
     "output_type": "stream",
     "text": [
      "connectionType\n"
     ]
    },
    {
     "data": {
      "text/plain": [
       "-999         200018\n",
       "-9             8195\n",
       "2,4            1275\n",
       "2,3,4          1109\n",
       "2               117\n",
       "2,3,5,4          46\n",
       "2,3,5,4,1        40\n",
       "2,4,1            30\n",
       "2,3,4,1          11\n",
       "2,1               9\n",
       "4                 3\n",
       "3                 1\n",
       "2,3,5,1           1\n",
       "Name: connectionType, dtype: int64"
      ]
     },
     "execution_count": 27,
     "metadata": {},
     "output_type": "execute_result"
    },
    {
     "data": {
      "text/plain": [
       "-999         13682\n",
       "-9            5141\n",
       "2,4           1009\n",
       "2,4,3          257\n",
       "2,4,1,3        110\n",
       "2,4,5,1,3       41\n",
       "2               30\n",
       "2,1,4           20\n",
       "Name: connectionType, dtype: int64"
      ]
     },
     "execution_count": 27,
     "metadata": {},
     "output_type": "execute_result"
    },
    {
     "name": "stdout",
     "output_type": "stream",
     "text": [
      "consuptionAbility\n"
     ]
    },
    {
     "data": {
      "text/plain": [
       "-999    202254\n",
       "-9        8195\n",
       "3          404\n",
       "3,2          2\n",
       "Name: consuptionAbility, dtype: int64"
      ]
     },
     "execution_count": 27,
     "metadata": {},
     "output_type": "execute_result"
    },
    {
     "data": {
      "text/plain": [
       "-999    14938\n",
       "-9       5141\n",
       " 2        120\n",
       " 3         91\n",
       "Name: consuptionAbility, dtype: int64"
      ]
     },
     "execution_count": 27,
     "metadata": {},
     "output_type": "execute_result"
    },
    {
     "name": "stdout",
     "output_type": "stream",
     "text": [
      "device\n"
     ]
    },
    {
     "data": {
      "text/plain": [
       "-999           201871\n",
       "-9               8195\n",
       "3                 375\n",
       "3,2               216\n",
       "2                 156\n",
       "6,3,2              22\n",
       "4,1,5,3,2           6\n",
       "4,3,2               6\n",
       "4,3,5,2             2\n",
       "4,2                 2\n",
       "1,3,2               1\n",
       "1,5,6,3,2           1\n",
       "4,1,5,6,3,2         1\n",
       "6,2                 1\n",
       "Name: device, dtype: int64"
      ]
     },
     "execution_count": 27,
     "metadata": {},
     "output_type": "execute_result"
    },
    {
     "data": {
      "text/plain": [
       "-999     14866\n",
       "-9        5141\n",
       "4,2,3      130\n",
       "2           70\n",
       "2,3         42\n",
       "3           31\n",
       "6,2,3       10\n",
       "Name: device, dtype: int64"
      ]
     },
     "execution_count": 27,
     "metadata": {},
     "output_type": "execute_result"
    },
    {
     "name": "stdout",
     "output_type": "stream",
     "text": [
      "education\n"
     ]
    },
    {
     "data": {
      "text/plain": [
       "-999             199986\n",
       "-9                 8195\n",
       "1,5,4,7,8           566\n",
       "1,5,4,7             485\n",
       "7,2,3,8             208\n",
       "1,7,5,8             175\n",
       "1,4,5,6,8           174\n",
       "1,5,4,2,7,8         125\n",
       "5,2,3,7,8           113\n",
       "1,5,4,8             107\n",
       "7,5                 101\n",
       "2                    98\n",
       "1,5,4                80\n",
       "7,5,8                67\n",
       "7,2,8                41\n",
       "7,2,5,8              36\n",
       "1,5,4,2,8            34\n",
       "1,7,5                25\n",
       "1,5,4,2,3,7,8        25\n",
       "8                    25\n",
       "2,3,8                24\n",
       "1,7,4                20\n",
       "4                    19\n",
       "3,2                  16\n",
       "2,8                  16\n",
       "1,2,5,8              15\n",
       "5                    14\n",
       "1,5,4,2,3,8          13\n",
       "3                    10\n",
       "1,5,2,3,7,8           9\n",
       "7,8                   8\n",
       "5,8                   4\n",
       "1,4,5,6,7,8           3\n",
       "1                     3\n",
       "2,3,6,8               2\n",
       "7                     2\n",
       "7,3,8                 2\n",
       "5,7,4,8               2\n",
       "1,5                   2\n",
       "4,3                   1\n",
       "5,4,2,3,7,8           1\n",
       "1,4,5,6,2,3,8         1\n",
       "1,4                   1\n",
       "2,5,8                 1\n",
       "Name: education, dtype: int64"
      ]
     },
     "execution_count": 27,
     "metadata": {},
     "output_type": "execute_result"
    },
    {
     "data": {
      "text/plain": [
       "-999             13454\n",
       "-9                5141\n",
       "1,5,4,7            861\n",
       "8,3,2              180\n",
       "6,8,1,5,4          113\n",
       "8,7,1,5,4           92\n",
       "8,7,2               61\n",
       "1,5,4               50\n",
       "8,7,3,2             41\n",
       "5,8,7               40\n",
       "2,8,7,3,5           31\n",
       "1,5,7               21\n",
       "2,8,1,5,4           21\n",
       "2,8,7,1,5,4         20\n",
       "5                   20\n",
       "5,7                 20\n",
       "1,5,8,4             20\n",
       "1,5,8,2             11\n",
       "8                   11\n",
       "1,5                 11\n",
       "2,8,7,1,3,5,4       11\n",
       "1,5,8,7             10\n",
       "8,2                 10\n",
       "4,1,5,6             10\n",
       "2,6,8,1,3,5         10\n",
       "4                   10\n",
       "2,8,7,1,3,5         10\n",
       "Name: education, dtype: int64"
      ]
     },
     "execution_count": 27,
     "metadata": {},
     "output_type": "execute_result"
    },
    {
     "name": "stdout",
     "output_type": "stream",
     "text": [
      "gender\n"
     ]
    },
    {
     "data": {
      "text/plain": [
       "-999.0    198458\n",
       "-9.0        8195\n",
       " 3.0        2214\n",
       " 2.0        1988\n",
       "Name: gender, dtype: int64"
      ]
     },
     "execution_count": 27,
     "metadata": {},
     "output_type": "execute_result"
    },
    {
     "data": {
      "text/plain": [
       "-999     13464\n",
       "-9        5141\n",
       "2          945\n",
       "3          730\n",
       "3,1,2       10\n",
       "Name: gender, dtype: int64"
      ]
     },
     "execution_count": 27,
     "metadata": {},
     "output_type": "execute_result"
    },
    {
     "name": "stdout",
     "output_type": "stream",
     "text": [
      "status\n"
     ]
    },
    {
     "data": {
      "text/plain": [
       "-999                  199765\n",
       "-9                      8195\n",
       "13,9                    1638\n",
       "13,15,6,9                186\n",
       "15,6,9                   175\n",
       "13,5,9                   171\n",
       "6                         90\n",
       "15,6                      85\n",
       "14,15,7                   69\n",
       "15,7,6,9                  68\n",
       "7,11,9,2,5,15,6,14        59\n",
       "15,7,6                    51\n",
       "5,9                       41\n",
       "9                         36\n",
       "15,7                      26\n",
       "13,5,6,9                  23\n",
       "14,15,7,6                 20\n",
       "7,11,15,6,14              15\n",
       "13,5                      12\n",
       "13                        12\n",
       "7,11,9,2,15,6,14          10\n",
       "7,11,2,15,6,14            10\n",
       "2                         10\n",
       "11,2                       9\n",
       "14,7,11                    8\n",
       "13,9,8,5,3,18              8\n",
       "7,9,15,6,14                7\n",
       "13,15,6,1                  7\n",
       "14,7,17,1                  6\n",
       "1,7,11,6,14                6\n",
       "14,15,7,11                 4\n",
       "13,5,15,9                  3\n",
       "5,6,9                      3\n",
       "14,7                       3\n",
       "14,7,6,11                  3\n",
       "7                          2\n",
       "13,9,5,15,6                2\n",
       "5                          2\n",
       "13,6,9                     2\n",
       "14,11,2                    2\n",
       "7,11,9,15,6,14             1\n",
       "14                         1\n",
       "17,1,7,6,14                1\n",
       "14,7,6                     1\n",
       "3,6,9                      1\n",
       "13,7,9,5,15,6              1\n",
       "15                         1\n",
       "13,6                       1\n",
       "14,7,1                     1\n",
       "15,7,6,2                   1\n",
       "7,2,15,6,14                1\n",
       "Name: status, dtype: int64"
      ]
     },
     "execution_count": 27,
     "metadata": {},
     "output_type": "execute_result"
    },
    {
     "data": {
      "text/plain": [
       "-999                   14196\n",
       "-9                      5141\n",
       "13,9                     325\n",
       "15,7,6,9                 140\n",
       "15,13,6,9                113\n",
       "5,13,9                   108\n",
       "11,15,5,7,2,6,14,9        40\n",
       "15,6,9                    30\n",
       "15,6                      22\n",
       "11,15,7,2,6,14            20\n",
       "5,13                      20\n",
       "5,13,6,9                  20\n",
       "11,15,5,13,7,6,14,9       11\n",
       "5,9                       11\n",
       "13,6                      11\n",
       "15,7,14                   11\n",
       "15,13,6,1                 11\n",
       "15,4,13,9                 10\n",
       "7                         10\n",
       "11,15,7,2,6,14,9          10\n",
       "13,6,9                    10\n",
       "11,15,7,6,14,9            10\n",
       "4                         10\n",
       "Name: status, dtype: int64"
      ]
     },
     "execution_count": 27,
     "metadata": {},
     "output_type": "execute_result"
    },
    {
     "name": "stdout",
     "output_type": "stream",
     "text": [
      "work\n"
     ]
    },
    {
     "data": {
      "text/plain": [
       "-999         202570\n",
       "-9             8195\n",
       "6                83\n",
       "6,4,1,5,2         7\n",
       "Name: work, dtype: int64"
      ]
     },
     "execution_count": 27,
     "metadata": {},
     "output_type": "execute_result"
    },
    {
     "data": {
      "text/plain": [
       "-999         15085\n",
       "-9            5141\n",
       "6               53\n",
       "2,5,1,6,4       11\n",
       "Name: work, dtype: int64"
      ]
     },
     "execution_count": 27,
     "metadata": {},
     "output_type": "execute_result"
    }
   ],
   "source": [
    "cols3 = ['connectionType','consuptionAbility','device','education','gender','status','work']\n",
    "for i in cols3:\n",
    "    print(i)\n",
    "    train[i].value_counts()\n",
    "    test[i].value_counts()"
   ]
  },
  {
   "cell_type": "code",
   "execution_count": 28,
   "metadata": {},
   "outputs": [
    {
     "data": {
      "text/plain": [
       "-999           201871\n",
       "-9               8195\n",
       "3                 375\n",
       "3,2               216\n",
       "2                 156\n",
       "6,3,2              22\n",
       "4,1,5,3,2           6\n",
       "4,3,2               6\n",
       "4,3,5,2             2\n",
       "4,2                 2\n",
       "1,3,2               1\n",
       "1,5,6,3,2           1\n",
       "4,1,5,6,3,2         1\n",
       "6,2                 1\n",
       "Name: device, dtype: int64"
      ]
     },
     "execution_count": 28,
     "metadata": {},
     "output_type": "execute_result"
    },
    {
     "data": {
      "text/plain": [
       "-999     14866\n",
       "-9        5141\n",
       "4,2,3      130\n",
       "2           70\n",
       "2,3         42\n",
       "3           31\n",
       "6,2,3       10\n",
       "Name: device, dtype: int64"
      ]
     },
     "execution_count": 28,
     "metadata": {},
     "output_type": "execute_result"
    }
   ],
   "source": [
    "train['device'].value_counts()\n",
    "test['device'].value_counts()"
   ]
  },
  {
   "cell_type": "code",
   "execution_count": 29,
   "metadata": {},
   "outputs": [
    {
     "data": {
      "text/plain": [
       "14"
      ]
     },
     "execution_count": 29,
     "metadata": {},
     "output_type": "execute_result"
    }
   ],
   "source": [
    "train['device'].nunique()"
   ]
  },
  {
   "cell_type": "code",
   "execution_count": 30,
   "metadata": {},
   "outputs": [
    {
     "data": {
      "text/html": [
       "<div>\n",
       "<style scoped>\n",
       "    .dataframe tbody tr th:only-of-type {\n",
       "        vertical-align: middle;\n",
       "    }\n",
       "\n",
       "    .dataframe tbody tr th {\n",
       "        vertical-align: top;\n",
       "    }\n",
       "\n",
       "    .dataframe thead th {\n",
       "        text-align: right;\n",
       "    }\n",
       "</style>\n",
       "<table border=\"1\" class=\"dataframe\">\n",
       "  <thead>\n",
       "    <tr style=\"text-align: right;\">\n",
       "      <th></th>\n",
       "      <th>0</th>\n",
       "      <th>1</th>\n",
       "      <th>2</th>\n",
       "      <th>3</th>\n",
       "      <th>4</th>\n",
       "    </tr>\n",
       "  </thead>\n",
       "  <tbody>\n",
       "    <tr>\n",
       "      <th>ad_id</th>\n",
       "      <td>153151</td>\n",
       "      <td>499398</td>\n",
       "      <td>671286</td>\n",
       "      <td>93356</td>\n",
       "      <td>152978</td>\n",
       "    </tr>\n",
       "    <tr>\n",
       "      <th>ad_type_id</th>\n",
       "      <td>71</td>\n",
       "      <td>120</td>\n",
       "      <td>12</td>\n",
       "      <td>33</td>\n",
       "      <td>118</td>\n",
       "    </tr>\n",
       "    <tr>\n",
       "      <th>ad_account_id</th>\n",
       "      <td>29388</td>\n",
       "      <td>3292</td>\n",
       "      <td>22035</td>\n",
       "      <td>3326</td>\n",
       "      <td>23511</td>\n",
       "    </tr>\n",
       "    <tr>\n",
       "      <th>item_id</th>\n",
       "      <td>-1</td>\n",
       "      <td>29679</td>\n",
       "      <td>-1</td>\n",
       "      <td>-1</td>\n",
       "      <td>-1</td>\n",
       "    </tr>\n",
       "    <tr>\n",
       "      <th>item_type</th>\n",
       "      <td>1</td>\n",
       "      <td>18</td>\n",
       "      <td>1</td>\n",
       "      <td>1</td>\n",
       "      <td>3</td>\n",
       "    </tr>\n",
       "    <tr>\n",
       "      <th>size</th>\n",
       "      <td>1</td>\n",
       "      <td>30</td>\n",
       "      <td>55</td>\n",
       "      <td>1</td>\n",
       "      <td>30</td>\n",
       "    </tr>\n",
       "    <tr>\n",
       "      <th>is_all_field</th>\n",
       "      <td>False</td>\n",
       "      <td>False</td>\n",
       "      <td>True</td>\n",
       "      <td>False</td>\n",
       "      <td>False</td>\n",
       "    </tr>\n",
       "    <tr>\n",
       "      <th>has_product_id</th>\n",
       "      <td>False</td>\n",
       "      <td>True</td>\n",
       "      <td>False</td>\n",
       "      <td>False</td>\n",
       "      <td>False</td>\n",
       "    </tr>\n",
       "    <tr>\n",
       "      <th>has_price</th>\n",
       "      <td>False</td>\n",
       "      <td>True</td>\n",
       "      <td>True</td>\n",
       "      <td>False</td>\n",
       "      <td>False</td>\n",
       "    </tr>\n",
       "    <tr>\n",
       "      <th>time</th>\n",
       "      <td>281474976710655,281474976710655,28147497671065...</td>\n",
       "      <td>281474976710655,281474976710655,28147497671065...</td>\n",
       "      <td>4398046494720,4398046494720,4398046494720,4398...</td>\n",
       "      <td>281474976710655,281474976710655,28147497671065...</td>\n",
       "      <td>281474976710655,281474976710655,28147497671065...</td>\n",
       "    </tr>\n",
       "    <tr>\n",
       "      <th>age</th>\n",
       "      <td>-999</td>\n",
       "      <td>-999</td>\n",
       "      <td>-9</td>\n",
       "      <td>-999</td>\n",
       "      <td>-999</td>\n",
       "    </tr>\n",
       "    <tr>\n",
       "      <th>area</th>\n",
       "      <td>-999</td>\n",
       "      <td>-999</td>\n",
       "      <td>-9</td>\n",
       "      <td>-999</td>\n",
       "      <td>-999</td>\n",
       "    </tr>\n",
       "    <tr>\n",
       "      <th>behavior</th>\n",
       "      <td>-999</td>\n",
       "      <td>-999</td>\n",
       "      <td>-9</td>\n",
       "      <td>-999</td>\n",
       "      <td>-999</td>\n",
       "    </tr>\n",
       "    <tr>\n",
       "      <th>connectionType</th>\n",
       "      <td>-999</td>\n",
       "      <td>-999</td>\n",
       "      <td>-9</td>\n",
       "      <td>-999</td>\n",
       "      <td>-999</td>\n",
       "    </tr>\n",
       "    <tr>\n",
       "      <th>consuptionAbility</th>\n",
       "      <td>-999</td>\n",
       "      <td>-999</td>\n",
       "      <td>-9</td>\n",
       "      <td>-999</td>\n",
       "      <td>-999</td>\n",
       "    </tr>\n",
       "    <tr>\n",
       "      <th>device</th>\n",
       "      <td>-999</td>\n",
       "      <td>2</td>\n",
       "      <td>-9</td>\n",
       "      <td>-999</td>\n",
       "      <td>-999</td>\n",
       "    </tr>\n",
       "    <tr>\n",
       "      <th>education</th>\n",
       "      <td>-999</td>\n",
       "      <td>-999</td>\n",
       "      <td>-9</td>\n",
       "      <td>-999</td>\n",
       "      <td>-999</td>\n",
       "    </tr>\n",
       "    <tr>\n",
       "      <th>gender</th>\n",
       "      <td>-999</td>\n",
       "      <td>-999</td>\n",
       "      <td>-9</td>\n",
       "      <td>-999</td>\n",
       "      <td>-999</td>\n",
       "    </tr>\n",
       "    <tr>\n",
       "      <th>status</th>\n",
       "      <td>-999</td>\n",
       "      <td>-999</td>\n",
       "      <td>-9</td>\n",
       "      <td>-999</td>\n",
       "      <td>-999</td>\n",
       "    </tr>\n",
       "    <tr>\n",
       "      <th>work</th>\n",
       "      <td>-999</td>\n",
       "      <td>-999</td>\n",
       "      <td>-9</td>\n",
       "      <td>-999</td>\n",
       "      <td>-999</td>\n",
       "    </tr>\n",
       "    <tr>\n",
       "      <th>price</th>\n",
       "      <td>44</td>\n",
       "      <td>100</td>\n",
       "      <td>100</td>\n",
       "      <td>49</td>\n",
       "      <td>30</td>\n",
       "    </tr>\n",
       "    <tr>\n",
       "      <th>crt_dateYear</th>\n",
       "      <td>2016</td>\n",
       "      <td>2016</td>\n",
       "      <td>2016</td>\n",
       "      <td>2016</td>\n",
       "      <td>2016</td>\n",
       "    </tr>\n",
       "    <tr>\n",
       "      <th>crt_dateMonth</th>\n",
       "      <td>4</td>\n",
       "      <td>5</td>\n",
       "      <td>9</td>\n",
       "      <td>11</td>\n",
       "      <td>11</td>\n",
       "    </tr>\n",
       "    <tr>\n",
       "      <th>crt_dateWeek</th>\n",
       "      <td>15</td>\n",
       "      <td>21</td>\n",
       "      <td>35</td>\n",
       "      <td>45</td>\n",
       "      <td>48</td>\n",
       "    </tr>\n",
       "    <tr>\n",
       "      <th>crt_dateDay</th>\n",
       "      <td>13</td>\n",
       "      <td>25</td>\n",
       "      <td>1</td>\n",
       "      <td>9</td>\n",
       "      <td>29</td>\n",
       "    </tr>\n",
       "    <tr>\n",
       "      <th>crt_dateDayofweek</th>\n",
       "      <td>2</td>\n",
       "      <td>2</td>\n",
       "      <td>3</td>\n",
       "      <td>2</td>\n",
       "      <td>1</td>\n",
       "    </tr>\n",
       "    <tr>\n",
       "      <th>crt_dateDayofyear</th>\n",
       "      <td>104</td>\n",
       "      <td>146</td>\n",
       "      <td>245</td>\n",
       "      <td>314</td>\n",
       "      <td>334</td>\n",
       "    </tr>\n",
       "    <tr>\n",
       "      <th>crt_dateIs_month_end</th>\n",
       "      <td>False</td>\n",
       "      <td>False</td>\n",
       "      <td>False</td>\n",
       "      <td>False</td>\n",
       "      <td>False</td>\n",
       "    </tr>\n",
       "    <tr>\n",
       "      <th>crt_dateIs_month_start</th>\n",
       "      <td>False</td>\n",
       "      <td>False</td>\n",
       "      <td>True</td>\n",
       "      <td>False</td>\n",
       "      <td>False</td>\n",
       "    </tr>\n",
       "    <tr>\n",
       "      <th>crt_dateIs_quarter_end</th>\n",
       "      <td>False</td>\n",
       "      <td>False</td>\n",
       "      <td>False</td>\n",
       "      <td>False</td>\n",
       "      <td>False</td>\n",
       "    </tr>\n",
       "    <tr>\n",
       "      <th>crt_dateIs_quarter_start</th>\n",
       "      <td>False</td>\n",
       "      <td>False</td>\n",
       "      <td>False</td>\n",
       "      <td>False</td>\n",
       "      <td>False</td>\n",
       "    </tr>\n",
       "    <tr>\n",
       "      <th>crt_dateIs_year_end</th>\n",
       "      <td>False</td>\n",
       "      <td>False</td>\n",
       "      <td>False</td>\n",
       "      <td>False</td>\n",
       "      <td>False</td>\n",
       "    </tr>\n",
       "    <tr>\n",
       "      <th>crt_dateIs_year_start</th>\n",
       "      <td>False</td>\n",
       "      <td>False</td>\n",
       "      <td>False</td>\n",
       "      <td>False</td>\n",
       "      <td>False</td>\n",
       "    </tr>\n",
       "    <tr>\n",
       "      <th>crt_dateHour</th>\n",
       "      <td>6</td>\n",
       "      <td>7</td>\n",
       "      <td>2</td>\n",
       "      <td>7</td>\n",
       "      <td>2</td>\n",
       "    </tr>\n",
       "    <tr>\n",
       "      <th>crt_dateElapsed</th>\n",
       "      <td>1460528084</td>\n",
       "      <td>1464161117</td>\n",
       "      <td>1472697346</td>\n",
       "      <td>1478678084</td>\n",
       "      <td>1480387159</td>\n",
       "    </tr>\n",
       "    <tr>\n",
       "      <th>target</th>\n",
       "      <td>0.693147</td>\n",
       "      <td>0.693147</td>\n",
       "      <td>1.94591</td>\n",
       "      <td>0.693147</td>\n",
       "      <td>0.693147</td>\n",
       "    </tr>\n",
       "  </tbody>\n",
       "</table>\n",
       "</div>"
      ],
      "text/plain": [
       "                                                                          0  \\\n",
       "ad_id                                                                153151   \n",
       "ad_type_id                                                               71   \n",
       "ad_account_id                                                         29388   \n",
       "item_id                                                                  -1   \n",
       "item_type                                                                 1   \n",
       "size                                                                      1   \n",
       "is_all_field                                                          False   \n",
       "has_product_id                                                        False   \n",
       "has_price                                                             False   \n",
       "time                      281474976710655,281474976710655,28147497671065...   \n",
       "age                                                                    -999   \n",
       "area                                                                   -999   \n",
       "behavior                                                               -999   \n",
       "connectionType                                                         -999   \n",
       "consuptionAbility                                                      -999   \n",
       "device                                                                 -999   \n",
       "education                                                              -999   \n",
       "gender                                                                 -999   \n",
       "status                                                                 -999   \n",
       "work                                                                   -999   \n",
       "price                                                                    44   \n",
       "crt_dateYear                                                           2016   \n",
       "crt_dateMonth                                                             4   \n",
       "crt_dateWeek                                                             15   \n",
       "crt_dateDay                                                              13   \n",
       "crt_dateDayofweek                                                         2   \n",
       "crt_dateDayofyear                                                       104   \n",
       "crt_dateIs_month_end                                                  False   \n",
       "crt_dateIs_month_start                                                False   \n",
       "crt_dateIs_quarter_end                                                False   \n",
       "crt_dateIs_quarter_start                                              False   \n",
       "crt_dateIs_year_end                                                   False   \n",
       "crt_dateIs_year_start                                                 False   \n",
       "crt_dateHour                                                              6   \n",
       "crt_dateElapsed                                                  1460528084   \n",
       "target                                                             0.693147   \n",
       "\n",
       "                                                                          1  \\\n",
       "ad_id                                                                499398   \n",
       "ad_type_id                                                              120   \n",
       "ad_account_id                                                          3292   \n",
       "item_id                                                               29679   \n",
       "item_type                                                                18   \n",
       "size                                                                     30   \n",
       "is_all_field                                                          False   \n",
       "has_product_id                                                         True   \n",
       "has_price                                                              True   \n",
       "time                      281474976710655,281474976710655,28147497671065...   \n",
       "age                                                                    -999   \n",
       "area                                                                   -999   \n",
       "behavior                                                               -999   \n",
       "connectionType                                                         -999   \n",
       "consuptionAbility                                                      -999   \n",
       "device                                                                    2   \n",
       "education                                                              -999   \n",
       "gender                                                                 -999   \n",
       "status                                                                 -999   \n",
       "work                                                                   -999   \n",
       "price                                                                   100   \n",
       "crt_dateYear                                                           2016   \n",
       "crt_dateMonth                                                             5   \n",
       "crt_dateWeek                                                             21   \n",
       "crt_dateDay                                                              25   \n",
       "crt_dateDayofweek                                                         2   \n",
       "crt_dateDayofyear                                                       146   \n",
       "crt_dateIs_month_end                                                  False   \n",
       "crt_dateIs_month_start                                                False   \n",
       "crt_dateIs_quarter_end                                                False   \n",
       "crt_dateIs_quarter_start                                              False   \n",
       "crt_dateIs_year_end                                                   False   \n",
       "crt_dateIs_year_start                                                 False   \n",
       "crt_dateHour                                                              7   \n",
       "crt_dateElapsed                                                  1464161117   \n",
       "target                                                             0.693147   \n",
       "\n",
       "                                                                          2  \\\n",
       "ad_id                                                                671286   \n",
       "ad_type_id                                                               12   \n",
       "ad_account_id                                                         22035   \n",
       "item_id                                                                  -1   \n",
       "item_type                                                                 1   \n",
       "size                                                                     55   \n",
       "is_all_field                                                           True   \n",
       "has_product_id                                                        False   \n",
       "has_price                                                              True   \n",
       "time                      4398046494720,4398046494720,4398046494720,4398...   \n",
       "age                                                                      -9   \n",
       "area                                                                     -9   \n",
       "behavior                                                                 -9   \n",
       "connectionType                                                           -9   \n",
       "consuptionAbility                                                        -9   \n",
       "device                                                                   -9   \n",
       "education                                                                -9   \n",
       "gender                                                                   -9   \n",
       "status                                                                   -9   \n",
       "work                                                                     -9   \n",
       "price                                                                   100   \n",
       "crt_dateYear                                                           2016   \n",
       "crt_dateMonth                                                             9   \n",
       "crt_dateWeek                                                             35   \n",
       "crt_dateDay                                                               1   \n",
       "crt_dateDayofweek                                                         3   \n",
       "crt_dateDayofyear                                                       245   \n",
       "crt_dateIs_month_end                                                  False   \n",
       "crt_dateIs_month_start                                                 True   \n",
       "crt_dateIs_quarter_end                                                False   \n",
       "crt_dateIs_quarter_start                                              False   \n",
       "crt_dateIs_year_end                                                   False   \n",
       "crt_dateIs_year_start                                                 False   \n",
       "crt_dateHour                                                              2   \n",
       "crt_dateElapsed                                                  1472697346   \n",
       "target                                                              1.94591   \n",
       "\n",
       "                                                                          3  \\\n",
       "ad_id                                                                 93356   \n",
       "ad_type_id                                                               33   \n",
       "ad_account_id                                                          3326   \n",
       "item_id                                                                  -1   \n",
       "item_type                                                                 1   \n",
       "size                                                                      1   \n",
       "is_all_field                                                          False   \n",
       "has_product_id                                                        False   \n",
       "has_price                                                             False   \n",
       "time                      281474976710655,281474976710655,28147497671065...   \n",
       "age                                                                    -999   \n",
       "area                                                                   -999   \n",
       "behavior                                                               -999   \n",
       "connectionType                                                         -999   \n",
       "consuptionAbility                                                      -999   \n",
       "device                                                                 -999   \n",
       "education                                                              -999   \n",
       "gender                                                                 -999   \n",
       "status                                                                 -999   \n",
       "work                                                                   -999   \n",
       "price                                                                    49   \n",
       "crt_dateYear                                                           2016   \n",
       "crt_dateMonth                                                            11   \n",
       "crt_dateWeek                                                             45   \n",
       "crt_dateDay                                                               9   \n",
       "crt_dateDayofweek                                                         2   \n",
       "crt_dateDayofyear                                                       314   \n",
       "crt_dateIs_month_end                                                  False   \n",
       "crt_dateIs_month_start                                                False   \n",
       "crt_dateIs_quarter_end                                                False   \n",
       "crt_dateIs_quarter_start                                              False   \n",
       "crt_dateIs_year_end                                                   False   \n",
       "crt_dateIs_year_start                                                 False   \n",
       "crt_dateHour                                                              7   \n",
       "crt_dateElapsed                                                  1478678084   \n",
       "target                                                             0.693147   \n",
       "\n",
       "                                                                          4  \n",
       "ad_id                                                                152978  \n",
       "ad_type_id                                                              118  \n",
       "ad_account_id                                                         23511  \n",
       "item_id                                                                  -1  \n",
       "item_type                                                                 3  \n",
       "size                                                                     30  \n",
       "is_all_field                                                          False  \n",
       "has_product_id                                                        False  \n",
       "has_price                                                             False  \n",
       "time                      281474976710655,281474976710655,28147497671065...  \n",
       "age                                                                    -999  \n",
       "area                                                                   -999  \n",
       "behavior                                                               -999  \n",
       "connectionType                                                         -999  \n",
       "consuptionAbility                                                      -999  \n",
       "device                                                                 -999  \n",
       "education                                                              -999  \n",
       "gender                                                                 -999  \n",
       "status                                                                 -999  \n",
       "work                                                                   -999  \n",
       "price                                                                    30  \n",
       "crt_dateYear                                                           2016  \n",
       "crt_dateMonth                                                            11  \n",
       "crt_dateWeek                                                             48  \n",
       "crt_dateDay                                                              29  \n",
       "crt_dateDayofweek                                                         1  \n",
       "crt_dateDayofyear                                                       334  \n",
       "crt_dateIs_month_end                                                  False  \n",
       "crt_dateIs_month_start                                                False  \n",
       "crt_dateIs_quarter_end                                                False  \n",
       "crt_dateIs_quarter_start                                              False  \n",
       "crt_dateIs_year_end                                                   False  \n",
       "crt_dateIs_year_start                                                 False  \n",
       "crt_dateHour                                                              2  \n",
       "crt_dateElapsed                                                  1480387159  \n",
       "target                                                             0.693147  "
      ]
     },
     "execution_count": 30,
     "metadata": {},
     "output_type": "execute_result"
    }
   ],
   "source": [
    "train.head().T"
   ]
  },
  {
   "cell_type": "markdown",
   "metadata": {},
   "source": [
    "### 保存数据集"
   ]
  },
  {
   "cell_type": "code",
   "execution_count": 31,
   "metadata": {},
   "outputs": [],
   "source": [
    "test.to_csv('../data/test_set_final.csv', index=None, encoding='utf-8')"
   ]
  },
  {
   "cell_type": "markdown",
   "metadata": {},
   "source": [
    "### 以下为无效测试"
   ]
  },
  {
   "cell_type": "code",
   "execution_count": 32,
   "metadata": {},
   "outputs": [],
   "source": [
    "def split(x):\n",
    "    x = str(x) if not isinstance(x, str) else x\n",
    "    key_ans = x.split(',')\n",
    "    for key in key_ans:\n",
    "        if key not in key2index:\n",
    "            # Notice : input value 0 is a special \"padding\",so we do not use 0 to encode valid feature for sequence input\n",
    "            key2index[key] = len(key2index) + 1\n",
    "    return list(map(lambda x: key2index[x], key_ans))"
   ]
  },
  {
   "cell_type": "code",
   "execution_count": 33,
   "metadata": {},
   "outputs": [
    {
     "data": {
      "text/plain": [
       "-999.0    198458\n",
       "-9.0        8195\n",
       " 3.0        2214\n",
       " 2.0        1988\n",
       "Name: gender, dtype: int64"
      ]
     },
     "execution_count": 33,
     "metadata": {},
     "output_type": "execute_result"
    }
   ],
   "source": [
    "train.gender.value_counts()"
   ]
  },
  {
   "cell_type": "code",
   "execution_count": 34,
   "metadata": {},
   "outputs": [
    {
     "data": {
      "text/plain": [
       "array([-999., -999.,   -9., ..., -999., -999., -999.])"
      ]
     },
     "execution_count": 34,
     "metadata": {},
     "output_type": "execute_result"
    }
   ],
   "source": [
    "train.gender.values"
   ]
  },
  {
   "cell_type": "code",
   "execution_count": 35,
   "metadata": {},
   "outputs": [],
   "source": [
    "key2index = {}\n",
    "gens = list(map(split, train.age.values))"
   ]
  },
  {
   "cell_type": "code",
   "execution_count": 36,
   "metadata": {},
   "outputs": [
    {
     "data": {
      "text/plain": [
       "997"
      ]
     },
     "execution_count": 36,
     "metadata": {},
     "output_type": "execute_result"
    }
   ],
   "source": [
    "len(key2index)"
   ]
  },
  {
   "cell_type": "code",
   "execution_count": 37,
   "metadata": {},
   "outputs": [
    {
     "data": {
      "text/plain": [
       "array([1, 3, 4, 0])"
      ]
     },
     "execution_count": 37,
     "metadata": {},
     "output_type": "execute_result"
    }
   ],
   "source": [
    "np.clip(np.array([1,3,4, -7]), 0, None)"
   ]
  },
  {
   "cell_type": "code",
   "execution_count": 38,
   "metadata": {},
   "outputs": [
    {
     "data": {
      "text/plain": [
       "4"
      ]
     },
     "execution_count": 38,
     "metadata": {},
     "output_type": "execute_result"
    }
   ],
   "source": [
    "min(600, round(3.6))"
   ]
  },
  {
   "cell_type": "code",
   "execution_count": 39,
   "metadata": {},
   "outputs": [
    {
     "name": "stdout",
     "output_type": "stream",
     "text": [
      "cpu cores\t: 6\n"
     ]
    }
   ],
   "source": [
    "!cat /proc/cpuinfo| grep \"cpu cores\"| uniq"
   ]
  },
  {
   "cell_type": "code",
   "execution_count": 40,
   "metadata": {},
   "outputs": [
    {
     "name": "stdout",
     "output_type": "stream",
     "text": [
      "1\n"
     ]
    }
   ],
   "source": [
    "!cat /proc/cpuinfo| grep \"physical id\"| sort| uniq| wc -l"
   ]
  },
  {
   "cell_type": "code",
   "execution_count": 41,
   "metadata": {},
   "outputs": [
    {
     "name": "stdout",
     "output_type": "stream",
     "text": [
      "12\n"
     ]
    }
   ],
   "source": [
    "!cat /proc/cpuinfo| grep \"processor\"| wc -l"
   ]
  },
  {
   "cell_type": "code",
   "execution_count": 42,
   "metadata": {},
   "outputs": [],
   "source": [
    "x = np.zeros((2,3,4))"
   ]
  },
  {
   "cell_type": "code",
   "execution_count": 43,
   "metadata": {},
   "outputs": [],
   "source": [
    "(*y,)=x.shape"
   ]
  },
  {
   "cell_type": "code",
   "execution_count": 44,
   "metadata": {},
   "outputs": [
    {
     "data": {
      "text/plain": [
       "3"
      ]
     },
     "execution_count": 44,
     "metadata": {},
     "output_type": "execute_result"
    }
   ],
   "source": [
    "y[1]"
   ]
  },
  {
   "cell_type": "markdown",
   "metadata": {},
   "source": [
    "## 重做验证集"
   ]
  },
  {
   "cell_type": "code",
   "execution_count": 45,
   "metadata": {},
   "outputs": [],
   "source": [
    "import random"
   ]
  },
  {
   "cell_type": "code",
   "execution_count": 46,
   "metadata": {},
   "outputs": [
    {
     "data": {
      "text/plain": [
       "210855"
      ]
     },
     "execution_count": 46,
     "metadata": {},
     "output_type": "execute_result"
    }
   ],
   "source": [
    "len(train)"
   ]
  },
  {
   "cell_type": "code",
   "execution_count": 47,
   "metadata": {},
   "outputs": [],
   "source": [
    "random.seed(12345)"
   ]
  },
  {
   "cell_type": "code",
   "execution_count": 48,
   "metadata": {},
   "outputs": [],
   "source": [
    "valid_idx = random.sample(range(len(train)), 20000)"
   ]
  },
  {
   "cell_type": "code",
   "execution_count": 49,
   "metadata": {},
   "outputs": [],
   "source": [
    "valid = train.iloc[valid_idx, :]"
   ]
  },
  {
   "cell_type": "code",
   "execution_count": 50,
   "metadata": {},
   "outputs": [
    {
     "data": {
      "text/html": [
       "<div>\n",
       "<style scoped>\n",
       "    .dataframe tbody tr th:only-of-type {\n",
       "        vertical-align: middle;\n",
       "    }\n",
       "\n",
       "    .dataframe tbody tr th {\n",
       "        vertical-align: top;\n",
       "    }\n",
       "\n",
       "    .dataframe thead th {\n",
       "        text-align: right;\n",
       "    }\n",
       "</style>\n",
       "<table border=\"1\" class=\"dataframe\">\n",
       "  <thead>\n",
       "    <tr style=\"text-align: right;\">\n",
       "      <th></th>\n",
       "      <th>ad_id</th>\n",
       "      <th>ad_type_id</th>\n",
       "      <th>ad_account_id</th>\n",
       "      <th>item_id</th>\n",
       "      <th>item_type</th>\n",
       "      <th>size</th>\n",
       "      <th>is_all_field</th>\n",
       "      <th>has_product_id</th>\n",
       "      <th>has_price</th>\n",
       "      <th>time</th>\n",
       "      <th>...</th>\n",
       "      <th>crt_dateDayofyear</th>\n",
       "      <th>crt_dateIs_month_end</th>\n",
       "      <th>crt_dateIs_month_start</th>\n",
       "      <th>crt_dateIs_quarter_end</th>\n",
       "      <th>crt_dateIs_quarter_start</th>\n",
       "      <th>crt_dateIs_year_end</th>\n",
       "      <th>crt_dateIs_year_start</th>\n",
       "      <th>crt_dateHour</th>\n",
       "      <th>crt_dateElapsed</th>\n",
       "      <th>target</th>\n",
       "    </tr>\n",
       "  </thead>\n",
       "  <tbody>\n",
       "    <tr>\n",
       "      <th>109214</th>\n",
       "      <td>666766</td>\n",
       "      <td>145</td>\n",
       "      <td>23359</td>\n",
       "      <td>-1</td>\n",
       "      <td>1</td>\n",
       "      <td>64</td>\n",
       "      <td>False</td>\n",
       "      <td>False</td>\n",
       "      <td>False</td>\n",
       "      <td>-999</td>\n",
       "      <td>...</td>\n",
       "      <td>54</td>\n",
       "      <td>False</td>\n",
       "      <td>False</td>\n",
       "      <td>False</td>\n",
       "      <td>False</td>\n",
       "      <td>False</td>\n",
       "      <td>False</td>\n",
       "      <td>20</td>\n",
       "      <td>1550953544</td>\n",
       "      <td>2.197225</td>\n",
       "    </tr>\n",
       "    <tr>\n",
       "      <th>192069</th>\n",
       "      <td>588850</td>\n",
       "      <td>122</td>\n",
       "      <td>8564</td>\n",
       "      <td>10190</td>\n",
       "      <td>13</td>\n",
       "      <td>40</td>\n",
       "      <td>False</td>\n",
       "      <td>True</td>\n",
       "      <td>True</td>\n",
       "      <td>-999</td>\n",
       "      <td>...</td>\n",
       "      <td>73</td>\n",
       "      <td>False</td>\n",
       "      <td>False</td>\n",
       "      <td>False</td>\n",
       "      <td>False</td>\n",
       "      <td>False</td>\n",
       "      <td>False</td>\n",
       "      <td>5</td>\n",
       "      <td>1552541896</td>\n",
       "      <td>4.007333</td>\n",
       "    </tr>\n",
       "    <tr>\n",
       "      <th>2665</th>\n",
       "      <td>432690</td>\n",
       "      <td>230</td>\n",
       "      <td>20084</td>\n",
       "      <td>5050</td>\n",
       "      <td>13</td>\n",
       "      <td>30</td>\n",
       "      <td>False</td>\n",
       "      <td>True</td>\n",
       "      <td>False</td>\n",
       "      <td>-999</td>\n",
       "      <td>...</td>\n",
       "      <td>309</td>\n",
       "      <td>False</td>\n",
       "      <td>False</td>\n",
       "      <td>False</td>\n",
       "      <td>False</td>\n",
       "      <td>False</td>\n",
       "      <td>False</td>\n",
       "      <td>20</td>\n",
       "      <td>1541449940</td>\n",
       "      <td>3.332205</td>\n",
       "    </tr>\n",
       "    <tr>\n",
       "      <th>210461</th>\n",
       "      <td>235299</td>\n",
       "      <td>122</td>\n",
       "      <td>23267</td>\n",
       "      <td>8530</td>\n",
       "      <td>13</td>\n",
       "      <td>40</td>\n",
       "      <td>False</td>\n",
       "      <td>True</td>\n",
       "      <td>False</td>\n",
       "      <td>-999</td>\n",
       "      <td>...</td>\n",
       "      <td>77</td>\n",
       "      <td>False</td>\n",
       "      <td>False</td>\n",
       "      <td>False</td>\n",
       "      <td>False</td>\n",
       "      <td>False</td>\n",
       "      <td>False</td>\n",
       "      <td>13</td>\n",
       "      <td>1552915361</td>\n",
       "      <td>2.302585</td>\n",
       "    </tr>\n",
       "    <tr>\n",
       "      <th>78286</th>\n",
       "      <td>127818</td>\n",
       "      <td>33</td>\n",
       "      <td>14252</td>\n",
       "      <td>-1</td>\n",
       "      <td>1</td>\n",
       "      <td>1</td>\n",
       "      <td>False</td>\n",
       "      <td>False</td>\n",
       "      <td>False</td>\n",
       "      <td>-999</td>\n",
       "      <td>...</td>\n",
       "      <td>201</td>\n",
       "      <td>False</td>\n",
       "      <td>False</td>\n",
       "      <td>False</td>\n",
       "      <td>False</td>\n",
       "      <td>False</td>\n",
       "      <td>False</td>\n",
       "      <td>10</td>\n",
       "      <td>1532082340</td>\n",
       "      <td>1.098612</td>\n",
       "    </tr>\n",
       "  </tbody>\n",
       "</table>\n",
       "<p>5 rows × 36 columns</p>\n",
       "</div>"
      ],
      "text/plain": [
       "         ad_id  ad_type_id  ad_account_id  item_id  item_type  size  \\\n",
       "109214  666766         145          23359       -1          1    64   \n",
       "192069  588850         122           8564    10190         13    40   \n",
       "2665    432690         230          20084     5050         13    30   \n",
       "210461  235299         122          23267     8530         13    40   \n",
       "78286   127818          33          14252       -1          1     1   \n",
       "\n",
       "        is_all_field  has_product_id  has_price  time  ... crt_dateDayofyear  \\\n",
       "109214         False           False      False  -999  ...                54   \n",
       "192069         False            True       True  -999  ...                73   \n",
       "2665           False            True      False  -999  ...               309   \n",
       "210461         False            True      False  -999  ...                77   \n",
       "78286          False           False      False  -999  ...               201   \n",
       "\n",
       "       crt_dateIs_month_end crt_dateIs_month_start crt_dateIs_quarter_end  \\\n",
       "109214                False                  False                  False   \n",
       "192069                False                  False                  False   \n",
       "2665                  False                  False                  False   \n",
       "210461                False                  False                  False   \n",
       "78286                 False                  False                  False   \n",
       "\n",
       "       crt_dateIs_quarter_start crt_dateIs_year_end crt_dateIs_year_start  \\\n",
       "109214                    False               False                 False   \n",
       "192069                    False               False                 False   \n",
       "2665                      False               False                 False   \n",
       "210461                    False               False                 False   \n",
       "78286                     False               False                 False   \n",
       "\n",
       "        crt_dateHour crt_dateElapsed    target  \n",
       "109214            20      1550953544  2.197225  \n",
       "192069             5      1552541896  4.007333  \n",
       "2665              20      1541449940  3.332205  \n",
       "210461            13      1552915361  2.302585  \n",
       "78286             10      1532082340  1.098612  \n",
       "\n",
       "[5 rows x 36 columns]"
      ]
     },
     "execution_count": 50,
     "metadata": {},
     "output_type": "execute_result"
    }
   ],
   "source": [
    "valid.head()"
   ]
  },
  {
   "cell_type": "code",
   "execution_count": 51,
   "metadata": {},
   "outputs": [],
   "source": [
    "train = train.iloc[list(set(range(len(train))) - set(valid_idx)), :]"
   ]
  },
  {
   "cell_type": "code",
   "execution_count": 52,
   "metadata": {},
   "outputs": [
    {
     "data": {
      "text/plain": [
       "190855"
      ]
     },
     "execution_count": 52,
     "metadata": {},
     "output_type": "execute_result"
    }
   ],
   "source": [
    "210855-20000"
   ]
  },
  {
   "cell_type": "code",
   "execution_count": 53,
   "metadata": {},
   "outputs": [
    {
     "data": {
      "text/html": [
       "<div>\n",
       "<style scoped>\n",
       "    .dataframe tbody tr th:only-of-type {\n",
       "        vertical-align: middle;\n",
       "    }\n",
       "\n",
       "    .dataframe tbody tr th {\n",
       "        vertical-align: top;\n",
       "    }\n",
       "\n",
       "    .dataframe thead th {\n",
       "        text-align: right;\n",
       "    }\n",
       "</style>\n",
       "<table border=\"1\" class=\"dataframe\">\n",
       "  <thead>\n",
       "    <tr style=\"text-align: right;\">\n",
       "      <th></th>\n",
       "      <th>ad_id</th>\n",
       "      <th>ad_type_id</th>\n",
       "      <th>ad_account_id</th>\n",
       "      <th>item_id</th>\n",
       "      <th>item_type</th>\n",
       "      <th>size</th>\n",
       "      <th>is_all_field</th>\n",
       "      <th>has_product_id</th>\n",
       "      <th>has_price</th>\n",
       "      <th>time</th>\n",
       "      <th>...</th>\n",
       "      <th>crt_dateDayofyear</th>\n",
       "      <th>crt_dateIs_month_end</th>\n",
       "      <th>crt_dateIs_month_start</th>\n",
       "      <th>crt_dateIs_quarter_end</th>\n",
       "      <th>crt_dateIs_quarter_start</th>\n",
       "      <th>crt_dateIs_year_end</th>\n",
       "      <th>crt_dateIs_year_start</th>\n",
       "      <th>crt_dateHour</th>\n",
       "      <th>crt_dateElapsed</th>\n",
       "      <th>target</th>\n",
       "    </tr>\n",
       "  </thead>\n",
       "  <tbody>\n",
       "    <tr>\n",
       "      <th>0</th>\n",
       "      <td>153151</td>\n",
       "      <td>71</td>\n",
       "      <td>29388</td>\n",
       "      <td>-1</td>\n",
       "      <td>1</td>\n",
       "      <td>1</td>\n",
       "      <td>False</td>\n",
       "      <td>False</td>\n",
       "      <td>False</td>\n",
       "      <td>281474976710655,281474976710655,28147497671065...</td>\n",
       "      <td>...</td>\n",
       "      <td>104</td>\n",
       "      <td>False</td>\n",
       "      <td>False</td>\n",
       "      <td>False</td>\n",
       "      <td>False</td>\n",
       "      <td>False</td>\n",
       "      <td>False</td>\n",
       "      <td>6</td>\n",
       "      <td>1460528084</td>\n",
       "      <td>0.693147</td>\n",
       "    </tr>\n",
       "    <tr>\n",
       "      <th>1</th>\n",
       "      <td>499398</td>\n",
       "      <td>120</td>\n",
       "      <td>3292</td>\n",
       "      <td>29679</td>\n",
       "      <td>18</td>\n",
       "      <td>30</td>\n",
       "      <td>False</td>\n",
       "      <td>True</td>\n",
       "      <td>True</td>\n",
       "      <td>281474976710655,281474976710655,28147497671065...</td>\n",
       "      <td>...</td>\n",
       "      <td>146</td>\n",
       "      <td>False</td>\n",
       "      <td>False</td>\n",
       "      <td>False</td>\n",
       "      <td>False</td>\n",
       "      <td>False</td>\n",
       "      <td>False</td>\n",
       "      <td>7</td>\n",
       "      <td>1464161117</td>\n",
       "      <td>0.693147</td>\n",
       "    </tr>\n",
       "    <tr>\n",
       "      <th>2</th>\n",
       "      <td>671286</td>\n",
       "      <td>12</td>\n",
       "      <td>22035</td>\n",
       "      <td>-1</td>\n",
       "      <td>1</td>\n",
       "      <td>55</td>\n",
       "      <td>True</td>\n",
       "      <td>False</td>\n",
       "      <td>True</td>\n",
       "      <td>4398046494720,4398046494720,4398046494720,4398...</td>\n",
       "      <td>...</td>\n",
       "      <td>245</td>\n",
       "      <td>False</td>\n",
       "      <td>True</td>\n",
       "      <td>False</td>\n",
       "      <td>False</td>\n",
       "      <td>False</td>\n",
       "      <td>False</td>\n",
       "      <td>2</td>\n",
       "      <td>1472697346</td>\n",
       "      <td>1.945910</td>\n",
       "    </tr>\n",
       "    <tr>\n",
       "      <th>4</th>\n",
       "      <td>152978</td>\n",
       "      <td>118</td>\n",
       "      <td>23511</td>\n",
       "      <td>-1</td>\n",
       "      <td>3</td>\n",
       "      <td>30</td>\n",
       "      <td>False</td>\n",
       "      <td>False</td>\n",
       "      <td>False</td>\n",
       "      <td>281474976710655,281474976710655,28147497671065...</td>\n",
       "      <td>...</td>\n",
       "      <td>334</td>\n",
       "      <td>False</td>\n",
       "      <td>False</td>\n",
       "      <td>False</td>\n",
       "      <td>False</td>\n",
       "      <td>False</td>\n",
       "      <td>False</td>\n",
       "      <td>2</td>\n",
       "      <td>1480387159</td>\n",
       "      <td>0.693147</td>\n",
       "    </tr>\n",
       "    <tr>\n",
       "      <th>5</th>\n",
       "      <td>42441</td>\n",
       "      <td>221</td>\n",
       "      <td>13908</td>\n",
       "      <td>-1</td>\n",
       "      <td>1</td>\n",
       "      <td>30</td>\n",
       "      <td>False</td>\n",
       "      <td>False</td>\n",
       "      <td>False</td>\n",
       "      <td>-999</td>\n",
       "      <td>...</td>\n",
       "      <td>59</td>\n",
       "      <td>True</td>\n",
       "      <td>False</td>\n",
       "      <td>False</td>\n",
       "      <td>False</td>\n",
       "      <td>False</td>\n",
       "      <td>False</td>\n",
       "      <td>6</td>\n",
       "      <td>1488264755</td>\n",
       "      <td>0.693147</td>\n",
       "    </tr>\n",
       "  </tbody>\n",
       "</table>\n",
       "<p>5 rows × 36 columns</p>\n",
       "</div>"
      ],
      "text/plain": [
       "    ad_id  ad_type_id  ad_account_id  item_id  item_type  size  is_all_field  \\\n",
       "0  153151          71          29388       -1          1     1         False   \n",
       "1  499398         120           3292    29679         18    30         False   \n",
       "2  671286          12          22035       -1          1    55          True   \n",
       "4  152978         118          23511       -1          3    30         False   \n",
       "5   42441         221          13908       -1          1    30         False   \n",
       "\n",
       "   has_product_id  has_price  \\\n",
       "0           False      False   \n",
       "1            True       True   \n",
       "2           False       True   \n",
       "4           False      False   \n",
       "5           False      False   \n",
       "\n",
       "                                                time  ... crt_dateDayofyear  \\\n",
       "0  281474976710655,281474976710655,28147497671065...  ...               104   \n",
       "1  281474976710655,281474976710655,28147497671065...  ...               146   \n",
       "2  4398046494720,4398046494720,4398046494720,4398...  ...               245   \n",
       "4  281474976710655,281474976710655,28147497671065...  ...               334   \n",
       "5                                               -999  ...                59   \n",
       "\n",
       "  crt_dateIs_month_end crt_dateIs_month_start crt_dateIs_quarter_end  \\\n",
       "0                False                  False                  False   \n",
       "1                False                  False                  False   \n",
       "2                False                   True                  False   \n",
       "4                False                  False                  False   \n",
       "5                 True                  False                  False   \n",
       "\n",
       "  crt_dateIs_quarter_start crt_dateIs_year_end crt_dateIs_year_start  \\\n",
       "0                    False               False                 False   \n",
       "1                    False               False                 False   \n",
       "2                    False               False                 False   \n",
       "4                    False               False                 False   \n",
       "5                    False               False                 False   \n",
       "\n",
       "   crt_dateHour crt_dateElapsed    target  \n",
       "0             6      1460528084  0.693147  \n",
       "1             7      1464161117  0.693147  \n",
       "2             2      1472697346  1.945910  \n",
       "4             2      1480387159  0.693147  \n",
       "5             6      1488264755  0.693147  \n",
       "\n",
       "[5 rows x 36 columns]"
      ]
     },
     "execution_count": 53,
     "metadata": {},
     "output_type": "execute_result"
    }
   ],
   "source": [
    "train.head()"
   ]
  },
  {
   "cell_type": "code",
   "execution_count": 54,
   "metadata": {},
   "outputs": [
    {
     "data": {
      "text/plain": [
       "(190855, 36)"
      ]
     },
     "execution_count": 54,
     "metadata": {},
     "output_type": "execute_result"
    }
   ],
   "source": [
    "train.shape"
   ]
  },
  {
   "cell_type": "code",
   "execution_count": 55,
   "metadata": {},
   "outputs": [
    {
     "data": {
      "text/plain": [
       "0    100.0\n",
       "dtype: float64"
      ]
     },
     "execution_count": 55,
     "metadata": {},
     "output_type": "execute_result"
    }
   ],
   "source": [
    "train.price.mode()"
   ]
  },
  {
   "cell_type": "code",
   "execution_count": 56,
   "metadata": {},
   "outputs": [
    {
     "data": {
      "text/plain": [
       "4.61512051684126"
      ]
     },
     "execution_count": 56,
     "metadata": {},
     "output_type": "execute_result"
    }
   ],
   "source": [
    "np.log(101)"
   ]
  },
  {
   "cell_type": "code",
   "execution_count": 57,
   "metadata": {},
   "outputs": [],
   "source": [
    "train.to_csv('../data/train_set_final.csv', index=None, encoding='utf-8')\n",
    "valid.to_csv('../data/valid_set_final.csv', index=None, encoding='utf-8')"
   ]
  },
  {
   "cell_type": "code",
   "execution_count": 58,
   "metadata": {},
   "outputs": [],
   "source": [
    "valid1 = pd.read_csv('../data/valid_set_final.csv', low_memory=False, encoding='utf-8')\n",
    "train1 = pd.read_csv('../data/train_set_final.csv', low_memory=False, encoding='utf-8')"
   ]
  },
  {
   "cell_type": "code",
   "execution_count": 59,
   "metadata": {},
   "outputs": [
    {
     "data": {
      "text/html": [
       "<div>\n",
       "<style scoped>\n",
       "    .dataframe tbody tr th:only-of-type {\n",
       "        vertical-align: middle;\n",
       "    }\n",
       "\n",
       "    .dataframe tbody tr th {\n",
       "        vertical-align: top;\n",
       "    }\n",
       "\n",
       "    .dataframe thead th {\n",
       "        text-align: right;\n",
       "    }\n",
       "</style>\n",
       "<table border=\"1\" class=\"dataframe\">\n",
       "  <thead>\n",
       "    <tr style=\"text-align: right;\">\n",
       "      <th></th>\n",
       "      <th>ad_id</th>\n",
       "      <th>ad_type_id</th>\n",
       "      <th>ad_account_id</th>\n",
       "      <th>item_id</th>\n",
       "      <th>item_type</th>\n",
       "      <th>size</th>\n",
       "      <th>is_all_field</th>\n",
       "      <th>has_product_id</th>\n",
       "      <th>has_price</th>\n",
       "      <th>time</th>\n",
       "      <th>...</th>\n",
       "      <th>crt_dateDayofyear</th>\n",
       "      <th>crt_dateIs_month_end</th>\n",
       "      <th>crt_dateIs_month_start</th>\n",
       "      <th>crt_dateIs_quarter_end</th>\n",
       "      <th>crt_dateIs_quarter_start</th>\n",
       "      <th>crt_dateIs_year_end</th>\n",
       "      <th>crt_dateIs_year_start</th>\n",
       "      <th>crt_dateHour</th>\n",
       "      <th>crt_dateElapsed</th>\n",
       "      <th>target</th>\n",
       "    </tr>\n",
       "  </thead>\n",
       "  <tbody>\n",
       "    <tr>\n",
       "      <th>0</th>\n",
       "      <td>666766</td>\n",
       "      <td>145</td>\n",
       "      <td>23359</td>\n",
       "      <td>-1</td>\n",
       "      <td>1</td>\n",
       "      <td>64</td>\n",
       "      <td>False</td>\n",
       "      <td>False</td>\n",
       "      <td>False</td>\n",
       "      <td>-999</td>\n",
       "      <td>...</td>\n",
       "      <td>54</td>\n",
       "      <td>False</td>\n",
       "      <td>False</td>\n",
       "      <td>False</td>\n",
       "      <td>False</td>\n",
       "      <td>False</td>\n",
       "      <td>False</td>\n",
       "      <td>20</td>\n",
       "      <td>1550953544</td>\n",
       "      <td>2.197225</td>\n",
       "    </tr>\n",
       "    <tr>\n",
       "      <th>1</th>\n",
       "      <td>588850</td>\n",
       "      <td>122</td>\n",
       "      <td>8564</td>\n",
       "      <td>10190</td>\n",
       "      <td>13</td>\n",
       "      <td>40</td>\n",
       "      <td>False</td>\n",
       "      <td>True</td>\n",
       "      <td>True</td>\n",
       "      <td>-999</td>\n",
       "      <td>...</td>\n",
       "      <td>73</td>\n",
       "      <td>False</td>\n",
       "      <td>False</td>\n",
       "      <td>False</td>\n",
       "      <td>False</td>\n",
       "      <td>False</td>\n",
       "      <td>False</td>\n",
       "      <td>5</td>\n",
       "      <td>1552541896</td>\n",
       "      <td>4.007333</td>\n",
       "    </tr>\n",
       "    <tr>\n",
       "      <th>2</th>\n",
       "      <td>432690</td>\n",
       "      <td>230</td>\n",
       "      <td>20084</td>\n",
       "      <td>5050</td>\n",
       "      <td>13</td>\n",
       "      <td>30</td>\n",
       "      <td>False</td>\n",
       "      <td>True</td>\n",
       "      <td>False</td>\n",
       "      <td>-999</td>\n",
       "      <td>...</td>\n",
       "      <td>309</td>\n",
       "      <td>False</td>\n",
       "      <td>False</td>\n",
       "      <td>False</td>\n",
       "      <td>False</td>\n",
       "      <td>False</td>\n",
       "      <td>False</td>\n",
       "      <td>20</td>\n",
       "      <td>1541449940</td>\n",
       "      <td>3.332205</td>\n",
       "    </tr>\n",
       "    <tr>\n",
       "      <th>3</th>\n",
       "      <td>235299</td>\n",
       "      <td>122</td>\n",
       "      <td>23267</td>\n",
       "      <td>8530</td>\n",
       "      <td>13</td>\n",
       "      <td>40</td>\n",
       "      <td>False</td>\n",
       "      <td>True</td>\n",
       "      <td>False</td>\n",
       "      <td>-999</td>\n",
       "      <td>...</td>\n",
       "      <td>77</td>\n",
       "      <td>False</td>\n",
       "      <td>False</td>\n",
       "      <td>False</td>\n",
       "      <td>False</td>\n",
       "      <td>False</td>\n",
       "      <td>False</td>\n",
       "      <td>13</td>\n",
       "      <td>1552915361</td>\n",
       "      <td>2.302585</td>\n",
       "    </tr>\n",
       "    <tr>\n",
       "      <th>4</th>\n",
       "      <td>127818</td>\n",
       "      <td>33</td>\n",
       "      <td>14252</td>\n",
       "      <td>-1</td>\n",
       "      <td>1</td>\n",
       "      <td>1</td>\n",
       "      <td>False</td>\n",
       "      <td>False</td>\n",
       "      <td>False</td>\n",
       "      <td>-999</td>\n",
       "      <td>...</td>\n",
       "      <td>201</td>\n",
       "      <td>False</td>\n",
       "      <td>False</td>\n",
       "      <td>False</td>\n",
       "      <td>False</td>\n",
       "      <td>False</td>\n",
       "      <td>False</td>\n",
       "      <td>10</td>\n",
       "      <td>1532082340</td>\n",
       "      <td>1.098612</td>\n",
       "    </tr>\n",
       "  </tbody>\n",
       "</table>\n",
       "<p>5 rows × 36 columns</p>\n",
       "</div>"
      ],
      "text/plain": [
       "    ad_id  ad_type_id  ad_account_id  item_id  item_type  size  is_all_field  \\\n",
       "0  666766         145          23359       -1          1    64         False   \n",
       "1  588850         122           8564    10190         13    40         False   \n",
       "2  432690         230          20084     5050         13    30         False   \n",
       "3  235299         122          23267     8530         13    40         False   \n",
       "4  127818          33          14252       -1          1     1         False   \n",
       "\n",
       "   has_product_id  has_price  time  ... crt_dateDayofyear  \\\n",
       "0           False      False  -999  ...                54   \n",
       "1            True       True  -999  ...                73   \n",
       "2            True      False  -999  ...               309   \n",
       "3            True      False  -999  ...                77   \n",
       "4           False      False  -999  ...               201   \n",
       "\n",
       "  crt_dateIs_month_end crt_dateIs_month_start crt_dateIs_quarter_end  \\\n",
       "0                False                  False                  False   \n",
       "1                False                  False                  False   \n",
       "2                False                  False                  False   \n",
       "3                False                  False                  False   \n",
       "4                False                  False                  False   \n",
       "\n",
       "  crt_dateIs_quarter_start crt_dateIs_year_end crt_dateIs_year_start  \\\n",
       "0                    False               False                 False   \n",
       "1                    False               False                 False   \n",
       "2                    False               False                 False   \n",
       "3                    False               False                 False   \n",
       "4                    False               False                 False   \n",
       "\n",
       "   crt_dateHour crt_dateElapsed    target  \n",
       "0            20      1550953544  2.197225  \n",
       "1             5      1552541896  4.007333  \n",
       "2            20      1541449940  3.332205  \n",
       "3            13      1552915361  2.302585  \n",
       "4            10      1532082340  1.098612  \n",
       "\n",
       "[5 rows x 36 columns]"
      ]
     },
     "execution_count": 59,
     "metadata": {},
     "output_type": "execute_result"
    },
    {
     "data": {
      "text/plain": [
       "(20000, 36)"
      ]
     },
     "execution_count": 59,
     "metadata": {},
     "output_type": "execute_result"
    }
   ],
   "source": [
    "valid1.head()\n",
    "valid1.shape"
   ]
  },
  {
   "cell_type": "code",
   "execution_count": 60,
   "metadata": {},
   "outputs": [
    {
     "data": {
      "text/html": [
       "<div>\n",
       "<style scoped>\n",
       "    .dataframe tbody tr th:only-of-type {\n",
       "        vertical-align: middle;\n",
       "    }\n",
       "\n",
       "    .dataframe tbody tr th {\n",
       "        vertical-align: top;\n",
       "    }\n",
       "\n",
       "    .dataframe thead th {\n",
       "        text-align: right;\n",
       "    }\n",
       "</style>\n",
       "<table border=\"1\" class=\"dataframe\">\n",
       "  <thead>\n",
       "    <tr style=\"text-align: right;\">\n",
       "      <th></th>\n",
       "      <th>ad_id</th>\n",
       "      <th>ad_type_id</th>\n",
       "      <th>ad_account_id</th>\n",
       "      <th>item_id</th>\n",
       "      <th>item_type</th>\n",
       "      <th>size</th>\n",
       "      <th>is_all_field</th>\n",
       "      <th>has_product_id</th>\n",
       "      <th>has_price</th>\n",
       "      <th>time</th>\n",
       "      <th>...</th>\n",
       "      <th>crt_dateDayofyear</th>\n",
       "      <th>crt_dateIs_month_end</th>\n",
       "      <th>crt_dateIs_month_start</th>\n",
       "      <th>crt_dateIs_quarter_end</th>\n",
       "      <th>crt_dateIs_quarter_start</th>\n",
       "      <th>crt_dateIs_year_end</th>\n",
       "      <th>crt_dateIs_year_start</th>\n",
       "      <th>crt_dateHour</th>\n",
       "      <th>crt_dateElapsed</th>\n",
       "      <th>target</th>\n",
       "    </tr>\n",
       "  </thead>\n",
       "  <tbody>\n",
       "    <tr>\n",
       "      <th>0</th>\n",
       "      <td>153151</td>\n",
       "      <td>71</td>\n",
       "      <td>29388</td>\n",
       "      <td>-1</td>\n",
       "      <td>1</td>\n",
       "      <td>1</td>\n",
       "      <td>False</td>\n",
       "      <td>False</td>\n",
       "      <td>False</td>\n",
       "      <td>281474976710655,281474976710655,28147497671065...</td>\n",
       "      <td>...</td>\n",
       "      <td>104</td>\n",
       "      <td>False</td>\n",
       "      <td>False</td>\n",
       "      <td>False</td>\n",
       "      <td>False</td>\n",
       "      <td>False</td>\n",
       "      <td>False</td>\n",
       "      <td>6</td>\n",
       "      <td>1460528084</td>\n",
       "      <td>0.693147</td>\n",
       "    </tr>\n",
       "    <tr>\n",
       "      <th>1</th>\n",
       "      <td>499398</td>\n",
       "      <td>120</td>\n",
       "      <td>3292</td>\n",
       "      <td>29679</td>\n",
       "      <td>18</td>\n",
       "      <td>30</td>\n",
       "      <td>False</td>\n",
       "      <td>True</td>\n",
       "      <td>True</td>\n",
       "      <td>281474976710655,281474976710655,28147497671065...</td>\n",
       "      <td>...</td>\n",
       "      <td>146</td>\n",
       "      <td>False</td>\n",
       "      <td>False</td>\n",
       "      <td>False</td>\n",
       "      <td>False</td>\n",
       "      <td>False</td>\n",
       "      <td>False</td>\n",
       "      <td>7</td>\n",
       "      <td>1464161117</td>\n",
       "      <td>0.693147</td>\n",
       "    </tr>\n",
       "    <tr>\n",
       "      <th>2</th>\n",
       "      <td>671286</td>\n",
       "      <td>12</td>\n",
       "      <td>22035</td>\n",
       "      <td>-1</td>\n",
       "      <td>1</td>\n",
       "      <td>55</td>\n",
       "      <td>True</td>\n",
       "      <td>False</td>\n",
       "      <td>True</td>\n",
       "      <td>4398046494720,4398046494720,4398046494720,4398...</td>\n",
       "      <td>...</td>\n",
       "      <td>245</td>\n",
       "      <td>False</td>\n",
       "      <td>True</td>\n",
       "      <td>False</td>\n",
       "      <td>False</td>\n",
       "      <td>False</td>\n",
       "      <td>False</td>\n",
       "      <td>2</td>\n",
       "      <td>1472697346</td>\n",
       "      <td>1.945910</td>\n",
       "    </tr>\n",
       "    <tr>\n",
       "      <th>3</th>\n",
       "      <td>152978</td>\n",
       "      <td>118</td>\n",
       "      <td>23511</td>\n",
       "      <td>-1</td>\n",
       "      <td>3</td>\n",
       "      <td>30</td>\n",
       "      <td>False</td>\n",
       "      <td>False</td>\n",
       "      <td>False</td>\n",
       "      <td>281474976710655,281474976710655,28147497671065...</td>\n",
       "      <td>...</td>\n",
       "      <td>334</td>\n",
       "      <td>False</td>\n",
       "      <td>False</td>\n",
       "      <td>False</td>\n",
       "      <td>False</td>\n",
       "      <td>False</td>\n",
       "      <td>False</td>\n",
       "      <td>2</td>\n",
       "      <td>1480387159</td>\n",
       "      <td>0.693147</td>\n",
       "    </tr>\n",
       "    <tr>\n",
       "      <th>4</th>\n",
       "      <td>42441</td>\n",
       "      <td>221</td>\n",
       "      <td>13908</td>\n",
       "      <td>-1</td>\n",
       "      <td>1</td>\n",
       "      <td>30</td>\n",
       "      <td>False</td>\n",
       "      <td>False</td>\n",
       "      <td>False</td>\n",
       "      <td>-999</td>\n",
       "      <td>...</td>\n",
       "      <td>59</td>\n",
       "      <td>True</td>\n",
       "      <td>False</td>\n",
       "      <td>False</td>\n",
       "      <td>False</td>\n",
       "      <td>False</td>\n",
       "      <td>False</td>\n",
       "      <td>6</td>\n",
       "      <td>1488264755</td>\n",
       "      <td>0.693147</td>\n",
       "    </tr>\n",
       "  </tbody>\n",
       "</table>\n",
       "<p>5 rows × 36 columns</p>\n",
       "</div>"
      ],
      "text/plain": [
       "    ad_id  ad_type_id  ad_account_id  item_id  item_type  size  is_all_field  \\\n",
       "0  153151          71          29388       -1          1     1         False   \n",
       "1  499398         120           3292    29679         18    30         False   \n",
       "2  671286          12          22035       -1          1    55          True   \n",
       "3  152978         118          23511       -1          3    30         False   \n",
       "4   42441         221          13908       -1          1    30         False   \n",
       "\n",
       "   has_product_id  has_price  \\\n",
       "0           False      False   \n",
       "1            True       True   \n",
       "2           False       True   \n",
       "3           False      False   \n",
       "4           False      False   \n",
       "\n",
       "                                                time  ... crt_dateDayofyear  \\\n",
       "0  281474976710655,281474976710655,28147497671065...  ...               104   \n",
       "1  281474976710655,281474976710655,28147497671065...  ...               146   \n",
       "2  4398046494720,4398046494720,4398046494720,4398...  ...               245   \n",
       "3  281474976710655,281474976710655,28147497671065...  ...               334   \n",
       "4                                               -999  ...                59   \n",
       "\n",
       "  crt_dateIs_month_end crt_dateIs_month_start crt_dateIs_quarter_end  \\\n",
       "0                False                  False                  False   \n",
       "1                False                  False                  False   \n",
       "2                False                   True                  False   \n",
       "3                False                  False                  False   \n",
       "4                 True                  False                  False   \n",
       "\n",
       "  crt_dateIs_quarter_start crt_dateIs_year_end crt_dateIs_year_start  \\\n",
       "0                    False               False                 False   \n",
       "1                    False               False                 False   \n",
       "2                    False               False                 False   \n",
       "3                    False               False                 False   \n",
       "4                    False               False                 False   \n",
       "\n",
       "   crt_dateHour crt_dateElapsed    target  \n",
       "0             6      1460528084  0.693147  \n",
       "1             7      1464161117  0.693147  \n",
       "2             2      1472697346  1.945910  \n",
       "3             2      1480387159  0.693147  \n",
       "4             6      1488264755  0.693147  \n",
       "\n",
       "[5 rows x 36 columns]"
      ]
     },
     "execution_count": 60,
     "metadata": {},
     "output_type": "execute_result"
    }
   ],
   "source": [
    "train1.head()"
   ]
  },
  {
   "cell_type": "code",
   "execution_count": 61,
   "metadata": {},
   "outputs": [
    {
     "data": {
      "text/plain": [
       "(190855, 36)"
      ]
     },
     "execution_count": 61,
     "metadata": {},
     "output_type": "execute_result"
    }
   ],
   "source": [
    "train1.shape"
   ]
  },
  {
   "cell_type": "code",
   "execution_count": 62,
   "metadata": {},
   "outputs": [
    {
     "data": {
      "text/plain": [
       "-999                  180821\n",
       "-9                      7390\n",
       "13,9                    1493\n",
       "13,15,6,9                171\n",
       "15,6,9                   166\n",
       "13,5,9                   154\n",
       "6                         81\n",
       "15,6                      78\n",
       "15,7,6,9                  65\n",
       "14,15,7                   60\n",
       "7,11,9,2,5,15,6,14        56\n",
       "15,7,6                    42\n",
       "5,9                       37\n",
       "9                         34\n",
       "15,7                      25\n",
       "13,5,6,9                  21\n",
       "14,15,7,6                 16\n",
       "7,11,15,6,14              15\n",
       "13,5                      11\n",
       "13                        11\n",
       "7,11,2,15,6,14            10\n",
       "7,11,9,2,15,6,14           8\n",
       "11,2                       8\n",
       "14,7,11                    8\n",
       "2                          8\n",
       "13,15,6,1                  7\n",
       "13,9,8,5,3,18              7\n",
       "14,7,17,1                  6\n",
       "7,9,15,6,14                5\n",
       "1,7,11,6,14                5\n",
       "14,15,7,11                 4\n",
       "13,5,15,9                  3\n",
       "5,6,9                      3\n",
       "14,7                       3\n",
       "14,7,6,11                  3\n",
       "7                          2\n",
       "13,9,5,15,6                2\n",
       "13,6,9                     2\n",
       "14,11,2                    2\n",
       "7,11,9,15,6,14             1\n",
       "14                         1\n",
       "17,1,7,6,14                1\n",
       "5                          1\n",
       "14,7,6                     1\n",
       "3,6,9                      1\n",
       "13,7,9,5,15,6              1\n",
       "15                         1\n",
       "13,6                       1\n",
       "14,7,1                     1\n",
       "15,7,6,2                   1\n",
       "7,2,15,6,14                1\n",
       "Name: status, dtype: int64"
      ]
     },
     "execution_count": 62,
     "metadata": {},
     "output_type": "execute_result"
    }
   ],
   "source": [
    "train.status.value_counts()"
   ]
  },
  {
   "cell_type": "code",
   "execution_count": null,
   "metadata": {},
   "outputs": [],
   "source": []
  }
 ],
 "metadata": {
  "kernelspec": {
   "display_name": "Python 3",
   "language": "python",
   "name": "python3"
  },
  "language_info": {
   "codemirror_mode": {
    "name": "ipython",
    "version": 3
   },
   "file_extension": ".py",
   "mimetype": "text/x-python",
   "name": "python",
   "nbconvert_exporter": "python",
   "pygments_lexer": "ipython3",
   "version": "3.6.7"
  }
 },
 "nbformat": 4,
 "nbformat_minor": 2
}
