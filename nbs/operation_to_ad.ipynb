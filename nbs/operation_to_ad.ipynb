{
 "cells": [
  {
   "cell_type": "code",
   "execution_count": 1,
   "metadata": {},
   "outputs": [],
   "source": [
    "%matplotlib inline\n",
    "%reload_ext autoreload\n",
    "%autoreload 2\n",
    "# 多行输出\n",
    "from IPython.core.interactiveshell import InteractiveShell\n",
    "InteractiveShell.ast_node_interactivity = \"all\""
   ]
  },
  {
   "cell_type": "markdown",
   "metadata": {},
   "source": [
    "# 根据操作生成新的纪录"
   ]
  },
  {
   "cell_type": "code",
   "execution_count": 8,
   "metadata": {},
   "outputs": [],
   "source": [
    "import pandas as pd\n",
    "from pathlib import Path\n",
    "import os\n",
    "from tqdm import tqdm"
   ]
  },
  {
   "cell_type": "code",
   "execution_count": 3,
   "metadata": {},
   "outputs": [
    {
     "data": {
      "text/plain": [
       "PosixPath('../data')"
      ]
     },
     "execution_count": 3,
     "metadata": {},
     "output_type": "execute_result"
    }
   ],
   "source": [
    "from pathlib import Path\n",
    "root = Path('../data')\n",
    "root"
   ]
  },
  {
   "cell_type": "code",
   "execution_count": 4,
   "metadata": {},
   "outputs": [],
   "source": [
    "ad_static = pd.read_csv(root/'ad_static.csv',low_memory=False, encoding='utf-8')\n",
    "ad_operation = pd.read_csv(root/'ad_static_operation.csv', low_memory=False, encoding='utf-8')"
   ]
  },
  {
   "cell_type": "code",
   "execution_count": 5,
   "metadata": {},
   "outputs": [
    {
     "data": {
      "text/html": [
       "<div>\n",
       "<style scoped>\n",
       "    .dataframe tbody tr th:only-of-type {\n",
       "        vertical-align: middle;\n",
       "    }\n",
       "\n",
       "    .dataframe tbody tr th {\n",
       "        vertical-align: top;\n",
       "    }\n",
       "\n",
       "    .dataframe thead th {\n",
       "        text-align: right;\n",
       "    }\n",
       "</style>\n",
       "<table border=\"1\" class=\"dataframe\">\n",
       "  <thead>\n",
       "    <tr style=\"text-align: right;\">\n",
       "      <th></th>\n",
       "      <th>广告id</th>\n",
       "      <th>创建时间</th>\n",
       "      <th>广告账户id</th>\n",
       "      <th>商品id</th>\n",
       "      <th>商品类型</th>\n",
       "      <th>广告行业id</th>\n",
       "      <th>素材尺寸</th>\n",
       "    </tr>\n",
       "  </thead>\n",
       "  <tbody>\n",
       "    <tr>\n",
       "      <th>502148</th>\n",
       "      <td>82588</td>\n",
       "      <td>2019-03-19 03:56:04</td>\n",
       "      <td>21666</td>\n",
       "      <td>21917</td>\n",
       "      <td>18</td>\n",
       "      <td>198</td>\n",
       "      <td>64</td>\n",
       "    </tr>\n",
       "    <tr>\n",
       "      <th>502149</th>\n",
       "      <td>665036</td>\n",
       "      <td>2019-02-21 09:08:35</td>\n",
       "      <td>6184</td>\n",
       "      <td>11633</td>\n",
       "      <td>18</td>\n",
       "      <td>232</td>\n",
       "      <td>64</td>\n",
       "    </tr>\n",
       "    <tr>\n",
       "      <th>502150</th>\n",
       "      <td>491914</td>\n",
       "      <td>2019-01-25 05:01:10</td>\n",
       "      <td>1809</td>\n",
       "      <td>5278</td>\n",
       "      <td>5</td>\n",
       "      <td>232</td>\n",
       "      <td>64</td>\n",
       "    </tr>\n",
       "    <tr>\n",
       "      <th>502151</th>\n",
       "      <td>3990</td>\n",
       "      <td>2019-03-01 08:17:08</td>\n",
       "      <td>4255</td>\n",
       "      <td>3401</td>\n",
       "      <td>18</td>\n",
       "      <td>218</td>\n",
       "      <td>36</td>\n",
       "    </tr>\n",
       "    <tr>\n",
       "      <th>502152</th>\n",
       "      <td>222150</td>\n",
       "      <td>2019-02-28 07:56:53</td>\n",
       "      <td>4250</td>\n",
       "      <td>14527</td>\n",
       "      <td>18</td>\n",
       "      <td>94</td>\n",
       "      <td>36</td>\n",
       "    </tr>\n",
       "  </tbody>\n",
       "</table>\n",
       "</div>"
      ],
      "text/plain": [
       "          广告id                 创建时间  广告账户id   商品id  商品类型  广告行业id 素材尺寸\n",
       "502148   82588  2019-03-19 03:56:04   21666  21917    18     198   64\n",
       "502149  665036  2019-02-21 09:08:35    6184  11633    18     232   64\n",
       "502150  491914  2019-01-25 05:01:10    1809   5278     5     232   64\n",
       "502151    3990  2019-03-01 08:17:08    4255   3401    18     218   36\n",
       "502152  222150  2019-02-28 07:56:53    4250  14527    18      94   36"
      ]
     },
     "execution_count": 5,
     "metadata": {},
     "output_type": "execute_result"
    }
   ],
   "source": [
    "ad_static.tail()"
   ]
  },
  {
   "cell_type": "code",
   "execution_count": 6,
   "metadata": {},
   "outputs": [
    {
     "name": "stdout",
     "output_type": "stream",
     "text": [
      "<class 'pandas.core.frame.DataFrame'>\n",
      "RangeIndex: 502153 entries, 0 to 502152\n",
      "Data columns (total 7 columns):\n",
      "广告id      502153 non-null int64\n",
      "创建时间      502153 non-null object\n",
      "广告账户id    502153 non-null int64\n",
      "商品id      502153 non-null int64\n",
      "商品类型      502153 non-null int64\n",
      "广告行业id    502153 non-null int64\n",
      "素材尺寸      502153 non-null object\n",
      "dtypes: int64(5), object(2)\n",
      "memory usage: 26.8+ MB\n"
     ]
    }
   ],
   "source": [
    "ad_static.info()"
   ]
  },
  {
   "cell_type": "code",
   "execution_count": 7,
   "metadata": {},
   "outputs": [
    {
     "data": {
      "text/plain": [
       "(502153, 7)"
      ]
     },
     "execution_count": 7,
     "metadata": {},
     "output_type": "execute_result"
    }
   ],
   "source": [
    "ad_static.shape"
   ]
  },
  {
   "cell_type": "code",
   "execution_count": 8,
   "metadata": {},
   "outputs": [
    {
     "data": {
      "text/html": [
       "<div>\n",
       "<style scoped>\n",
       "    .dataframe tbody tr th:only-of-type {\n",
       "        vertical-align: middle;\n",
       "    }\n",
       "\n",
       "    .dataframe tbody tr th {\n",
       "        vertical-align: top;\n",
       "    }\n",
       "\n",
       "    .dataframe thead th {\n",
       "        text-align: right;\n",
       "    }\n",
       "</style>\n",
       "<table border=\"1\" class=\"dataframe\">\n",
       "  <thead>\n",
       "    <tr style=\"text-align: right;\">\n",
       "      <th></th>\n",
       "      <th>广告id</th>\n",
       "      <th>创建时间</th>\n",
       "      <th>广告账户id</th>\n",
       "      <th>商品id</th>\n",
       "      <th>商品类型</th>\n",
       "      <th>广告行业id</th>\n",
       "      <th>素材尺寸</th>\n",
       "      <th>创建/修改时间</th>\n",
       "      <th>操作类型</th>\n",
       "      <th>修改字段</th>\n",
       "      <th>操作后的字段值</th>\n",
       "    </tr>\n",
       "  </thead>\n",
       "  <tbody>\n",
       "    <tr>\n",
       "      <th>0</th>\n",
       "      <td>347637</td>\n",
       "      <td>2019-02-21 23:03:42</td>\n",
       "      <td>18529</td>\n",
       "      <td>28775</td>\n",
       "      <td>13</td>\n",
       "      <td>12</td>\n",
       "      <td>34</td>\n",
       "      <td>2019-02-21 23:03:42</td>\n",
       "      <td>2</td>\n",
       "      <td>2</td>\n",
       "      <td>100</td>\n",
       "    </tr>\n",
       "    <tr>\n",
       "      <th>1</th>\n",
       "      <td>347637</td>\n",
       "      <td>2019-02-21 23:03:42</td>\n",
       "      <td>18529</td>\n",
       "      <td>28775</td>\n",
       "      <td>13</td>\n",
       "      <td>12</td>\n",
       "      <td>34</td>\n",
       "      <td>2019-02-21 23:03:42</td>\n",
       "      <td>2</td>\n",
       "      <td>3</td>\n",
       "      <td>age:217,601,79,202,837,942,638,394,347,731,739...</td>\n",
       "    </tr>\n",
       "    <tr>\n",
       "      <th>2</th>\n",
       "      <td>347637</td>\n",
       "      <td>2019-02-21 23:03:42</td>\n",
       "      <td>18529</td>\n",
       "      <td>28775</td>\n",
       "      <td>13</td>\n",
       "      <td>12</td>\n",
       "      <td>34</td>\n",
       "      <td>2019-02-21 23:03:42</td>\n",
       "      <td>2</td>\n",
       "      <td>4</td>\n",
       "      <td>281474976694272,281474976694272,28147497669427...</td>\n",
       "    </tr>\n",
       "    <tr>\n",
       "      <th>3</th>\n",
       "      <td>347637</td>\n",
       "      <td>2019-02-21 23:03:42</td>\n",
       "      <td>18529</td>\n",
       "      <td>28775</td>\n",
       "      <td>13</td>\n",
       "      <td>12</td>\n",
       "      <td>34</td>\n",
       "      <td>2019-02-22 23:37:02</td>\n",
       "      <td>1</td>\n",
       "      <td>1</td>\n",
       "      <td>0</td>\n",
       "    </tr>\n",
       "    <tr>\n",
       "      <th>4</th>\n",
       "      <td>347637</td>\n",
       "      <td>2019-02-21 23:03:42</td>\n",
       "      <td>18529</td>\n",
       "      <td>28775</td>\n",
       "      <td>13</td>\n",
       "      <td>12</td>\n",
       "      <td>34</td>\n",
       "      <td>2019-02-23 00:13:15</td>\n",
       "      <td>1</td>\n",
       "      <td>2</td>\n",
       "      <td>100</td>\n",
       "    </tr>\n",
       "  </tbody>\n",
       "</table>\n",
       "</div>"
      ],
      "text/plain": [
       "     广告id                 创建时间  广告账户id   商品id  商品类型  广告行业id  素材尺寸  \\\n",
       "0  347637  2019-02-21 23:03:42   18529  28775    13      12    34   \n",
       "1  347637  2019-02-21 23:03:42   18529  28775    13      12    34   \n",
       "2  347637  2019-02-21 23:03:42   18529  28775    13      12    34   \n",
       "3  347637  2019-02-21 23:03:42   18529  28775    13      12    34   \n",
       "4  347637  2019-02-21 23:03:42   18529  28775    13      12    34   \n",
       "\n",
       "               创建/修改时间  操作类型  修改字段  \\\n",
       "0  2019-02-21 23:03:42     2     2   \n",
       "1  2019-02-21 23:03:42     2     3   \n",
       "2  2019-02-21 23:03:42     2     4   \n",
       "3  2019-02-22 23:37:02     1     1   \n",
       "4  2019-02-23 00:13:15     1     2   \n",
       "\n",
       "                                             操作后的字段值  \n",
       "0                                                100  \n",
       "1  age:217,601,79,202,837,942,638,394,347,731,739...  \n",
       "2  281474976694272,281474976694272,28147497669427...  \n",
       "3                                                  0  \n",
       "4                                                100  "
      ]
     },
     "execution_count": 8,
     "metadata": {},
     "output_type": "execute_result"
    }
   ],
   "source": [
    "ad_operation.head()"
   ]
  },
  {
   "cell_type": "code",
   "execution_count": 9,
   "metadata": {},
   "outputs": [
    {
     "data": {
      "text/plain": [
       "(614182, 11)"
      ]
     },
     "execution_count": 9,
     "metadata": {},
     "output_type": "execute_result"
    }
   ],
   "source": [
    "ad_operation.shape"
   ]
  },
  {
   "cell_type": "code",
   "execution_count": 10,
   "metadata": {},
   "outputs": [
    {
     "name": "stdout",
     "output_type": "stream",
     "text": [
      "<class 'pandas.core.frame.DataFrame'>\n",
      "RangeIndex: 614182 entries, 0 to 614181\n",
      "Data columns (total 11 columns):\n",
      "广告id       614182 non-null int64\n",
      "创建时间       614182 non-null object\n",
      "广告账户id     614182 non-null int64\n",
      "商品id       614182 non-null int64\n",
      "商品类型       614182 non-null int64\n",
      "广告行业id     614182 non-null int64\n",
      "素材尺寸       614182 non-null int64\n",
      "创建/修改时间    614182 non-null object\n",
      "操作类型       614182 non-null int64\n",
      "修改字段       614182 non-null int64\n",
      "操作后的字段值    614182 non-null object\n",
      "dtypes: int64(8), object(3)\n",
      "memory usage: 51.5+ MB\n"
     ]
    }
   ],
   "source": [
    "ad_operation.info()"
   ]
  },
  {
   "cell_type": "markdown",
   "metadata": {},
   "source": [
    "### 为ad_static增加三列： 人群定向 投放时段 广告状态"
   ]
  },
  {
   "cell_type": "code",
   "execution_count": 5,
   "metadata": {},
   "outputs": [
    {
     "data": {
      "text/plain": [
       "['广告id', '创建时间', '广告账户id', '商品id', '商品类型', '广告行业id', '素材尺寸']"
      ]
     },
     "execution_count": 5,
     "metadata": {},
     "output_type": "execute_result"
    }
   ],
   "source": [
    "col_names = ad_static.columns.tolist()\n",
    "col_names"
   ]
  },
  {
   "cell_type": "code",
   "execution_count": 6,
   "metadata": {},
   "outputs": [
    {
     "data": {
      "text/html": [
       "<div>\n",
       "<style scoped>\n",
       "    .dataframe tbody tr th:only-of-type {\n",
       "        vertical-align: middle;\n",
       "    }\n",
       "\n",
       "    .dataframe tbody tr th {\n",
       "        vertical-align: top;\n",
       "    }\n",
       "\n",
       "    .dataframe thead th {\n",
       "        text-align: right;\n",
       "    }\n",
       "</style>\n",
       "<table border=\"1\" class=\"dataframe\">\n",
       "  <thead>\n",
       "    <tr style=\"text-align: right;\">\n",
       "      <th></th>\n",
       "      <th>广告id</th>\n",
       "      <th>创建时间</th>\n",
       "      <th>广告账户id</th>\n",
       "      <th>商品id</th>\n",
       "      <th>商品类型</th>\n",
       "      <th>广告行业id</th>\n",
       "      <th>素材尺寸</th>\n",
       "      <th>人群定向</th>\n",
       "      <th>投放时段</th>\n",
       "      <th>广告状态</th>\n",
       "    </tr>\n",
       "  </thead>\n",
       "  <tbody>\n",
       "    <tr>\n",
       "      <th>0</th>\n",
       "      <td>233649</td>\n",
       "      <td>2018-09-29 11:52:16</td>\n",
       "      <td>25681</td>\n",
       "      <td>7356</td>\n",
       "      <td>13</td>\n",
       "      <td>136</td>\n",
       "      <td>1</td>\n",
       "      <td>NaN</td>\n",
       "      <td>NaN</td>\n",
       "      <td>NaN</td>\n",
       "    </tr>\n",
       "    <tr>\n",
       "      <th>1</th>\n",
       "      <td>547531</td>\n",
       "      <td>2019-02-21 06:37:00</td>\n",
       "      <td>20696</td>\n",
       "      <td>-1</td>\n",
       "      <td>1</td>\n",
       "      <td>186</td>\n",
       "      <td>40</td>\n",
       "      <td>NaN</td>\n",
       "      <td>NaN</td>\n",
       "      <td>NaN</td>\n",
       "    </tr>\n",
       "    <tr>\n",
       "      <th>2</th>\n",
       "      <td>707841</td>\n",
       "      <td>2019-03-06 07:37:37</td>\n",
       "      <td>3968</td>\n",
       "      <td>-1</td>\n",
       "      <td>3</td>\n",
       "      <td>186</td>\n",
       "      <td>40</td>\n",
       "      <td>NaN</td>\n",
       "      <td>NaN</td>\n",
       "      <td>NaN</td>\n",
       "    </tr>\n",
       "    <tr>\n",
       "      <th>3</th>\n",
       "      <td>733436</td>\n",
       "      <td>2019-03-19 06:37:06</td>\n",
       "      <td>22405</td>\n",
       "      <td>31722</td>\n",
       "      <td>5</td>\n",
       "      <td>117</td>\n",
       "      <td>64</td>\n",
       "      <td>NaN</td>\n",
       "      <td>NaN</td>\n",
       "      <td>NaN</td>\n",
       "    </tr>\n",
       "    <tr>\n",
       "      <th>4</th>\n",
       "      <td>249105</td>\n",
       "      <td>2019-03-15 09:23:16</td>\n",
       "      <td>11360</td>\n",
       "      <td>29999</td>\n",
       "      <td>18</td>\n",
       "      <td>145</td>\n",
       "      <td>44</td>\n",
       "      <td>NaN</td>\n",
       "      <td>NaN</td>\n",
       "      <td>NaN</td>\n",
       "    </tr>\n",
       "  </tbody>\n",
       "</table>\n",
       "</div>"
      ],
      "text/plain": [
       "     广告id                 创建时间  广告账户id   商品id  商品类型  广告行业id 素材尺寸  人群定向  投放时段  \\\n",
       "0  233649  2018-09-29 11:52:16   25681   7356    13     136    1   NaN   NaN   \n",
       "1  547531  2019-02-21 06:37:00   20696     -1     1     186   40   NaN   NaN   \n",
       "2  707841  2019-03-06 07:37:37    3968     -1     3     186   40   NaN   NaN   \n",
       "3  733436  2019-03-19 06:37:06   22405  31722     5     117   64   NaN   NaN   \n",
       "4  249105  2019-03-15 09:23:16   11360  29999    18     145   44   NaN   NaN   \n",
       "\n",
       "   广告状态  \n",
       "0   NaN  \n",
       "1   NaN  \n",
       "2   NaN  \n",
       "3   NaN  \n",
       "4   NaN  "
      ]
     },
     "execution_count": 6,
     "metadata": {},
     "output_type": "execute_result"
    }
   ],
   "source": [
    "col_names.append('人群定向')\n",
    "col_names.append('投放时段')\n",
    "col_names.append('广告状态')\n",
    "ad_static = ad_static.reindex(columns=col_names)\n",
    "ad_static.head()"
   ]
  },
  {
   "cell_type": "code",
   "execution_count": 49,
   "metadata": {},
   "outputs": [
    {
     "name": "stdout",
     "output_type": "stream",
     "text": [
      "<class 'pandas.core.frame.DataFrame'>\n",
      "RangeIndex: 502153 entries, 0 to 502152\n",
      "Data columns (total 10 columns):\n",
      "广告id      502153 non-null int64\n",
      "创建时间      502153 non-null object\n",
      "广告账户id    502153 non-null int64\n",
      "商品id      502153 non-null int64\n",
      "商品类型      502153 non-null int64\n",
      "广告行业id    502153 non-null int64\n",
      "素材尺寸      502153 non-null object\n",
      "人群定向      0 non-null float64\n",
      "投放时段      0 non-null float64\n",
      "广告状态      0 non-null float64\n",
      "dtypes: float64(3), int64(5), object(2)\n",
      "memory usage: 38.3+ MB\n"
     ]
    }
   ],
   "source": [
    "ad_static.info()"
   ]
  },
  {
   "cell_type": "code",
   "execution_count": 7,
   "metadata": {},
   "outputs": [],
   "source": []
  },
  {
   "cell_type": "markdown",
   "metadata": {},
   "source": [
    "### 操作测试： 修改列名，定位id，根据广告id定位行"
   ]
  },
  {
   "cell_type": "code",
   "execution_count": 20,
   "metadata": {},
   "outputs": [
    {
     "data": {
      "text/html": [
       "<div>\n",
       "<style scoped>\n",
       "    .dataframe tbody tr th:only-of-type {\n",
       "        vertical-align: middle;\n",
       "    }\n",
       "\n",
       "    .dataframe tbody tr th {\n",
       "        vertical-align: top;\n",
       "    }\n",
       "\n",
       "    .dataframe thead th {\n",
       "        text-align: right;\n",
       "    }\n",
       "</style>\n",
       "<table border=\"1\" class=\"dataframe\">\n",
       "  <thead>\n",
       "    <tr style=\"text-align: right;\">\n",
       "      <th></th>\n",
       "      <th>广告id</th>\n",
       "      <th>创建时间</th>\n",
       "      <th>广告账户id</th>\n",
       "      <th>商品id</th>\n",
       "      <th>商品类型</th>\n",
       "      <th>广告行业id</th>\n",
       "      <th>素材尺寸</th>\n",
       "      <th>人群定向</th>\n",
       "      <th>投放时段</th>\n",
       "      <th>广告状态</th>\n",
       "    </tr>\n",
       "  </thead>\n",
       "  <tbody>\n",
       "    <tr>\n",
       "      <th>0</th>\n",
       "      <td>0</td>\n",
       "      <td>0</td>\n",
       "      <td>0</td>\n",
       "      <td>0</td>\n",
       "      <td>0</td>\n",
       "      <td>0</td>\n",
       "      <td>0</td>\n",
       "      <td>0</td>\n",
       "      <td>0</td>\n",
       "      <td>0</td>\n",
       "    </tr>\n",
       "  </tbody>\n",
       "</table>\n",
       "</div>"
      ],
      "text/plain": [
       "   广告id  创建时间  广告账户id  商品id  商品类型  广告行业id  素材尺寸  人群定向  投放时段  广告状态\n",
       "0     0     0       0     0     0       0     0     0     0     0"
      ]
     },
     "execution_count": 20,
     "metadata": {},
     "output_type": "execute_result"
    }
   ],
   "source": [
    "pd1_values = [0] * ad_static.shape[1]\n",
    "pd1 = pd.DataFrame(pd1_values).T\n",
    "pd1.columns = ad_static.columns\n",
    "pd1"
   ]
  },
  {
   "cell_type": "code",
   "execution_count": 21,
   "metadata": {},
   "outputs": [
    {
     "data": {
      "text/html": [
       "<div>\n",
       "<style scoped>\n",
       "    .dataframe tbody tr th:only-of-type {\n",
       "        vertical-align: middle;\n",
       "    }\n",
       "\n",
       "    .dataframe tbody tr th {\n",
       "        vertical-align: top;\n",
       "    }\n",
       "\n",
       "    .dataframe thead th {\n",
       "        text-align: right;\n",
       "    }\n",
       "</style>\n",
       "<table border=\"1\" class=\"dataframe\">\n",
       "  <thead>\n",
       "    <tr style=\"text-align: right;\">\n",
       "      <th></th>\n",
       "      <th>广告id</th>\n",
       "      <th>创建时间</th>\n",
       "      <th>广告账户id</th>\n",
       "      <th>商品id</th>\n",
       "      <th>商品类型</th>\n",
       "      <th>广告行业id</th>\n",
       "      <th>素材尺寸</th>\n",
       "      <th>人群定向</th>\n",
       "      <th>投放时段</th>\n",
       "      <th>广告状态</th>\n",
       "    </tr>\n",
       "  </thead>\n",
       "  <tbody>\n",
       "    <tr>\n",
       "      <th>0</th>\n",
       "      <td>233649</td>\n",
       "      <td>2018-09-29 11:52:16</td>\n",
       "      <td>25681</td>\n",
       "      <td>7356</td>\n",
       "      <td>13</td>\n",
       "      <td>136</td>\n",
       "      <td>1</td>\n",
       "      <td>0</td>\n",
       "      <td>0</td>\n",
       "      <td>0</td>\n",
       "    </tr>\n",
       "  </tbody>\n",
       "</table>\n",
       "</div>"
      ],
      "text/plain": [
       "     广告id                 创建时间  广告账户id  商品id  商品类型  广告行业id 素材尺寸  人群定向  投放时段  \\\n",
       "0  233649  2018-09-29 11:52:16   25681  7356    13     136    1     0     0   \n",
       "\n",
       "   广告状态  \n",
       "0     0  "
      ]
     },
     "execution_count": 21,
     "metadata": {},
     "output_type": "execute_result"
    }
   ],
   "source": [
    "pd1.iloc[0,:7] = ad_static.iloc[0, :7]\n",
    "pd1"
   ]
  },
  {
   "cell_type": "code",
   "execution_count": 91,
   "metadata": {},
   "outputs": [
    {
     "data": {
      "text/plain": [
       "17"
      ]
     },
     "execution_count": 91,
     "metadata": {},
     "output_type": "execute_result"
    }
   ],
   "source": [
    "curr_id = ad_operation.loc[0 ,'广告id']\n",
    "curr_row = ad_static[ad_static.广告id== curr_id].index.tolist()[0]\n",
    "curr_row"
   ]
  },
  {
   "cell_type": "code",
   "execution_count": 92,
   "metadata": {},
   "outputs": [
    {
     "data": {
      "text/plain": [
       "广告id                   347637\n",
       "创建时间      2019-02-21 23:03:42\n",
       "广告账户id                  18529\n",
       "商品id                    28775\n",
       "商品类型                       13\n",
       "广告行业id                     12\n",
       "素材尺寸                       34\n",
       "人群定向                      NaN\n",
       "投放时段                      NaN\n",
       "广告状态                      NaN\n",
       "Name: 17, dtype: object"
      ]
     },
     "execution_count": 92,
     "metadata": {},
     "output_type": "execute_result"
    }
   ],
   "source": [
    "ad_static.iloc[17]"
   ]
  },
  {
   "cell_type": "markdown",
   "metadata": {},
   "source": [
    "### 对广告静态文件执行广告操作文件中的每一个操作\n",
    "\n",
    "1. 操作类型1： 初始化属性\n",
    "2. 操作类型2： 更改属性"
   ]
  },
  {
   "cell_type": "code",
   "execution_count": 9,
   "metadata": {},
   "outputs": [
    {
     "name": "stderr",
     "output_type": "stream",
     "text": [
      "100%|██████████| 614182/614182 [26:49:31<00:00,  3.49it/s]\n"
     ]
    }
   ],
   "source": [
    "for i in tqdm(range(ad_operation.shape[0])):\n",
    "    # 得到广告id，和其在ad_static中的index\n",
    "    curr_id = ad_operation.loc[i, '广告id']\n",
    "    static_row = ad_static[ad_static.广告id == curr_id].index.tolist()[0]\n",
    "    changedFeature = ' '\n",
    "    if ad_operation.loc[i, '修改字段']==1:\n",
    "        changedFeature = '广告状态'\n",
    "    elif ad_operation.loc[i,'修改字段'] == 2:\n",
    "        changedFeature = '出价'\n",
    "    elif ad_operation.loc[i,  '修改字段'] == 3:\n",
    "        changedFeature = '人群定向'\n",
    "    else:\n",
    "        changedFeature = '投放时段'\n",
    "        \n",
    "    # 初始化属性,并更新创建时间\n",
    "    if ad_operation.loc[i, '操作类型'] == 1:    \n",
    "        ad_static.loc[static_row, changedFeature] = ad_operation.loc[i, '操作后的字段值']\n",
    "        ad_static.loc[static_row, '创建时间'] = ad_operation.loc[i, '创建/修改时间']\n",
    "        #print('{}:  {} changed to {}'.format(curr_id, changedFeature, ad_operation.loc[i, '操作后的字段值']))\n",
    "    # 修改属性 生成新的纪录\n",
    "    else:       \n",
    "        pd1_values = [0] * ad_static.shape[1]\n",
    "        pd1 = pd.DataFrame(pd1_values).T\n",
    "        pd1.columns = ad_static.columns\n",
    "        pd1.iloc[0,:7] = ad_static.iloc[static_row, :7]\n",
    "        pd1.loc[0, '创建时间'] = ad_operation.loc[i, '创建/修改时间']\n",
    "        pd1.loc[0, changedFeature] = ad_operation.loc[i, '操作后的字段值']\n",
    "        ad_static = ad_static.append(pd1, ignore_index=True, sort=False)\n",
    "        #print(f'{curr_id}: appended')"
   ]
  },
  {
   "cell_type": "code",
   "execution_count": 11,
   "metadata": {},
   "outputs": [
    {
     "data": {
      "text/plain": [
       "(588901, 11)"
      ]
     },
     "execution_count": 11,
     "metadata": {},
     "output_type": "execute_result"
    }
   ],
   "source": [
    "ad_static.shape"
   ]
  },
  {
   "cell_type": "code",
   "execution_count": 14,
   "metadata": {},
   "outputs": [
    {
     "data": {
      "text/html": [
       "<div>\n",
       "<style scoped>\n",
       "    .dataframe tbody tr th:only-of-type {\n",
       "        vertical-align: middle;\n",
       "    }\n",
       "\n",
       "    .dataframe tbody tr th {\n",
       "        vertical-align: top;\n",
       "    }\n",
       "\n",
       "    .dataframe thead th {\n",
       "        text-align: right;\n",
       "    }\n",
       "</style>\n",
       "<table border=\"1\" class=\"dataframe\">\n",
       "  <thead>\n",
       "    <tr style=\"text-align: right;\">\n",
       "      <th></th>\n",
       "      <th>广告id</th>\n",
       "      <th>创建时间</th>\n",
       "      <th>广告账户id</th>\n",
       "      <th>商品id</th>\n",
       "      <th>商品类型</th>\n",
       "      <th>广告行业id</th>\n",
       "      <th>素材尺寸</th>\n",
       "      <th>人群定向</th>\n",
       "      <th>投放时段</th>\n",
       "      <th>广告状态</th>\n",
       "      <th>出价</th>\n",
       "    </tr>\n",
       "  </thead>\n",
       "  <tbody>\n",
       "    <tr>\n",
       "      <th>0</th>\n",
       "      <td>233649</td>\n",
       "      <td>2018-09-29 11:52:16</td>\n",
       "      <td>25681</td>\n",
       "      <td>7356</td>\n",
       "      <td>13</td>\n",
       "      <td>136</td>\n",
       "      <td>1</td>\n",
       "      <td>NaN</td>\n",
       "      <td>NaN</td>\n",
       "      <td>NaN</td>\n",
       "      <td>NaN</td>\n",
       "    </tr>\n",
       "    <tr>\n",
       "      <th>1</th>\n",
       "      <td>547531</td>\n",
       "      <td>2019-02-21 06:37:00</td>\n",
       "      <td>20696</td>\n",
       "      <td>-1</td>\n",
       "      <td>1</td>\n",
       "      <td>186</td>\n",
       "      <td>40</td>\n",
       "      <td>NaN</td>\n",
       "      <td>NaN</td>\n",
       "      <td>NaN</td>\n",
       "      <td>NaN</td>\n",
       "    </tr>\n",
       "    <tr>\n",
       "      <th>2</th>\n",
       "      <td>707841</td>\n",
       "      <td>2019-03-06 07:37:37</td>\n",
       "      <td>3968</td>\n",
       "      <td>-1</td>\n",
       "      <td>3</td>\n",
       "      <td>186</td>\n",
       "      <td>40</td>\n",
       "      <td>NaN</td>\n",
       "      <td>NaN</td>\n",
       "      <td>NaN</td>\n",
       "      <td>NaN</td>\n",
       "    </tr>\n",
       "    <tr>\n",
       "      <th>3</th>\n",
       "      <td>733436</td>\n",
       "      <td>2019-03-19 06:37:06</td>\n",
       "      <td>22405</td>\n",
       "      <td>31722</td>\n",
       "      <td>5</td>\n",
       "      <td>117</td>\n",
       "      <td>64</td>\n",
       "      <td>NaN</td>\n",
       "      <td>NaN</td>\n",
       "      <td>NaN</td>\n",
       "      <td>NaN</td>\n",
       "    </tr>\n",
       "    <tr>\n",
       "      <th>4</th>\n",
       "      <td>249105</td>\n",
       "      <td>2019-03-15 09:23:16</td>\n",
       "      <td>11360</td>\n",
       "      <td>29999</td>\n",
       "      <td>18</td>\n",
       "      <td>145</td>\n",
       "      <td>44</td>\n",
       "      <td>NaN</td>\n",
       "      <td>NaN</td>\n",
       "      <td>NaN</td>\n",
       "      <td>NaN</td>\n",
       "    </tr>\n",
       "  </tbody>\n",
       "</table>\n",
       "</div>"
      ],
      "text/plain": [
       "     广告id                 创建时间  广告账户id   商品id  商品类型  广告行业id 素材尺寸 人群定向 投放时段  \\\n",
       "0  233649  2018-09-29 11:52:16   25681   7356    13     136    1  NaN  NaN   \n",
       "1  547531  2019-02-21 06:37:00   20696     -1     1     186   40  NaN  NaN   \n",
       "2  707841  2019-03-06 07:37:37    3968     -1     3     186   40  NaN  NaN   \n",
       "3  733436  2019-03-19 06:37:06   22405  31722     5     117   64  NaN  NaN   \n",
       "4  249105  2019-03-15 09:23:16   11360  29999    18     145   44  NaN  NaN   \n",
       "\n",
       "  广告状态   出价  \n",
       "0  NaN  NaN  \n",
       "1  NaN  NaN  \n",
       "2  NaN  NaN  \n",
       "3  NaN  NaN  \n",
       "4  NaN  NaN  "
      ]
     },
     "execution_count": 14,
     "metadata": {},
     "output_type": "execute_result"
    }
   ],
   "source": [
    "ad_static.head()"
   ]
  },
  {
   "cell_type": "code",
   "execution_count": 15,
   "metadata": {},
   "outputs": [],
   "source": [
    "ad_static.to_csv('../data/ad_static_all_origin.csv', index=None, encoding='utf-8')"
   ]
  },
  {
   "cell_type": "markdown",
   "metadata": {},
   "source": [
    "### 删除广告状态为0的广告id"
   ]
  },
  {
   "cell_type": "code",
   "execution_count": null,
   "metadata": {},
   "outputs": [],
   "source": [
    "# def deleteADidStatus0(df):\n",
    "#     ret, l = [], len(df)\n",
    "#     for i in range(l):\n",
    "#         if df.loc[i, '广告状态'] == 0:\n",
    "#             ret.append(i)\n",
    "#     # 删除行\n",
    "#     new_df = df.drop(ret, axis=0)\n",
    "#     df.reset_index(drop=True, inplace=True)  # 为了正常访问，重建索引\n",
    "#     return new_df"
   ]
  },
  {
   "cell_type": "code",
   "execution_count": null,
   "metadata": {},
   "outputs": [],
   "source": [
    "#new_ad_static = deleteADidStatus0(ad_static)"
   ]
  },
  {
   "cell_type": "code",
   "execution_count": null,
   "metadata": {},
   "outputs": [],
   "source": [
    "#new_ad_static.shape"
   ]
  },
  {
   "cell_type": "code",
   "execution_count": null,
   "metadata": {},
   "outputs": [],
   "source": [
    "#ad_static.head()"
   ]
  },
  {
   "cell_type": "markdown",
   "metadata": {},
   "source": [
    "### 删除只有修改操作，没有创建操作的广告id"
   ]
  },
  {
   "cell_type": "code",
   "execution_count": 128,
   "metadata": {},
   "outputs": [
    {
     "name": "stdout",
     "output_type": "stream",
     "text": [
      "<class 'pandas.core.frame.DataFrame'>\n",
      "RangeIndex: 100 entries, 0 to 99\n",
      "Data columns (total 2 columns):\n",
      "广告id    100 non-null int64\n",
      "操作类型    100 non-null int64\n",
      "dtypes: int64(2)\n",
      "memory usage: 1.6 KB\n"
     ]
    }
   ],
   "source": [
    "# 测试 提取广告id和操作类型 组成新的dataframe\n",
    "testpd = pd.DataFrame(ad_operation.iloc[:100], columns =['广告id', '操作类型'])\n",
    "testpd.info()"
   ]
  },
  {
   "cell_type": "code",
   "execution_count": 129,
   "metadata": {},
   "outputs": [
    {
     "data": {
      "text/html": [
       "<div>\n",
       "<style scoped>\n",
       "    .dataframe tbody tr th:only-of-type {\n",
       "        vertical-align: middle;\n",
       "    }\n",
       "\n",
       "    .dataframe tbody tr th {\n",
       "        vertical-align: top;\n",
       "    }\n",
       "\n",
       "    .dataframe thead th {\n",
       "        text-align: right;\n",
       "    }\n",
       "</style>\n",
       "<table border=\"1\" class=\"dataframe\">\n",
       "  <thead>\n",
       "    <tr style=\"text-align: right;\">\n",
       "      <th></th>\n",
       "      <th>广告id</th>\n",
       "      <th>操作类型</th>\n",
       "    </tr>\n",
       "  </thead>\n",
       "  <tbody>\n",
       "    <tr>\n",
       "      <th>0</th>\n",
       "      <td>347637</td>\n",
       "      <td>2</td>\n",
       "    </tr>\n",
       "    <tr>\n",
       "      <th>1</th>\n",
       "      <td>347637</td>\n",
       "      <td>2</td>\n",
       "    </tr>\n",
       "    <tr>\n",
       "      <th>2</th>\n",
       "      <td>347637</td>\n",
       "      <td>2</td>\n",
       "    </tr>\n",
       "    <tr>\n",
       "      <th>3</th>\n",
       "      <td>347637</td>\n",
       "      <td>1</td>\n",
       "    </tr>\n",
       "    <tr>\n",
       "      <th>4</th>\n",
       "      <td>347637</td>\n",
       "      <td>1</td>\n",
       "    </tr>\n",
       "  </tbody>\n",
       "</table>\n",
       "</div>"
      ],
      "text/plain": [
       "     广告id 操作类型\n",
       "0  347637    2\n",
       "1  347637    2\n",
       "2  347637    2\n",
       "3  347637    1\n",
       "4  347637    1"
      ]
     },
     "execution_count": 129,
     "metadata": {},
     "output_type": "execute_result"
    },
    {
     "name": "stdout",
     "output_type": "stream",
     "text": [
      "<class 'pandas.core.frame.DataFrame'>\n",
      "RangeIndex: 100 entries, 0 to 99\n",
      "Data columns (total 2 columns):\n",
      "广告id    100 non-null int64\n",
      "操作类型    100 non-null object\n",
      "dtypes: int64(1), object(1)\n",
      "memory usage: 1.6+ KB\n"
     ]
    }
   ],
   "source": [
    "testpd['操作类型'] = testpd['操作类型'].astype('str')\n",
    "testpd.head()\n",
    "testpd.info()"
   ]
  },
  {
   "cell_type": "code",
   "execution_count": 130,
   "metadata": {},
   "outputs": [
    {
     "data": {
      "text/html": [
       "<div>\n",
       "<style scoped>\n",
       "    .dataframe tbody tr th:only-of-type {\n",
       "        vertical-align: middle;\n",
       "    }\n",
       "\n",
       "    .dataframe tbody tr th {\n",
       "        vertical-align: top;\n",
       "    }\n",
       "\n",
       "    .dataframe thead th {\n",
       "        text-align: right;\n",
       "    }\n",
       "</style>\n",
       "<table border=\"1\" class=\"dataframe\">\n",
       "  <thead>\n",
       "    <tr style=\"text-align: right;\">\n",
       "      <th></th>\n",
       "      <th>广告id</th>\n",
       "      <th>操作类型</th>\n",
       "    </tr>\n",
       "  </thead>\n",
       "  <tbody>\n",
       "    <tr>\n",
       "      <th>0</th>\n",
       "      <td>281688</td>\n",
       "      <td>22211111111111111111111111111111111111</td>\n",
       "    </tr>\n",
       "    <tr>\n",
       "      <th>1</th>\n",
       "      <td>288207</td>\n",
       "      <td>2221111</td>\n",
       "    </tr>\n",
       "    <tr>\n",
       "      <th>2</th>\n",
       "      <td>327801</td>\n",
       "      <td>2221111111111111111111</td>\n",
       "    </tr>\n",
       "    <tr>\n",
       "      <th>3</th>\n",
       "      <td>347637</td>\n",
       "      <td>2221111111111111111111111</td>\n",
       "    </tr>\n",
       "    <tr>\n",
       "      <th>4</th>\n",
       "      <td>449295</td>\n",
       "      <td>22211111</td>\n",
       "    </tr>\n",
       "  </tbody>\n",
       "</table>\n",
       "</div>"
      ],
      "text/plain": [
       "     广告id                                    操作类型\n",
       "0  281688  22211111111111111111111111111111111111\n",
       "1  288207                                 2221111\n",
       "2  327801                  2221111111111111111111\n",
       "3  347637               2221111111111111111111111\n",
       "4  449295                                22211111"
      ]
     },
     "execution_count": 130,
     "metadata": {},
     "output_type": "execute_result"
    }
   ],
   "source": [
    "testpd = pd.pivot_table(testpd, index=['广告id'], aggfunc='sum')\n",
    "testpd = testpd.reset_index()\n",
    "testpd"
   ]
  },
  {
   "cell_type": "code",
   "execution_count": 131,
   "metadata": {},
   "outputs": [],
   "source": [
    "testpd = testpd.append(pd.DataFrame({'广告id':145451,'操作类型':'223333'},pd.Index(['5'])))\n",
    "testpd = testpd.reset_index()"
   ]
  },
  {
   "cell_type": "code",
   "execution_count": 132,
   "metadata": {},
   "outputs": [
    {
     "data": {
      "text/html": [
       "<div>\n",
       "<style scoped>\n",
       "    .dataframe tbody tr th:only-of-type {\n",
       "        vertical-align: middle;\n",
       "    }\n",
       "\n",
       "    .dataframe tbody tr th {\n",
       "        vertical-align: top;\n",
       "    }\n",
       "\n",
       "    .dataframe thead th {\n",
       "        text-align: right;\n",
       "    }\n",
       "</style>\n",
       "<table border=\"1\" class=\"dataframe\">\n",
       "  <thead>\n",
       "    <tr style=\"text-align: right;\">\n",
       "      <th></th>\n",
       "      <th>index</th>\n",
       "      <th>广告id</th>\n",
       "      <th>操作类型</th>\n",
       "    </tr>\n",
       "  </thead>\n",
       "  <tbody>\n",
       "    <tr>\n",
       "      <th>0</th>\n",
       "      <td>0</td>\n",
       "      <td>281688</td>\n",
       "      <td>22211111111111111111111111111111111111</td>\n",
       "    </tr>\n",
       "    <tr>\n",
       "      <th>1</th>\n",
       "      <td>1</td>\n",
       "      <td>288207</td>\n",
       "      <td>2221111</td>\n",
       "    </tr>\n",
       "    <tr>\n",
       "      <th>2</th>\n",
       "      <td>2</td>\n",
       "      <td>327801</td>\n",
       "      <td>2221111111111111111111</td>\n",
       "    </tr>\n",
       "    <tr>\n",
       "      <th>3</th>\n",
       "      <td>3</td>\n",
       "      <td>347637</td>\n",
       "      <td>2221111111111111111111111</td>\n",
       "    </tr>\n",
       "    <tr>\n",
       "      <th>4</th>\n",
       "      <td>4</td>\n",
       "      <td>449295</td>\n",
       "      <td>22211111</td>\n",
       "    </tr>\n",
       "    <tr>\n",
       "      <th>5</th>\n",
       "      <td>5</td>\n",
       "      <td>145451</td>\n",
       "      <td>223333</td>\n",
       "    </tr>\n",
       "  </tbody>\n",
       "</table>\n",
       "</div>"
      ],
      "text/plain": [
       "  index    广告id                                    操作类型\n",
       "0     0  281688  22211111111111111111111111111111111111\n",
       "1     1  288207                                 2221111\n",
       "2     2  327801                  2221111111111111111111\n",
       "3     3  347637               2221111111111111111111111\n",
       "4     4  449295                                22211111\n",
       "5     5  145451                                  223333"
      ]
     },
     "execution_count": 132,
     "metadata": {},
     "output_type": "execute_result"
    }
   ],
   "source": [
    "testpd"
   ]
  },
  {
   "cell_type": "code",
   "execution_count": 133,
   "metadata": {},
   "outputs": [
    {
     "data": {
      "text/plain": [
       "[5]"
      ]
     },
     "execution_count": 133,
     "metadata": {},
     "output_type": "execute_result"
    }
   ],
   "source": [
    "ret = []\n",
    "for i in range(len(testpd)):\n",
    "    ops = testpd.loc[i, '操作类型']\n",
    "    if '1' not in ops:\n",
    "        ret.append(i)\n",
    "ret"
   ]
  },
  {
   "cell_type": "code",
   "execution_count": 135,
   "metadata": {},
   "outputs": [
    {
     "name": "stderr",
     "output_type": "stream",
     "text": [
      "/home/ren/anaconda3/envs/phi/lib/python3.7/site-packages/ipykernel_launcher.py:18: SettingWithCopyWarning: \n",
      "A value is trying to be set on a copy of a slice from a DataFrame.\n",
      "Try using .loc[row_indexer,col_indexer] = value instead\n",
      "\n",
      "See the caveats in the documentation: http://pandas.pydata.org/pandas-docs/stable/indexing.html#indexing-view-versus-copy\n",
      "100%|██████████| 29647/29647 [00:00<00:00, 137649.92it/s]"
     ]
    },
    {
     "name": "stdout",
     "output_type": "stream",
     "text": [
      "274 [3230, 12295, 13703, 17420, 31228, 34080, 40481, 44528, 46127, 49849, 51072, 52044, 58649, 62740, 65467, 68255, 75021, 75370, 75800, 78055, 81107, 84616, 85815, 87117, 88292, 91653, 93998, 96575, 100738, 100830, 109347, 109739, 112747, 116744, 119893, 123461, 126242, 129220, 130000, 132454, 133399, 136665, 137700, 143637, 146411, 150825, 150994, 151787, 153288, 162264, 171906, 175211, 176106, 178318, 179766, 180773, 180817, 181226, 183547, 184191, 195469, 209395, 211284, 213508, 215744, 215963, 217972, 222852, 228518, 229183, 232221, 233203, 236495, 242665, 250598, 257105, 258928, 261296, 266435, 271703, 276078, 278853, 283190, 283932, 290542, 291714, 298905, 314404, 317118, 317783, 318045, 318291, 318299, 320981, 323188, 324000, 331331, 333534, 338500, 341894, 344122, 344142, 345669, 346255, 349041, 350865, 351329, 353664, 354334, 354913, 357380, 358512, 360274, 365441, 368294, 368411, 369145, 370143, 370194, 370338, 370640, 380234, 383289, 383983, 385916, 387608, 389028, 389541, 390918, 395502, 395934, 396853, 398487, 400501, 406968, 410638, 419074, 427376, 429609, 434441, 439570, 442052, 444272, 444615, 445320, 447948, 450069, 450947, 452494, 453443, 455976, 458030, 458039, 458638, 459186, 462885, 463486, 468716, 472454, 473920, 475769, 478658, 480665, 482462, 484252, 484642, 487085, 487702, 490752, 491373, 493119, 494684, 495265, 499917, 502250, 502580, 502659, 505747, 506163, 506431, 506462, 507241, 508305, 510574, 510923, 520311, 523145, 523524, 524917, 526718, 529861, 533672, 535015, 537520, 539291, 542560, 546580, 550359, 551642, 554070, 556338, 557604, 559139, 561619, 561640, 561962, 562893, 564042, 564646, 566283, 566611, 570984, 572135, 579564, 581383, 587740, 589236, 601456, 604073, 604436, 608052, 611876, 612957, 619418, 619476, 620613, 623045, 626786, 626986, 630654, 633901, 634184, 634863, 635895, 640078, 646730, 648950, 649111, 649860, 651368, 651826, 656038, 656281, 656412, 657316, 658135, 662500, 668673, 668738, 669921, 670641, 670834, 673785, 678270, 678608, 687226, 687900, 689303, 692299, 694589, 695212, 704023, 704726, 705381, 706464, 710678, 711836, 714729, 719982, 723815, 725988, 729154, 729461, 733419]\n"
     ]
    },
    {
     "name": "stderr",
     "output_type": "stream",
     "text": [
      "\n"
     ]
    }
   ],
   "source": [
    "# 使用字典\n",
    "# op_dict = {}\n",
    "# retid, l = [], len(new_ad_static)\n",
    "# for i in tqdm(range(l)):\n",
    "#     if df.loc[i,'广告id'] in op_dict.keys():\n",
    "#         op_dict[df.loc[i, '广告id']].append(df.loc[i, '广告状态'])\n",
    "#     else:\n",
    "#         op_dict[df.loc[i, '广告id']] = [df.loc[i, '广告状态']]\n",
    "# print(len(op_dict.keys())\n",
    "# for key in op_dict.keys():\n",
    "#       if 1 not in op_dict[key]:\n",
    "#           retid.append(key)\n",
    "# print(len(retid))\n",
    "# ret = new_ad_static[new_ad_static.广告id in retid].index.tolist()\n",
    "      \n",
    "# 优化，使用pandas操作\n",
    "temp = ad_operation[['广告id', '操作类型']]\n",
    "temp['操作类型'] = temp['操作类型'].astype('str')\n",
    "temp = pd.pivot_table(temp, index=['广告id'], aggfunc='sum')\n",
    "temp = temp.reset_index()\n",
    "retid = []\n",
    "for i in tqdm(range(len(temp))):\n",
    "    ops = temp.loc[i, '操作类型']\n",
    "    if '1' not in ops:\n",
    "        retid.append(temp.loc[i, '广告id'])\n",
    "print(len(retid), retid)"
   ]
  },
  {
   "cell_type": "code",
   "execution_count": 136,
   "metadata": {},
   "outputs": [
    {
     "name": "stderr",
     "output_type": "stream",
     "text": [
      "100%|██████████| 588901/588901 [00:08<00:00, 68411.36it/s]\n"
     ]
    }
   ],
   "source": [
    "ret = []\n",
    "\n",
    "for j in tqdm(range(len(ad_static))):\n",
    "    if ad_static.loc[j, '广告id'] in retid:\n",
    "        ret.append(j)\n",
    "new_ad_static = ad_static.drop(ret, axis=0)\n",
    "new_ad_static = new_ad_static.reset_index()"
   ]
  },
  {
   "cell_type": "code",
   "execution_count": 137,
   "metadata": {},
   "outputs": [
    {
     "data": {
      "text/plain": [
       "(587805, 12)"
      ]
     },
     "execution_count": 137,
     "metadata": {},
     "output_type": "execute_result"
    }
   ],
   "source": [
    "new_ad_static.shape"
   ]
  },
  {
   "cell_type": "code",
   "execution_count": 139,
   "metadata": {},
   "outputs": [
    {
     "data": {
      "text/html": [
       "<div>\n",
       "<style scoped>\n",
       "    .dataframe tbody tr th:only-of-type {\n",
       "        vertical-align: middle;\n",
       "    }\n",
       "\n",
       "    .dataframe tbody tr th {\n",
       "        vertical-align: top;\n",
       "    }\n",
       "\n",
       "    .dataframe thead th {\n",
       "        text-align: right;\n",
       "    }\n",
       "</style>\n",
       "<table border=\"1\" class=\"dataframe\">\n",
       "  <thead>\n",
       "    <tr style=\"text-align: right;\">\n",
       "      <th></th>\n",
       "      <th>index</th>\n",
       "      <th>广告id</th>\n",
       "      <th>创建时间</th>\n",
       "      <th>广告账户id</th>\n",
       "      <th>商品id</th>\n",
       "      <th>商品类型</th>\n",
       "      <th>广告行业id</th>\n",
       "      <th>素材尺寸</th>\n",
       "      <th>人群定向</th>\n",
       "      <th>投放时段</th>\n",
       "      <th>广告状态</th>\n",
       "      <th>出价</th>\n",
       "    </tr>\n",
       "  </thead>\n",
       "  <tbody>\n",
       "    <tr>\n",
       "      <th>587800</th>\n",
       "      <td>588896</td>\n",
       "      <td>258747</td>\n",
       "      <td>2018-12-18 12:50:12</td>\n",
       "      <td>20545</td>\n",
       "      <td>3895</td>\n",
       "      <td>13</td>\n",
       "      <td>146</td>\n",
       "      <td>30</td>\n",
       "      <td>age:217,601,79,202,837,942,638,394,347,731,739...</td>\n",
       "      <td>0</td>\n",
       "      <td>0</td>\n",
       "      <td>0</td>\n",
       "    </tr>\n",
       "    <tr>\n",
       "      <th>587801</th>\n",
       "      <td>588897</td>\n",
       "      <td>258747</td>\n",
       "      <td>2018-12-18 12:50:12</td>\n",
       "      <td>20545</td>\n",
       "      <td>3895</td>\n",
       "      <td>13</td>\n",
       "      <td>146</td>\n",
       "      <td>30</td>\n",
       "      <td>0</td>\n",
       "      <td>281474976645120,281474976645120,28147497664512...</td>\n",
       "      <td>0</td>\n",
       "      <td>0</td>\n",
       "    </tr>\n",
       "    <tr>\n",
       "      <th>587802</th>\n",
       "      <td>588898</td>\n",
       "      <td>412811</td>\n",
       "      <td>2019-02-21 21:39:18</td>\n",
       "      <td>17804</td>\n",
       "      <td>26944</td>\n",
       "      <td>13</td>\n",
       "      <td>12</td>\n",
       "      <td>34</td>\n",
       "      <td>0</td>\n",
       "      <td>0</td>\n",
       "      <td>0</td>\n",
       "      <td>200</td>\n",
       "    </tr>\n",
       "    <tr>\n",
       "      <th>587803</th>\n",
       "      <td>588899</td>\n",
       "      <td>412811</td>\n",
       "      <td>2019-02-21 21:39:18</td>\n",
       "      <td>17804</td>\n",
       "      <td>26944</td>\n",
       "      <td>13</td>\n",
       "      <td>12</td>\n",
       "      <td>34</td>\n",
       "      <td>age:217,601,79,202,837,942,638,394,347,731,739...</td>\n",
       "      <td>0</td>\n",
       "      <td>0</td>\n",
       "      <td>0</td>\n",
       "    </tr>\n",
       "    <tr>\n",
       "      <th>587804</th>\n",
       "      <td>588900</td>\n",
       "      <td>412811</td>\n",
       "      <td>2019-02-21 21:39:18</td>\n",
       "      <td>17804</td>\n",
       "      <td>26944</td>\n",
       "      <td>13</td>\n",
       "      <td>12</td>\n",
       "      <td>34</td>\n",
       "      <td>0</td>\n",
       "      <td>281474976694272,281474976694272,28147497669427...</td>\n",
       "      <td>0</td>\n",
       "      <td>0</td>\n",
       "    </tr>\n",
       "  </tbody>\n",
       "</table>\n",
       "</div>"
      ],
      "text/plain": [
       "         index    广告id                 创建时间  广告账户id   商品id  商品类型  广告行业id 素材尺寸  \\\n",
       "587800  588896  258747  2018-12-18 12:50:12   20545   3895    13     146   30   \n",
       "587801  588897  258747  2018-12-18 12:50:12   20545   3895    13     146   30   \n",
       "587802  588898  412811  2019-02-21 21:39:18   17804  26944    13      12   34   \n",
       "587803  588899  412811  2019-02-21 21:39:18   17804  26944    13      12   34   \n",
       "587804  588900  412811  2019-02-21 21:39:18   17804  26944    13      12   34   \n",
       "\n",
       "                                                     人群定向  \\\n",
       "587800  age:217,601,79,202,837,942,638,394,347,731,739...   \n",
       "587801                                                  0   \n",
       "587802                                                  0   \n",
       "587803  age:217,601,79,202,837,942,638,394,347,731,739...   \n",
       "587804                                                  0   \n",
       "\n",
       "                                                     投放时段 广告状态   出价  \n",
       "587800                                                  0    0    0  \n",
       "587801  281474976645120,281474976645120,28147497664512...    0    0  \n",
       "587802                                                  0    0  200  \n",
       "587803                                                  0    0    0  \n",
       "587804  281474976694272,281474976694272,28147497669427...    0    0  "
      ]
     },
     "execution_count": 139,
     "metadata": {},
     "output_type": "execute_result"
    }
   ],
   "source": [
    "new_ad_static.tail()"
   ]
  },
  {
   "cell_type": "code",
   "execution_count": 140,
   "metadata": {},
   "outputs": [],
   "source": [
    "new_ad_static.to_csv('../data/ad_static_all.csv', index=None, encoding='utf-8')"
   ]
  },
  {
   "cell_type": "code",
   "execution_count": null,
   "metadata": {},
   "outputs": [],
   "source": []
  }
 ],
 "metadata": {
  "kernelspec": {
   "display_name": "Python 3",
   "language": "python",
   "name": "python3"
  },
  "language_info": {
   "codemirror_mode": {
    "name": "ipython",
    "version": 3
   },
   "file_extension": ".py",
   "mimetype": "text/x-python",
   "name": "python",
   "nbconvert_exporter": "python",
   "pygments_lexer": "ipython3",
   "version": "3.7.3"
  }
 },
 "nbformat": 4,
 "nbformat_minor": 2
}
