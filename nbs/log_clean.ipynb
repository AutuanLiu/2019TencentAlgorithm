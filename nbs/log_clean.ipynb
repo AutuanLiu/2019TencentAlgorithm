{
 "cells": [
  {
   "cell_type": "code",
   "execution_count": 1,
   "metadata": {},
   "outputs": [],
   "source": [
    "%matplotlib inline\n",
    "%reload_ext autoreload\n",
    "%autoreload 2\n",
    "# 多行输出\n",
    "from IPython.core.interactiveshell import InteractiveShell\n",
    "InteractiveShell.ast_node_interactivity = \"all\""
   ]
  },
  {
   "cell_type": "code",
   "execution_count": 2,
   "metadata": {},
   "outputs": [
    {
     "name": "stderr",
     "output_type": "stream",
     "text": [
      "2019-05-09 16:28:06,117\tINFO node.py:469 -- Process STDOUT and STDERR is being redirected to /tmp/ray/session_2019-05-09_16-28-06_14175/logs.\n",
      "2019-05-09 16:28:06,223\tINFO services.py:407 -- Waiting for redis server at 127.0.0.1:57372 to respond...\n",
      "2019-05-09 16:28:06,333\tINFO services.py:407 -- Waiting for redis server at 127.0.0.1:27260 to respond...\n",
      "2019-05-09 16:28:06,335\tINFO services.py:804 -- Starting Redis shard with 10.0 GB max memory.\n",
      "2019-05-09 16:28:06,345\tINFO node.py:483 -- Process STDOUT and STDERR is being redirected to /tmp/ray/session_2019-05-09_16-28-06_14175/logs.\n",
      "2019-05-09 16:28:06,346\tWARNING services.py:1304 -- WARNING: The object store is using /tmp instead of /dev/shm because /dev/shm has only 33710702592 bytes available. This may slow down performance! You may be able to free up space by deleting files in /dev/shm or terminating any running plasma_store_server processes. If you are inside a Docker container, you may need to pass an argument with the flag '--shm-size' to 'docker run'.\n",
      "2019-05-09 16:28:06,347\tINFO services.py:1427 -- Starting the Plasma object store with 40.0 GB memory using /tmp.\n"
     ]
    }
   ],
   "source": [
    "import modin.pandas as pd\n",
    "from fastai.tabular import *\n",
    "from utils import isVaildDate, is_more, purge_pat_files\n",
    "from tqdm import tqdm, trange"
   ]
  },
  {
   "cell_type": "markdown",
   "metadata": {},
   "source": [
    "## 数据清洗"
   ]
  },
  {
   "cell_type": "code",
   "execution_count": 3,
   "metadata": {},
   "outputs": [
    {
     "data": {
      "text/plain": [
       "PosixPath('../test_A')"
      ]
     },
     "execution_count": 3,
     "metadata": {},
     "output_type": "execute_result"
    },
    {
     "data": {
      "text/plain": [
       "[PosixPath('../test_A/ad_static_feature.out'),\n",
       " PosixPath('../test_A/ad_operation.dat'),\n",
       " PosixPath('../test_A/.ipynb_checkpoints'),\n",
       " PosixPath('../test_A/imps_log'),\n",
       " PosixPath('../test_A/test_sample.dat'),\n",
       " PosixPath('../test_A/user')]"
      ]
     },
     "execution_count": 3,
     "metadata": {},
     "output_type": "execute_result"
    }
   ],
   "source": [
    "root = Path('../test_A')\n",
    "root\n",
    "root.ls()"
   ]
  },
  {
   "cell_type": "code",
   "execution_count": 4,
   "metadata": {},
   "outputs": [
    {
     "data": {
      "text/plain": [
       "[PosixPath('../test_A/user/user_data')]"
      ]
     },
     "execution_count": 4,
     "metadata": {},
     "output_type": "execute_result"
    },
    {
     "data": {
      "text/plain": [
       "[PosixPath('../test_A/imps_log/totalExposureLog.out')]"
      ]
     },
     "execution_count": 4,
     "metadata": {},
     "output_type": "execute_result"
    }
   ],
   "source": [
    "u_data = root/'user'\n",
    "u_data.ls()\n",
    "log_data = root/'imps_log'\n",
    "log_data.ls()"
   ]
  },
  {
   "cell_type": "markdown",
   "metadata": {},
   "source": [
    "- 广告静态数据读入以备用"
   ]
  },
  {
   "cell_type": "code",
   "execution_count": 5,
   "metadata": {},
   "outputs": [],
   "source": [
    "ad_static = pd.read_csv('../data/ad_static.csv', low_memory=False, encoding='utf-8')"
   ]
  },
  {
   "cell_type": "code",
   "execution_count": 6,
   "metadata": {},
   "outputs": [
    {
     "data": {
      "text/plain": [
       "(502153, 7)"
      ]
     },
     "execution_count": 6,
     "metadata": {},
     "output_type": "execute_result"
    },
    {
     "data": {
      "text/html": [
       "<div>\n",
       "<style scoped>\n",
       "    .dataframe tbody tr th:only-of-type {\n",
       "        vertical-align: middle;\n",
       "    }\n",
       "\n",
       "    .dataframe tbody tr th {\n",
       "        vertical-align: top;\n",
       "    }\n",
       "\n",
       "    .dataframe thead th {\n",
       "        text-align: right;\n",
       "    }\n",
       "</style>\n",
       "<table border=\"1\" class=\"dataframe\">\n",
       "  <thead>\n",
       "    <tr style=\"text-align: right;\">\n",
       "      <th></th>\n",
       "      <th>广告id</th>\n",
       "      <th>创建时间</th>\n",
       "      <th>广告账户id</th>\n",
       "      <th>商品id</th>\n",
       "      <th>商品类型</th>\n",
       "      <th>广告行业id</th>\n",
       "      <th>素材尺寸</th>\n",
       "    </tr>\n",
       "  </thead>\n",
       "  <tbody>\n",
       "    <tr>\n",
       "      <th>502148</th>\n",
       "      <td>82588</td>\n",
       "      <td>2019-03-19 03:56:04</td>\n",
       "      <td>21666</td>\n",
       "      <td>21917</td>\n",
       "      <td>18</td>\n",
       "      <td>198</td>\n",
       "      <td>64</td>\n",
       "    </tr>\n",
       "    <tr>\n",
       "      <th>502149</th>\n",
       "      <td>665036</td>\n",
       "      <td>2019-02-21 09:08:35</td>\n",
       "      <td>6184</td>\n",
       "      <td>11633</td>\n",
       "      <td>18</td>\n",
       "      <td>232</td>\n",
       "      <td>64</td>\n",
       "    </tr>\n",
       "    <tr>\n",
       "      <th>502150</th>\n",
       "      <td>491914</td>\n",
       "      <td>2019-01-25 05:01:10</td>\n",
       "      <td>1809</td>\n",
       "      <td>5278</td>\n",
       "      <td>5</td>\n",
       "      <td>232</td>\n",
       "      <td>64</td>\n",
       "    </tr>\n",
       "    <tr>\n",
       "      <th>502151</th>\n",
       "      <td>3990</td>\n",
       "      <td>2019-03-01 08:17:08</td>\n",
       "      <td>4255</td>\n",
       "      <td>3401</td>\n",
       "      <td>18</td>\n",
       "      <td>218</td>\n",
       "      <td>36</td>\n",
       "    </tr>\n",
       "    <tr>\n",
       "      <th>502152</th>\n",
       "      <td>222150</td>\n",
       "      <td>2019-02-28 07:56:53</td>\n",
       "      <td>4250</td>\n",
       "      <td>14527</td>\n",
       "      <td>18</td>\n",
       "      <td>94</td>\n",
       "      <td>36</td>\n",
       "    </tr>\n",
       "  </tbody>\n",
       "</table>\n",
       "</div>"
      ],
      "text/plain": [
       "          广告id                 创建时间  广告账户id   商品id  商品类型  广告行业id 素材尺寸\n",
       "502148   82588  2019-03-19 03:56:04   21666  21917    18     198   64\n",
       "502149  665036  2019-02-21 09:08:35    6184  11633    18     232   64\n",
       "502150  491914  2019-01-25 05:01:10    1809   5278     5     232   64\n",
       "502151    3990  2019-03-01 08:17:08    4255   3401    18     218   36\n",
       "502152  222150  2019-02-28 07:56:53    4250  14527    18      94   36"
      ]
     },
     "execution_count": 6,
     "metadata": {},
     "output_type": "execute_result"
    }
   ],
   "source": [
    "ad_static.shape\n",
    "ad_static.tail()"
   ]
  },
  {
   "cell_type": "markdown",
   "metadata": {},
   "source": [
    "### 历史曝光日志数据文件"
   ]
  },
  {
   "cell_type": "code",
   "execution_count": 7,
   "metadata": {},
   "outputs": [],
   "source": [
    "col_names = ['广告请求id', '广告请求时间', '广告位id', '用户id', '曝光广告id', '曝光广告素材尺寸', '曝光广告出价bid',\n",
    "             '曝光广告pctr', '曝光广告quality_ecpm', '曝光广告totalEcpm']"
   ]
  },
  {
   "cell_type": "code",
   "execution_count": 8,
   "metadata": {},
   "outputs": [],
   "source": [
    "c_sz = 102400"
   ]
  },
  {
   "cell_type": "code",
   "execution_count": 9,
   "metadata": {},
   "outputs": [],
   "source": [
    "logs = pd.read_csv(log_data/'totalExposureLog.out', sep='\\t', header=None, names=col_names, chunksize=c_sz)"
   ]
  },
  {
   "cell_type": "code",
   "execution_count": 10,
   "metadata": {},
   "outputs": [],
   "source": [
    "def invalid_date(df_row, field='广告请求时间'):\n",
    "    \"\"\"是否删除当前行,首先转为时间格式之后再行本操作\"\"\"\n",
    "    if not isVaildDate(str(df_row[field])):\n",
    "        df_row[field] = np.nan\n",
    "    \n",
    "    return df_row"
   ]
  },
  {
   "cell_type": "code",
   "execution_count": null,
   "metadata": {},
   "outputs": [],
   "source": []
  },
  {
   "cell_type": "markdown",
   "metadata": {},
   "source": [
    "- 看下文件信息"
   ]
  },
  {
   "cell_type": "code",
   "execution_count": 11,
   "metadata": {},
   "outputs": [
    {
     "name": "stdout",
     "output_type": "stream",
     "text": [
      "6.2G\t../test_A/imps_log/totalExposureLog.out\n"
     ]
    }
   ],
   "source": [
    "!du -h {log_data}/'totalExposureLog.out'"
   ]
  },
  {
   "cell_type": "code",
   "execution_count": 12,
   "metadata": {},
   "outputs": [],
   "source": [
    "# !cat {log_data}/'totalExposureLog.out' | wc -l"
   ]
  },
  {
   "cell_type": "markdown",
   "metadata": {},
   "source": [
    "6.2G 数据 1亿多行数据"
   ]
  },
  {
   "cell_type": "markdown",
   "metadata": {},
   "source": [
    "- 删除空值 数据量大 考虑删除而不是插值，因为我们不缺数据"
   ]
  },
  {
   "cell_type": "code",
   "execution_count": 13,
   "metadata": {},
   "outputs": [
    {
     "data": {
      "text/plain": [
       "999.870068359375"
      ]
     },
     "execution_count": 13,
     "metadata": {},
     "output_type": "execute_result"
    }
   ],
   "source": [
    "102386695 / 102400"
   ]
  },
  {
   "cell_type": "markdown",
   "metadata": {},
   "source": [
    "- 获取有效广告 id"
   ]
  },
  {
   "cell_type": "code",
   "execution_count": 14,
   "metadata": {},
   "outputs": [],
   "source": [
    "ad_id = ad_static['广告id'].unique()"
   ]
  },
  {
   "cell_type": "code",
   "execution_count": 15,
   "metadata": {},
   "outputs": [
    {
     "data": {
      "text/plain": [
       "(502153,)"
      ]
     },
     "execution_count": 15,
     "metadata": {},
     "output_type": "execute_result"
    }
   ],
   "source": [
    "ad_id.shape"
   ]
  },
  {
   "cell_type": "code",
   "execution_count": 16,
   "metadata": {},
   "outputs": [],
   "source": [
    "def invalid_resquest_ad_id(df_row, field=None):\n",
    "    if df_row[field] in ad_id:\n",
    "        return df_row"
   ]
  },
  {
   "cell_type": "markdown",
   "metadata": {},
   "source": [
    "- 删除非法多值"
   ]
  },
  {
   "cell_type": "code",
   "execution_count": 17,
   "metadata": {},
   "outputs": [],
   "source": [
    "def invalid_more_value(df_row, field=None):\n",
    "    if len(str(df_row[field]).split(',')) == 1:\n",
    "        return df_row"
   ]
  },
  {
   "cell_type": "markdown",
   "metadata": {},
   "source": [
    "- 首先应该删除 `'../data/ad_logs.csv'` 因为接下来我们是以 append 方式写文件"
   ]
  },
  {
   "cell_type": "code",
   "execution_count": 18,
   "metadata": {},
   "outputs": [
    {
     "data": {
      "text/plain": [
       "\u001b[0;31mInit signature:\u001b[0m \u001b[0mpartial\u001b[0m\u001b[0;34m(\u001b[0m\u001b[0mself\u001b[0m\u001b[0;34m,\u001b[0m \u001b[0;34m/\u001b[0m\u001b[0;34m,\u001b[0m \u001b[0;34m*\u001b[0m\u001b[0margs\u001b[0m\u001b[0;34m,\u001b[0m \u001b[0;34m**\u001b[0m\u001b[0mkwargs\u001b[0m\u001b[0;34m)\u001b[0m\u001b[0;34m\u001b[0m\u001b[0;34m\u001b[0m\u001b[0m\n",
       "\u001b[0;31mDocstring:\u001b[0m     \n",
       "partial(func, *args, **keywords) - new function with partial application\n",
       "of the given arguments and keywords.\n",
       "\u001b[0;31mFile:\u001b[0m           ~/Softwares/miniconda3/envs/fastai/lib/python3.6/functools.py\n",
       "\u001b[0;31mType:\u001b[0m           type\n",
       "\u001b[0;31mSubclasses:\u001b[0m     \n"
      ]
     },
     "metadata": {},
     "output_type": "display_data"
    }
   ],
   "source": [
    "?partial"
   ]
  },
  {
   "cell_type": "markdown",
   "metadata": {},
   "source": [
    "- 生成器 读写同时进行（备份）"
   ]
  },
  {
   "cell_type": "code",
   "execution_count": 19,
   "metadata": {},
   "outputs": [],
   "source": [
    "logs = pd.read_csv(log_data/'totalExposureLog.out', sep='\\t', header=None, names=col_names, iterator=True)"
   ]
  },
  {
   "cell_type": "code",
   "execution_count": 20,
   "metadata": {},
   "outputs": [],
   "source": [
    "p=logs.get_chunk(50)"
   ]
  },
  {
   "cell_type": "code",
   "execution_count": 21,
   "metadata": {},
   "outputs": [
    {
     "data": {
      "text/html": [
       "<div>\n",
       "<style scoped>\n",
       "    .dataframe tbody tr th:only-of-type {\n",
       "        vertical-align: middle;\n",
       "    }\n",
       "\n",
       "    .dataframe tbody tr th {\n",
       "        vertical-align: top;\n",
       "    }\n",
       "\n",
       "    .dataframe thead th {\n",
       "        text-align: right;\n",
       "    }\n",
       "</style>\n",
       "<table border=\"1\" class=\"dataframe\">\n",
       "  <thead>\n",
       "    <tr style=\"text-align: right;\">\n",
       "      <th></th>\n",
       "      <th>广告请求id</th>\n",
       "      <th>广告请求时间</th>\n",
       "      <th>广告位id</th>\n",
       "      <th>用户id</th>\n",
       "      <th>曝光广告id</th>\n",
       "      <th>曝光广告素材尺寸</th>\n",
       "      <th>曝光广告出价bid</th>\n",
       "      <th>曝光广告pctr</th>\n",
       "      <th>曝光广告quality_ecpm</th>\n",
       "      <th>曝光广告totalEcpm</th>\n",
       "    </tr>\n",
       "  </thead>\n",
       "  <tbody>\n",
       "    <tr>\n",
       "      <th>45</th>\n",
       "      <td>58681445</td>\n",
       "      <td>1550366900</td>\n",
       "      <td>25</td>\n",
       "      <td>700816</td>\n",
       "      <td>537751</td>\n",
       "      <td>30</td>\n",
       "      <td>26</td>\n",
       "      <td>1.500</td>\n",
       "      <td>30.00</td>\n",
       "      <td>69.000</td>\n",
       "    </tr>\n",
       "    <tr>\n",
       "      <th>46</th>\n",
       "      <td>60671671</td>\n",
       "      <td>1550366351</td>\n",
       "      <td>39</td>\n",
       "      <td>1386990</td>\n",
       "      <td>78542</td>\n",
       "      <td>44</td>\n",
       "      <td>401</td>\n",
       "      <td>3.307</td>\n",
       "      <td>66.14</td>\n",
       "      <td>1392.140</td>\n",
       "    </tr>\n",
       "    <tr>\n",
       "      <th>47</th>\n",
       "      <td>47255352</td>\n",
       "      <td>1550353895</td>\n",
       "      <td>265</td>\n",
       "      <td>1082782</td>\n",
       "      <td>12217</td>\n",
       "      <td>1</td>\n",
       "      <td>120</td>\n",
       "      <td>0.891</td>\n",
       "      <td>17.82</td>\n",
       "      <td>124.740</td>\n",
       "    </tr>\n",
       "    <tr>\n",
       "      <th>48</th>\n",
       "      <td>58794695</td>\n",
       "      <td>1550418550</td>\n",
       "      <td>215</td>\n",
       "      <td>945136</td>\n",
       "      <td>256765</td>\n",
       "      <td>56</td>\n",
       "      <td>101</td>\n",
       "      <td>11.631</td>\n",
       "      <td>232.62</td>\n",
       "      <td>1407.351</td>\n",
       "    </tr>\n",
       "    <tr>\n",
       "      <th>49</th>\n",
       "      <td>64166811</td>\n",
       "      <td>1550394365</td>\n",
       "      <td>39</td>\n",
       "      <td>983464</td>\n",
       "      <td>301669</td>\n",
       "      <td>36</td>\n",
       "      <td>135</td>\n",
       "      <td>26.660</td>\n",
       "      <td>533.20</td>\n",
       "      <td>4132.200</td>\n",
       "    </tr>\n",
       "  </tbody>\n",
       "</table>\n",
       "</div>"
      ],
      "text/plain": [
       "      广告请求id      广告请求时间  广告位id     用户id  曝光广告id  曝光广告素材尺寸  曝光广告出价bid  \\\n",
       "45  58681445  1550366900     25   700816  537751        30         26   \n",
       "46  60671671  1550366351     39  1386990   78542        44        401   \n",
       "47  47255352  1550353895    265  1082782   12217         1        120   \n",
       "48  58794695  1550418550    215   945136  256765        56        101   \n",
       "49  64166811  1550394365     39   983464  301669        36        135   \n",
       "\n",
       "    曝光广告pctr  曝光广告quality_ecpm  曝光广告totalEcpm  \n",
       "45     1.500             30.00         69.000  \n",
       "46     3.307             66.14       1392.140  \n",
       "47     0.891             17.82        124.740  \n",
       "48    11.631            232.62       1407.351  \n",
       "49    26.660            533.20       4132.200  "
      ]
     },
     "execution_count": 21,
     "metadata": {},
     "output_type": "execute_result"
    }
   ],
   "source": [
    "p.tail()"
   ]
  },
  {
   "cell_type": "code",
   "execution_count": 22,
   "metadata": {},
   "outputs": [
    {
     "data": {
      "text/html": [
       "<div>\n",
       "<style scoped>\n",
       "    .dataframe tbody tr th:only-of-type {\n",
       "        vertical-align: middle;\n",
       "    }\n",
       "\n",
       "    .dataframe tbody tr th {\n",
       "        vertical-align: top;\n",
       "    }\n",
       "\n",
       "    .dataframe thead th {\n",
       "        text-align: right;\n",
       "    }\n",
       "</style>\n",
       "<table border=\"1\" class=\"dataframe\">\n",
       "  <thead>\n",
       "    <tr style=\"text-align: right;\">\n",
       "      <th></th>\n",
       "      <th>广告请求id</th>\n",
       "      <th>广告请求时间</th>\n",
       "      <th>广告位id</th>\n",
       "      <th>用户id</th>\n",
       "      <th>曝光广告id</th>\n",
       "      <th>曝光广告素材尺寸</th>\n",
       "      <th>曝光广告出价bid</th>\n",
       "      <th>曝光广告pctr</th>\n",
       "      <th>曝光广告quality_ecpm</th>\n",
       "      <th>曝光广告totalEcpm</th>\n",
       "    </tr>\n",
       "  </thead>\n",
       "  <tbody>\n",
       "    <tr>\n",
       "      <th>0</th>\n",
       "      <td>53991770</td>\n",
       "      <td>2019-02-17 13:22:26</td>\n",
       "      <td>94</td>\n",
       "      <td>1160618</td>\n",
       "      <td>451525</td>\n",
       "      <td>50</td>\n",
       "      <td>46</td>\n",
       "      <td>47.217</td>\n",
       "      <td>944.34</td>\n",
       "      <td>3122.340</td>\n",
       "    </tr>\n",
       "    <tr>\n",
       "      <th>1</th>\n",
       "      <td>25942318</td>\n",
       "      <td>2019-02-17 02:34:52</td>\n",
       "      <td>79</td>\n",
       "      <td>203814</td>\n",
       "      <td>214797</td>\n",
       "      <td>64</td>\n",
       "      <td>10</td>\n",
       "      <td>49.094</td>\n",
       "      <td>981.88</td>\n",
       "      <td>1471.880</td>\n",
       "    </tr>\n",
       "    <tr>\n",
       "      <th>2</th>\n",
       "      <td>66156247</td>\n",
       "      <td>2019-02-17 15:16:40</td>\n",
       "      <td>18</td>\n",
       "      <td>808543</td>\n",
       "      <td>92253</td>\n",
       "      <td>40</td>\n",
       "      <td>96</td>\n",
       "      <td>3.824</td>\n",
       "      <td>76.48</td>\n",
       "      <td>443.584</td>\n",
       "    </tr>\n",
       "    <tr>\n",
       "      <th>3</th>\n",
       "      <td>5935886</td>\n",
       "      <td>2019-02-17 01:11:38</td>\n",
       "      <td>198</td>\n",
       "      <td>7270</td>\n",
       "      <td>160082</td>\n",
       "      <td>64</td>\n",
       "      <td>85</td>\n",
       "      <td>6.123</td>\n",
       "      <td>122.46</td>\n",
       "      <td>642.915</td>\n",
       "    </tr>\n",
       "    <tr>\n",
       "      <th>4</th>\n",
       "      <td>11624425</td>\n",
       "      <td>2019-02-16 23:52:39</td>\n",
       "      <td>168</td>\n",
       "      <td>852707</td>\n",
       "      <td>253902</td>\n",
       "      <td>64</td>\n",
       "      <td>60</td>\n",
       "      <td>4.329</td>\n",
       "      <td>86.58</td>\n",
       "      <td>346.320</td>\n",
       "    </tr>\n",
       "  </tbody>\n",
       "</table>\n",
       "</div>"
      ],
      "text/plain": [
       "     广告请求id              广告请求时间  广告位id     用户id  曝光广告id  曝光广告素材尺寸  曝光广告出价bid  \\\n",
       "0  53991770 2019-02-17 13:22:26     94  1160618  451525        50         46   \n",
       "1  25942318 2019-02-17 02:34:52     79   203814  214797        64         10   \n",
       "2  66156247 2019-02-17 15:16:40     18   808543   92253        40         96   \n",
       "3   5935886 2019-02-17 01:11:38    198     7270  160082        64         85   \n",
       "4  11624425 2019-02-16 23:52:39    168   852707  253902        64         60   \n",
       "\n",
       "   曝光广告pctr  曝光广告quality_ecpm  曝光广告totalEcpm  \n",
       "0    47.217            944.34       3122.340  \n",
       "1    49.094            981.88       1471.880  \n",
       "2     3.824             76.48        443.584  \n",
       "3     6.123            122.46        642.915  \n",
       "4     4.329             86.58        346.320  "
      ]
     },
     "execution_count": 22,
     "metadata": {},
     "output_type": "execute_result"
    }
   ],
   "source": [
    "p['广告请求时间'] = pd.to_datetime(p['广告请求时间'], unit='s')\n",
    "p.head()"
   ]
  },
  {
   "cell_type": "code",
   "execution_count": 23,
   "metadata": {},
   "outputs": [
    {
     "data": {
      "text/html": [
       "<div>\n",
       "<style scoped>\n",
       "    .dataframe tbody tr th:only-of-type {\n",
       "        vertical-align: middle;\n",
       "    }\n",
       "\n",
       "    .dataframe tbody tr th {\n",
       "        vertical-align: top;\n",
       "    }\n",
       "\n",
       "    .dataframe thead th {\n",
       "        text-align: right;\n",
       "    }\n",
       "</style>\n",
       "<table border=\"1\" class=\"dataframe\">\n",
       "  <thead>\n",
       "    <tr style=\"text-align: right;\">\n",
       "      <th></th>\n",
       "      <th>广告请求id</th>\n",
       "      <th>广告请求时间</th>\n",
       "      <th>广告位id</th>\n",
       "      <th>用户id</th>\n",
       "      <th>曝光广告id</th>\n",
       "      <th>曝光广告素材尺寸</th>\n",
       "      <th>曝光广告出价bid</th>\n",
       "      <th>曝光广告pctr</th>\n",
       "      <th>曝光广告quality_ecpm</th>\n",
       "      <th>曝光广告totalEcpm</th>\n",
       "    </tr>\n",
       "  </thead>\n",
       "  <tbody>\n",
       "    <tr>\n",
       "      <th>0</th>\n",
       "      <td>53991770</td>\n",
       "      <td>2019-02-17 13:22:26</td>\n",
       "      <td>94</td>\n",
       "      <td>1160618</td>\n",
       "      <td>451525</td>\n",
       "      <td>50</td>\n",
       "      <td>46</td>\n",
       "      <td>47.217</td>\n",
       "      <td>944.34</td>\n",
       "      <td>3122.340</td>\n",
       "    </tr>\n",
       "    <tr>\n",
       "      <th>1</th>\n",
       "      <td>25942318</td>\n",
       "      <td>2019-02-17 02:34:52</td>\n",
       "      <td>79</td>\n",
       "      <td>203814</td>\n",
       "      <td>214797</td>\n",
       "      <td>64</td>\n",
       "      <td>10</td>\n",
       "      <td>49.094</td>\n",
       "      <td>981.88</td>\n",
       "      <td>1471.880</td>\n",
       "    </tr>\n",
       "    <tr>\n",
       "      <th>2</th>\n",
       "      <td>66156247</td>\n",
       "      <td>2019-02-17 15:16:40</td>\n",
       "      <td>18</td>\n",
       "      <td>808543</td>\n",
       "      <td>92253</td>\n",
       "      <td>40</td>\n",
       "      <td>96</td>\n",
       "      <td>3.824</td>\n",
       "      <td>76.48</td>\n",
       "      <td>443.584</td>\n",
       "    </tr>\n",
       "    <tr>\n",
       "      <th>3</th>\n",
       "      <td>5935886</td>\n",
       "      <td>2019-02-17 01:11:38</td>\n",
       "      <td>198</td>\n",
       "      <td>7270</td>\n",
       "      <td>160082</td>\n",
       "      <td>64</td>\n",
       "      <td>85</td>\n",
       "      <td>6.123</td>\n",
       "      <td>122.46</td>\n",
       "      <td>642.915</td>\n",
       "    </tr>\n",
       "    <tr>\n",
       "      <th>4</th>\n",
       "      <td>11624425</td>\n",
       "      <td>2019-02-16 23:52:39</td>\n",
       "      <td>168</td>\n",
       "      <td>852707</td>\n",
       "      <td>253902</td>\n",
       "      <td>64</td>\n",
       "      <td>60</td>\n",
       "      <td>4.329</td>\n",
       "      <td>86.58</td>\n",
       "      <td>346.320</td>\n",
       "    </tr>\n",
       "  </tbody>\n",
       "</table>\n",
       "</div>"
      ],
      "text/plain": [
       "     广告请求id              广告请求时间  广告位id     用户id  曝光广告id  曝光广告素材尺寸  曝光广告出价bid  \\\n",
       "0  53991770 2019-02-17 13:22:26     94  1160618  451525        50         46   \n",
       "1  25942318 2019-02-17 02:34:52     79   203814  214797        64         10   \n",
       "2  66156247 2019-02-17 15:16:40     18   808543   92253        40         96   \n",
       "3   5935886 2019-02-17 01:11:38    198     7270  160082        64         85   \n",
       "4  11624425 2019-02-16 23:52:39    168   852707  253902        64         60   \n",
       "\n",
       "   曝光广告pctr  曝光广告quality_ecpm  曝光广告totalEcpm  \n",
       "0    47.217            944.34       3122.340  \n",
       "1    49.094            981.88       1471.880  \n",
       "2     3.824             76.48        443.584  \n",
       "3     6.123            122.46        642.915  \n",
       "4     4.329             86.58        346.320  "
      ]
     },
     "execution_count": 23,
     "metadata": {},
     "output_type": "execute_result"
    }
   ],
   "source": [
    "p = p.apply(invalid_date, axis=1)\n",
    "p.head()"
   ]
  },
  {
   "cell_type": "code",
   "execution_count": 24,
   "metadata": {},
   "outputs": [
    {
     "data": {
      "text/html": [
       "<div>\n",
       "<style scoped>\n",
       "    .dataframe tbody tr th:only-of-type {\n",
       "        vertical-align: middle;\n",
       "    }\n",
       "\n",
       "    .dataframe tbody tr th {\n",
       "        vertical-align: top;\n",
       "    }\n",
       "\n",
       "    .dataframe thead th {\n",
       "        text-align: right;\n",
       "    }\n",
       "</style>\n",
       "<table border=\"1\" class=\"dataframe\">\n",
       "  <thead>\n",
       "    <tr style=\"text-align: right;\">\n",
       "      <th></th>\n",
       "      <th>广告请求id</th>\n",
       "      <th>广告请求时间</th>\n",
       "      <th>广告位id</th>\n",
       "      <th>用户id</th>\n",
       "      <th>曝光广告id</th>\n",
       "      <th>曝光广告素材尺寸</th>\n",
       "      <th>曝光广告出价bid</th>\n",
       "      <th>曝光广告pctr</th>\n",
       "      <th>曝光广告quality_ecpm</th>\n",
       "      <th>曝光广告totalEcpm</th>\n",
       "      <th>广告请求时间_date</th>\n",
       "    </tr>\n",
       "  </thead>\n",
       "  <tbody>\n",
       "    <tr>\n",
       "      <th>0</th>\n",
       "      <td>53991770</td>\n",
       "      <td>2019-02-17 13:22:26</td>\n",
       "      <td>94</td>\n",
       "      <td>1160618</td>\n",
       "      <td>451525</td>\n",
       "      <td>50</td>\n",
       "      <td>46</td>\n",
       "      <td>47.217</td>\n",
       "      <td>944.34</td>\n",
       "      <td>3122.340</td>\n",
       "      <td>2019-02-17</td>\n",
       "    </tr>\n",
       "    <tr>\n",
       "      <th>1</th>\n",
       "      <td>25942318</td>\n",
       "      <td>2019-02-17 02:34:52</td>\n",
       "      <td>79</td>\n",
       "      <td>203814</td>\n",
       "      <td>214797</td>\n",
       "      <td>64</td>\n",
       "      <td>10</td>\n",
       "      <td>49.094</td>\n",
       "      <td>981.88</td>\n",
       "      <td>1471.880</td>\n",
       "      <td>2019-02-17</td>\n",
       "    </tr>\n",
       "    <tr>\n",
       "      <th>2</th>\n",
       "      <td>66156247</td>\n",
       "      <td>2019-02-17 15:16:40</td>\n",
       "      <td>18</td>\n",
       "      <td>808543</td>\n",
       "      <td>92253</td>\n",
       "      <td>40</td>\n",
       "      <td>96</td>\n",
       "      <td>3.824</td>\n",
       "      <td>76.48</td>\n",
       "      <td>443.584</td>\n",
       "      <td>2019-02-17</td>\n",
       "    </tr>\n",
       "    <tr>\n",
       "      <th>3</th>\n",
       "      <td>5935886</td>\n",
       "      <td>2019-02-17 01:11:38</td>\n",
       "      <td>198</td>\n",
       "      <td>7270</td>\n",
       "      <td>160082</td>\n",
       "      <td>64</td>\n",
       "      <td>85</td>\n",
       "      <td>6.123</td>\n",
       "      <td>122.46</td>\n",
       "      <td>642.915</td>\n",
       "      <td>2019-02-17</td>\n",
       "    </tr>\n",
       "    <tr>\n",
       "      <th>4</th>\n",
       "      <td>11624425</td>\n",
       "      <td>2019-02-16 23:52:39</td>\n",
       "      <td>168</td>\n",
       "      <td>852707</td>\n",
       "      <td>253902</td>\n",
       "      <td>64</td>\n",
       "      <td>60</td>\n",
       "      <td>4.329</td>\n",
       "      <td>86.58</td>\n",
       "      <td>346.320</td>\n",
       "      <td>2019-02-16</td>\n",
       "    </tr>\n",
       "  </tbody>\n",
       "</table>\n",
       "</div>"
      ],
      "text/plain": [
       "     广告请求id              广告请求时间  广告位id     用户id  曝光广告id  曝光广告素材尺寸  曝光广告出价bid  \\\n",
       "0  53991770 2019-02-17 13:22:26     94  1160618  451525        50         46   \n",
       "1  25942318 2019-02-17 02:34:52     79   203814  214797        64         10   \n",
       "2  66156247 2019-02-17 15:16:40     18   808543   92253        40         96   \n",
       "3   5935886 2019-02-17 01:11:38    198     7270  160082        64         85   \n",
       "4  11624425 2019-02-16 23:52:39    168   852707  253902        64         60   \n",
       "\n",
       "   曝光广告pctr  曝光广告quality_ecpm  曝光广告totalEcpm 广告请求时间_date  \n",
       "0    47.217            944.34       3122.340  2019-02-17  \n",
       "1    49.094            981.88       1471.880  2019-02-17  \n",
       "2     3.824             76.48        443.584  2019-02-17  \n",
       "3     6.123            122.46        642.915  2019-02-17  \n",
       "4     4.329             86.58        346.320  2019-02-16  "
      ]
     },
     "execution_count": 24,
     "metadata": {},
     "output_type": "execute_result"
    }
   ],
   "source": [
    "p['广告请求时间_date'] = p['广告请求时间'].apply(lambda x: x.date())\n",
    "p.head()"
   ]
  },
  {
   "cell_type": "code",
   "execution_count": 25,
   "metadata": {},
   "outputs": [],
   "source": [
    "def save_csv(row):\n",
    "    date = str(row['广告请求时间_date'])  \n",
    "    pd.DataFrame(row).T.to_csv(f'../data/{date}_log.csv', mode='a', index=None, encoding='utf-8', header=False)"
   ]
  },
  {
   "cell_type": "code",
   "execution_count": 26,
   "metadata": {},
   "outputs": [
    {
     "data": {
      "text/html": [
       "<div>\n",
       "<style scoped>\n",
       "    .dataframe tbody tr th:only-of-type {\n",
       "        vertical-align: middle;\n",
       "    }\n",
       "\n",
       "    .dataframe tbody tr th {\n",
       "        vertical-align: top;\n",
       "    }\n",
       "\n",
       "    .dataframe thead th {\n",
       "        text-align: right;\n",
       "    }\n",
       "</style>\n",
       "<table border=\"1\" class=\"dataframe\">\n",
       "  <thead>\n",
       "    <tr style=\"text-align: right;\">\n",
       "      <th></th>\n",
       "      <th>广告请求id</th>\n",
       "      <th>广告请求时间</th>\n",
       "      <th>广告位id</th>\n",
       "      <th>用户id</th>\n",
       "      <th>曝光广告id</th>\n",
       "      <th>曝光广告素材尺寸</th>\n",
       "      <th>曝光广告出价bid</th>\n",
       "      <th>曝光广告pctr</th>\n",
       "      <th>曝光广告quality_ecpm</th>\n",
       "      <th>曝光广告totalEcpm</th>\n",
       "      <th>广告请求时间_date</th>\n",
       "      <th>广告id</th>\n",
       "      <th>创建时间</th>\n",
       "      <th>广告账户id</th>\n",
       "      <th>商品id</th>\n",
       "      <th>商品类型</th>\n",
       "      <th>广告行业id</th>\n",
       "      <th>素材尺寸</th>\n",
       "    </tr>\n",
       "  </thead>\n",
       "  <tbody>\n",
       "    <tr>\n",
       "      <th>0</th>\n",
       "      <td>53991770</td>\n",
       "      <td>2019-02-17 13:22:26</td>\n",
       "      <td>94</td>\n",
       "      <td>1160618</td>\n",
       "      <td>451525</td>\n",
       "      <td>50</td>\n",
       "      <td>46</td>\n",
       "      <td>47.217</td>\n",
       "      <td>944.34</td>\n",
       "      <td>3122.340</td>\n",
       "      <td>2019-02-17</td>\n",
       "      <td>451525</td>\n",
       "      <td>2019-02-15 10:11:02</td>\n",
       "      <td>25082</td>\n",
       "      <td>-1</td>\n",
       "      <td>2</td>\n",
       "      <td>172</td>\n",
       "      <td>50</td>\n",
       "    </tr>\n",
       "    <tr>\n",
       "      <th>1</th>\n",
       "      <td>25942318</td>\n",
       "      <td>2019-02-17 02:34:52</td>\n",
       "      <td>79</td>\n",
       "      <td>203814</td>\n",
       "      <td>214797</td>\n",
       "      <td>64</td>\n",
       "      <td>10</td>\n",
       "      <td>49.094</td>\n",
       "      <td>981.88</td>\n",
       "      <td>1471.880</td>\n",
       "      <td>2019-02-17</td>\n",
       "      <td>214797</td>\n",
       "      <td>2019-02-13 02:57:43</td>\n",
       "      <td>22770</td>\n",
       "      <td>342</td>\n",
       "      <td>18</td>\n",
       "      <td>232</td>\n",
       "      <td>64</td>\n",
       "    </tr>\n",
       "    <tr>\n",
       "      <th>2</th>\n",
       "      <td>66156247</td>\n",
       "      <td>2019-02-17 15:16:40</td>\n",
       "      <td>18</td>\n",
       "      <td>808543</td>\n",
       "      <td>92253</td>\n",
       "      <td>40</td>\n",
       "      <td>96</td>\n",
       "      <td>3.824</td>\n",
       "      <td>76.48</td>\n",
       "      <td>443.584</td>\n",
       "      <td>2019-02-17</td>\n",
       "      <td>92253</td>\n",
       "      <td>2018-10-18 07:10:57</td>\n",
       "      <td>29218</td>\n",
       "      <td>32847</td>\n",
       "      <td>13</td>\n",
       "      <td>172</td>\n",
       "      <td>40</td>\n",
       "    </tr>\n",
       "    <tr>\n",
       "      <th>3</th>\n",
       "      <td>5935886</td>\n",
       "      <td>2019-02-17 01:11:38</td>\n",
       "      <td>198</td>\n",
       "      <td>7270</td>\n",
       "      <td>160082</td>\n",
       "      <td>64</td>\n",
       "      <td>85</td>\n",
       "      <td>6.123</td>\n",
       "      <td>122.46</td>\n",
       "      <td>642.915</td>\n",
       "      <td>2019-02-17</td>\n",
       "      <td>160082</td>\n",
       "      <td>2019-02-16 08:29:28</td>\n",
       "      <td>12759</td>\n",
       "      <td>-1</td>\n",
       "      <td>1</td>\n",
       "      <td>90</td>\n",
       "      <td>64</td>\n",
       "    </tr>\n",
       "    <tr>\n",
       "      <th>4</th>\n",
       "      <td>11624425</td>\n",
       "      <td>2019-02-16 23:52:39</td>\n",
       "      <td>168</td>\n",
       "      <td>852707</td>\n",
       "      <td>253902</td>\n",
       "      <td>64</td>\n",
       "      <td>60</td>\n",
       "      <td>4.329</td>\n",
       "      <td>86.58</td>\n",
       "      <td>346.320</td>\n",
       "      <td>2019-02-16</td>\n",
       "      <td>253902</td>\n",
       "      <td>2019-02-15 08:27:12</td>\n",
       "      <td>5297</td>\n",
       "      <td>-1</td>\n",
       "      <td>1</td>\n",
       "      <td>230</td>\n",
       "      <td>64</td>\n",
       "    </tr>\n",
       "  </tbody>\n",
       "</table>\n",
       "</div>"
      ],
      "text/plain": [
       "     广告请求id              广告请求时间  广告位id     用户id  曝光广告id  曝光广告素材尺寸  曝光广告出价bid  \\\n",
       "0  53991770 2019-02-17 13:22:26     94  1160618  451525        50         46   \n",
       "1  25942318 2019-02-17 02:34:52     79   203814  214797        64         10   \n",
       "2  66156247 2019-02-17 15:16:40     18   808543   92253        40         96   \n",
       "3   5935886 2019-02-17 01:11:38    198     7270  160082        64         85   \n",
       "4  11624425 2019-02-16 23:52:39    168   852707  253902        64         60   \n",
       "\n",
       "   曝光广告pctr  曝光广告quality_ecpm  曝光广告totalEcpm 广告请求时间_date    广告id  \\\n",
       "0    47.217            944.34       3122.340  2019-02-17  451525   \n",
       "1    49.094            981.88       1471.880  2019-02-17  214797   \n",
       "2     3.824             76.48        443.584  2019-02-17   92253   \n",
       "3     6.123            122.46        642.915  2019-02-17  160082   \n",
       "4     4.329             86.58        346.320  2019-02-16  253902   \n",
       "\n",
       "                  创建时间  广告账户id   商品id  商品类型  广告行业id 素材尺寸  \n",
       "0  2019-02-15 10:11:02   25082     -1     2     172   50  \n",
       "1  2019-02-13 02:57:43   22770    342    18     232   64  \n",
       "2  2018-10-18 07:10:57   29218  32847    13     172   40  \n",
       "3  2019-02-16 08:29:28   12759     -1     1      90   64  \n",
       "4  2019-02-15 08:27:12    5297     -1     1     230   64  "
      ]
     },
     "execution_count": 26,
     "metadata": {},
     "output_type": "execute_result"
    }
   ],
   "source": [
    "p = pd.merge(p, ad_static, left_on='曝光广告id', right_on='广告id', how='inner')\n",
    "p.head()"
   ]
  },
  {
   "cell_type": "code",
   "execution_count": 27,
   "metadata": {},
   "outputs": [
    {
     "data": {
      "text/html": [
       "<div>\n",
       "<style scoped>\n",
       "    .dataframe tbody tr th:only-of-type {\n",
       "        vertical-align: middle;\n",
       "    }\n",
       "\n",
       "    .dataframe tbody tr th {\n",
       "        vertical-align: top;\n",
       "    }\n",
       "\n",
       "    .dataframe thead th {\n",
       "        text-align: right;\n",
       "    }\n",
       "</style>\n",
       "<table border=\"1\" class=\"dataframe\">\n",
       "  <thead>\n",
       "    <tr style=\"text-align: right;\">\n",
       "      <th></th>\n",
       "      <th>广告请求id</th>\n",
       "      <th>广告请求时间</th>\n",
       "      <th>广告位id</th>\n",
       "      <th>用户id</th>\n",
       "      <th>曝光广告id</th>\n",
       "      <th>曝光广告素材尺寸</th>\n",
       "      <th>曝光广告出价bid</th>\n",
       "      <th>曝光广告pctr</th>\n",
       "      <th>曝光广告quality_ecpm</th>\n",
       "      <th>曝光广告totalEcpm</th>\n",
       "      <th>广告请求时间_date</th>\n",
       "      <th>广告id</th>\n",
       "      <th>创建时间</th>\n",
       "      <th>广告账户id</th>\n",
       "      <th>商品id</th>\n",
       "      <th>商品类型</th>\n",
       "      <th>广告行业id</th>\n",
       "      <th>素材尺寸</th>\n",
       "    </tr>\n",
       "  </thead>\n",
       "  <tbody>\n",
       "    <tr>\n",
       "      <th>0</th>\n",
       "      <td>53991770</td>\n",
       "      <td>2019-02-17 13:22:26</td>\n",
       "      <td>94</td>\n",
       "      <td>1160618</td>\n",
       "      <td>451525</td>\n",
       "      <td>50</td>\n",
       "      <td>46</td>\n",
       "      <td>47.217</td>\n",
       "      <td>944.34</td>\n",
       "      <td>3122.340</td>\n",
       "      <td>2019-02-17</td>\n",
       "      <td>451525</td>\n",
       "      <td>2019-02-15 10:11:02</td>\n",
       "      <td>25082</td>\n",
       "      <td>-1</td>\n",
       "      <td>2</td>\n",
       "      <td>172</td>\n",
       "      <td>50</td>\n",
       "    </tr>\n",
       "    <tr>\n",
       "      <th>1</th>\n",
       "      <td>25942318</td>\n",
       "      <td>2019-02-17 02:34:52</td>\n",
       "      <td>79</td>\n",
       "      <td>203814</td>\n",
       "      <td>214797</td>\n",
       "      <td>64</td>\n",
       "      <td>10</td>\n",
       "      <td>49.094</td>\n",
       "      <td>981.88</td>\n",
       "      <td>1471.880</td>\n",
       "      <td>2019-02-17</td>\n",
       "      <td>214797</td>\n",
       "      <td>2019-02-13 02:57:43</td>\n",
       "      <td>22770</td>\n",
       "      <td>342</td>\n",
       "      <td>18</td>\n",
       "      <td>232</td>\n",
       "      <td>64</td>\n",
       "    </tr>\n",
       "    <tr>\n",
       "      <th>2</th>\n",
       "      <td>66156247</td>\n",
       "      <td>2019-02-17 15:16:40</td>\n",
       "      <td>18</td>\n",
       "      <td>808543</td>\n",
       "      <td>92253</td>\n",
       "      <td>40</td>\n",
       "      <td>96</td>\n",
       "      <td>3.824</td>\n",
       "      <td>76.48</td>\n",
       "      <td>443.584</td>\n",
       "      <td>2019-02-17</td>\n",
       "      <td>92253</td>\n",
       "      <td>2018-10-18 07:10:57</td>\n",
       "      <td>29218</td>\n",
       "      <td>32847</td>\n",
       "      <td>13</td>\n",
       "      <td>172</td>\n",
       "      <td>40</td>\n",
       "    </tr>\n",
       "    <tr>\n",
       "      <th>3</th>\n",
       "      <td>5935886</td>\n",
       "      <td>2019-02-17 01:11:38</td>\n",
       "      <td>198</td>\n",
       "      <td>7270</td>\n",
       "      <td>160082</td>\n",
       "      <td>64</td>\n",
       "      <td>85</td>\n",
       "      <td>6.123</td>\n",
       "      <td>122.46</td>\n",
       "      <td>642.915</td>\n",
       "      <td>2019-02-17</td>\n",
       "      <td>160082</td>\n",
       "      <td>2019-02-16 08:29:28</td>\n",
       "      <td>12759</td>\n",
       "      <td>-1</td>\n",
       "      <td>1</td>\n",
       "      <td>90</td>\n",
       "      <td>64</td>\n",
       "    </tr>\n",
       "    <tr>\n",
       "      <th>4</th>\n",
       "      <td>11624425</td>\n",
       "      <td>2019-02-16 23:52:39</td>\n",
       "      <td>168</td>\n",
       "      <td>852707</td>\n",
       "      <td>253902</td>\n",
       "      <td>64</td>\n",
       "      <td>60</td>\n",
       "      <td>4.329</td>\n",
       "      <td>86.58</td>\n",
       "      <td>346.320</td>\n",
       "      <td>2019-02-16</td>\n",
       "      <td>253902</td>\n",
       "      <td>2019-02-15 08:27:12</td>\n",
       "      <td>5297</td>\n",
       "      <td>-1</td>\n",
       "      <td>1</td>\n",
       "      <td>230</td>\n",
       "      <td>64</td>\n",
       "    </tr>\n",
       "  </tbody>\n",
       "</table>\n",
       "</div>"
      ],
      "text/plain": [
       "     广告请求id              广告请求时间  广告位id     用户id  曝光广告id  曝光广告素材尺寸  曝光广告出价bid  \\\n",
       "0  53991770 2019-02-17 13:22:26     94  1160618  451525        50         46   \n",
       "1  25942318 2019-02-17 02:34:52     79   203814  214797        64         10   \n",
       "2  66156247 2019-02-17 15:16:40     18   808543   92253        40         96   \n",
       "3   5935886 2019-02-17 01:11:38    198     7270  160082        64         85   \n",
       "4  11624425 2019-02-16 23:52:39    168   852707  253902        64         60   \n",
       "\n",
       "   曝光广告pctr  曝光广告quality_ecpm  曝光广告totalEcpm 广告请求时间_date    广告id  \\\n",
       "0    47.217            944.34       3122.340  2019-02-17  451525   \n",
       "1    49.094            981.88       1471.880  2019-02-17  214797   \n",
       "2     3.824             76.48        443.584  2019-02-17   92253   \n",
       "3     6.123            122.46        642.915  2019-02-17  160082   \n",
       "4     4.329             86.58        346.320  2019-02-16  253902   \n",
       "\n",
       "                  创建时间  广告账户id   商品id  商品类型  广告行业id 素材尺寸  \n",
       "0  2019-02-15 10:11:02   25082     -1     2     172   50  \n",
       "1  2019-02-13 02:57:43   22770    342    18     232   64  \n",
       "2  2018-10-18 07:10:57   29218  32847    13     172   40  \n",
       "3  2019-02-16 08:29:28   12759     -1     1      90   64  \n",
       "4  2019-02-15 08:27:12    5297     -1     1     230   64  "
      ]
     },
     "execution_count": 27,
     "metadata": {},
     "output_type": "execute_result"
    }
   ],
   "source": [
    "p.dropna(axis=0, how='any', inplace=True)\n",
    "p.head()"
   ]
  },
  {
   "cell_type": "code",
   "execution_count": 28,
   "metadata": {},
   "outputs": [
    {
     "data": {
      "text/html": [
       "<div>\n",
       "<style scoped>\n",
       "    .dataframe tbody tr th:only-of-type {\n",
       "        vertical-align: middle;\n",
       "    }\n",
       "\n",
       "    .dataframe tbody tr th {\n",
       "        vertical-align: top;\n",
       "    }\n",
       "\n",
       "    .dataframe thead th {\n",
       "        text-align: right;\n",
       "    }\n",
       "</style>\n",
       "<table border=\"1\" class=\"dataframe\">\n",
       "  <thead>\n",
       "    <tr style=\"text-align: right;\">\n",
       "      <th></th>\n",
       "      <th>广告请求id</th>\n",
       "      <th>广告请求时间</th>\n",
       "      <th>广告位id</th>\n",
       "      <th>用户id</th>\n",
       "      <th>曝光广告id</th>\n",
       "      <th>曝光广告素材尺寸</th>\n",
       "      <th>曝光广告出价bid</th>\n",
       "      <th>曝光广告pctr</th>\n",
       "      <th>曝光广告quality_ecpm</th>\n",
       "      <th>曝光广告totalEcpm</th>\n",
       "      <th>广告请求时间_date</th>\n",
       "      <th>广告id</th>\n",
       "      <th>创建时间</th>\n",
       "      <th>广告账户id</th>\n",
       "      <th>商品id</th>\n",
       "      <th>商品类型</th>\n",
       "      <th>广告行业id</th>\n",
       "      <th>素材尺寸</th>\n",
       "    </tr>\n",
       "  </thead>\n",
       "  <tbody>\n",
       "    <tr>\n",
       "      <th>0</th>\n",
       "      <td>53991770</td>\n",
       "      <td>2019-02-17 13:22:26</td>\n",
       "      <td>94</td>\n",
       "      <td>1160618</td>\n",
       "      <td>451525</td>\n",
       "      <td>50</td>\n",
       "      <td>46</td>\n",
       "      <td>47.217</td>\n",
       "      <td>944.34</td>\n",
       "      <td>3122.340</td>\n",
       "      <td>2019-02-17</td>\n",
       "      <td>451525</td>\n",
       "      <td>2019-02-15 10:11:02</td>\n",
       "      <td>25082</td>\n",
       "      <td>-1</td>\n",
       "      <td>2</td>\n",
       "      <td>172</td>\n",
       "      <td>50</td>\n",
       "    </tr>\n",
       "    <tr>\n",
       "      <th>1</th>\n",
       "      <td>25942318</td>\n",
       "      <td>2019-02-17 02:34:52</td>\n",
       "      <td>79</td>\n",
       "      <td>203814</td>\n",
       "      <td>214797</td>\n",
       "      <td>64</td>\n",
       "      <td>10</td>\n",
       "      <td>49.094</td>\n",
       "      <td>981.88</td>\n",
       "      <td>1471.880</td>\n",
       "      <td>2019-02-17</td>\n",
       "      <td>214797</td>\n",
       "      <td>2019-02-13 02:57:43</td>\n",
       "      <td>22770</td>\n",
       "      <td>342</td>\n",
       "      <td>18</td>\n",
       "      <td>232</td>\n",
       "      <td>64</td>\n",
       "    </tr>\n",
       "    <tr>\n",
       "      <th>2</th>\n",
       "      <td>66156247</td>\n",
       "      <td>2019-02-17 15:16:40</td>\n",
       "      <td>18</td>\n",
       "      <td>808543</td>\n",
       "      <td>92253</td>\n",
       "      <td>40</td>\n",
       "      <td>96</td>\n",
       "      <td>3.824</td>\n",
       "      <td>76.48</td>\n",
       "      <td>443.584</td>\n",
       "      <td>2019-02-17</td>\n",
       "      <td>92253</td>\n",
       "      <td>2018-10-18 07:10:57</td>\n",
       "      <td>29218</td>\n",
       "      <td>32847</td>\n",
       "      <td>13</td>\n",
       "      <td>172</td>\n",
       "      <td>40</td>\n",
       "    </tr>\n",
       "    <tr>\n",
       "      <th>3</th>\n",
       "      <td>5935886</td>\n",
       "      <td>2019-02-17 01:11:38</td>\n",
       "      <td>198</td>\n",
       "      <td>7270</td>\n",
       "      <td>160082</td>\n",
       "      <td>64</td>\n",
       "      <td>85</td>\n",
       "      <td>6.123</td>\n",
       "      <td>122.46</td>\n",
       "      <td>642.915</td>\n",
       "      <td>2019-02-17</td>\n",
       "      <td>160082</td>\n",
       "      <td>2019-02-16 08:29:28</td>\n",
       "      <td>12759</td>\n",
       "      <td>-1</td>\n",
       "      <td>1</td>\n",
       "      <td>90</td>\n",
       "      <td>64</td>\n",
       "    </tr>\n",
       "    <tr>\n",
       "      <th>4</th>\n",
       "      <td>11624425</td>\n",
       "      <td>2019-02-16 23:52:39</td>\n",
       "      <td>168</td>\n",
       "      <td>852707</td>\n",
       "      <td>253902</td>\n",
       "      <td>64</td>\n",
       "      <td>60</td>\n",
       "      <td>4.329</td>\n",
       "      <td>86.58</td>\n",
       "      <td>346.320</td>\n",
       "      <td>2019-02-16</td>\n",
       "      <td>253902</td>\n",
       "      <td>2019-02-15 08:27:12</td>\n",
       "      <td>5297</td>\n",
       "      <td>-1</td>\n",
       "      <td>1</td>\n",
       "      <td>230</td>\n",
       "      <td>64</td>\n",
       "    </tr>\n",
       "  </tbody>\n",
       "</table>\n",
       "</div>"
      ],
      "text/plain": [
       "     广告请求id              广告请求时间  广告位id     用户id  曝光广告id  曝光广告素材尺寸  曝光广告出价bid  \\\n",
       "0  53991770 2019-02-17 13:22:26     94  1160618  451525        50         46   \n",
       "1  25942318 2019-02-17 02:34:52     79   203814  214797        64         10   \n",
       "2  66156247 2019-02-17 15:16:40     18   808543   92253        40         96   \n",
       "3   5935886 2019-02-17 01:11:38    198     7270  160082        64         85   \n",
       "4  11624425 2019-02-16 23:52:39    168   852707  253902        64         60   \n",
       "\n",
       "   曝光广告pctr  曝光广告quality_ecpm  曝光广告totalEcpm 广告请求时间_date    广告id  \\\n",
       "0    47.217            944.34       3122.340  2019-02-17  451525   \n",
       "1    49.094            981.88       1471.880  2019-02-17  214797   \n",
       "2     3.824             76.48        443.584  2019-02-17   92253   \n",
       "3     6.123            122.46        642.915  2019-02-17  160082   \n",
       "4     4.329             86.58        346.320  2019-02-16  253902   \n",
       "\n",
       "                  创建时间  广告账户id   商品id  商品类型  广告行业id 素材尺寸  \n",
       "0  2019-02-15 10:11:02   25082     -1     2     172   50  \n",
       "1  2019-02-13 02:57:43   22770    342    18     232   64  \n",
       "2  2018-10-18 07:10:57   29218  32847    13     172   40  \n",
       "3  2019-02-16 08:29:28   12759     -1     1      90   64  \n",
       "4  2019-02-15 08:27:12    5297     -1     1     230   64  "
      ]
     },
     "execution_count": 28,
     "metadata": {},
     "output_type": "execute_result"
    }
   ],
   "source": [
    "p.drop_duplicates(subset=None, keep='first', inplace=True)\n",
    "p.head()"
   ]
  },
  {
   "cell_type": "code",
   "execution_count": 29,
   "metadata": {},
   "outputs": [
    {
     "name": "stdout",
     "output_type": "stream",
     "text": [
      "<class 'pandas.core.frame.DataFrame'>\n",
      "Int64Index: 48 entries, 0 to 48\n",
      "Data columns (total 18 columns):\n",
      "广告请求id              48 non-null int64\n",
      "广告请求时间              48 non-null datetime64[ns]\n",
      "广告位id               48 non-null int64\n",
      "用户id                48 non-null int64\n",
      "曝光广告id              48 non-null int64\n",
      "曝光广告素材尺寸            48 non-null int64\n",
      "曝光广告出价bid           48 non-null int64\n",
      "曝光广告pctr            48 non-null float64\n",
      "曝光广告quality_ecpm    48 non-null float64\n",
      "曝光广告totalEcpm       48 non-null float64\n",
      "广告请求时间_date         48 non-null object\n",
      "广告id                48 non-null int64\n",
      "创建时间                48 non-null object\n",
      "广告账户id              48 non-null int64\n",
      "商品id                48 non-null int64\n",
      "商品类型                48 non-null int64\n",
      "广告行业id              48 non-null int64\n",
      "素材尺寸                48 non-null object\n",
      "dtypes: datetime64[ns](1), float64(3), int64(11), object(3)\n",
      "memory usage: 7.1+ KB\n"
     ]
    }
   ],
   "source": [
    "p.info()"
   ]
  },
  {
   "cell_type": "markdown",
   "metadata": {},
   "source": [
    "- 逐行保存为 csv 测试"
   ]
  },
  {
   "cell_type": "code",
   "execution_count": 30,
   "metadata": {},
   "outputs": [],
   "source": [
    "# p.apply(save_csv, axis=1);"
   ]
  },
  {
   "cell_type": "code",
   "execution_count": 31,
   "metadata": {},
   "outputs": [
    {
     "data": {
      "text/plain": [
       "['广告请求id',\n",
       " '广告请求时间',\n",
       " '广告位id',\n",
       " '用户id',\n",
       " '曝光广告id',\n",
       " '曝光广告素材尺寸',\n",
       " '曝光广告出价bid',\n",
       " '曝光广告pctr',\n",
       " '曝光广告quality_ecpm',\n",
       " '曝光广告totalEcpm',\n",
       " '广告请求时间_date',\n",
       " '广告id',\n",
       " '创建时间',\n",
       " '广告账户id',\n",
       " '商品id',\n",
       " '商品类型',\n",
       " '广告行业id',\n",
       " '素材尺寸']"
      ]
     },
     "execution_count": 31,
     "metadata": {},
     "output_type": "execute_result"
    }
   ],
   "source": [
    "col_names1 = list(p.columns)\n",
    "col_names1"
   ]
  },
  {
   "cell_type": "code",
   "execution_count": 32,
   "metadata": {},
   "outputs": [],
   "source": [
    "logs1 = pd.read_csv(log_data/'totalExposureLog.out', sep='\\t', header=None, names=col_names, chunksize=c_sz)"
   ]
  },
  {
   "cell_type": "markdown",
   "metadata": {},
   "source": [
    "- 这里删除已经存在的文件"
   ]
  },
  {
   "cell_type": "code",
   "execution_count": 33,
   "metadata": {},
   "outputs": [],
   "source": [
    "purge_pat_files('../data', r'^[^_]+_log.csv$')"
   ]
  },
  {
   "cell_type": "code",
   "execution_count": null,
   "metadata": {},
   "outputs": [],
   "source": [
    "col = ['广告请求id',\n",
    " '广告请求时间',\n",
    " '广告位id',\n",
    " '用户id',\n",
    " '曝光广告id']"
   ]
  },
  {
   "cell_type": "code",
   "execution_count": null,
   "metadata": {},
   "outputs": [],
   "source": [
    "for df, _ in zip(logs1, trange(1000)):\n",
    "    df = pd.merge(df, ad_static, left_on='曝光广告id', right_on='广告id', how='inner')\n",
    "    # 3. 去掉非法时间行\n",
    "    df['广告请求时间'] = pd.to_datetime(df['广告请求时间'], unit='s')  # 转为日期\n",
    "    df = df.apply(invalid_date, axis=1)\n",
    "    \n",
    "    # 1. 去空值\n",
    "    df.dropna(axis=0, how='any', inplace=True)\n",
    "    df = df[col]\n",
    "    # 2. 去重 所有列相同\n",
    "    df.drop_duplicates(subset=None, keep='first', inplace=True)\n",
    "    # 4. 数据类型转换\n",
    "    # 暂无\n",
    "    # 数据分割\n",
    "    df['广告请求时间_date'] = df['广告请求时间'].apply(lambda x: x.date())\n",
    "    _ = df.apply(save_csv, axis=1)\n",
    "#     df.to_csv('../data/ad_logs.csv', mode='a', index=None, encoding='utf-8', header=False)"
   ]
  },
  {
   "cell_type": "code",
   "execution_count": 36,
   "metadata": {},
   "outputs": [],
   "source": [
    "col_names1 = ['广告请求id', '广告请求时间', '广告位id', '用户id', '曝光广告id', '广告请求时间_date']"
   ]
  },
  {
   "cell_type": "markdown",
   "metadata": {},
   "source": [
    "- 重新读入 全部数据"
   ]
  },
  {
   "cell_type": "code",
   "execution_count": null,
   "metadata": {},
   "outputs": [],
   "source": [
    "def read_files(dir, pattern):\n",
    "    fx = os.listdir(dir)\n",
    "    for f, _ in zip(fx, trange(len(fx))):\n",
    "        if re.search(pattern, f):\n",
    "            data = pd.read_csv(f'../data/{f}', sep='\\t', header=None, names=col_names1)\n",
    "            data.drop_duplicates(subset=None, keep='first', inplace=True)\n",
    "            data.to_csv(f'../data/{f}', mode='w', index=None, encoding='utf-8')"
   ]
  },
  {
   "cell_type": "markdown",
   "metadata": {},
   "source": [
    " - 再次去重"
   ]
  },
  {
   "cell_type": "code",
   "execution_count": null,
   "metadata": {},
   "outputs": [],
   "source": [
    "read_files('../data', r'^[^_]+_log.csv$')"
   ]
  },
  {
   "cell_type": "code",
   "execution_count": null,
   "metadata": {},
   "outputs": [],
   "source": []
  }
 ],
 "metadata": {
  "kernelspec": {
   "display_name": "Python 3",
   "language": "python",
   "name": "python3"
  },
  "language_info": {
   "codemirror_mode": {
    "name": "ipython",
    "version": 3
   },
   "file_extension": ".py",
   "mimetype": "text/x-python",
   "name": "python",
   "nbconvert_exporter": "python",
   "pygments_lexer": "ipython3",
   "version": "3.6.6"
  }
 },
 "nbformat": 4,
 "nbformat_minor": 2
}
