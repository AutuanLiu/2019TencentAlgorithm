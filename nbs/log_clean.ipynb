{
 "cells": [
  {
   "cell_type": "code",
   "execution_count": 1,
   "metadata": {},
   "outputs": [],
   "source": [
    "%matplotlib inline\n",
    "%reload_ext autoreload\n",
    "%autoreload 2\n",
    "# 多行输出\n",
    "from IPython.core.interactiveshell import InteractiveShell\n",
    "InteractiveShell.ast_node_interactivity = \"all\""
   ]
  },
  {
   "cell_type": "code",
   "execution_count": 2,
   "metadata": {},
   "outputs": [
    {
     "name": "stderr",
     "output_type": "stream",
     "text": [
      "Process STDOUT and STDERR is being redirected to /tmp/ray/session_2019-05-07_17-10-44_18901/logs.\n",
      "Waiting for redis server at 127.0.0.1:16951 to respond...\n",
      "Waiting for redis server at 127.0.0.1:14856 to respond...\n",
      "Starting Redis shard with 10.0 GB max memory.\n",
      "WARNING: The object store is using /tmp instead of /dev/shm because /dev/shm has only 7723229184 bytes available. This may slow down performance! You may be able to free up space by deleting files in /dev/shm or terminating any running plasma_store_server processes. If you are inside a Docker container, you may need to pass an argument with the flag '--shm-size' to 'docker run'.\n",
      "Starting the Plasma object store with 10.0 GB memory using /tmp.\n"
     ]
    }
   ],
   "source": [
    "import modin.pandas as pd\n",
    "from fastai.tabular import *\n",
    "from utils import isVaildDate, is_more"
   ]
  },
  {
   "cell_type": "markdown",
   "metadata": {},
   "source": [
    "## 数据清洗"
   ]
  },
  {
   "cell_type": "code",
   "execution_count": 3,
   "metadata": {},
   "outputs": [
    {
     "data": {
      "text/plain": [
       "PosixPath('../test_A')"
      ]
     },
     "execution_count": 3,
     "metadata": {},
     "output_type": "execute_result"
    },
    {
     "data": {
      "text/plain": [
       "[PosixPath('../test_A/ad_static_feature.out'),\n",
       " PosixPath('../test_A/ad_operation.dat'),\n",
       " PosixPath('../test_A/test_sample.dat'),\n",
       " PosixPath('../test_A/user'),\n",
       " PosixPath('../test_A/imps_log')]"
      ]
     },
     "execution_count": 3,
     "metadata": {},
     "output_type": "execute_result"
    }
   ],
   "source": [
    "root = Path('../test_A')\n",
    "root\n",
    "root.ls()"
   ]
  },
  {
   "cell_type": "code",
   "execution_count": 4,
   "metadata": {},
   "outputs": [
    {
     "data": {
      "text/plain": [
       "[PosixPath('../test_A/user/user_data')]"
      ]
     },
     "execution_count": 4,
     "metadata": {},
     "output_type": "execute_result"
    },
    {
     "data": {
      "text/plain": [
       "[PosixPath('../test_A/imps_log/totalExposureLog.out')]"
      ]
     },
     "execution_count": 4,
     "metadata": {},
     "output_type": "execute_result"
    }
   ],
   "source": [
    "u_data = root/'user'\n",
    "u_data.ls()\n",
    "log_data = root/'imps_log'\n",
    "log_data.ls()"
   ]
  },
  {
   "cell_type": "markdown",
   "metadata": {},
   "source": [
    "- 广告静态数据读入以备用"
   ]
  },
  {
   "cell_type": "code",
   "execution_count": 5,
   "metadata": {},
   "outputs": [],
   "source": [
    "ad_static = pd.read_csv('../data/ad_static.csv', low_memory=False, encoding='utf-8')"
   ]
  },
  {
   "cell_type": "code",
   "execution_count": 6,
   "metadata": {},
   "outputs": [
    {
     "data": {
      "text/plain": [
       "(502153, 7)"
      ]
     },
     "execution_count": 6,
     "metadata": {},
     "output_type": "execute_result"
    },
    {
     "data": {
      "text/html": [
       "<div>\n",
       "<style scoped>\n",
       "    .dataframe tbody tr th:only-of-type {\n",
       "        vertical-align: middle;\n",
       "    }\n",
       "\n",
       "    .dataframe tbody tr th {\n",
       "        vertical-align: top;\n",
       "    }\n",
       "\n",
       "    .dataframe thead th {\n",
       "        text-align: right;\n",
       "    }\n",
       "</style>\n",
       "<table border=\"1\" class=\"dataframe\">\n",
       "  <thead>\n",
       "    <tr style=\"text-align: right;\">\n",
       "      <th></th>\n",
       "      <th>广告id</th>\n",
       "      <th>创建时间</th>\n",
       "      <th>广告账户id</th>\n",
       "      <th>商品id</th>\n",
       "      <th>商品类型</th>\n",
       "      <th>广告行业id</th>\n",
       "      <th>素材尺寸</th>\n",
       "    </tr>\n",
       "  </thead>\n",
       "  <tbody>\n",
       "    <tr>\n",
       "      <th>502148</th>\n",
       "      <td>82588</td>\n",
       "      <td>2019-03-19 03:56:04</td>\n",
       "      <td>21666</td>\n",
       "      <td>21917</td>\n",
       "      <td>18</td>\n",
       "      <td>198</td>\n",
       "      <td>64</td>\n",
       "    </tr>\n",
       "    <tr>\n",
       "      <th>502149</th>\n",
       "      <td>665036</td>\n",
       "      <td>2019-02-21 09:08:35</td>\n",
       "      <td>6184</td>\n",
       "      <td>11633</td>\n",
       "      <td>18</td>\n",
       "      <td>232</td>\n",
       "      <td>64</td>\n",
       "    </tr>\n",
       "    <tr>\n",
       "      <th>502150</th>\n",
       "      <td>491914</td>\n",
       "      <td>2019-01-25 05:01:10</td>\n",
       "      <td>1809</td>\n",
       "      <td>5278</td>\n",
       "      <td>5</td>\n",
       "      <td>232</td>\n",
       "      <td>64</td>\n",
       "    </tr>\n",
       "    <tr>\n",
       "      <th>502151</th>\n",
       "      <td>3990</td>\n",
       "      <td>2019-03-01 08:17:08</td>\n",
       "      <td>4255</td>\n",
       "      <td>3401</td>\n",
       "      <td>18</td>\n",
       "      <td>218</td>\n",
       "      <td>36</td>\n",
       "    </tr>\n",
       "    <tr>\n",
       "      <th>502152</th>\n",
       "      <td>222150</td>\n",
       "      <td>2019-02-28 07:56:53</td>\n",
       "      <td>4250</td>\n",
       "      <td>14527</td>\n",
       "      <td>18</td>\n",
       "      <td>94</td>\n",
       "      <td>36</td>\n",
       "    </tr>\n",
       "  </tbody>\n",
       "</table>\n",
       "</div>"
      ],
      "text/plain": [
       "          广告id                 创建时间  广告账户id   商品id  商品类型  广告行业id 素材尺寸\n",
       "502148   82588  2019-03-19 03:56:04   21666  21917    18     198   64\n",
       "502149  665036  2019-02-21 09:08:35    6184  11633    18     232   64\n",
       "502150  491914  2019-01-25 05:01:10    1809   5278     5     232   64\n",
       "502151    3990  2019-03-01 08:17:08    4255   3401    18     218   36\n",
       "502152  222150  2019-02-28 07:56:53    4250  14527    18      94   36"
      ]
     },
     "execution_count": 6,
     "metadata": {},
     "output_type": "execute_result"
    }
   ],
   "source": [
    "ad_static.shape\n",
    "ad_static.tail()"
   ]
  },
  {
   "cell_type": "markdown",
   "metadata": {},
   "source": [
    "### 历史曝光日志数据文件"
   ]
  },
  {
   "cell_type": "code",
   "execution_count": 7,
   "metadata": {},
   "outputs": [],
   "source": [
    "col_names = ['广告请求id', '广告请求时间', '广告位id', '用户id', '曝光广告id', '曝光广告素材尺寸', '曝光广告出价bid',\n",
    "             '曝光广告pctr', '曝光广告quality_ecpm', '曝光广告totalEcpm']"
   ]
  },
  {
   "cell_type": "code",
   "execution_count": 8,
   "metadata": {},
   "outputs": [],
   "source": [
    "c_sz = 10240"
   ]
  },
  {
   "cell_type": "code",
   "execution_count": null,
   "metadata": {},
   "outputs": [],
   "source": [
    "logs = pd.read_csv(log_data/'totalExposureLog.out', sep='\\t', header=None, names=col_names, chunksize=c_sz)"
   ]
  },
  {
   "cell_type": "markdown",
   "metadata": {},
   "source": [
    "- 看下文件信息"
   ]
  },
  {
   "cell_type": "code",
   "execution_count": null,
   "metadata": {},
   "outputs": [
    {
     "name": "stdout",
     "output_type": "stream",
     "text": [
      "6.2G\t../test_A/imps_log/totalExposureLog.out\n"
     ]
    }
   ],
   "source": [
    "!du -h {log_data}/'totalExposureLog.out'"
   ]
  },
  {
   "cell_type": "code",
   "execution_count": null,
   "metadata": {},
   "outputs": [
    {
     "name": "stdout",
     "output_type": "stream",
     "text": [
      "102386695\n"
     ]
    }
   ],
   "source": [
    "!cat {log_data}/'totalExposureLog.out' | wc -l"
   ]
  },
  {
   "cell_type": "markdown",
   "metadata": {},
   "source": [
    "6.2G 数据 1亿多行数据"
   ]
  },
  {
   "cell_type": "markdown",
   "metadata": {},
   "source": [
    "- 删除空值 数据量大 考虑删除而不是插值，因为我们不缺数据"
   ]
  },
  {
   "cell_type": "code",
   "execution_count": null,
   "metadata": {},
   "outputs": [],
   "source": [
    "def invalid_date(df_row, field='广告请求时间'):\n",
    "    \"\"\"是否删除当前行,首先转为时间格式之后再行本操作\"\"\"\n",
    "    if not isVaildDate(str(df_row[field])):\n",
    "        df_row[field] = np.nan\n",
    "    \n",
    "    return df_row"
   ]
  },
  {
   "cell_type": "markdown",
   "metadata": {},
   "source": [
    "- 获取有效广告 id"
   ]
  },
  {
   "cell_type": "code",
   "execution_count": null,
   "metadata": {},
   "outputs": [],
   "source": [
    "ad_id = ad_static['广告id'].unique()"
   ]
  },
  {
   "cell_type": "code",
   "execution_count": null,
   "metadata": {},
   "outputs": [
    {
     "data": {
      "text/plain": [
       "(502153,)"
      ]
     },
     "execution_count": 14,
     "metadata": {},
     "output_type": "execute_result"
    }
   ],
   "source": [
    "ad_id.shape"
   ]
  },
  {
   "cell_type": "code",
   "execution_count": null,
   "metadata": {},
   "outputs": [],
   "source": [
    "def invalid_resquest_ad_id(df_row, field=None):\n",
    "    if df_row[field] in ad_id:\n",
    "        return df_row"
   ]
  },
  {
   "cell_type": "markdown",
   "metadata": {},
   "source": [
    "- 删除非法多值"
   ]
  },
  {
   "cell_type": "code",
   "execution_count": null,
   "metadata": {},
   "outputs": [],
   "source": [
    "def invalid_more_value(df_row, field=None):\n",
    "    if len(str(df_row[field]).split(',')) == 1:\n",
    "        return df_row"
   ]
  },
  {
   "cell_type": "markdown",
   "metadata": {},
   "source": [
    "- 首先应该删除 `'../data/ad_logs.csv'` 因为接下来我们是以 append 方式写文件"
   ]
  },
  {
   "cell_type": "code",
   "execution_count": null,
   "metadata": {},
   "outputs": [],
   "source": [
    "fn = '../data/ad_logs.csv'\n",
    "if os.path.exists(fn):\n",
    "    os.remove(fn)"
   ]
  },
  {
   "cell_type": "code",
   "execution_count": null,
   "metadata": {},
   "outputs": [],
   "source": [
    "?partial"
   ]
  },
  {
   "cell_type": "markdown",
   "metadata": {},
   "source": [
    "- 生成器 读写同时进行（备份）"
   ]
  },
  {
   "cell_type": "code",
   "execution_count": null,
   "metadata": {},
   "outputs": [],
   "source": []
  },
  {
   "cell_type": "code",
   "execution_count": null,
   "metadata": {},
   "outputs": [
    {
     "name": "stdout",
     "output_type": "stream",
     "text": [
      "(10044, 17)\n",
      "(10048, 17)\n",
      "(10045, 17)\n",
      "(10023, 17)\n",
      "(10039, 17)\n",
      "(10036, 17)\n",
      "(10058, 17)\n",
      "(10042, 17)\n",
      "(10055, 17)\n",
      "(10076, 17)\n",
      "(10066, 17)\n",
      "(10046, 17)\n",
      "(10063, 17)\n",
      "(10061, 17)\n",
      "(10063, 17)\n",
      "(10054, 17)\n",
      "(10089, 17)\n",
      "(10032, 17)\n",
      "(10043, 17)\n",
      "(10068, 17)\n",
      "(10062, 17)\n",
      "(10056, 17)\n",
      "(10054, 17)\n",
      "(10072, 17)\n",
      "(10076, 17)\n",
      "(10036, 17)\n",
      "(10054, 17)\n",
      "(10031, 17)\n",
      "(10048, 17)\n",
      "(10087, 17)\n",
      "(10028, 17)\n",
      "(10073, 17)\n",
      "(10016, 17)\n",
      "(10060, 17)\n",
      "(10036, 17)\n",
      "(10058, 17)\n",
      "(10082, 17)\n",
      "(10053, 17)\n",
      "(10037, 17)\n",
      "(10055, 17)\n",
      "(10053, 17)\n",
      "(10053, 17)\n",
      "(10073, 17)\n",
      "(10067, 17)\n",
      "(10022, 17)\n",
      "(10064, 17)\n",
      "(10066, 17)\n",
      "(10073, 17)\n",
      "(10034, 17)\n",
      "(10051, 17)\n",
      "(10067, 17)\n",
      "(10058, 17)\n",
      "(10050, 17)\n",
      "(10038, 17)\n",
      "(10037, 17)\n",
      "(10058, 17)\n",
      "(10077, 17)\n",
      "(10050, 17)\n",
      "(10044, 17)\n",
      "(10064, 17)\n",
      "(10067, 17)\n",
      "(10063, 17)\n",
      "(10048, 17)\n",
      "(10080, 17)\n",
      "(10065, 17)\n",
      "(10027, 17)\n",
      "(10062, 17)\n",
      "(10051, 17)\n",
      "(10065, 17)\n",
      "(10027, 17)\n",
      "(10063, 17)\n",
      "(10066, 17)\n",
      "(10080, 17)\n",
      "(10053, 17)\n",
      "(10058, 17)\n",
      "(10046, 17)\n",
      "(10056, 17)\n",
      "(10021, 17)\n",
      "(10058, 17)\n",
      "(10075, 17)\n",
      "(10043, 17)\n",
      "(10063, 17)\n",
      "(10065, 17)\n",
      "(10063, 17)\n",
      "(10016, 17)\n",
      "(10050, 17)\n",
      "(10050, 17)\n",
      "(10047, 17)\n",
      "(10050, 17)\n",
      "(10039, 17)\n",
      "(10059, 17)\n",
      "(10056, 17)\n",
      "(10093, 17)\n",
      "(10083, 17)\n",
      "(10056, 17)\n",
      "(10076, 17)\n",
      "(10057, 17)\n",
      "(10055, 17)\n",
      "(10061, 17)\n",
      "(10046, 17)\n",
      "(10058, 17)\n",
      "(10077, 17)\n",
      "(10053, 17)\n",
      "(10071, 17)\n",
      "(10060, 17)\n",
      "(10057, 17)\n",
      "(10060, 17)\n",
      "(10091, 17)\n",
      "(10018, 17)\n",
      "(10038, 17)\n",
      "(10040, 17)\n",
      "(10077, 17)\n",
      "(10081, 17)\n",
      "(10062, 17)\n",
      "(10049, 17)\n",
      "(10048, 17)\n",
      "(10063, 17)\n",
      "(10076, 17)\n",
      "(10003, 17)\n",
      "(10065, 17)\n",
      "(10062, 17)\n"
     ]
    }
   ],
   "source": [
    "for df in logs:\n",
    "    # 3. 去掉非法时间行\n",
    "    df['广告请求时间'] = pd.to_datetime(df['广告请求时间'], unit='s')  # 转为日期\n",
    "    df = df.apply(invalid_date, axis=1)\n",
    "    # 1. 去空值\n",
    "    df = pd.merge(df, ad_static, left_on='曝光广告id', right_on='广告id', how='inner')\n",
    "    df.dropna(axis=0, how='any', inplace=True)\n",
    "    # 2. 去重 所有列相同\n",
    "    df.drop_duplicates(subset=None, keep='first', inplace=True)\n",
    "    # 4. 数据类型转换\n",
    "    # 暂无\n",
    "    df.dropna(axis=0, how='any', inplace=True)\n",
    "    df.reset_index(drop=True, inplace=True)  # 为了正常访问，重建索引\n",
    "    print(df.shape)\n",
    "    df.to_csv('../data/ad_logs.csv', mode='a', index=None, encoding='utf-8', header=False)"
   ]
  },
  {
   "cell_type": "markdown",
   "metadata": {},
   "source": [
    "- 重新读入 全部数据"
   ]
  },
  {
   "cell_type": "code",
   "execution_count": null,
   "metadata": {},
   "outputs": [],
   "source": [
    "logs1 = pd.read_csv('../data/ad_logs.csv', sep='\\t', header=None, names=col_names+list(ad_static.columns))"
   ]
  },
  {
   "cell_type": "code",
   "execution_count": null,
   "metadata": {},
   "outputs": [],
   "source": []
  },
  {
   "cell_type": "markdown",
   "metadata": {},
   "source": [
    " - 再次去重"
   ]
  },
  {
   "cell_type": "code",
   "execution_count": null,
   "metadata": {},
   "outputs": [],
   "source": [
    "logs1.drop_duplicates(subset=None, keep='first', inplace=True)"
   ]
  },
  {
   "cell_type": "code",
   "execution_count": null,
   "metadata": {},
   "outputs": [],
   "source": [
    "logs1.shape"
   ]
  },
  {
   "cell_type": "code",
   "execution_count": null,
   "metadata": {},
   "outputs": [],
   "source": [
    "logs1.to_csv('../data/ad_logs.csv', mode='w', index=None, encoding='utf-8')"
   ]
  },
  {
   "cell_type": "markdown",
   "metadata": {},
   "source": [
    "- 看下文件信息"
   ]
  },
  {
   "cell_type": "code",
   "execution_count": null,
   "metadata": {},
   "outputs": [],
   "source": [
    "!du -h {fn}"
   ]
  },
  {
   "cell_type": "code",
   "execution_count": null,
   "metadata": {},
   "outputs": [],
   "source": [
    "!cat {fn} | wc -l"
   ]
  },
  {
   "cell_type": "code",
   "execution_count": null,
   "metadata": {},
   "outputs": [],
   "source": []
  }
 ],
 "metadata": {
  "kernelspec": {
   "display_name": "Python 3",
   "language": "python",
   "name": "python3"
  },
  "language_info": {
   "codemirror_mode": {
    "name": "ipython",
    "version": 3
   },
   "file_extension": ".py",
   "mimetype": "text/x-python",
   "name": "python",
   "nbconvert_exporter": "python",
   "pygments_lexer": "ipython3",
   "version": "3.6.6"
  }
 },
 "nbformat": 4,
 "nbformat_minor": 2
}
