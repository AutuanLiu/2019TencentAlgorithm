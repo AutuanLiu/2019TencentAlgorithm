{
 "cells": [
  {
   "cell_type": "code",
   "execution_count": 1,
   "metadata": {},
   "outputs": [],
   "source": [
    "%matplotlib inline\n",
    "%reload_ext autoreload\n",
    "%autoreload 2\n",
    "# 多行输出\n",
    "from IPython.core.interactiveshell import InteractiveShell\n",
    "InteractiveShell.ast_node_interactivity = \"all\""
   ]
  },
  {
   "cell_type": "code",
   "execution_count": 2,
   "metadata": {},
   "outputs": [],
   "source": [
    "import modin as pd\n",
    "from fastai.tabular import *"
   ]
  },
  {
   "cell_type": "markdown",
   "metadata": {},
   "source": [
    "## 广告操作数据"
   ]
  },
  {
   "cell_type": "code",
   "execution_count": 3,
   "metadata": {},
   "outputs": [
    {
     "data": {
      "text/plain": [
       "PosixPath('../test_A')"
      ]
     },
     "execution_count": 3,
     "metadata": {},
     "output_type": "execute_result"
    },
    {
     "data": {
      "text/plain": [
       "[PosixPath('../test_A/ad_static_feature.out'),\n",
       " PosixPath('../test_A/ad_operation.dat'),\n",
       " PosixPath('../test_A/imps_log'),\n",
       " PosixPath('../test_A/test_sample.dat'),\n",
       " PosixPath('../test_A/user')]"
      ]
     },
     "execution_count": 3,
     "metadata": {},
     "output_type": "execute_result"
    }
   ],
   "source": [
    "root = Path('../test_A')\n",
    "root\n",
    "root.ls()"
   ]
  },
  {
   "cell_type": "code",
   "execution_count": 4,
   "metadata": {},
   "outputs": [
    {
     "data": {
      "text/plain": [
       "[PosixPath('../test_A/user/user_data')]"
      ]
     },
     "execution_count": 4,
     "metadata": {},
     "output_type": "execute_result"
    },
    {
     "data": {
      "text/plain": [
       "[PosixPath('../test_A/imps_log/totalExposureLog.out')]"
      ]
     },
     "execution_count": 4,
     "metadata": {},
     "output_type": "execute_result"
    }
   ],
   "source": [
    "u_data = root/'user'\n",
    "u_data.ls()\n",
    "log_data = root/'imps_log'\n",
    "log_data.ls()"
   ]
  },
  {
   "cell_type": "markdown",
   "metadata": {},
   "source": [
    "- 清洗掉 ad_static_feature 中没有的广告\n",
    "- 我们只关心有效广告的曝光情况"
   ]
  },
  {
   "cell_type": "code",
   "execution_count": 7,
   "metadata": {},
   "outputs": [
    {
     "data": {
      "text/html": [
       "<div>\n",
       "<style scoped>\n",
       "    .dataframe tbody tr th:only-of-type {\n",
       "        vertical-align: middle;\n",
       "    }\n",
       "\n",
       "    .dataframe tbody tr th {\n",
       "        vertical-align: top;\n",
       "    }\n",
       "\n",
       "    .dataframe thead th {\n",
       "        text-align: right;\n",
       "    }\n",
       "</style>\n",
       "<table border=\"1\" class=\"dataframe\">\n",
       "  <thead>\n",
       "    <tr style=\"text-align: right;\">\n",
       "      <th></th>\n",
       "      <th>广告id</th>\n",
       "      <th>创建时间</th>\n",
       "      <th>广告账户id</th>\n",
       "      <th>商品id</th>\n",
       "      <th>商品类型</th>\n",
       "      <th>广告行业id</th>\n",
       "      <th>素材尺寸</th>\n",
       "    </tr>\n",
       "  </thead>\n",
       "  <tbody>\n",
       "    <tr>\n",
       "      <th>502148</th>\n",
       "      <td>82588</td>\n",
       "      <td>1552967764</td>\n",
       "      <td>21666</td>\n",
       "      <td>21917</td>\n",
       "      <td>18</td>\n",
       "      <td>198</td>\n",
       "      <td>64</td>\n",
       "    </tr>\n",
       "    <tr>\n",
       "      <th>502149</th>\n",
       "      <td>665036</td>\n",
       "      <td>1550740115</td>\n",
       "      <td>6184</td>\n",
       "      <td>11633</td>\n",
       "      <td>18</td>\n",
       "      <td>232</td>\n",
       "      <td>64</td>\n",
       "    </tr>\n",
       "    <tr>\n",
       "      <th>502150</th>\n",
       "      <td>491914</td>\n",
       "      <td>1548392470</td>\n",
       "      <td>1809</td>\n",
       "      <td>5278</td>\n",
       "      <td>5</td>\n",
       "      <td>232</td>\n",
       "      <td>64</td>\n",
       "    </tr>\n",
       "    <tr>\n",
       "      <th>502151</th>\n",
       "      <td>3990</td>\n",
       "      <td>1551428228</td>\n",
       "      <td>4255</td>\n",
       "      <td>3401</td>\n",
       "      <td>18</td>\n",
       "      <td>218</td>\n",
       "      <td>36</td>\n",
       "    </tr>\n",
       "    <tr>\n",
       "      <th>502152</th>\n",
       "      <td>222150</td>\n",
       "      <td>1551340613</td>\n",
       "      <td>4250</td>\n",
       "      <td>14527</td>\n",
       "      <td>18</td>\n",
       "      <td>94</td>\n",
       "      <td>36</td>\n",
       "    </tr>\n",
       "  </tbody>\n",
       "</table>\n",
       "</div>"
      ],
      "text/plain": [
       "          广告id        创建时间  广告账户id   商品id  商品类型  广告行业id 素材尺寸\n",
       "502148   82588  1552967764   21666  21917    18     198   64\n",
       "502149  665036  1550740115    6184  11633    18     232   64\n",
       "502150  491914  1548392470    1809   5278     5     232   64\n",
       "502151    3990  1551428228    4255   3401    18     218   36\n",
       "502152  222150  1551340613    4250  14527    18      94   36"
      ]
     },
     "execution_count": 7,
     "metadata": {},
     "output_type": "execute_result"
    }
   ],
   "source": [
    "ad_static = pd.read_csv('../data/ad_static.csv', low_memory=False, encoding='utf-8')\n",
    "ad_static.tail()"
   ]
  },
  {
   "cell_type": "code",
   "execution_count": null,
   "metadata": {},
   "outputs": [],
   "source": []
  }
 ],
 "metadata": {
  "kernelspec": {
   "display_name": "Python 3",
   "language": "python",
   "name": "python3"
  },
  "language_info": {
   "codemirror_mode": {
    "name": "ipython",
    "version": 3
   },
   "file_extension": ".py",
   "mimetype": "text/x-python",
   "name": "python",
   "nbconvert_exporter": "python",
   "pygments_lexer": "ipython3",
   "version": "3.6.7"
  }
 },
 "nbformat": 4,
 "nbformat_minor": 2
}
