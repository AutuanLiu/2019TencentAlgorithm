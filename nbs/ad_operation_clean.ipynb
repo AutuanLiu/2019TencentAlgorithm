{
 "cells": [
  {
   "cell_type": "code",
   "execution_count": 1,
   "metadata": {},
   "outputs": [],
   "source": [
    "%matplotlib inline\n",
    "%reload_ext autoreload\n",
    "%autoreload 2\n",
    "# 多行输出\n",
    "from IPython.core.interactiveshell import InteractiveShell\n",
    "InteractiveShell.ast_node_interactivity = \"all\""
   ]
  },
  {
   "cell_type": "code",
   "execution_count": 2,
   "metadata": {},
   "outputs": [
    {
     "name": "stderr",
     "output_type": "stream",
     "text": [
      "2019-05-08 16:54:59,092\tWARNING worker.py:1337 -- WARNING: Not updating worker name since `setproctitle` is not installed. Install this with `pip install setproctitle` (or ray[debug]) to enable monitoring of worker processes.\n",
      "2019-05-08 16:54:59,094\tINFO node.py:469 -- Process STDOUT and STDERR is being redirected to /tmp/ray/session_2019-05-08_16-54-59_32389/logs.\n",
      "2019-05-08 16:54:59,199\tINFO services.py:407 -- Waiting for redis server at 127.0.0.1:62374 to respond...\n",
      "2019-05-08 16:54:59,310\tINFO services.py:407 -- Waiting for redis server at 127.0.0.1:58174 to respond...\n",
      "2019-05-08 16:54:59,312\tINFO services.py:804 -- Starting Redis shard with 10.0 GB max memory.\n",
      "2019-05-08 16:54:59,321\tINFO node.py:483 -- Process STDOUT and STDERR is being redirected to /tmp/ray/session_2019-05-08_16-54-59_32389/logs.\n",
      "2019-05-08 16:54:59,323\tWARNING services.py:1304 -- WARNING: The object store is using /tmp instead of /dev/shm because /dev/shm has only 33711030272 bytes available. This may slow down performance! You may be able to free up space by deleting files in /dev/shm or terminating any running plasma_store_server processes. If you are inside a Docker container, you may need to pass an argument with the flag '--shm-size' to 'docker run'.\n",
      "2019-05-08 16:54:59,323\tINFO services.py:1427 -- Starting the Plasma object store with 40.0 GB memory using /tmp.\n"
     ]
    }
   ],
   "source": [
    "import modin.pandas as pd\n",
    "from fastai.tabular import *\n",
    "import time\n",
    "from datetime import datetime"
   ]
  },
  {
   "cell_type": "markdown",
   "metadata": {},
   "source": [
    "## 数据清洗"
   ]
  },
  {
   "cell_type": "code",
   "execution_count": 3,
   "metadata": {},
   "outputs": [
    {
     "data": {
      "text/plain": [
       "PosixPath('../test_A')"
      ]
     },
     "execution_count": 3,
     "metadata": {},
     "output_type": "execute_result"
    },
    {
     "data": {
      "text/plain": [
       "[PosixPath('../test_A/ad_static_feature.out'),\n",
       " PosixPath('../test_A/ad_operation.dat'),\n",
       " PosixPath('../test_A/imps_log'),\n",
       " PosixPath('../test_A/test_sample.dat'),\n",
       " PosixPath('../test_A/user')]"
      ]
     },
     "execution_count": 3,
     "metadata": {},
     "output_type": "execute_result"
    }
   ],
   "source": [
    "root = Path('../test_A')\n",
    "root\n",
    "root.ls()"
   ]
  },
  {
   "cell_type": "code",
   "execution_count": 4,
   "metadata": {},
   "outputs": [
    {
     "data": {
      "text/plain": [
       "[PosixPath('../test_A/user/user_data')]"
      ]
     },
     "execution_count": 4,
     "metadata": {},
     "output_type": "execute_result"
    },
    {
     "data": {
      "text/plain": [
       "[PosixPath('../test_A/imps_log/totalExposureLog.out')]"
      ]
     },
     "execution_count": 4,
     "metadata": {},
     "output_type": "execute_result"
    }
   ],
   "source": [
    "u_data = root/'user'\n",
    "u_data.ls()\n",
    "log_data = root/'imps_log'\n",
    "log_data.ls()"
   ]
  },
  {
   "cell_type": "markdown",
   "metadata": {},
   "source": [
    "- 清洗掉 ad_static_feature 中没有的广告\n",
    "- 我们只关心有效广告的曝光情况"
   ]
  },
  {
   "cell_type": "code",
   "execution_count": 5,
   "metadata": {},
   "outputs": [
    {
     "data": {
      "text/html": [
       "<div>\n",
       "<style scoped>\n",
       "    .dataframe tbody tr th:only-of-type {\n",
       "        vertical-align: middle;\n",
       "    }\n",
       "\n",
       "    .dataframe tbody tr th {\n",
       "        vertical-align: top;\n",
       "    }\n",
       "\n",
       "    .dataframe thead th {\n",
       "        text-align: right;\n",
       "    }\n",
       "</style>\n",
       "<table border=\"1\" class=\"dataframe\">\n",
       "  <thead>\n",
       "    <tr style=\"text-align: right;\">\n",
       "      <th></th>\n",
       "      <th>广告id</th>\n",
       "      <th>创建时间</th>\n",
       "      <th>广告账户id</th>\n",
       "      <th>商品id</th>\n",
       "      <th>商品类型</th>\n",
       "      <th>广告行业id</th>\n",
       "      <th>素材尺寸</th>\n",
       "    </tr>\n",
       "  </thead>\n",
       "  <tbody>\n",
       "    <tr>\n",
       "      <th>502148</th>\n",
       "      <td>82588</td>\n",
       "      <td>2019-03-19 03:56:04</td>\n",
       "      <td>21666</td>\n",
       "      <td>21917</td>\n",
       "      <td>18</td>\n",
       "      <td>198</td>\n",
       "      <td>64</td>\n",
       "    </tr>\n",
       "    <tr>\n",
       "      <th>502149</th>\n",
       "      <td>665036</td>\n",
       "      <td>2019-02-21 09:08:35</td>\n",
       "      <td>6184</td>\n",
       "      <td>11633</td>\n",
       "      <td>18</td>\n",
       "      <td>232</td>\n",
       "      <td>64</td>\n",
       "    </tr>\n",
       "    <tr>\n",
       "      <th>502150</th>\n",
       "      <td>491914</td>\n",
       "      <td>2019-01-25 05:01:10</td>\n",
       "      <td>1809</td>\n",
       "      <td>5278</td>\n",
       "      <td>5</td>\n",
       "      <td>232</td>\n",
       "      <td>64</td>\n",
       "    </tr>\n",
       "    <tr>\n",
       "      <th>502151</th>\n",
       "      <td>3990</td>\n",
       "      <td>2019-03-01 08:17:08</td>\n",
       "      <td>4255</td>\n",
       "      <td>3401</td>\n",
       "      <td>18</td>\n",
       "      <td>218</td>\n",
       "      <td>36</td>\n",
       "    </tr>\n",
       "    <tr>\n",
       "      <th>502152</th>\n",
       "      <td>222150</td>\n",
       "      <td>2019-02-28 07:56:53</td>\n",
       "      <td>4250</td>\n",
       "      <td>14527</td>\n",
       "      <td>18</td>\n",
       "      <td>94</td>\n",
       "      <td>36</td>\n",
       "    </tr>\n",
       "  </tbody>\n",
       "</table>\n",
       "</div>"
      ],
      "text/plain": [
       "          广告id                 创建时间  广告账户id   商品id  商品类型  广告行业id 素材尺寸\n",
       "502148   82588  2019-03-19 03:56:04   21666  21917    18     198   64\n",
       "502149  665036  2019-02-21 09:08:35    6184  11633    18     232   64\n",
       "502150  491914  2019-01-25 05:01:10    1809   5278     5     232   64\n",
       "502151    3990  2019-03-01 08:17:08    4255   3401    18     218   36\n",
       "502152  222150  2019-02-28 07:56:53    4250  14527    18      94   36"
      ]
     },
     "execution_count": 5,
     "metadata": {},
     "output_type": "execute_result"
    }
   ],
   "source": [
    "ad_static = pd.read_csv('../data/ad_static.csv', low_memory=False, encoding='utf-8')\n",
    "ad_static.tail()"
   ]
  },
  {
   "cell_type": "code",
   "execution_count": 6,
   "metadata": {},
   "outputs": [
    {
     "data": {
      "text/plain": [
       "(502153, 7)"
      ]
     },
     "execution_count": 6,
     "metadata": {},
     "output_type": "execute_result"
    }
   ],
   "source": [
    "ad_static.shape"
   ]
  },
  {
   "cell_type": "markdown",
   "metadata": {},
   "source": [
    "### 广告操作数据"
   ]
  },
  {
   "cell_type": "code",
   "execution_count": 7,
   "metadata": {},
   "outputs": [],
   "source": [
    "col_names = ['广告id', '创建/修改时间', '操作类型', '修改字段', '操作后的字段值']"
   ]
  },
  {
   "cell_type": "code",
   "execution_count": 8,
   "metadata": {},
   "outputs": [],
   "source": [
    "ad_operation = pd.read_csv(root/'ad_operation.dat', sep='\\t', header=None, names=col_names)"
   ]
  },
  {
   "cell_type": "code",
   "execution_count": 9,
   "metadata": {},
   "outputs": [
    {
     "data": {
      "text/html": [
       "<div>\n",
       "<style scoped>\n",
       "    .dataframe tbody tr th:only-of-type {\n",
       "        vertical-align: middle;\n",
       "    }\n",
       "\n",
       "    .dataframe tbody tr th {\n",
       "        vertical-align: top;\n",
       "    }\n",
       "\n",
       "    .dataframe thead th {\n",
       "        text-align: right;\n",
       "    }\n",
       "</style>\n",
       "<table border=\"1\" class=\"dataframe\">\n",
       "  <thead>\n",
       "    <tr style=\"text-align: right;\">\n",
       "      <th></th>\n",
       "      <th>广告id</th>\n",
       "      <th>创建/修改时间</th>\n",
       "      <th>操作类型</th>\n",
       "      <th>修改字段</th>\n",
       "    </tr>\n",
       "  </thead>\n",
       "  <tbody>\n",
       "    <tr>\n",
       "      <th>count</th>\n",
       "      <td>760866.000000</td>\n",
       "      <td>7.608660e+05</td>\n",
       "      <td>760866.000000</td>\n",
       "      <td>760866.000000</td>\n",
       "    </tr>\n",
       "    <tr>\n",
       "      <th>mean</th>\n",
       "      <td>366502.509025</td>\n",
       "      <td>1.717885e+13</td>\n",
       "      <td>1.147152</td>\n",
       "      <td>1.523331</td>\n",
       "    </tr>\n",
       "    <tr>\n",
       "      <th>std</th>\n",
       "      <td>210931.328143</td>\n",
       "      <td>7.192564e+12</td>\n",
       "      <td>0.354258</td>\n",
       "      <td>0.855417</td>\n",
       "    </tr>\n",
       "    <tr>\n",
       "      <th>min</th>\n",
       "      <td>31.000000</td>\n",
       "      <td>0.000000e+00</td>\n",
       "      <td>1.000000</td>\n",
       "      <td>1.000000</td>\n",
       "    </tr>\n",
       "    <tr>\n",
       "      <th>25%</th>\n",
       "      <td>184651.000000</td>\n",
       "      <td>2.019022e+13</td>\n",
       "      <td>1.000000</td>\n",
       "      <td>1.000000</td>\n",
       "    </tr>\n",
       "    <tr>\n",
       "      <th>50%</th>\n",
       "      <td>363843.000000</td>\n",
       "      <td>2.019030e+13</td>\n",
       "      <td>1.000000</td>\n",
       "      <td>1.000000</td>\n",
       "    </tr>\n",
       "    <tr>\n",
       "      <th>75%</th>\n",
       "      <td>547318.000000</td>\n",
       "      <td>2.019031e+13</td>\n",
       "      <td>1.000000</td>\n",
       "      <td>2.000000</td>\n",
       "    </tr>\n",
       "    <tr>\n",
       "      <th>max</th>\n",
       "      <td>736053.000000</td>\n",
       "      <td>2.019032e+13</td>\n",
       "      <td>2.000000</td>\n",
       "      <td>4.000000</td>\n",
       "    </tr>\n",
       "  </tbody>\n",
       "</table>\n",
       "</div>"
      ],
      "text/plain": [
       "                广告id       创建/修改时间           操作类型           修改字段\n",
       "count  760866.000000  7.608660e+05  760866.000000  760866.000000\n",
       "mean   366502.509025  1.717885e+13       1.147152       1.523331\n",
       "std    210931.328143  7.192564e+12       0.354258       0.855417\n",
       "min        31.000000  0.000000e+00       1.000000       1.000000\n",
       "25%    184651.000000  2.019022e+13       1.000000       1.000000\n",
       "50%    363843.000000  2.019030e+13       1.000000       1.000000\n",
       "75%    547318.000000  2.019031e+13       1.000000       2.000000\n",
       "max    736053.000000  2.019032e+13       2.000000       4.000000"
      ]
     },
     "execution_count": 9,
     "metadata": {},
     "output_type": "execute_result"
    }
   ],
   "source": [
    "ad_operation.describe()"
   ]
  },
  {
   "cell_type": "code",
   "execution_count": 10,
   "metadata": {},
   "outputs": [
    {
     "name": "stdout",
     "output_type": "stream",
     "text": [
      "<class 'pandas.core.frame.DataFrame'>\n",
      "RangeIndex: 760866 entries, 0 to 760865\n",
      "Data columns (total 5 columns):\n",
      "广告id       760866 non-null int64\n",
      "创建/修改时间    760866 non-null int64\n",
      "操作类型       760866 non-null int64\n",
      "修改字段       760866 non-null int64\n",
      "操作后的字段值    760866 non-null object\n",
      "dtypes: int64(4), object(1)\n",
      "memory usage: 29.0+ MB\n"
     ]
    }
   ],
   "source": [
    "ad_operation.info()"
   ]
  },
  {
   "cell_type": "code",
   "execution_count": 11,
   "metadata": {},
   "outputs": [
    {
     "data": {
      "text/html": [
       "<div>\n",
       "<style scoped>\n",
       "    .dataframe tbody tr th:only-of-type {\n",
       "        vertical-align: middle;\n",
       "    }\n",
       "\n",
       "    .dataframe tbody tr th {\n",
       "        vertical-align: top;\n",
       "    }\n",
       "\n",
       "    .dataframe thead th {\n",
       "        text-align: right;\n",
       "    }\n",
       "</style>\n",
       "<table border=\"1\" class=\"dataframe\">\n",
       "  <thead>\n",
       "    <tr style=\"text-align: right;\">\n",
       "      <th></th>\n",
       "      <th>广告id</th>\n",
       "      <th>创建/修改时间</th>\n",
       "      <th>操作类型</th>\n",
       "      <th>修改字段</th>\n",
       "      <th>操作后的字段值</th>\n",
       "    </tr>\n",
       "  </thead>\n",
       "  <tbody>\n",
       "    <tr>\n",
       "      <th>0</th>\n",
       "      <td>593323</td>\n",
       "      <td>0</td>\n",
       "      <td>2</td>\n",
       "      <td>2</td>\n",
       "      <td>90</td>\n",
       "    </tr>\n",
       "    <tr>\n",
       "      <th>1</th>\n",
       "      <td>593323</td>\n",
       "      <td>0</td>\n",
       "      <td>2</td>\n",
       "      <td>3</td>\n",
       "      <td>all</td>\n",
       "    </tr>\n",
       "    <tr>\n",
       "      <th>2</th>\n",
       "      <td>593323</td>\n",
       "      <td>0</td>\n",
       "      <td>2</td>\n",
       "      <td>4</td>\n",
       "      <td>281474976710655,281474976710655,28147497671065...</td>\n",
       "    </tr>\n",
       "    <tr>\n",
       "      <th>3</th>\n",
       "      <td>593323</td>\n",
       "      <td>20190217000000</td>\n",
       "      <td>1</td>\n",
       "      <td>1</td>\n",
       "      <td>0</td>\n",
       "    </tr>\n",
       "    <tr>\n",
       "      <th>4</th>\n",
       "      <td>593323</td>\n",
       "      <td>20190218233855</td>\n",
       "      <td>1</td>\n",
       "      <td>2</td>\n",
       "      <td>90</td>\n",
       "    </tr>\n",
       "    <tr>\n",
       "      <th>5</th>\n",
       "      <td>593323</td>\n",
       "      <td>20190218000000</td>\n",
       "      <td>1</td>\n",
       "      <td>1</td>\n",
       "      <td>1</td>\n",
       "    </tr>\n",
       "    <tr>\n",
       "      <th>6</th>\n",
       "      <td>593323</td>\n",
       "      <td>20190230000000</td>\n",
       "      <td>1</td>\n",
       "      <td>1</td>\n",
       "      <td>0</td>\n",
       "    </tr>\n",
       "  </tbody>\n",
       "</table>\n",
       "</div>"
      ],
      "text/plain": [
       "     广告id         创建/修改时间  操作类型  修改字段  \\\n",
       "0  593323               0     2     2   \n",
       "1  593323               0     2     3   \n",
       "2  593323               0     2     4   \n",
       "3  593323  20190217000000     1     1   \n",
       "4  593323  20190218233855     1     2   \n",
       "5  593323  20190218000000     1     1   \n",
       "6  593323  20190230000000     1     1   \n",
       "\n",
       "                                             操作后的字段值  \n",
       "0                                                 90  \n",
       "1                                                all  \n",
       "2  281474976710655,281474976710655,28147497671065...  \n",
       "3                                                  0  \n",
       "4                                                 90  \n",
       "5                                                  1  \n",
       "6                                                  0  "
      ]
     },
     "execution_count": 11,
     "metadata": {},
     "output_type": "execute_result"
    }
   ],
   "source": [
    "ad_operation.head(7)"
   ]
  },
  {
   "cell_type": "code",
   "execution_count": 12,
   "metadata": {},
   "outputs": [
    {
     "data": {
      "text/plain": [
       "(760866, 5)"
      ]
     },
     "execution_count": 12,
     "metadata": {},
     "output_type": "execute_result"
    }
   ],
   "source": [
    "ad_operation.shape"
   ]
  },
  {
   "cell_type": "code",
   "execution_count": 13,
   "metadata": {},
   "outputs": [
    {
     "data": {
      "text/plain": [
       "array([2, 1])"
      ]
     },
     "execution_count": 13,
     "metadata": {},
     "output_type": "execute_result"
    }
   ],
   "source": [
    "ad_operation.操作类型.unique()"
   ]
  },
  {
   "cell_type": "code",
   "execution_count": 14,
   "metadata": {},
   "outputs": [],
   "source": [
    "a = datetime.strptime('20190218233855', \"%Y%m%d%H%M%S\")"
   ]
  },
  {
   "cell_type": "code",
   "execution_count": 15,
   "metadata": {},
   "outputs": [
    {
     "data": {
      "text/plain": [
       "'2019-02-18 23:38:55'"
      ]
     },
     "execution_count": 15,
     "metadata": {},
     "output_type": "execute_result"
    }
   ],
   "source": [
    "str(a)"
   ]
  },
  {
   "cell_type": "code",
   "execution_count": 16,
   "metadata": {},
   "outputs": [
    {
     "data": {
      "text/plain": [
       "Timestamp('2019-02-18 23:38:55')"
      ]
     },
     "execution_count": 16,
     "metadata": {},
     "output_type": "execute_result"
    }
   ],
   "source": [
    "pd.to_datetime(a)"
   ]
  },
  {
   "cell_type": "markdown",
   "metadata": {},
   "source": [
    "- 非法时间"
   ]
  },
  {
   "cell_type": "code",
   "execution_count": 17,
   "metadata": {},
   "outputs": [],
   "source": [
    "def isVaildDate(date_str):\n",
    "    try:\n",
    "        time.strptime(date_str, \"%Y%m%d%H%M%S\")\n",
    "        return True\n",
    "    except:\n",
    "        return False"
   ]
  },
  {
   "cell_type": "code",
   "execution_count": 18,
   "metadata": {},
   "outputs": [],
   "source": [
    "def invalid_date(df, field):\n",
    "    ret, l = [], len(df)\n",
    "    df.reset_index(drop=True, inplace=True)  # 为了正常访问，重建索引\n",
    "    for i in range(l):\n",
    "        if df.loc[i, field] == 0:\n",
    "            continue\n",
    "        s = str(df.loc[i, field])\n",
    "        if not isVaildDate(s):\n",
    "            ret.append(i)\n",
    "        \n",
    "    # 删除行\n",
    "    new_df = df.drop(ret, axis=0)\n",
    "    return new_df"
   ]
  },
  {
   "cell_type": "code",
   "execution_count": 19,
   "metadata": {},
   "outputs": [],
   "source": [
    "ad_operation = invalid_date(ad_operation, '创建/修改时间')"
   ]
  },
  {
   "cell_type": "code",
   "execution_count": 20,
   "metadata": {},
   "outputs": [
    {
     "data": {
      "text/plain": [
       "(759574, 5)"
      ]
     },
     "execution_count": 20,
     "metadata": {},
     "output_type": "execute_result"
    }
   ],
   "source": [
    "ad_operation.shape"
   ]
  },
  {
   "cell_type": "code",
   "execution_count": 21,
   "metadata": {},
   "outputs": [
    {
     "data": {
      "text/html": [
       "<div>\n",
       "<style scoped>\n",
       "    .dataframe tbody tr th:only-of-type {\n",
       "        vertical-align: middle;\n",
       "    }\n",
       "\n",
       "    .dataframe tbody tr th {\n",
       "        vertical-align: top;\n",
       "    }\n",
       "\n",
       "    .dataframe thead th {\n",
       "        text-align: right;\n",
       "    }\n",
       "</style>\n",
       "<table border=\"1\" class=\"dataframe\">\n",
       "  <thead>\n",
       "    <tr style=\"text-align: right;\">\n",
       "      <th></th>\n",
       "      <th>广告id</th>\n",
       "      <th>创建/修改时间</th>\n",
       "      <th>操作类型</th>\n",
       "      <th>修改字段</th>\n",
       "      <th>操作后的字段值</th>\n",
       "    </tr>\n",
       "  </thead>\n",
       "  <tbody>\n",
       "    <tr>\n",
       "      <th>0</th>\n",
       "      <td>593323</td>\n",
       "      <td>0</td>\n",
       "      <td>2</td>\n",
       "      <td>2</td>\n",
       "      <td>90</td>\n",
       "    </tr>\n",
       "    <tr>\n",
       "      <th>1</th>\n",
       "      <td>593323</td>\n",
       "      <td>0</td>\n",
       "      <td>2</td>\n",
       "      <td>3</td>\n",
       "      <td>all</td>\n",
       "    </tr>\n",
       "    <tr>\n",
       "      <th>2</th>\n",
       "      <td>593323</td>\n",
       "      <td>0</td>\n",
       "      <td>2</td>\n",
       "      <td>4</td>\n",
       "      <td>281474976710655,281474976710655,28147497671065...</td>\n",
       "    </tr>\n",
       "    <tr>\n",
       "      <th>3</th>\n",
       "      <td>593323</td>\n",
       "      <td>20190217000000</td>\n",
       "      <td>1</td>\n",
       "      <td>1</td>\n",
       "      <td>0</td>\n",
       "    </tr>\n",
       "    <tr>\n",
       "      <th>4</th>\n",
       "      <td>593323</td>\n",
       "      <td>20190218233855</td>\n",
       "      <td>1</td>\n",
       "      <td>2</td>\n",
       "      <td>90</td>\n",
       "    </tr>\n",
       "    <tr>\n",
       "      <th>5</th>\n",
       "      <td>593323</td>\n",
       "      <td>20190218000000</td>\n",
       "      <td>1</td>\n",
       "      <td>1</td>\n",
       "      <td>1</td>\n",
       "    </tr>\n",
       "    <tr>\n",
       "      <th>7</th>\n",
       "      <td>593323</td>\n",
       "      <td>20190301000000</td>\n",
       "      <td>1</td>\n",
       "      <td>1</td>\n",
       "      <td>1</td>\n",
       "    </tr>\n",
       "  </tbody>\n",
       "</table>\n",
       "</div>"
      ],
      "text/plain": [
       "     广告id         创建/修改时间  操作类型  修改字段  \\\n",
       "0  593323               0     2     2   \n",
       "1  593323               0     2     3   \n",
       "2  593323               0     2     4   \n",
       "3  593323  20190217000000     1     1   \n",
       "4  593323  20190218233855     1     2   \n",
       "5  593323  20190218000000     1     1   \n",
       "7  593323  20190301000000     1     1   \n",
       "\n",
       "                                             操作后的字段值  \n",
       "0                                                 90  \n",
       "1                                                all  \n",
       "2  281474976710655,281474976710655,28147497671065...  \n",
       "3                                                  0  \n",
       "4                                                 90  \n",
       "5                                                  1  \n",
       "7                                                  1  "
      ]
     },
     "execution_count": 21,
     "metadata": {},
     "output_type": "execute_result"
    }
   ],
   "source": [
    "ad_operation.head(7)"
   ]
  },
  {
   "cell_type": "markdown",
   "metadata": {},
   "source": [
    " - 合并表格"
   ]
  },
  {
   "cell_type": "code",
   "execution_count": 22,
   "metadata": {},
   "outputs": [],
   "source": [
    "ads = pd.merge(ad_static, ad_operation, on='广告id', how='inner')"
   ]
  },
  {
   "cell_type": "code",
   "execution_count": 23,
   "metadata": {},
   "outputs": [
    {
     "data": {
      "text/html": [
       "<div>\n",
       "<style scoped>\n",
       "    .dataframe tbody tr th:only-of-type {\n",
       "        vertical-align: middle;\n",
       "    }\n",
       "\n",
       "    .dataframe tbody tr th {\n",
       "        vertical-align: top;\n",
       "    }\n",
       "\n",
       "    .dataframe thead th {\n",
       "        text-align: right;\n",
       "    }\n",
       "</style>\n",
       "<table border=\"1\" class=\"dataframe\">\n",
       "  <thead>\n",
       "    <tr style=\"text-align: right;\">\n",
       "      <th></th>\n",
       "      <th>广告id</th>\n",
       "      <th>创建时间</th>\n",
       "      <th>广告账户id</th>\n",
       "      <th>商品id</th>\n",
       "      <th>商品类型</th>\n",
       "      <th>广告行业id</th>\n",
       "      <th>素材尺寸</th>\n",
       "      <th>创建/修改时间</th>\n",
       "      <th>操作类型</th>\n",
       "      <th>修改字段</th>\n",
       "      <th>操作后的字段值</th>\n",
       "    </tr>\n",
       "  </thead>\n",
       "  <tbody>\n",
       "    <tr>\n",
       "      <th>0</th>\n",
       "      <td>347637</td>\n",
       "      <td>2019-02-21 23:03:42</td>\n",
       "      <td>18529</td>\n",
       "      <td>28775</td>\n",
       "      <td>13</td>\n",
       "      <td>12</td>\n",
       "      <td>34</td>\n",
       "      <td>0</td>\n",
       "      <td>2</td>\n",
       "      <td>2</td>\n",
       "      <td>100</td>\n",
       "    </tr>\n",
       "    <tr>\n",
       "      <th>1</th>\n",
       "      <td>347637</td>\n",
       "      <td>2019-02-21 23:03:42</td>\n",
       "      <td>18529</td>\n",
       "      <td>28775</td>\n",
       "      <td>13</td>\n",
       "      <td>12</td>\n",
       "      <td>34</td>\n",
       "      <td>0</td>\n",
       "      <td>2</td>\n",
       "      <td>3</td>\n",
       "      <td>age:217,601,79,202,837,942,638,394,347,731,739...</td>\n",
       "    </tr>\n",
       "    <tr>\n",
       "      <th>2</th>\n",
       "      <td>347637</td>\n",
       "      <td>2019-02-21 23:03:42</td>\n",
       "      <td>18529</td>\n",
       "      <td>28775</td>\n",
       "      <td>13</td>\n",
       "      <td>12</td>\n",
       "      <td>34</td>\n",
       "      <td>0</td>\n",
       "      <td>2</td>\n",
       "      <td>4</td>\n",
       "      <td>281474976694272,281474976694272,28147497669427...</td>\n",
       "    </tr>\n",
       "    <tr>\n",
       "      <th>3</th>\n",
       "      <td>347637</td>\n",
       "      <td>2019-02-21 23:03:42</td>\n",
       "      <td>18529</td>\n",
       "      <td>28775</td>\n",
       "      <td>13</td>\n",
       "      <td>12</td>\n",
       "      <td>34</td>\n",
       "      <td>20190222233702</td>\n",
       "      <td>1</td>\n",
       "      <td>1</td>\n",
       "      <td>0</td>\n",
       "    </tr>\n",
       "    <tr>\n",
       "      <th>4</th>\n",
       "      <td>347637</td>\n",
       "      <td>2019-02-21 23:03:42</td>\n",
       "      <td>18529</td>\n",
       "      <td>28775</td>\n",
       "      <td>13</td>\n",
       "      <td>12</td>\n",
       "      <td>34</td>\n",
       "      <td>20190223001315</td>\n",
       "      <td>1</td>\n",
       "      <td>2</td>\n",
       "      <td>100</td>\n",
       "    </tr>\n",
       "  </tbody>\n",
       "</table>\n",
       "</div>"
      ],
      "text/plain": [
       "     广告id                 创建时间  广告账户id   商品id  商品类型  广告行业id 素材尺寸  \\\n",
       "0  347637  2019-02-21 23:03:42   18529  28775    13      12   34   \n",
       "1  347637  2019-02-21 23:03:42   18529  28775    13      12   34   \n",
       "2  347637  2019-02-21 23:03:42   18529  28775    13      12   34   \n",
       "3  347637  2019-02-21 23:03:42   18529  28775    13      12   34   \n",
       "4  347637  2019-02-21 23:03:42   18529  28775    13      12   34   \n",
       "\n",
       "          创建/修改时间  操作类型  修改字段  \\\n",
       "0               0     2     2   \n",
       "1               0     2     3   \n",
       "2               0     2     4   \n",
       "3  20190222233702     1     1   \n",
       "4  20190223001315     1     2   \n",
       "\n",
       "                                             操作后的字段值  \n",
       "0                                                100  \n",
       "1  age:217,601,79,202,837,942,638,394,347,731,739...  \n",
       "2  281474976694272,281474976694272,28147497669427...  \n",
       "3                                                  0  \n",
       "4                                                100  "
      ]
     },
     "execution_count": 23,
     "metadata": {},
     "output_type": "execute_result"
    }
   ],
   "source": [
    "ads.head()"
   ]
  },
  {
   "cell_type": "code",
   "execution_count": 24,
   "metadata": {},
   "outputs": [
    {
     "data": {
      "text/plain": [
       "(614182, 11)"
      ]
     },
     "execution_count": 24,
     "metadata": {},
     "output_type": "execute_result"
    }
   ],
   "source": [
    "ads.shape"
   ]
  },
  {
   "cell_type": "markdown",
   "metadata": {},
   "source": [
    "- 非法时间\n",
    "- 我们避免直接使用 for 循环"
   ]
  },
  {
   "cell_type": "code",
   "execution_count": 25,
   "metadata": {},
   "outputs": [],
   "source": [
    "def date_mod(df_row):\n",
    "    if df_row['创建/修改时间'] == 0:\n",
    "        df_row['创建/修改时间'] = df_row['创建时间']\n",
    "    else:\n",
    "        df_row['创建/修改时间'] = datetime.strptime(str(df_row['创建/修改时间']), \"%Y%m%d%H%M%S\")\n",
    "    return df_row"
   ]
  },
  {
   "cell_type": "code",
   "execution_count": 26,
   "metadata": {},
   "outputs": [],
   "source": [
    "ads = ads.apply(date_mod, axis=1)"
   ]
  },
  {
   "cell_type": "code",
   "execution_count": 27,
   "metadata": {},
   "outputs": [
    {
     "data": {
      "text/html": [
       "<div>\n",
       "<style scoped>\n",
       "    .dataframe tbody tr th:only-of-type {\n",
       "        vertical-align: middle;\n",
       "    }\n",
       "\n",
       "    .dataframe tbody tr th {\n",
       "        vertical-align: top;\n",
       "    }\n",
       "\n",
       "    .dataframe thead th {\n",
       "        text-align: right;\n",
       "    }\n",
       "</style>\n",
       "<table border=\"1\" class=\"dataframe\">\n",
       "  <thead>\n",
       "    <tr style=\"text-align: right;\">\n",
       "      <th></th>\n",
       "      <th>广告id</th>\n",
       "      <th>创建时间</th>\n",
       "      <th>广告账户id</th>\n",
       "      <th>商品id</th>\n",
       "      <th>商品类型</th>\n",
       "      <th>广告行业id</th>\n",
       "      <th>素材尺寸</th>\n",
       "      <th>创建/修改时间</th>\n",
       "      <th>操作类型</th>\n",
       "      <th>修改字段</th>\n",
       "      <th>操作后的字段值</th>\n",
       "    </tr>\n",
       "  </thead>\n",
       "  <tbody>\n",
       "    <tr>\n",
       "      <th>614177</th>\n",
       "      <td>412811</td>\n",
       "      <td>2019-02-21 21:39:18</td>\n",
       "      <td>17804</td>\n",
       "      <td>26944</td>\n",
       "      <td>13</td>\n",
       "      <td>12</td>\n",
       "      <td>34</td>\n",
       "      <td>2019-02-21 21:39:18</td>\n",
       "      <td>2</td>\n",
       "      <td>2</td>\n",
       "      <td>200</td>\n",
       "    </tr>\n",
       "    <tr>\n",
       "      <th>614178</th>\n",
       "      <td>412811</td>\n",
       "      <td>2019-02-21 21:39:18</td>\n",
       "      <td>17804</td>\n",
       "      <td>26944</td>\n",
       "      <td>13</td>\n",
       "      <td>12</td>\n",
       "      <td>34</td>\n",
       "      <td>2019-02-21 21:39:18</td>\n",
       "      <td>2</td>\n",
       "      <td>3</td>\n",
       "      <td>age:217,601,79,202,837,942,638,394,347,731,739...</td>\n",
       "    </tr>\n",
       "    <tr>\n",
       "      <th>614179</th>\n",
       "      <td>412811</td>\n",
       "      <td>2019-02-21 21:39:18</td>\n",
       "      <td>17804</td>\n",
       "      <td>26944</td>\n",
       "      <td>13</td>\n",
       "      <td>12</td>\n",
       "      <td>34</td>\n",
       "      <td>2019-02-21 21:39:18</td>\n",
       "      <td>2</td>\n",
       "      <td>4</td>\n",
       "      <td>281474976694272,281474976694272,28147497669427...</td>\n",
       "    </tr>\n",
       "    <tr>\n",
       "      <th>614180</th>\n",
       "      <td>412811</td>\n",
       "      <td>2019-02-21 21:39:18</td>\n",
       "      <td>17804</td>\n",
       "      <td>26944</td>\n",
       "      <td>13</td>\n",
       "      <td>12</td>\n",
       "      <td>34</td>\n",
       "      <td>2019-02-23 05:40:01</td>\n",
       "      <td>1</td>\n",
       "      <td>2</td>\n",
       "      <td>131</td>\n",
       "    </tr>\n",
       "    <tr>\n",
       "      <th>614181</th>\n",
       "      <td>412811</td>\n",
       "      <td>2019-02-21 21:39:18</td>\n",
       "      <td>17804</td>\n",
       "      <td>26944</td>\n",
       "      <td>13</td>\n",
       "      <td>12</td>\n",
       "      <td>34</td>\n",
       "      <td>2019-02-23 17:21:56</td>\n",
       "      <td>1</td>\n",
       "      <td>1</td>\n",
       "      <td>0</td>\n",
       "    </tr>\n",
       "  </tbody>\n",
       "</table>\n",
       "</div>"
      ],
      "text/plain": [
       "          广告id                 创建时间  广告账户id   商品id  商品类型  广告行业id 素材尺寸  \\\n",
       "614177  412811  2019-02-21 21:39:18   17804  26944    13      12   34   \n",
       "614178  412811  2019-02-21 21:39:18   17804  26944    13      12   34   \n",
       "614179  412811  2019-02-21 21:39:18   17804  26944    13      12   34   \n",
       "614180  412811  2019-02-21 21:39:18   17804  26944    13      12   34   \n",
       "614181  412811  2019-02-21 21:39:18   17804  26944    13      12   34   \n",
       "\n",
       "                    创建/修改时间  操作类型  修改字段  \\\n",
       "614177  2019-02-21 21:39:18     2     2   \n",
       "614178  2019-02-21 21:39:18     2     3   \n",
       "614179  2019-02-21 21:39:18     2     4   \n",
       "614180  2019-02-23 05:40:01     1     2   \n",
       "614181  2019-02-23 17:21:56     1     1   \n",
       "\n",
       "                                                  操作后的字段值  \n",
       "614177                                                200  \n",
       "614178  age:217,601,79,202,837,942,638,394,347,731,739...  \n",
       "614179  281474976694272,281474976694272,28147497669427...  \n",
       "614180                                                131  \n",
       "614181                                                  0  "
      ]
     },
     "execution_count": 27,
     "metadata": {},
     "output_type": "execute_result"
    }
   ],
   "source": [
    "ads.tail()"
   ]
  },
  {
   "cell_type": "code",
   "execution_count": 28,
   "metadata": {},
   "outputs": [
    {
     "data": {
      "text/plain": [
       "(614182, 11)"
      ]
     },
     "execution_count": 28,
     "metadata": {},
     "output_type": "execute_result"
    }
   ],
   "source": [
    "ads.shape"
   ]
  },
  {
   "cell_type": "code",
   "execution_count": 29,
   "metadata": {},
   "outputs": [
    {
     "name": "stdout",
     "output_type": "stream",
     "text": [
      "<class 'pandas.core.frame.DataFrame'>\n",
      "Int64Index: 614182 entries, 0 to 614181\n",
      "Data columns (total 11 columns):\n",
      "广告id       614182 non-null int64\n",
      "创建时间       614182 non-null object\n",
      "广告账户id     614182 non-null int64\n",
      "商品id       614182 non-null int64\n",
      "商品类型       614182 non-null int64\n",
      "广告行业id     614182 non-null int64\n",
      "素材尺寸       614182 non-null object\n",
      "创建/修改时间    614182 non-null object\n",
      "操作类型       614182 non-null int64\n",
      "修改字段       614182 non-null int64\n",
      "操作后的字段值    614182 non-null object\n",
      "dtypes: int64(7), object(4)\n",
      "memory usage: 56.2+ MB\n"
     ]
    }
   ],
   "source": [
    "ads.info()"
   ]
  },
  {
   "cell_type": "markdown",
   "metadata": {},
   "source": [
    "- 数据保存"
   ]
  },
  {
   "cell_type": "code",
   "execution_count": 30,
   "metadata": {},
   "outputs": [],
   "source": [
    "ads.to_csv('../data/ad_static_operation.csv', index=None, encoding='utf-8')"
   ]
  },
  {
   "cell_type": "code",
   "execution_count": null,
   "metadata": {},
   "outputs": [],
   "source": []
  }
 ],
 "metadata": {
  "kernelspec": {
   "display_name": "Python 3",
   "language": "python",
   "name": "python3"
  },
  "language_info": {
   "codemirror_mode": {
    "name": "ipython",
    "version": 3
   },
   "file_extension": ".py",
   "mimetype": "text/x-python",
   "name": "python",
   "nbconvert_exporter": "python",
   "pygments_lexer": "ipython3",
   "version": "3.6.7"
  }
 },
 "nbformat": 4,
 "nbformat_minor": 2
}
