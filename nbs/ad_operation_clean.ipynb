{
 "cells": [
  {
   "cell_type": "code",
   "execution_count": 1,
   "metadata": {},
   "outputs": [],
   "source": [
    "%matplotlib inline\n",
    "%reload_ext autoreload\n",
    "%autoreload 2\n",
    "# 多行输出\n",
    "from IPython.core.interactiveshell import InteractiveShell\n",
    "InteractiveShell.ast_node_interactivity = \"all\""
   ]
  },
  {
   "cell_type": "code",
   "execution_count": 2,
   "metadata": {},
   "outputs": [
    {
     "name": "stderr",
     "output_type": "stream",
     "text": [
      "2019-05-14 20:40:59,680\tINFO node.py:469 -- Process STDOUT and STDERR is being redirected to /tmp/ray/session_2019-05-14_20-40-59_4103/logs.\n",
      "2019-05-14 20:40:59,784\tINFO services.py:407 -- Waiting for redis server at 127.0.0.1:54832 to respond...\n",
      "2019-05-14 20:40:59,890\tINFO services.py:407 -- Waiting for redis server at 127.0.0.1:12652 to respond...\n",
      "2019-05-14 20:40:59,892\tINFO services.py:804 -- Starting Redis shard with 10.0 GB max memory.\n",
      "2019-05-14 20:40:59,898\tINFO node.py:483 -- Process STDOUT and STDERR is being redirected to /tmp/ray/session_2019-05-14_20-40-59_4103/logs.\n",
      "2019-05-14 20:40:59,900\tWARNING services.py:1304 -- WARNING: The object store is using /tmp instead of /dev/shm because /dev/shm has only 33736691712 bytes available. This may slow down performance! You may be able to free up space by deleting files in /dev/shm or terminating any running plasma_store_server processes. If you are inside a Docker container, you may need to pass an argument with the flag '--shm-size' to 'docker run'.\n",
      "2019-05-14 20:40:59,900\tINFO services.py:1427 -- Starting the Plasma object store with 40.0 GB memory using /tmp.\n"
     ]
    }
   ],
   "source": [
    "import modin.pandas as pd\n",
    "from fastai.tabular import *\n",
    "import time\n",
    "from datetime import datetime"
   ]
  },
  {
   "cell_type": "markdown",
   "metadata": {},
   "source": [
    "## 数据清洗"
   ]
  },
  {
   "cell_type": "code",
   "execution_count": 3,
   "metadata": {},
   "outputs": [
    {
     "data": {
      "text/plain": [
       "PosixPath('../test_A')"
      ]
     },
     "execution_count": 3,
     "metadata": {},
     "output_type": "execute_result"
    },
    {
     "data": {
      "text/plain": [
       "[PosixPath('../test_A/ad_static_feature.out'),\n",
       " PosixPath('../test_A/ad_operation.dat'),\n",
       " PosixPath('../test_A/.ipynb_checkpoints'),\n",
       " PosixPath('../test_A/imps_log'),\n",
       " PosixPath('../test_A/test_sample.dat'),\n",
       " PosixPath('../test_A/user')]"
      ]
     },
     "execution_count": 3,
     "metadata": {},
     "output_type": "execute_result"
    }
   ],
   "source": [
    "root = Path('../test_A')\n",
    "root\n",
    "root.ls()"
   ]
  },
  {
   "cell_type": "code",
   "execution_count": 4,
   "metadata": {},
   "outputs": [
    {
     "data": {
      "text/plain": [
       "[PosixPath('../test_A/user/user_data')]"
      ]
     },
     "execution_count": 4,
     "metadata": {},
     "output_type": "execute_result"
    },
    {
     "data": {
      "text/plain": [
       "[PosixPath('../test_A/imps_log/totalExposureLog.out')]"
      ]
     },
     "execution_count": 4,
     "metadata": {},
     "output_type": "execute_result"
    }
   ],
   "source": [
    "u_data = root/'user'\n",
    "u_data.ls()\n",
    "log_data = root/'imps_log'\n",
    "log_data.ls()"
   ]
  },
  {
   "cell_type": "markdown",
   "metadata": {},
   "source": [
    "- 清洗掉 ad_static_feature 中没有的广告\n",
    "- 我们只关心有效广告的曝光情况"
   ]
  },
  {
   "cell_type": "code",
   "execution_count": 6,
   "metadata": {},
   "outputs": [
    {
     "data": {
      "text/html": [
       "<div>\n",
       "<style scoped>\n",
       "    .dataframe tbody tr th:only-of-type {\n",
       "        vertical-align: middle;\n",
       "    }\n",
       "\n",
       "    .dataframe tbody tr th {\n",
       "        vertical-align: top;\n",
       "    }\n",
       "\n",
       "    .dataframe thead th {\n",
       "        text-align: right;\n",
       "    }\n",
       "</style>\n",
       "<table border=\"1\" class=\"dataframe\">\n",
       "  <thead>\n",
       "    <tr style=\"text-align: right;\">\n",
       "      <th></th>\n",
       "      <th>广告id</th>\n",
       "      <th>创建时间</th>\n",
       "      <th>广告账户id</th>\n",
       "      <th>商品id</th>\n",
       "      <th>商品类型</th>\n",
       "      <th>广告行业id</th>\n",
       "      <th>素材尺寸</th>\n",
       "    </tr>\n",
       "  </thead>\n",
       "  <tbody>\n",
       "    <tr>\n",
       "      <th>0</th>\n",
       "      <td>593323</td>\n",
       "      <td>2015-04-07 09:43:55</td>\n",
       "      <td>26889</td>\n",
       "      <td>-1</td>\n",
       "      <td>3</td>\n",
       "      <td>85</td>\n",
       "      <td>64</td>\n",
       "    </tr>\n",
       "    <tr>\n",
       "      <th>1</th>\n",
       "      <td>146563</td>\n",
       "      <td>2015-06-04 09:11:32</td>\n",
       "      <td>23511</td>\n",
       "      <td>-1</td>\n",
       "      <td>3</td>\n",
       "      <td>118</td>\n",
       "      <td>64</td>\n",
       "    </tr>\n",
       "    <tr>\n",
       "      <th>2</th>\n",
       "      <td>216969</td>\n",
       "      <td>2016-03-10 06:35:34</td>\n",
       "      <td>26970</td>\n",
       "      <td>-1</td>\n",
       "      <td>1</td>\n",
       "      <td>33</td>\n",
       "      <td>1</td>\n",
       "    </tr>\n",
       "    <tr>\n",
       "      <th>3</th>\n",
       "      <td>357401</td>\n",
       "      <td>2016-03-10 06:35:35</td>\n",
       "      <td>26970</td>\n",
       "      <td>-1</td>\n",
       "      <td>1</td>\n",
       "      <td>33</td>\n",
       "      <td>1</td>\n",
       "    </tr>\n",
       "    <tr>\n",
       "      <th>4</th>\n",
       "      <td>542734</td>\n",
       "      <td>2016-03-10 06:35:35</td>\n",
       "      <td>26970</td>\n",
       "      <td>-1</td>\n",
       "      <td>1</td>\n",
       "      <td>33</td>\n",
       "      <td>34</td>\n",
       "    </tr>\n",
       "  </tbody>\n",
       "</table>\n",
       "</div>"
      ],
      "text/plain": [
       "     广告id                 创建时间  广告账户id  商品id  商品类型  广告行业id 素材尺寸\n",
       "0  593323  2015-04-07 09:43:55   26889    -1     3      85   64\n",
       "1  146563  2015-06-04 09:11:32   23511    -1     3     118   64\n",
       "2  216969  2016-03-10 06:35:34   26970    -1     1      33    1\n",
       "3  357401  2016-03-10 06:35:35   26970    -1     1      33    1\n",
       "4  542734  2016-03-10 06:35:35   26970    -1     1      33   34"
      ]
     },
     "execution_count": 6,
     "metadata": {},
     "output_type": "execute_result"
    }
   ],
   "source": [
    "ad_static = pd.read_csv('../data/ad_static.csv', low_memory=False, encoding='utf-8')\n",
    "ad_static.head()"
   ]
  },
  {
   "cell_type": "code",
   "execution_count": 7,
   "metadata": {},
   "outputs": [
    {
     "data": {
      "text/plain": [
       "(497666, 7)"
      ]
     },
     "execution_count": 7,
     "metadata": {},
     "output_type": "execute_result"
    }
   ],
   "source": [
    "ad_static.shape"
   ]
  },
  {
   "cell_type": "markdown",
   "metadata": {},
   "source": [
    "### 广告操作数据"
   ]
  },
  {
   "cell_type": "code",
   "execution_count": 8,
   "metadata": {},
   "outputs": [],
   "source": [
    "col_names = ['广告id', '创建/修改时间', '操作类型', '修改字段', '操作后的字段值']"
   ]
  },
  {
   "cell_type": "code",
   "execution_count": 9,
   "metadata": {},
   "outputs": [],
   "source": [
    "ad_operation = pd.read_csv(root/'ad_operation.dat', sep='\\t', header=None, names=col_names)"
   ]
  },
  {
   "cell_type": "code",
   "execution_count": 10,
   "metadata": {},
   "outputs": [
    {
     "data": {
      "text/html": [
       "<div>\n",
       "<style scoped>\n",
       "    .dataframe tbody tr th:only-of-type {\n",
       "        vertical-align: middle;\n",
       "    }\n",
       "\n",
       "    .dataframe tbody tr th {\n",
       "        vertical-align: top;\n",
       "    }\n",
       "\n",
       "    .dataframe thead th {\n",
       "        text-align: right;\n",
       "    }\n",
       "</style>\n",
       "<table border=\"1\" class=\"dataframe\">\n",
       "  <thead>\n",
       "    <tr style=\"text-align: right;\">\n",
       "      <th></th>\n",
       "      <th>广告id</th>\n",
       "      <th>创建/修改时间</th>\n",
       "      <th>操作类型</th>\n",
       "      <th>修改字段</th>\n",
       "    </tr>\n",
       "  </thead>\n",
       "  <tbody>\n",
       "    <tr>\n",
       "      <th>count</th>\n",
       "      <td>760866.000000</td>\n",
       "      <td>7.608660e+05</td>\n",
       "      <td>760866.000000</td>\n",
       "      <td>760866.000000</td>\n",
       "    </tr>\n",
       "    <tr>\n",
       "      <th>mean</th>\n",
       "      <td>366502.509025</td>\n",
       "      <td>1.717885e+13</td>\n",
       "      <td>1.147152</td>\n",
       "      <td>1.523331</td>\n",
       "    </tr>\n",
       "    <tr>\n",
       "      <th>std</th>\n",
       "      <td>210931.328143</td>\n",
       "      <td>7.192564e+12</td>\n",
       "      <td>0.354258</td>\n",
       "      <td>0.855417</td>\n",
       "    </tr>\n",
       "    <tr>\n",
       "      <th>min</th>\n",
       "      <td>31.000000</td>\n",
       "      <td>0.000000e+00</td>\n",
       "      <td>1.000000</td>\n",
       "      <td>1.000000</td>\n",
       "    </tr>\n",
       "    <tr>\n",
       "      <th>25%</th>\n",
       "      <td>184651.000000</td>\n",
       "      <td>2.019022e+13</td>\n",
       "      <td>1.000000</td>\n",
       "      <td>1.000000</td>\n",
       "    </tr>\n",
       "    <tr>\n",
       "      <th>50%</th>\n",
       "      <td>363843.000000</td>\n",
       "      <td>2.019030e+13</td>\n",
       "      <td>1.000000</td>\n",
       "      <td>1.000000</td>\n",
       "    </tr>\n",
       "    <tr>\n",
       "      <th>75%</th>\n",
       "      <td>547318.000000</td>\n",
       "      <td>2.019031e+13</td>\n",
       "      <td>1.000000</td>\n",
       "      <td>2.000000</td>\n",
       "    </tr>\n",
       "    <tr>\n",
       "      <th>max</th>\n",
       "      <td>736053.000000</td>\n",
       "      <td>2.019032e+13</td>\n",
       "      <td>2.000000</td>\n",
       "      <td>4.000000</td>\n",
       "    </tr>\n",
       "  </tbody>\n",
       "</table>\n",
       "</div>"
      ],
      "text/plain": [
       "                广告id       创建/修改时间           操作类型           修改字段\n",
       "count  760866.000000  7.608660e+05  760866.000000  760866.000000\n",
       "mean   366502.509025  1.717885e+13       1.147152       1.523331\n",
       "std    210931.328143  7.192564e+12       0.354258       0.855417\n",
       "min        31.000000  0.000000e+00       1.000000       1.000000\n",
       "25%    184651.000000  2.019022e+13       1.000000       1.000000\n",
       "50%    363843.000000  2.019030e+13       1.000000       1.000000\n",
       "75%    547318.000000  2.019031e+13       1.000000       2.000000\n",
       "max    736053.000000  2.019032e+13       2.000000       4.000000"
      ]
     },
     "execution_count": 10,
     "metadata": {},
     "output_type": "execute_result"
    }
   ],
   "source": [
    "ad_operation.describe()"
   ]
  },
  {
   "cell_type": "code",
   "execution_count": 11,
   "metadata": {},
   "outputs": [
    {
     "name": "stdout",
     "output_type": "stream",
     "text": [
      "<class 'pandas.core.frame.DataFrame'>\n",
      "RangeIndex: 760866 entries, 0 to 760865\n",
      "Data columns (total 5 columns):\n",
      "广告id       760866 non-null int64\n",
      "创建/修改时间    760866 non-null int64\n",
      "操作类型       760866 non-null int64\n",
      "修改字段       760866 non-null int64\n",
      "操作后的字段值    760866 non-null object\n",
      "dtypes: int64(4), object(1)\n",
      "memory usage: 29.0+ MB\n"
     ]
    }
   ],
   "source": [
    "ad_operation.info()"
   ]
  },
  {
   "cell_type": "code",
   "execution_count": 12,
   "metadata": {},
   "outputs": [
    {
     "data": {
      "text/html": [
       "<div>\n",
       "<style scoped>\n",
       "    .dataframe tbody tr th:only-of-type {\n",
       "        vertical-align: middle;\n",
       "    }\n",
       "\n",
       "    .dataframe tbody tr th {\n",
       "        vertical-align: top;\n",
       "    }\n",
       "\n",
       "    .dataframe thead th {\n",
       "        text-align: right;\n",
       "    }\n",
       "</style>\n",
       "<table border=\"1\" class=\"dataframe\">\n",
       "  <thead>\n",
       "    <tr style=\"text-align: right;\">\n",
       "      <th></th>\n",
       "      <th>广告id</th>\n",
       "      <th>创建/修改时间</th>\n",
       "      <th>操作类型</th>\n",
       "      <th>修改字段</th>\n",
       "      <th>操作后的字段值</th>\n",
       "    </tr>\n",
       "  </thead>\n",
       "  <tbody>\n",
       "    <tr>\n",
       "      <th>0</th>\n",
       "      <td>593323</td>\n",
       "      <td>0</td>\n",
       "      <td>2</td>\n",
       "      <td>2</td>\n",
       "      <td>90</td>\n",
       "    </tr>\n",
       "    <tr>\n",
       "      <th>1</th>\n",
       "      <td>593323</td>\n",
       "      <td>0</td>\n",
       "      <td>2</td>\n",
       "      <td>3</td>\n",
       "      <td>all</td>\n",
       "    </tr>\n",
       "    <tr>\n",
       "      <th>2</th>\n",
       "      <td>593323</td>\n",
       "      <td>0</td>\n",
       "      <td>2</td>\n",
       "      <td>4</td>\n",
       "      <td>281474976710655,281474976710655,28147497671065...</td>\n",
       "    </tr>\n",
       "    <tr>\n",
       "      <th>3</th>\n",
       "      <td>593323</td>\n",
       "      <td>20190217000000</td>\n",
       "      <td>1</td>\n",
       "      <td>1</td>\n",
       "      <td>0</td>\n",
       "    </tr>\n",
       "    <tr>\n",
       "      <th>4</th>\n",
       "      <td>593323</td>\n",
       "      <td>20190218233855</td>\n",
       "      <td>1</td>\n",
       "      <td>2</td>\n",
       "      <td>90</td>\n",
       "    </tr>\n",
       "    <tr>\n",
       "      <th>5</th>\n",
       "      <td>593323</td>\n",
       "      <td>20190218000000</td>\n",
       "      <td>1</td>\n",
       "      <td>1</td>\n",
       "      <td>1</td>\n",
       "    </tr>\n",
       "    <tr>\n",
       "      <th>6</th>\n",
       "      <td>593323</td>\n",
       "      <td>20190230000000</td>\n",
       "      <td>1</td>\n",
       "      <td>1</td>\n",
       "      <td>0</td>\n",
       "    </tr>\n",
       "  </tbody>\n",
       "</table>\n",
       "</div>"
      ],
      "text/plain": [
       "     广告id         创建/修改时间  操作类型  修改字段  \\\n",
       "0  593323               0     2     2   \n",
       "1  593323               0     2     3   \n",
       "2  593323               0     2     4   \n",
       "3  593323  20190217000000     1     1   \n",
       "4  593323  20190218233855     1     2   \n",
       "5  593323  20190218000000     1     1   \n",
       "6  593323  20190230000000     1     1   \n",
       "\n",
       "                                             操作后的字段值  \n",
       "0                                                 90  \n",
       "1                                                all  \n",
       "2  281474976710655,281474976710655,28147497671065...  \n",
       "3                                                  0  \n",
       "4                                                 90  \n",
       "5                                                  1  \n",
       "6                                                  0  "
      ]
     },
     "execution_count": 12,
     "metadata": {},
     "output_type": "execute_result"
    }
   ],
   "source": [
    "ad_operation.head(7)"
   ]
  },
  {
   "cell_type": "code",
   "execution_count": 13,
   "metadata": {},
   "outputs": [
    {
     "data": {
      "text/plain": [
       "(760866, 5)"
      ]
     },
     "execution_count": 13,
     "metadata": {},
     "output_type": "execute_result"
    }
   ],
   "source": [
    "ad_operation.shape"
   ]
  },
  {
   "cell_type": "code",
   "execution_count": 14,
   "metadata": {},
   "outputs": [
    {
     "data": {
      "text/plain": [
       "array([2, 1])"
      ]
     },
     "execution_count": 14,
     "metadata": {},
     "output_type": "execute_result"
    }
   ],
   "source": [
    "ad_operation.操作类型.unique()"
   ]
  },
  {
   "cell_type": "code",
   "execution_count": 15,
   "metadata": {},
   "outputs": [],
   "source": [
    "a = datetime.strptime('20190218233855', \"%Y%m%d%H%M%S\")"
   ]
  },
  {
   "cell_type": "code",
   "execution_count": 16,
   "metadata": {},
   "outputs": [
    {
     "data": {
      "text/plain": [
       "'2019-02-18 23:38:55'"
      ]
     },
     "execution_count": 16,
     "metadata": {},
     "output_type": "execute_result"
    }
   ],
   "source": [
    "str(a)"
   ]
  },
  {
   "cell_type": "code",
   "execution_count": 17,
   "metadata": {},
   "outputs": [
    {
     "data": {
      "text/plain": [
       "Timestamp('2019-02-18 23:38:55')"
      ]
     },
     "execution_count": 17,
     "metadata": {},
     "output_type": "execute_result"
    }
   ],
   "source": [
    "pd.to_datetime(a)"
   ]
  },
  {
   "cell_type": "markdown",
   "metadata": {},
   "source": [
    "- 非法时间"
   ]
  },
  {
   "cell_type": "code",
   "execution_count": 18,
   "metadata": {},
   "outputs": [],
   "source": [
    "def isVaildDate(date_str):\n",
    "    try:\n",
    "        time.strptime(date_str, \"%Y%m%d%H%M%S\")\n",
    "        return True\n",
    "    except:\n",
    "        return False"
   ]
  },
  {
   "cell_type": "code",
   "execution_count": 19,
   "metadata": {},
   "outputs": [],
   "source": [
    "def invalid_date(df, field):\n",
    "    ret, l = [], len(df)\n",
    "    df.reset_index(drop=True, inplace=True)  # 为了正常访问，重建索引\n",
    "    for i in range(l):\n",
    "        if df.loc[i, field] == 0:\n",
    "            continue\n",
    "        s = str(df.loc[i, field])\n",
    "        if not isVaildDate(s):\n",
    "            ret.append(i)\n",
    "        \n",
    "    # 删除行\n",
    "    new_df = df.drop(ret, axis=0)\n",
    "    return new_df"
   ]
  },
  {
   "cell_type": "code",
   "execution_count": 20,
   "metadata": {},
   "outputs": [],
   "source": [
    "ad_operation = invalid_date(ad_operation, '创建/修改时间')"
   ]
  },
  {
   "cell_type": "code",
   "execution_count": 21,
   "metadata": {},
   "outputs": [
    {
     "data": {
      "text/plain": [
       "(759574, 5)"
      ]
     },
     "execution_count": 21,
     "metadata": {},
     "output_type": "execute_result"
    }
   ],
   "source": [
    "ad_operation.shape"
   ]
  },
  {
   "cell_type": "code",
   "execution_count": 22,
   "metadata": {},
   "outputs": [
    {
     "data": {
      "text/html": [
       "<div>\n",
       "<style scoped>\n",
       "    .dataframe tbody tr th:only-of-type {\n",
       "        vertical-align: middle;\n",
       "    }\n",
       "\n",
       "    .dataframe tbody tr th {\n",
       "        vertical-align: top;\n",
       "    }\n",
       "\n",
       "    .dataframe thead th {\n",
       "        text-align: right;\n",
       "    }\n",
       "</style>\n",
       "<table border=\"1\" class=\"dataframe\">\n",
       "  <thead>\n",
       "    <tr style=\"text-align: right;\">\n",
       "      <th></th>\n",
       "      <th>广告id</th>\n",
       "      <th>创建/修改时间</th>\n",
       "      <th>操作类型</th>\n",
       "      <th>修改字段</th>\n",
       "      <th>操作后的字段值</th>\n",
       "    </tr>\n",
       "  </thead>\n",
       "  <tbody>\n",
       "    <tr>\n",
       "      <th>0</th>\n",
       "      <td>593323</td>\n",
       "      <td>0</td>\n",
       "      <td>2</td>\n",
       "      <td>2</td>\n",
       "      <td>90</td>\n",
       "    </tr>\n",
       "    <tr>\n",
       "      <th>1</th>\n",
       "      <td>593323</td>\n",
       "      <td>0</td>\n",
       "      <td>2</td>\n",
       "      <td>3</td>\n",
       "      <td>all</td>\n",
       "    </tr>\n",
       "    <tr>\n",
       "      <th>2</th>\n",
       "      <td>593323</td>\n",
       "      <td>0</td>\n",
       "      <td>2</td>\n",
       "      <td>4</td>\n",
       "      <td>281474976710655,281474976710655,28147497671065...</td>\n",
       "    </tr>\n",
       "    <tr>\n",
       "      <th>3</th>\n",
       "      <td>593323</td>\n",
       "      <td>20190217000000</td>\n",
       "      <td>1</td>\n",
       "      <td>1</td>\n",
       "      <td>0</td>\n",
       "    </tr>\n",
       "    <tr>\n",
       "      <th>4</th>\n",
       "      <td>593323</td>\n",
       "      <td>20190218233855</td>\n",
       "      <td>1</td>\n",
       "      <td>2</td>\n",
       "      <td>90</td>\n",
       "    </tr>\n",
       "    <tr>\n",
       "      <th>5</th>\n",
       "      <td>593323</td>\n",
       "      <td>20190218000000</td>\n",
       "      <td>1</td>\n",
       "      <td>1</td>\n",
       "      <td>1</td>\n",
       "    </tr>\n",
       "    <tr>\n",
       "      <th>7</th>\n",
       "      <td>593323</td>\n",
       "      <td>20190301000000</td>\n",
       "      <td>1</td>\n",
       "      <td>1</td>\n",
       "      <td>1</td>\n",
       "    </tr>\n",
       "  </tbody>\n",
       "</table>\n",
       "</div>"
      ],
      "text/plain": [
       "     广告id         创建/修改时间  操作类型  修改字段  \\\n",
       "0  593323               0     2     2   \n",
       "1  593323               0     2     3   \n",
       "2  593323               0     2     4   \n",
       "3  593323  20190217000000     1     1   \n",
       "4  593323  20190218233855     1     2   \n",
       "5  593323  20190218000000     1     1   \n",
       "7  593323  20190301000000     1     1   \n",
       "\n",
       "                                             操作后的字段值  \n",
       "0                                                 90  \n",
       "1                                                all  \n",
       "2  281474976710655,281474976710655,28147497671065...  \n",
       "3                                                  0  \n",
       "4                                                 90  \n",
       "5                                                  1  \n",
       "7                                                  1  "
      ]
     },
     "execution_count": 22,
     "metadata": {},
     "output_type": "execute_result"
    }
   ],
   "source": [
    "ad_operation.head(7)"
   ]
  },
  {
   "cell_type": "markdown",
   "metadata": {},
   "source": [
    " - 合并表格"
   ]
  },
  {
   "cell_type": "code",
   "execution_count": 23,
   "metadata": {},
   "outputs": [],
   "source": [
    "ads = pd.merge(ad_static, ad_operation, on='广告id', how='inner')"
   ]
  },
  {
   "cell_type": "code",
   "execution_count": 24,
   "metadata": {},
   "outputs": [
    {
     "data": {
      "text/html": [
       "<div>\n",
       "<style scoped>\n",
       "    .dataframe tbody tr th:only-of-type {\n",
       "        vertical-align: middle;\n",
       "    }\n",
       "\n",
       "    .dataframe tbody tr th {\n",
       "        vertical-align: top;\n",
       "    }\n",
       "\n",
       "    .dataframe thead th {\n",
       "        text-align: right;\n",
       "    }\n",
       "</style>\n",
       "<table border=\"1\" class=\"dataframe\">\n",
       "  <thead>\n",
       "    <tr style=\"text-align: right;\">\n",
       "      <th></th>\n",
       "      <th>广告id</th>\n",
       "      <th>创建时间</th>\n",
       "      <th>广告账户id</th>\n",
       "      <th>商品id</th>\n",
       "      <th>商品类型</th>\n",
       "      <th>广告行业id</th>\n",
       "      <th>素材尺寸</th>\n",
       "      <th>创建/修改时间</th>\n",
       "      <th>操作类型</th>\n",
       "      <th>修改字段</th>\n",
       "      <th>操作后的字段值</th>\n",
       "    </tr>\n",
       "  </thead>\n",
       "  <tbody>\n",
       "    <tr>\n",
       "      <th>0</th>\n",
       "      <td>593323</td>\n",
       "      <td>2015-04-07 09:43:55</td>\n",
       "      <td>26889</td>\n",
       "      <td>-1</td>\n",
       "      <td>3</td>\n",
       "      <td>85</td>\n",
       "      <td>64</td>\n",
       "      <td>0</td>\n",
       "      <td>2</td>\n",
       "      <td>2</td>\n",
       "      <td>90</td>\n",
       "    </tr>\n",
       "    <tr>\n",
       "      <th>1</th>\n",
       "      <td>593323</td>\n",
       "      <td>2015-04-07 09:43:55</td>\n",
       "      <td>26889</td>\n",
       "      <td>-1</td>\n",
       "      <td>3</td>\n",
       "      <td>85</td>\n",
       "      <td>64</td>\n",
       "      <td>0</td>\n",
       "      <td>2</td>\n",
       "      <td>3</td>\n",
       "      <td>all</td>\n",
       "    </tr>\n",
       "    <tr>\n",
       "      <th>2</th>\n",
       "      <td>593323</td>\n",
       "      <td>2015-04-07 09:43:55</td>\n",
       "      <td>26889</td>\n",
       "      <td>-1</td>\n",
       "      <td>3</td>\n",
       "      <td>85</td>\n",
       "      <td>64</td>\n",
       "      <td>0</td>\n",
       "      <td>2</td>\n",
       "      <td>4</td>\n",
       "      <td>281474976710655,281474976710655,28147497671065...</td>\n",
       "    </tr>\n",
       "    <tr>\n",
       "      <th>3</th>\n",
       "      <td>593323</td>\n",
       "      <td>2015-04-07 09:43:55</td>\n",
       "      <td>26889</td>\n",
       "      <td>-1</td>\n",
       "      <td>3</td>\n",
       "      <td>85</td>\n",
       "      <td>64</td>\n",
       "      <td>20190217000000</td>\n",
       "      <td>1</td>\n",
       "      <td>1</td>\n",
       "      <td>0</td>\n",
       "    </tr>\n",
       "    <tr>\n",
       "      <th>4</th>\n",
       "      <td>593323</td>\n",
       "      <td>2015-04-07 09:43:55</td>\n",
       "      <td>26889</td>\n",
       "      <td>-1</td>\n",
       "      <td>3</td>\n",
       "      <td>85</td>\n",
       "      <td>64</td>\n",
       "      <td>20190218233855</td>\n",
       "      <td>1</td>\n",
       "      <td>2</td>\n",
       "      <td>90</td>\n",
       "    </tr>\n",
       "  </tbody>\n",
       "</table>\n",
       "</div>"
      ],
      "text/plain": [
       "     广告id                 创建时间  广告账户id  商品id  商品类型  广告行业id 素材尺寸  \\\n",
       "0  593323  2015-04-07 09:43:55   26889    -1     3      85   64   \n",
       "1  593323  2015-04-07 09:43:55   26889    -1     3      85   64   \n",
       "2  593323  2015-04-07 09:43:55   26889    -1     3      85   64   \n",
       "3  593323  2015-04-07 09:43:55   26889    -1     3      85   64   \n",
       "4  593323  2015-04-07 09:43:55   26889    -1     3      85   64   \n",
       "\n",
       "          创建/修改时间  操作类型  修改字段  \\\n",
       "0               0     2     2   \n",
       "1               0     2     3   \n",
       "2               0     2     4   \n",
       "3  20190217000000     1     1   \n",
       "4  20190218233855     1     2   \n",
       "\n",
       "                                             操作后的字段值  \n",
       "0                                                 90  \n",
       "1                                                all  \n",
       "2  281474976710655,281474976710655,28147497671065...  \n",
       "3                                                  0  \n",
       "4                                                 90  "
      ]
     },
     "execution_count": 24,
     "metadata": {},
     "output_type": "execute_result"
    }
   ],
   "source": [
    "ads.head()"
   ]
  },
  {
   "cell_type": "code",
   "execution_count": 25,
   "metadata": {},
   "outputs": [
    {
     "data": {
      "text/plain": [
       "(613409, 11)"
      ]
     },
     "execution_count": 25,
     "metadata": {},
     "output_type": "execute_result"
    }
   ],
   "source": [
    "ads.shape"
   ]
  },
  {
   "cell_type": "markdown",
   "metadata": {},
   "source": [
    "- 非法时间\n",
    "- 我们避免直接使用 for 循环"
   ]
  },
  {
   "cell_type": "code",
   "execution_count": 26,
   "metadata": {},
   "outputs": [],
   "source": [
    "def date_mod(df_row):\n",
    "    if df_row['创建/修改时间'] == 0:\n",
    "        df_row['创建/修改时间'] = df_row['创建时间']\n",
    "    else:\n",
    "        df_row['创建/修改时间'] = datetime.strptime(str(df_row['创建/修改时间']), \"%Y%m%d%H%M%S\")\n",
    "    return df_row"
   ]
  },
  {
   "cell_type": "code",
   "execution_count": 27,
   "metadata": {},
   "outputs": [],
   "source": [
    "ads = ads.apply(date_mod, axis=1)"
   ]
  },
  {
   "cell_type": "code",
   "execution_count": 28,
   "metadata": {},
   "outputs": [
    {
     "data": {
      "text/html": [
       "<div>\n",
       "<style scoped>\n",
       "    .dataframe tbody tr th:only-of-type {\n",
       "        vertical-align: middle;\n",
       "    }\n",
       "\n",
       "    .dataframe tbody tr th {\n",
       "        vertical-align: top;\n",
       "    }\n",
       "\n",
       "    .dataframe thead th {\n",
       "        text-align: right;\n",
       "    }\n",
       "</style>\n",
       "<table border=\"1\" class=\"dataframe\">\n",
       "  <thead>\n",
       "    <tr style=\"text-align: right;\">\n",
       "      <th></th>\n",
       "      <th>广告id</th>\n",
       "      <th>创建时间</th>\n",
       "      <th>广告账户id</th>\n",
       "      <th>商品id</th>\n",
       "      <th>商品类型</th>\n",
       "      <th>广告行业id</th>\n",
       "      <th>素材尺寸</th>\n",
       "      <th>创建/修改时间</th>\n",
       "      <th>操作类型</th>\n",
       "      <th>修改字段</th>\n",
       "      <th>操作后的字段值</th>\n",
       "    </tr>\n",
       "  </thead>\n",
       "  <tbody>\n",
       "    <tr>\n",
       "      <th>613404</th>\n",
       "      <td>209095</td>\n",
       "      <td>2019-03-19 13:21:51</td>\n",
       "      <td>25817</td>\n",
       "      <td>31956</td>\n",
       "      <td>18</td>\n",
       "      <td>198</td>\n",
       "      <td>64</td>\n",
       "      <td>2019-03-19 13:21:51</td>\n",
       "      <td>2</td>\n",
       "      <td>4</td>\n",
       "      <td>281474976710655,281474976710655,28147497671065...</td>\n",
       "    </tr>\n",
       "    <tr>\n",
       "      <th>613405</th>\n",
       "      <td>209095</td>\n",
       "      <td>2019-03-19 13:21:51</td>\n",
       "      <td>25817</td>\n",
       "      <td>31956</td>\n",
       "      <td>18</td>\n",
       "      <td>198</td>\n",
       "      <td>64</td>\n",
       "      <td>2019-03-19 21:23:09</td>\n",
       "      <td>1</td>\n",
       "      <td>2</td>\n",
       "      <td>20</td>\n",
       "    </tr>\n",
       "    <tr>\n",
       "      <th>613406</th>\n",
       "      <td>719982</td>\n",
       "      <td>2019-03-19 13:24:10</td>\n",
       "      <td>25817</td>\n",
       "      <td>31956</td>\n",
       "      <td>18</td>\n",
       "      <td>232</td>\n",
       "      <td>54</td>\n",
       "      <td>2019-03-19 13:24:10</td>\n",
       "      <td>2</td>\n",
       "      <td>2</td>\n",
       "      <td>20</td>\n",
       "    </tr>\n",
       "    <tr>\n",
       "      <th>613407</th>\n",
       "      <td>719982</td>\n",
       "      <td>2019-03-19 13:24:10</td>\n",
       "      <td>25817</td>\n",
       "      <td>31956</td>\n",
       "      <td>18</td>\n",
       "      <td>232</td>\n",
       "      <td>54</td>\n",
       "      <td>2019-03-19 13:24:10</td>\n",
       "      <td>2</td>\n",
       "      <td>3</td>\n",
       "      <td>behavior:22855,23131</td>\n",
       "    </tr>\n",
       "    <tr>\n",
       "      <th>613408</th>\n",
       "      <td>719982</td>\n",
       "      <td>2019-03-19 13:24:10</td>\n",
       "      <td>25817</td>\n",
       "      <td>31956</td>\n",
       "      <td>18</td>\n",
       "      <td>232</td>\n",
       "      <td>54</td>\n",
       "      <td>2019-03-19 13:24:10</td>\n",
       "      <td>2</td>\n",
       "      <td>4</td>\n",
       "      <td>281474976710655,281474976710655,28147497671065...</td>\n",
       "    </tr>\n",
       "  </tbody>\n",
       "</table>\n",
       "</div>"
      ],
      "text/plain": [
       "          广告id                 创建时间  广告账户id   商品id  商品类型  广告行业id 素材尺寸  \\\n",
       "613404  209095  2019-03-19 13:21:51   25817  31956    18     198   64   \n",
       "613405  209095  2019-03-19 13:21:51   25817  31956    18     198   64   \n",
       "613406  719982  2019-03-19 13:24:10   25817  31956    18     232   54   \n",
       "613407  719982  2019-03-19 13:24:10   25817  31956    18     232   54   \n",
       "613408  719982  2019-03-19 13:24:10   25817  31956    18     232   54   \n",
       "\n",
       "                    创建/修改时间  操作类型  修改字段  \\\n",
       "613404  2019-03-19 13:21:51     2     4   \n",
       "613405  2019-03-19 21:23:09     1     2   \n",
       "613406  2019-03-19 13:24:10     2     2   \n",
       "613407  2019-03-19 13:24:10     2     3   \n",
       "613408  2019-03-19 13:24:10     2     4   \n",
       "\n",
       "                                                  操作后的字段值  \n",
       "613404  281474976710655,281474976710655,28147497671065...  \n",
       "613405                                                 20  \n",
       "613406                                                 20  \n",
       "613407                               behavior:22855,23131  \n",
       "613408  281474976710655,281474976710655,28147497671065...  "
      ]
     },
     "execution_count": 28,
     "metadata": {},
     "output_type": "execute_result"
    }
   ],
   "source": [
    "ads.tail()"
   ]
  },
  {
   "cell_type": "code",
   "execution_count": 29,
   "metadata": {},
   "outputs": [
    {
     "data": {
      "text/plain": [
       "(613409, 11)"
      ]
     },
     "execution_count": 29,
     "metadata": {},
     "output_type": "execute_result"
    }
   ],
   "source": [
    "ads.shape"
   ]
  },
  {
   "cell_type": "code",
   "execution_count": 30,
   "metadata": {},
   "outputs": [
    {
     "name": "stdout",
     "output_type": "stream",
     "text": [
      "<class 'pandas.core.frame.DataFrame'>\n",
      "Int64Index: 613409 entries, 0 to 613408\n",
      "Data columns (total 11 columns):\n",
      "广告id       613409 non-null int64\n",
      "创建时间       613409 non-null object\n",
      "广告账户id     613409 non-null int64\n",
      "商品id       613409 non-null int64\n",
      "商品类型       613409 non-null int64\n",
      "广告行业id     613409 non-null int64\n",
      "素材尺寸       613409 non-null object\n",
      "创建/修改时间    613409 non-null object\n",
      "操作类型       613409 non-null int64\n",
      "修改字段       613409 non-null int64\n",
      "操作后的字段值    613409 non-null object\n",
      "dtypes: int64(7), object(4)\n",
      "memory usage: 56.2+ MB\n"
     ]
    }
   ],
   "source": [
    "ads.info()"
   ]
  },
  {
   "cell_type": "markdown",
   "metadata": {},
   "source": [
    "- 数据保存"
   ]
  },
  {
   "cell_type": "code",
   "execution_count": 31,
   "metadata": {},
   "outputs": [],
   "source": [
    "ads.to_csv('../data/ad_static_operation.csv', index=None, encoding='utf-8')"
   ]
  },
  {
   "cell_type": "code",
   "execution_count": null,
   "metadata": {},
   "outputs": [],
   "source": []
  }
 ],
 "metadata": {
  "kernelspec": {
   "display_name": "Python 3",
   "language": "python",
   "name": "python3"
  },
  "language_info": {
   "codemirror_mode": {
    "name": "ipython",
    "version": 3
   },
   "file_extension": ".py",
   "mimetype": "text/x-python",
   "name": "python",
   "nbconvert_exporter": "python",
   "pygments_lexer": "ipython3",
   "version": "3.6.7"
  }
 },
 "nbformat": 4,
 "nbformat_minor": 2
}
