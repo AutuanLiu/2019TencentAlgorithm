{
 "cells": [
  {
   "cell_type": "code",
   "execution_count": 1,
   "metadata": {},
   "outputs": [],
   "source": [
    "%matplotlib inline\n",
    "%reload_ext autoreload\n",
    "%autoreload 2\n",
    "# 多行输出\n",
    "from IPython.core.interactiveshell import InteractiveShell\n",
    "InteractiveShell.ast_node_interactivity = \"all\""
   ]
  },
  {
   "cell_type": "code",
   "execution_count": 2,
   "metadata": {},
   "outputs": [],
   "source": [
    "import modin as pd\n",
    "from fastai.tabular import *"
   ]
  },
  {
   "cell_type": "markdown",
   "metadata": {},
   "source": [
    "## 数据清洗"
   ]
  },
  {
   "cell_type": "code",
   "execution_count": 3,
   "metadata": {},
   "outputs": [
    {
     "data": {
      "text/plain": [
       "PosixPath('../test_A')"
      ]
     },
     "execution_count": 3,
     "metadata": {},
     "output_type": "execute_result"
    },
    {
     "data": {
      "text/plain": [
       "[PosixPath('../test_A/ad_static_feature.out'),\n",
       " PosixPath('../test_A/ad_operation.dat'),\n",
       " PosixPath('../test_A/imps_log'),\n",
       " PosixPath('../test_A/test_sample.dat'),\n",
       " PosixPath('../test_A/user')]"
      ]
     },
     "execution_count": 3,
     "metadata": {},
     "output_type": "execute_result"
    }
   ],
   "source": [
    "root = Path('../test_A')\n",
    "root\n",
    "root.ls()"
   ]
  },
  {
   "cell_type": "code",
   "execution_count": 4,
   "metadata": {},
   "outputs": [
    {
     "data": {
      "text/plain": [
       "[PosixPath('../test_A/user/user_data')]"
      ]
     },
     "execution_count": 4,
     "metadata": {},
     "output_type": "execute_result"
    },
    {
     "data": {
      "text/plain": [
       "[PosixPath('../test_A/imps_log/totalExposureLog.out')]"
      ]
     },
     "execution_count": 4,
     "metadata": {},
     "output_type": "execute_result"
    }
   ],
   "source": [
    "u_data = root/'user'\n",
    "u_data.ls()\n",
    "log_data = root/'imps_log'\n",
    "log_data.ls()"
   ]
  },
  {
   "cell_type": "markdown",
   "metadata": {},
   "source": [
    "- 清洗掉 ad_static_feature 中没有的广告\n",
    "- 我们只关心有效广告的曝光情况"
   ]
  },
  {
   "cell_type": "code",
   "execution_count": 5,
   "metadata": {},
   "outputs": [
    {
     "data": {
      "text/html": [
       "<div>\n",
       "<style scoped>\n",
       "    .dataframe tbody tr th:only-of-type {\n",
       "        vertical-align: middle;\n",
       "    }\n",
       "\n",
       "    .dataframe tbody tr th {\n",
       "        vertical-align: top;\n",
       "    }\n",
       "\n",
       "    .dataframe thead th {\n",
       "        text-align: right;\n",
       "    }\n",
       "</style>\n",
       "<table border=\"1\" class=\"dataframe\">\n",
       "  <thead>\n",
       "    <tr style=\"text-align: right;\">\n",
       "      <th></th>\n",
       "      <th>广告id</th>\n",
       "      <th>创建时间</th>\n",
       "      <th>广告账户id</th>\n",
       "      <th>商品id</th>\n",
       "      <th>商品类型</th>\n",
       "      <th>广告行业id</th>\n",
       "      <th>素材尺寸</th>\n",
       "    </tr>\n",
       "  </thead>\n",
       "  <tbody>\n",
       "    <tr>\n",
       "      <th>502148</th>\n",
       "      <td>82588</td>\n",
       "      <td>1552967764</td>\n",
       "      <td>21666</td>\n",
       "      <td>21917</td>\n",
       "      <td>18</td>\n",
       "      <td>198</td>\n",
       "      <td>64</td>\n",
       "    </tr>\n",
       "    <tr>\n",
       "      <th>502149</th>\n",
       "      <td>665036</td>\n",
       "      <td>1550740115</td>\n",
       "      <td>6184</td>\n",
       "      <td>11633</td>\n",
       "      <td>18</td>\n",
       "      <td>232</td>\n",
       "      <td>64</td>\n",
       "    </tr>\n",
       "    <tr>\n",
       "      <th>502150</th>\n",
       "      <td>491914</td>\n",
       "      <td>1548392470</td>\n",
       "      <td>1809</td>\n",
       "      <td>5278</td>\n",
       "      <td>5</td>\n",
       "      <td>232</td>\n",
       "      <td>64</td>\n",
       "    </tr>\n",
       "    <tr>\n",
       "      <th>502151</th>\n",
       "      <td>3990</td>\n",
       "      <td>1551428228</td>\n",
       "      <td>4255</td>\n",
       "      <td>3401</td>\n",
       "      <td>18</td>\n",
       "      <td>218</td>\n",
       "      <td>36</td>\n",
       "    </tr>\n",
       "    <tr>\n",
       "      <th>502152</th>\n",
       "      <td>222150</td>\n",
       "      <td>1551340613</td>\n",
       "      <td>4250</td>\n",
       "      <td>14527</td>\n",
       "      <td>18</td>\n",
       "      <td>94</td>\n",
       "      <td>36</td>\n",
       "    </tr>\n",
       "  </tbody>\n",
       "</table>\n",
       "</div>"
      ],
      "text/plain": [
       "          广告id        创建时间  广告账户id   商品id  商品类型  广告行业id 素材尺寸\n",
       "502148   82588  1552967764   21666  21917    18     198   64\n",
       "502149  665036  1550740115    6184  11633    18     232   64\n",
       "502150  491914  1548392470    1809   5278     5     232   64\n",
       "502151    3990  1551428228    4255   3401    18     218   36\n",
       "502152  222150  1551340613    4250  14527    18      94   36"
      ]
     },
     "execution_count": 5,
     "metadata": {},
     "output_type": "execute_result"
    }
   ],
   "source": [
    "ad_static = pd.read_csv('../data/ad_static.csv', low_memory=False, encoding='utf-8')\n",
    "ad_static.tail()"
   ]
  },
  {
   "cell_type": "code",
   "execution_count": 6,
   "metadata": {},
   "outputs": [
    {
     "data": {
      "text/plain": [
       "(502153, 7)"
      ]
     },
     "execution_count": 6,
     "metadata": {},
     "output_type": "execute_result"
    }
   ],
   "source": [
    "ad_static.shape"
   ]
  },
  {
   "cell_type": "markdown",
   "metadata": {},
   "source": [
    "### 广告操作数据"
   ]
  },
  {
   "cell_type": "code",
   "execution_count": 7,
   "metadata": {},
   "outputs": [],
   "source": [
    "col_names = ['广告id', '创建/修改时间', '操作类型', '修改字段', '操作后的字段值', '人群定向']"
   ]
  },
  {
   "cell_type": "code",
   "execution_count": 8,
   "metadata": {},
   "outputs": [],
   "source": [
    "ad_operation = pd.read_csv(root/'ad_operation.dat', sep='\\t', header=None, names=col_names)"
   ]
  },
  {
   "cell_type": "code",
   "execution_count": 9,
   "metadata": {},
   "outputs": [
    {
     "data": {
      "text/html": [
       "<div>\n",
       "<style scoped>\n",
       "    .dataframe tbody tr th:only-of-type {\n",
       "        vertical-align: middle;\n",
       "    }\n",
       "\n",
       "    .dataframe tbody tr th {\n",
       "        vertical-align: top;\n",
       "    }\n",
       "\n",
       "    .dataframe thead th {\n",
       "        text-align: right;\n",
       "    }\n",
       "</style>\n",
       "<table border=\"1\" class=\"dataframe\">\n",
       "  <thead>\n",
       "    <tr style=\"text-align: right;\">\n",
       "      <th></th>\n",
       "      <th>广告id</th>\n",
       "      <th>创建/修改时间</th>\n",
       "      <th>操作类型</th>\n",
       "      <th>修改字段</th>\n",
       "      <th>人群定向</th>\n",
       "    </tr>\n",
       "  </thead>\n",
       "  <tbody>\n",
       "    <tr>\n",
       "      <th>count</th>\n",
       "      <td>760866.000000</td>\n",
       "      <td>7.608660e+05</td>\n",
       "      <td>760866.000000</td>\n",
       "      <td>760866.000000</td>\n",
       "      <td>0.0</td>\n",
       "    </tr>\n",
       "    <tr>\n",
       "      <th>mean</th>\n",
       "      <td>366502.509025</td>\n",
       "      <td>1.717885e+13</td>\n",
       "      <td>1.147152</td>\n",
       "      <td>1.523331</td>\n",
       "      <td>NaN</td>\n",
       "    </tr>\n",
       "    <tr>\n",
       "      <th>std</th>\n",
       "      <td>210931.328143</td>\n",
       "      <td>7.192564e+12</td>\n",
       "      <td>0.354258</td>\n",
       "      <td>0.855417</td>\n",
       "      <td>NaN</td>\n",
       "    </tr>\n",
       "    <tr>\n",
       "      <th>min</th>\n",
       "      <td>31.000000</td>\n",
       "      <td>0.000000e+00</td>\n",
       "      <td>1.000000</td>\n",
       "      <td>1.000000</td>\n",
       "      <td>NaN</td>\n",
       "    </tr>\n",
       "    <tr>\n",
       "      <th>25%</th>\n",
       "      <td>184651.000000</td>\n",
       "      <td>2.019022e+13</td>\n",
       "      <td>1.000000</td>\n",
       "      <td>1.000000</td>\n",
       "      <td>NaN</td>\n",
       "    </tr>\n",
       "    <tr>\n",
       "      <th>50%</th>\n",
       "      <td>363843.000000</td>\n",
       "      <td>2.019030e+13</td>\n",
       "      <td>1.000000</td>\n",
       "      <td>1.000000</td>\n",
       "      <td>NaN</td>\n",
       "    </tr>\n",
       "    <tr>\n",
       "      <th>75%</th>\n",
       "      <td>547318.000000</td>\n",
       "      <td>2.019031e+13</td>\n",
       "      <td>1.000000</td>\n",
       "      <td>2.000000</td>\n",
       "      <td>NaN</td>\n",
       "    </tr>\n",
       "    <tr>\n",
       "      <th>max</th>\n",
       "      <td>736053.000000</td>\n",
       "      <td>2.019032e+13</td>\n",
       "      <td>2.000000</td>\n",
       "      <td>4.000000</td>\n",
       "      <td>NaN</td>\n",
       "    </tr>\n",
       "  </tbody>\n",
       "</table>\n",
       "</div>"
      ],
      "text/plain": [
       "                广告id       创建/修改时间           操作类型           修改字段  人群定向\n",
       "count  760866.000000  7.608660e+05  760866.000000  760866.000000   0.0\n",
       "mean   366502.509025  1.717885e+13       1.147152       1.523331   NaN\n",
       "std    210931.328143  7.192564e+12       0.354258       0.855417   NaN\n",
       "min        31.000000  0.000000e+00       1.000000       1.000000   NaN\n",
       "25%    184651.000000  2.019022e+13       1.000000       1.000000   NaN\n",
       "50%    363843.000000  2.019030e+13       1.000000       1.000000   NaN\n",
       "75%    547318.000000  2.019031e+13       1.000000       2.000000   NaN\n",
       "max    736053.000000  2.019032e+13       2.000000       4.000000   NaN"
      ]
     },
     "execution_count": 9,
     "metadata": {},
     "output_type": "execute_result"
    }
   ],
   "source": [
    "ad_operation.describe()"
   ]
  },
  {
   "cell_type": "code",
   "execution_count": 10,
   "metadata": {},
   "outputs": [
    {
     "name": "stdout",
     "output_type": "stream",
     "text": [
      "<class 'pandas.core.frame.DataFrame'>\n",
      "RangeIndex: 760866 entries, 0 to 760865\n",
      "Data columns (total 6 columns):\n",
      "广告id       760866 non-null int64\n",
      "创建/修改时间    760866 non-null int64\n",
      "操作类型       760866 non-null int64\n",
      "修改字段       760866 non-null int64\n",
      "操作后的字段值    760866 non-null object\n",
      "人群定向       0 non-null float64\n",
      "dtypes: float64(1), int64(4), object(1)\n",
      "memory usage: 34.8+ MB\n"
     ]
    }
   ],
   "source": [
    "ad_operation.info()"
   ]
  },
  {
   "cell_type": "code",
   "execution_count": 11,
   "metadata": {},
   "outputs": [
    {
     "data": {
      "text/html": [
       "<div>\n",
       "<style scoped>\n",
       "    .dataframe tbody tr th:only-of-type {\n",
       "        vertical-align: middle;\n",
       "    }\n",
       "\n",
       "    .dataframe tbody tr th {\n",
       "        vertical-align: top;\n",
       "    }\n",
       "\n",
       "    .dataframe thead th {\n",
       "        text-align: right;\n",
       "    }\n",
       "</style>\n",
       "<table border=\"1\" class=\"dataframe\">\n",
       "  <thead>\n",
       "    <tr style=\"text-align: right;\">\n",
       "      <th></th>\n",
       "      <th>广告id</th>\n",
       "      <th>创建/修改时间</th>\n",
       "      <th>操作类型</th>\n",
       "      <th>修改字段</th>\n",
       "      <th>操作后的字段值</th>\n",
       "      <th>人群定向</th>\n",
       "    </tr>\n",
       "  </thead>\n",
       "  <tbody>\n",
       "    <tr>\n",
       "      <th>760859</th>\n",
       "      <td>100409</td>\n",
       "      <td>0</td>\n",
       "      <td>1</td>\n",
       "      <td>1</td>\n",
       "      <td>0</td>\n",
       "      <td>NaN</td>\n",
       "    </tr>\n",
       "    <tr>\n",
       "      <th>760860</th>\n",
       "      <td>171392</td>\n",
       "      <td>0</td>\n",
       "      <td>1</td>\n",
       "      <td>1</td>\n",
       "      <td>0</td>\n",
       "      <td>NaN</td>\n",
       "    </tr>\n",
       "    <tr>\n",
       "      <th>760861</th>\n",
       "      <td>252704</td>\n",
       "      <td>0</td>\n",
       "      <td>1</td>\n",
       "      <td>1</td>\n",
       "      <td>0</td>\n",
       "      <td>NaN</td>\n",
       "    </tr>\n",
       "    <tr>\n",
       "      <th>760862</th>\n",
       "      <td>185679</td>\n",
       "      <td>0</td>\n",
       "      <td>1</td>\n",
       "      <td>1</td>\n",
       "      <td>0</td>\n",
       "      <td>NaN</td>\n",
       "    </tr>\n",
       "    <tr>\n",
       "      <th>760863</th>\n",
       "      <td>15132</td>\n",
       "      <td>0</td>\n",
       "      <td>1</td>\n",
       "      <td>1</td>\n",
       "      <td>0</td>\n",
       "      <td>NaN</td>\n",
       "    </tr>\n",
       "    <tr>\n",
       "      <th>760864</th>\n",
       "      <td>29322</td>\n",
       "      <td>0</td>\n",
       "      <td>1</td>\n",
       "      <td>1</td>\n",
       "      <td>0</td>\n",
       "      <td>NaN</td>\n",
       "    </tr>\n",
       "    <tr>\n",
       "      <th>760865</th>\n",
       "      <td>47325</td>\n",
       "      <td>0</td>\n",
       "      <td>1</td>\n",
       "      <td>1</td>\n",
       "      <td>0</td>\n",
       "      <td>NaN</td>\n",
       "    </tr>\n",
       "  </tbody>\n",
       "</table>\n",
       "</div>"
      ],
      "text/plain": [
       "          广告id  创建/修改时间  操作类型  修改字段 操作后的字段值  人群定向\n",
       "760859  100409        0     1     1       0   NaN\n",
       "760860  171392        0     1     1       0   NaN\n",
       "760861  252704        0     1     1       0   NaN\n",
       "760862  185679        0     1     1       0   NaN\n",
       "760863   15132        0     1     1       0   NaN\n",
       "760864   29322        0     1     1       0   NaN\n",
       "760865   47325        0     1     1       0   NaN"
      ]
     },
     "execution_count": 11,
     "metadata": {},
     "output_type": "execute_result"
    }
   ],
   "source": [
    "ad_operation.tail(7)"
   ]
  },
  {
   "cell_type": "code",
   "execution_count": 12,
   "metadata": {},
   "outputs": [
    {
     "data": {
      "text/plain": [
       "(760866, 6)"
      ]
     },
     "execution_count": 12,
     "metadata": {},
     "output_type": "execute_result"
    }
   ],
   "source": [
    "ad_operation.shape"
   ]
  },
  {
   "cell_type": "code",
   "execution_count": 22,
   "metadata": {},
   "outputs": [
    {
     "data": {
      "text/plain": [
       "array([2, 1])"
      ]
     },
     "execution_count": 22,
     "metadata": {},
     "output_type": "execute_result"
    }
   ],
   "source": [
    "ad_operation.操作类型.unique()"
   ]
  },
  {
   "cell_type": "markdown",
   "metadata": {},
   "source": [
    " - 合并表格"
   ]
  },
  {
   "cell_type": "code",
   "execution_count": 13,
   "metadata": {},
   "outputs": [],
   "source": [
    "ads = pd.merge(ad_static, ad_operation, on='广告id', how='inner')"
   ]
  },
  {
   "cell_type": "code",
   "execution_count": 14,
   "metadata": {},
   "outputs": [
    {
     "data": {
      "text/html": [
       "<div>\n",
       "<style scoped>\n",
       "    .dataframe tbody tr th:only-of-type {\n",
       "        vertical-align: middle;\n",
       "    }\n",
       "\n",
       "    .dataframe tbody tr th {\n",
       "        vertical-align: top;\n",
       "    }\n",
       "\n",
       "    .dataframe thead th {\n",
       "        text-align: right;\n",
       "    }\n",
       "</style>\n",
       "<table border=\"1\" class=\"dataframe\">\n",
       "  <thead>\n",
       "    <tr style=\"text-align: right;\">\n",
       "      <th></th>\n",
       "      <th>广告id</th>\n",
       "      <th>创建时间</th>\n",
       "      <th>广告账户id</th>\n",
       "      <th>商品id</th>\n",
       "      <th>商品类型</th>\n",
       "      <th>广告行业id</th>\n",
       "      <th>素材尺寸</th>\n",
       "      <th>创建/修改时间</th>\n",
       "      <th>操作类型</th>\n",
       "      <th>修改字段</th>\n",
       "      <th>操作后的字段值</th>\n",
       "      <th>人群定向</th>\n",
       "    </tr>\n",
       "  </thead>\n",
       "  <tbody>\n",
       "    <tr>\n",
       "      <th>0</th>\n",
       "      <td>347637</td>\n",
       "      <td>1550790222</td>\n",
       "      <td>18529</td>\n",
       "      <td>28775</td>\n",
       "      <td>13</td>\n",
       "      <td>12</td>\n",
       "      <td>34</td>\n",
       "      <td>0</td>\n",
       "      <td>2</td>\n",
       "      <td>2</td>\n",
       "      <td>100</td>\n",
       "      <td>NaN</td>\n",
       "    </tr>\n",
       "    <tr>\n",
       "      <th>1</th>\n",
       "      <td>347637</td>\n",
       "      <td>1550790222</td>\n",
       "      <td>18529</td>\n",
       "      <td>28775</td>\n",
       "      <td>13</td>\n",
       "      <td>12</td>\n",
       "      <td>34</td>\n",
       "      <td>0</td>\n",
       "      <td>2</td>\n",
       "      <td>3</td>\n",
       "      <td>age:217,601,79,202,837,942,638,394,347,731,739...</td>\n",
       "      <td>NaN</td>\n",
       "    </tr>\n",
       "    <tr>\n",
       "      <th>2</th>\n",
       "      <td>347637</td>\n",
       "      <td>1550790222</td>\n",
       "      <td>18529</td>\n",
       "      <td>28775</td>\n",
       "      <td>13</td>\n",
       "      <td>12</td>\n",
       "      <td>34</td>\n",
       "      <td>0</td>\n",
       "      <td>2</td>\n",
       "      <td>4</td>\n",
       "      <td>281474976694272,281474976694272,28147497669427...</td>\n",
       "      <td>NaN</td>\n",
       "    </tr>\n",
       "    <tr>\n",
       "      <th>3</th>\n",
       "      <td>347637</td>\n",
       "      <td>1550790222</td>\n",
       "      <td>18529</td>\n",
       "      <td>28775</td>\n",
       "      <td>13</td>\n",
       "      <td>12</td>\n",
       "      <td>34</td>\n",
       "      <td>20190222233702</td>\n",
       "      <td>1</td>\n",
       "      <td>1</td>\n",
       "      <td>0</td>\n",
       "      <td>NaN</td>\n",
       "    </tr>\n",
       "    <tr>\n",
       "      <th>4</th>\n",
       "      <td>347637</td>\n",
       "      <td>1550790222</td>\n",
       "      <td>18529</td>\n",
       "      <td>28775</td>\n",
       "      <td>13</td>\n",
       "      <td>12</td>\n",
       "      <td>34</td>\n",
       "      <td>20190223001315</td>\n",
       "      <td>1</td>\n",
       "      <td>2</td>\n",
       "      <td>100</td>\n",
       "      <td>NaN</td>\n",
       "    </tr>\n",
       "  </tbody>\n",
       "</table>\n",
       "</div>"
      ],
      "text/plain": [
       "     广告id        创建时间  广告账户id   商品id  商品类型  广告行业id 素材尺寸         创建/修改时间  操作类型  \\\n",
       "0  347637  1550790222   18529  28775    13      12   34               0     2   \n",
       "1  347637  1550790222   18529  28775    13      12   34               0     2   \n",
       "2  347637  1550790222   18529  28775    13      12   34               0     2   \n",
       "3  347637  1550790222   18529  28775    13      12   34  20190222233702     1   \n",
       "4  347637  1550790222   18529  28775    13      12   34  20190223001315     1   \n",
       "\n",
       "   修改字段                                            操作后的字段值  人群定向  \n",
       "0     2                                                100   NaN  \n",
       "1     3  age:217,601,79,202,837,942,638,394,347,731,739...   NaN  \n",
       "2     4  281474976694272,281474976694272,28147497669427...   NaN  \n",
       "3     1                                                  0   NaN  \n",
       "4     2                                                100   NaN  "
      ]
     },
     "execution_count": 14,
     "metadata": {},
     "output_type": "execute_result"
    }
   ],
   "source": [
    "ads.head()"
   ]
  },
  {
   "cell_type": "code",
   "execution_count": 15,
   "metadata": {},
   "outputs": [
    {
     "data": {
      "text/plain": [
       "(615150, 12)"
      ]
     },
     "execution_count": 15,
     "metadata": {},
     "output_type": "execute_result"
    }
   ],
   "source": [
    "ads.shape"
   ]
  },
  {
   "cell_type": "code",
   "execution_count": 16,
   "metadata": {},
   "outputs": [
    {
     "data": {
      "text/plain": [
       "112997"
      ]
     },
     "execution_count": 16,
     "metadata": {},
     "output_type": "execute_result"
    }
   ],
   "source": [
    "615150 - 502153"
   ]
  },
  {
   "cell_type": "code",
   "execution_count": 17,
   "metadata": {},
   "outputs": [
    {
     "data": {
      "text/plain": [
       "145716"
      ]
     },
     "execution_count": 17,
     "metadata": {},
     "output_type": "execute_result"
    }
   ],
   "source": [
    "760866 - 615150"
   ]
  },
  {
   "cell_type": "code",
   "execution_count": 18,
   "metadata": {},
   "outputs": [
    {
     "name": "stdout",
     "output_type": "stream",
     "text": [
      "<class 'pandas.core.frame.DataFrame'>\n",
      "Int64Index: 615150 entries, 0 to 615149\n",
      "Data columns (total 12 columns):\n",
      "广告id       615150 non-null int64\n",
      "创建时间       615150 non-null int64\n",
      "广告账户id     615150 non-null int64\n",
      "商品id       615150 non-null int64\n",
      "商品类型       615150 non-null int64\n",
      "广告行业id     615150 non-null int64\n",
      "素材尺寸       615150 non-null object\n",
      "创建/修改时间    615150 non-null int64\n",
      "操作类型       615150 non-null int64\n",
      "修改字段       615150 non-null int64\n",
      "操作后的字段值    615150 non-null object\n",
      "人群定向       0 non-null float64\n",
      "dtypes: float64(1), int64(9), object(2)\n",
      "memory usage: 61.0+ MB\n"
     ]
    }
   ],
   "source": [
    "ads.info()"
   ]
  },
  {
   "cell_type": "markdown",
   "metadata": {},
   "source": [
    "- 数据保存"
   ]
  },
  {
   "cell_type": "code",
   "execution_count": 20,
   "metadata": {},
   "outputs": [],
   "source": [
    "ads.to_csv('../data/ad_static_operation.csv', index=None, encoding='utf-8')"
   ]
  },
  {
   "cell_type": "code",
   "execution_count": null,
   "metadata": {},
   "outputs": [],
   "source": []
  }
 ],
 "metadata": {
  "kernelspec": {
   "display_name": "Python 3",
   "language": "python",
   "name": "python3"
  },
  "language_info": {
   "codemirror_mode": {
    "name": "ipython",
    "version": 3
   },
   "file_extension": ".py",
   "mimetype": "text/x-python",
   "name": "python",
   "nbconvert_exporter": "python",
   "pygments_lexer": "ipython3",
   "version": "3.6.7"
  }
 },
 "nbformat": 4,
 "nbformat_minor": 2
}
