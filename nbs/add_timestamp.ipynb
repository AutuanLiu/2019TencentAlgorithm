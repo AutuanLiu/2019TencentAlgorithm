{
 "cells": [
  {
   "cell_type": "code",
   "execution_count": null,
   "metadata": {},
   "outputs": [],
   "source": []
  },
  {
   "cell_type": "code",
   "execution_count": 1,
   "metadata": {
    "scrolled": true
   },
   "outputs": [],
   "source": [
    "import pandas as pd\n",
    "import numpy as np\n",
    "from tqdm import trange"
   ]
  },
  {
   "cell_type": "code",
   "execution_count": 2,
   "metadata": {},
   "outputs": [],
   "source": [
    "col_names=['广告id','创建时间','广告账户id','商品id','商品类型','广告行业id','素材尺寸','创建/修改时间','操作类型','修改字段','操作后的字段值']\n",
    "path='/home/htc/code/Github/TencentAlgo/ad_static_operation.csv'\n",
    "data=pd.read_csv(path,low_memory=False,encoding='utf-8')"
   ]
  },
  {
   "cell_type": "code",
   "execution_count": 23,
   "metadata": {},
   "outputs": [],
   "source": [
    "def add_time_stamp(data):\n",
    "    p1=lambda x:x.replace('0b','')\n",
    "    p2=lambda x:x[::-1]\n",
    "    p3=lambda x:x+'0'*(48-len(list(x)))\n",
    "    time_stamp=['00:00~00:30','00:30~01:00',\n",
    "                   '01:00~01:30','01:30~02:00',\n",
    "                   '02:00~02:30','02:30~03:00',\n",
    "                   '03:00~03:30','03:30~04:00',\n",
    "                   '04:00~04:30','04:30~05:00',\n",
    "                   '05:00~05:30','05:30~06:00',\n",
    "                   '06:00~06:30','06:30~07:00',\n",
    "                   '07:00~07:30','07:30~08:00',\n",
    "                   '08:00~08:30','08:30~09:00',\n",
    "                   '09:00~09:30','09:30~10:00',\n",
    "                   '10:00~10:30','10:30~11:00',\n",
    "                   '11:00~11:30','11:30~12:00',\n",
    "                   '12:00~12:30','12:30~13:00',\n",
    "                   '13:00~13:30','13:30~14:00',\n",
    "                   '14:00~14:30','14:30~15:00',\n",
    "                    '15:00~15:30','15:30~16:00',\n",
    "                    '16:00~16:30','16:30~17:00',\n",
    "                    '17:00~17:30','17:30~18:00',\n",
    "                    '18:00~18:30','18:30~19:00',\n",
    "                    '19:00~19:30','19:30~20:00',\n",
    "                    '20:00~20:30','20:30~21:00',\n",
    "                    '21:00~21:30','21:30~22:00',\n",
    "                    '22:00~22:30','22:30~23:00',\n",
    "                    '23:00~23:30','23:30~24:00'\n",
    "                   ]\n",
    "    time_stamp=np.asarray(time_stamp*7)\n",
    "    week=[['Mon:']*48,['Tues:']*48,['Wed:']*48,['Thurs:']*48,['Fri:']*48,['Sat:']*48,['Sun:']*48]\n",
    "    week=np.reshape(week,(336))\n",
    "    p2=lambda x,y:x+y\n",
    "    final_time=list(map(p2,week,time_stamp))\n",
    "    p=lambda x:x.replace('0b','')[::-1]+'0'*(48-len(list(x.replace('0b','')[::-1])))\n",
    "    final_index=['广告id','商品id']+final_time\n",
    "    final_index=np.asarray(final_index)\n",
    "    out=pd.DataFrame(columns=final_index)\n",
    "    \n",
    "    for i in trange(len(data)):\n",
    "        temp=data.iloc[i]\n",
    "        if temp['修改字段']==4 and len(list(temp['操作后的字段值'].split(',')))==7:\n",
    "            num=temp['操作后的字段值']\n",
    "            num=list(map(p,list(map(bin,list(map(int,list(num.split(','))))))))\n",
    "            tmp_str=''\n",
    "            for j in num:\n",
    "                tmp_str+=j\n",
    "            tmp_str=list(map(int,list(tmp_str)))\n",
    "            tmp_str=[temp['广告id'],temp['商品id']]+tmp_str\n",
    "            tmp_str=np.asarray(tmp_str)\n",
    "            tmp_str=np.expand_dims(tmp_str,0)\n",
    "            final_df=pd.DataFrame(tmp_str,columns=final_index,dtype=int)\n",
    "            out=out.append(final_df,ignore_index=True)\n",
    "    return out\n"
   ]
  },
  {
   "cell_type": "code",
   "execution_count": 24,
   "metadata": {
    "scrolled": false
   },
   "outputs": [
    {
     "name": "stderr",
     "output_type": "stream",
     "text": [
      "100%|██████████| 614182/614182 [30:29<00:00, 335.77it/s]  "
     ]
    },
    {
     "name": "stdout",
     "output_type": "stream",
     "text": [
      "     广告id   商品id Mon:00:00~00:30 Mon:00:30~01:00 Mon:01:00~01:30  \\\n",
      "0  347637  28775               0               0               0   \n",
      "1  288207  17911               0               0               0   \n",
      "2  281688   4000               0               0               0   \n",
      "3  449295  20007               0               0               0   \n",
      "4  327801  31081               0               0               0   \n",
      "\n",
      "  Mon:01:30~02:00 Mon:02:00~02:30 Mon:02:30~03:00 Mon:03:00~03:30  \\\n",
      "0               0               0               0               0   \n",
      "1               0               0               0               0   \n",
      "2               0               0               0               0   \n",
      "3               0               0               0               0   \n",
      "4               0               0               0               0   \n",
      "\n",
      "  Mon:03:30~04:00  ... Sun:19:00~19:30 Sun:19:30~20:00 Sun:20:00~20:30  \\\n",
      "0               0  ...               1               1               1   \n",
      "1               0  ...               1               1               1   \n",
      "2               0  ...               1               1               1   \n",
      "3               0  ...               1               1               1   \n",
      "4               0  ...               1               1               1   \n",
      "\n",
      "  Sun:20:30~21:00 Sun:21:00~21:30 Sun:21:30~22:00 Sun:22:00~22:30  \\\n",
      "0               1               1               1               1   \n",
      "1               1               1               1               1   \n",
      "2               1               1               1               1   \n",
      "3               1               1               1               1   \n",
      "4               1               1               1               1   \n",
      "\n",
      "  Sun:22:30~23:00 Sun:23:00~23:30 Sun:23:30~24:00  \n",
      "0               1               1               1  \n",
      "1               1               0               0  \n",
      "2               1               1               1  \n",
      "3               1               1               1  \n",
      "4               1               1               1  \n",
      "\n",
      "[5 rows x 338 columns]\n"
     ]
    },
    {
     "name": "stderr",
     "output_type": "stream",
     "text": [
      "\n"
     ]
    }
   ],
   "source": [
    "out=add_time_stamp(data)\n",
    "print(out.head())"
   ]
  },
  {
   "cell_type": "code",
   "execution_count": 25,
   "metadata": {},
   "outputs": [],
   "source": [
    "out.to_csv('timestamp.csv', index=None, encoding='utf-8')"
   ]
  },
  {
   "cell_type": "code",
   "execution_count": null,
   "metadata": {},
   "outputs": [],
   "source": []
  }
 ],
 "metadata": {
  "kernelspec": {
   "display_name": "Python [conda env:Tencent] *",
   "language": "python",
   "name": "conda-env-Tencent-py"
  },
  "language_info": {
   "codemirror_mode": {
    "name": "ipython",
    "version": 3
   },
   "file_extension": ".py",
   "mimetype": "text/x-python",
   "name": "python",
   "nbconvert_exporter": "python",
   "pygments_lexer": "ipython3",
   "version": "3.6.8"
  }
 },
 "nbformat": 4,
 "nbformat_minor": 2
}
