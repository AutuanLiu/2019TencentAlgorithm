{
 "cells": [
  {
   "cell_type": "code",
   "execution_count": 4,
   "metadata": {},
   "outputs": [],
   "source": [
    "%matplotlib inline\n",
    "%reload_ext autoreload\n",
    "%autoreload 2\n",
    "# 多行输出\n",
    "from IPython.core.interactiveshell import InteractiveShell\n",
    "InteractiveShell.ast_node_interactivity = \"all\""
   ]
  },
  {
   "cell_type": "code",
   "execution_count": 5,
   "metadata": {},
   "outputs": [
    {
     "name": "stderr",
     "output_type": "stream",
     "text": [
      "2019-05-09 16:24:03,032\tINFO node.py:469 -- Process STDOUT and STDERR is being redirected to /tmp/ray/session_2019-05-09_16-24-03_13743/logs.\n",
      "2019-05-09 16:24:03,137\tINFO services.py:407 -- Waiting for redis server at 127.0.0.1:40831 to respond...\n",
      "2019-05-09 16:24:03,249\tINFO services.py:407 -- Waiting for redis server at 127.0.0.1:53095 to respond...\n",
      "2019-05-09 16:24:03,251\tINFO services.py:804 -- Starting Redis shard with 10.0 GB max memory.\n",
      "2019-05-09 16:24:03,261\tINFO node.py:483 -- Process STDOUT and STDERR is being redirected to /tmp/ray/session_2019-05-09_16-24-03_13743/logs.\n",
      "2019-05-09 16:24:03,263\tWARNING services.py:1304 -- WARNING: The object store is using /tmp instead of /dev/shm because /dev/shm has only 33709846528 bytes available. This may slow down performance! You may be able to free up space by deleting files in /dev/shm or terminating any running plasma_store_server processes. If you are inside a Docker container, you may need to pass an argument with the flag '--shm-size' to 'docker run'.\n",
      "2019-05-09 16:24:03,265\tINFO services.py:1427 -- Starting the Plasma object store with 40.0 GB memory using /tmp.\n"
     ]
    }
   ],
   "source": [
    "import modin.pandas as pd\n",
    "from fastai.tabular import *"
   ]
  },
  {
   "cell_type": "markdown",
   "metadata": {},
   "source": [
    "# 构造标签"
   ]
  },
  {
   "cell_type": "code",
   "execution_count": 6,
   "metadata": {},
   "outputs": [
    {
     "data": {
      "text/plain": [
       "PosixPath('../data')"
      ]
     },
     "execution_count": 6,
     "metadata": {},
     "output_type": "execute_result"
    },
    {
     "data": {
      "text/plain": [
       "[PosixPath('../data/2019-02-23_log.csv'),\n",
       " PosixPath('../data/2019-02-28_log.csv'),\n",
       " PosixPath('../data/2019-03-01_log.csv'),\n",
       " PosixPath('../data/2019-02-24_log.csv'),\n",
       " PosixPath('../data/2019-03-03_log.csv'),\n",
       " PosixPath('../data/2019-02-17_log.csv'),\n",
       " PosixPath('../data/2019-02-18_log.csv'),\n",
       " PosixPath('../data/2019-02-16_log.csv'),\n",
       " PosixPath('../data/2019-02-26_log.csv'),\n",
       " PosixPath('../data/.ipynb_checkpoints'),\n",
       " PosixPath('../data/2019-02-21_log.csv'),\n",
       " PosixPath('../data/2019-02-19_log.csv'),\n",
       " PosixPath('../data/2019-02-27_log.csv'),\n",
       " PosixPath('../data/ad_static.csv'),\n",
       " PosixPath('../data/2019-02-22_log.csv'),\n",
       " PosixPath('../data/2019-03-04_log.csv'),\n",
       " PosixPath('../data/sta_log.csv.sh'),\n",
       " PosixPath('../data/2019-02-20_log.csv'),\n",
       " PosixPath('../data/2019-02-16_log-Copy1.csv'),\n",
       " PosixPath('../data/2019-02-25_log.csv'),\n",
       " PosixPath('../data/2019-03-02_log.csv'),\n",
       " PosixPath('../data/ad_static_operation.csv')]"
      ]
     },
     "execution_count": 6,
     "metadata": {},
     "output_type": "execute_result"
    }
   ],
   "source": [
    "root = Path('../data')\n",
    "root\n",
    "root.ls()"
   ]
  },
  {
   "cell_type": "code",
   "execution_count": 7,
   "metadata": {},
   "outputs": [],
   "source": [
    "col_names = ['广告请求id',\n",
    " '广告请求时间',\n",
    " '广告位id',\n",
    " '用户id',\n",
    " '曝光广告id',\n",
    " '曝光广告素材尺寸',\n",
    " '曝光广告出价bid',\n",
    " '曝光广告pctr',\n",
    " '曝光广告quality_ecpm',\n",
    " '曝光广告totalEcpm',\n",
    " '广告请求时间_date',\n",
    " '广告id',\n",
    " '创建时间',\n",
    " '广告账户id',\n",
    " '商品id',\n",
    " '商品类型',\n",
    " '广告行业id',\n",
    " '素材尺寸']"
   ]
  },
  {
   "cell_type": "code",
   "execution_count": 9,
   "metadata": {},
   "outputs": [
    {
     "data": {
      "text/plain": [
       "(516801, 18)"
      ]
     },
     "execution_count": 9,
     "metadata": {},
     "output_type": "execute_result"
    },
    {
     "data": {
      "text/html": [
       "<div>\n",
       "<style scoped>\n",
       "    .dataframe tbody tr th:only-of-type {\n",
       "        vertical-align: middle;\n",
       "    }\n",
       "\n",
       "    .dataframe tbody tr th {\n",
       "        vertical-align: top;\n",
       "    }\n",
       "\n",
       "    .dataframe thead th {\n",
       "        text-align: right;\n",
       "    }\n",
       "</style>\n",
       "<table border=\"1\" class=\"dataframe\">\n",
       "  <thead>\n",
       "    <tr style=\"text-align: right;\">\n",
       "      <th></th>\n",
       "      <th>广告请求id</th>\n",
       "      <th>广告请求时间</th>\n",
       "      <th>广告位id</th>\n",
       "      <th>用户id</th>\n",
       "      <th>曝光广告id</th>\n",
       "      <th>曝光广告素材尺寸</th>\n",
       "      <th>曝光广告出价bid</th>\n",
       "      <th>曝光广告pctr</th>\n",
       "      <th>曝光广告quality_ecpm</th>\n",
       "      <th>曝光广告totalEcpm</th>\n",
       "      <th>广告请求时间_date</th>\n",
       "      <th>广告id</th>\n",
       "      <th>创建时间</th>\n",
       "      <th>广告账户id</th>\n",
       "      <th>商品id</th>\n",
       "      <th>商品类型</th>\n",
       "      <th>广告行业id</th>\n",
       "      <th>素材尺寸</th>\n",
       "    </tr>\n",
       "  </thead>\n",
       "  <tbody>\n",
       "    <tr>\n",
       "      <th>0</th>\n",
       "      <td>11624425</td>\n",
       "      <td>2019-02-16 23:52:39</td>\n",
       "      <td>168</td>\n",
       "      <td>852707</td>\n",
       "      <td>253902</td>\n",
       "      <td>64</td>\n",
       "      <td>60</td>\n",
       "      <td>4.329</td>\n",
       "      <td>86.58</td>\n",
       "      <td>346.320</td>\n",
       "      <td>253902</td>\n",
       "      <td>2019-02-15 08:27:12</td>\n",
       "      <td>5297</td>\n",
       "      <td>-1</td>\n",
       "      <td>1</td>\n",
       "      <td>230</td>\n",
       "      <td>64</td>\n",
       "      <td>2019-02-16</td>\n",
       "    </tr>\n",
       "    <tr>\n",
       "      <th>1</th>\n",
       "      <td>59383857</td>\n",
       "      <td>2019-02-16 18:03:02</td>\n",
       "      <td>168</td>\n",
       "      <td>928437</td>\n",
       "      <td>253902</td>\n",
       "      <td>64</td>\n",
       "      <td>63</td>\n",
       "      <td>2.307</td>\n",
       "      <td>46.14</td>\n",
       "      <td>191.481</td>\n",
       "      <td>253902</td>\n",
       "      <td>2019-02-15 08:27:12</td>\n",
       "      <td>5297</td>\n",
       "      <td>-1</td>\n",
       "      <td>1</td>\n",
       "      <td>230</td>\n",
       "      <td>64</td>\n",
       "      <td>2019-02-16</td>\n",
       "    </tr>\n",
       "    <tr>\n",
       "      <th>2</th>\n",
       "      <td>39898110</td>\n",
       "      <td>2019-02-16 22:19:55</td>\n",
       "      <td>193</td>\n",
       "      <td>384389</td>\n",
       "      <td>307878</td>\n",
       "      <td>64</td>\n",
       "      <td>175</td>\n",
       "      <td>5.820</td>\n",
       "      <td>116.40</td>\n",
       "      <td>1134.900</td>\n",
       "      <td>307878</td>\n",
       "      <td>2019-01-04 05:31:40</td>\n",
       "      <td>20628</td>\n",
       "      <td>29909</td>\n",
       "      <td>18</td>\n",
       "      <td>40</td>\n",
       "      <td>64</td>\n",
       "      <td>2019-02-16</td>\n",
       "    </tr>\n",
       "    <tr>\n",
       "      <th>3</th>\n",
       "      <td>26657165</td>\n",
       "      <td>2019-02-16 23:33:45</td>\n",
       "      <td>39</td>\n",
       "      <td>430689</td>\n",
       "      <td>324657</td>\n",
       "      <td>44</td>\n",
       "      <td>48</td>\n",
       "      <td>20.662</td>\n",
       "      <td>413.24</td>\n",
       "      <td>1404.240</td>\n",
       "      <td>324657</td>\n",
       "      <td>2019-02-14 01:33:04</td>\n",
       "      <td>11763</td>\n",
       "      <td>28984</td>\n",
       "      <td>18</td>\n",
       "      <td>186</td>\n",
       "      <td>44</td>\n",
       "      <td>2019-02-16</td>\n",
       "    </tr>\n",
       "    <tr>\n",
       "      <th>4</th>\n",
       "      <td>48072671</td>\n",
       "      <td>2019-02-16 17:38:29</td>\n",
       "      <td>93</td>\n",
       "      <td>557436</td>\n",
       "      <td>324657</td>\n",
       "      <td>44</td>\n",
       "      <td>72</td>\n",
       "      <td>23.059</td>\n",
       "      <td>461.18</td>\n",
       "      <td>2121.180</td>\n",
       "      <td>324657</td>\n",
       "      <td>2019-02-14 01:33:04</td>\n",
       "      <td>11763</td>\n",
       "      <td>28984</td>\n",
       "      <td>18</td>\n",
       "      <td>186</td>\n",
       "      <td>44</td>\n",
       "      <td>2019-02-16</td>\n",
       "    </tr>\n",
       "  </tbody>\n",
       "</table>\n",
       "</div>"
      ],
      "text/plain": [
       "     广告请求id               广告请求时间  广告位id    用户id  曝光广告id  曝光广告素材尺寸  曝光广告出价bid  \\\n",
       "0  11624425  2019-02-16 23:52:39    168  852707  253902        64         60   \n",
       "1  59383857  2019-02-16 18:03:02    168  928437  253902        64         63   \n",
       "2  39898110  2019-02-16 22:19:55    193  384389  307878        64        175   \n",
       "3  26657165  2019-02-16 23:33:45     39  430689  324657        44         48   \n",
       "4  48072671  2019-02-16 17:38:29     93  557436  324657        44         72   \n",
       "\n",
       "   曝光广告pctr  曝光广告quality_ecpm  曝光广告totalEcpm  广告请求时间_date  \\\n",
       "0     4.329             86.58        346.320       253902   \n",
       "1     2.307             46.14        191.481       253902   \n",
       "2     5.820            116.40       1134.900       307878   \n",
       "3    20.662            413.24       1404.240       324657   \n",
       "4    23.059            461.18       2121.180       324657   \n",
       "\n",
       "                  广告id   创建时间  广告账户id  商品id  商品类型  广告行业id        素材尺寸  \n",
       "0  2019-02-15 08:27:12   5297      -1     1   230      64  2019-02-16  \n",
       "1  2019-02-15 08:27:12   5297      -1     1   230      64  2019-02-16  \n",
       "2  2019-01-04 05:31:40  20628   29909    18    40      64  2019-02-16  \n",
       "3  2019-02-14 01:33:04  11763   28984    18   186      44  2019-02-16  \n",
       "4  2019-02-14 01:33:04  11763   28984    18   186      44  2019-02-16  "
      ]
     },
     "execution_count": 9,
     "metadata": {},
     "output_type": "execute_result"
    }
   ],
   "source": [
    "log = pd.read_csv(root/'2019-02-16_log-Copy1.csv', names=col_names, encoding='utf-8')\n",
    "log.shape\n",
    "log.head()"
   ]
  },
  {
   "cell_type": "code",
   "execution_count": null,
   "metadata": {},
   "outputs": [],
   "source": []
  }
 ],
 "metadata": {
  "kernelspec": {
   "display_name": "Python 3",
   "language": "python",
   "name": "python3"
  },
  "language_info": {
   "codemirror_mode": {
    "name": "ipython",
    "version": 3
   },
   "file_extension": ".py",
   "mimetype": "text/x-python",
   "name": "python",
   "nbconvert_exporter": "python",
   "pygments_lexer": "ipython3",
   "version": "3.6.6"
  }
 },
 "nbformat": 4,
 "nbformat_minor": 2
}
