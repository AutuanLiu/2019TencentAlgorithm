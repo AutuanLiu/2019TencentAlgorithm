{
 "cells": [
  {
   "cell_type": "code",
   "execution_count": 1,
   "metadata": {},
   "outputs": [],
   "source": [
    "%matplotlib inline\n",
    "%reload_ext autoreload\n",
    "%autoreload 2\n",
    "# 多行输出\n",
    "from IPython.core.interactiveshell import InteractiveShell\n",
    "InteractiveShell.ast_node_interactivity = \"all\""
   ]
  },
  {
   "cell_type": "markdown",
   "metadata": {},
   "source": [
    "# 训练集、测试集特征设计与数据集构造"
   ]
  },
  {
   "cell_type": "code",
   "execution_count": 2,
   "metadata": {},
   "outputs": [
    {
     "name": "stderr",
     "output_type": "stream",
     "text": [
      "2019-05-09 16:03:04,472\tINFO node.py:469 -- Process STDOUT and STDERR is being redirected to /tmp/ray/session_2019-05-09_16-03-04_13034/logs.\n",
      "2019-05-09 16:03:04,578\tINFO services.py:407 -- Waiting for redis server at 127.0.0.1:40576 to respond...\n",
      "2019-05-09 16:03:04,687\tINFO services.py:407 -- Waiting for redis server at 127.0.0.1:17530 to respond...\n",
      "2019-05-09 16:03:04,690\tINFO services.py:804 -- Starting Redis shard with 10.0 GB max memory.\n",
      "2019-05-09 16:03:04,698\tINFO node.py:483 -- Process STDOUT and STDERR is being redirected to /tmp/ray/session_2019-05-09_16-03-04_13034/logs.\n",
      "2019-05-09 16:03:04,700\tWARNING services.py:1304 -- WARNING: The object store is using /tmp instead of /dev/shm because /dev/shm has only 33710182400 bytes available. This may slow down performance! You may be able to free up space by deleting files in /dev/shm or terminating any running plasma_store_server processes. If you are inside a Docker container, you may need to pass an argument with the flag '--shm-size' to 'docker run'.\n",
      "2019-05-09 16:03:04,700\tINFO services.py:1427 -- Starting the Plasma object store with 40.0 GB memory using /tmp.\n"
     ]
    }
   ],
   "source": [
    "import modin.pandas as pd\n",
    "from fastai.tabular import *"
   ]
  },
  {
   "cell_type": "code",
   "execution_count": null,
   "metadata": {},
   "outputs": [],
   "source": []
  }
 ],
 "metadata": {
  "kernelspec": {
   "display_name": "Python 3",
   "language": "python",
   "name": "python3"
  },
  "language_info": {
   "codemirror_mode": {
    "name": "ipython",
    "version": 3
   },
   "file_extension": ".py",
   "mimetype": "text/x-python",
   "name": "python",
   "nbconvert_exporter": "python",
   "pygments_lexer": "ipython3",
   "version": "3.6.7"
  }
 },
 "nbformat": 4,
 "nbformat_minor": 2
}
