{
 "cells": [
  {
   "cell_type": "code",
   "execution_count": 1,
   "metadata": {},
   "outputs": [],
   "source": [
    "%matplotlib inline\n",
    "%reload_ext autoreload\n",
    "%autoreload 2\n",
    "# 多行输出\n",
    "from IPython.core.interactiveshell import InteractiveShell\n",
    "InteractiveShell.ast_node_interactivity = \"all\""
   ]
  },
  {
   "cell_type": "markdown",
   "metadata": {},
   "source": [
    "# 训练集、测试集特征设计与数据集构造"
   ]
  },
  {
   "cell_type": "code",
   "execution_count": 2,
   "metadata": {},
   "outputs": [
    {
     "name": "stderr",
     "output_type": "stream",
     "text": [
      "2019-05-14 22:08:49,396\tINFO node.py:469 -- Process STDOUT and STDERR is being redirected to /tmp/ray/session_2019-05-14_22-08-49_5081/logs.\n",
      "2019-05-14 22:08:49,501\tINFO services.py:407 -- Waiting for redis server at 127.0.0.1:49052 to respond...\n",
      "2019-05-14 22:08:49,609\tINFO services.py:407 -- Waiting for redis server at 127.0.0.1:16093 to respond...\n",
      "2019-05-14 22:08:49,611\tINFO services.py:804 -- Starting Redis shard with 10.0 GB max memory.\n",
      "2019-05-14 22:08:49,620\tINFO node.py:483 -- Process STDOUT and STDERR is being redirected to /tmp/ray/session_2019-05-14_22-08-49_5081/logs.\n",
      "2019-05-14 22:08:49,622\tWARNING services.py:1304 -- WARNING: The object store is using /tmp instead of /dev/shm because /dev/shm has only 33736683520 bytes available. This may slow down performance! You may be able to free up space by deleting files in /dev/shm or terminating any running plasma_store_server processes. If you are inside a Docker container, you may need to pass an argument with the flag '--shm-size' to 'docker run'.\n",
      "2019-05-14 22:08:49,622\tINFO services.py:1427 -- Starting the Plasma object store with 40.0 GB memory using /tmp.\n"
     ]
    }
   ],
   "source": [
    "import modin.pandas as pd\n",
    "from fastai.tabular import *"
   ]
  },
  {
   "cell_type": "code",
   "execution_count": 3,
   "metadata": {},
   "outputs": [
    {
     "data": {
      "text/plain": [
       "[PosixPath('../data/2019-03-10_log_exposed.csv'),\n",
       " PosixPath('../data/2019-02-23_log.csv'),\n",
       " PosixPath('../data/2019-02-28_log.csv'),\n",
       " PosixPath('../data/2019-03-14_log_exposed.csv'),\n",
       " PosixPath('../data/2019-02-22_log_exposed.csv'),\n",
       " PosixPath('../data/log_label.tgz'),\n",
       " PosixPath('../data/2019-03-16_log.csv'),\n",
       " PosixPath('../data/2019-03-11_log_exposed.csv'),\n",
       " PosixPath('../data/2019-02-16_log_exposed.csv'),\n",
       " PosixPath('../data/2019-03-12_log_exposed.csv'),\n",
       " PosixPath('../data/2019-02-28_log_exposed.csv'),\n",
       " PosixPath('../data/2019-03-06_log.csv'),\n",
       " PosixPath('../data/2019-03-13_log.csv'),\n",
       " PosixPath('../data/2019-02-23_log_exposed.csv'),\n",
       " PosixPath('../data/2019-03-19_log.csv'),\n",
       " PosixPath('../data/2019-03-01_log_exposed.csv'),\n",
       " PosixPath('../data/2019-02-26_log_exposed.csv'),\n",
       " PosixPath('../data/2019-03-01_log.csv'),\n",
       " PosixPath('../data/2019-02-20_log_exposed.csv'),\n",
       " PosixPath('../data/2019-02-19_log_exposed.csv'),\n",
       " PosixPath('../data/2019-02-24_log.csv'),\n",
       " PosixPath('../data/2019-03-03_log.csv'),\n",
       " PosixPath('../data/2019-02-27_log_exposed.csv'),\n",
       " PosixPath('../data/2019-03-03_log_exposed.csv'),\n",
       " PosixPath('../data/2019-02-17_log.csv'),\n",
       " PosixPath('../data/2019-02-18_log.csv'),\n",
       " PosixPath('../data/2019-03-05_log_exposed.csv'),\n",
       " PosixPath('../data/2019-03-07_log_exposed.csv'),\n",
       " PosixPath('../data/2019-02-16_log.csv'),\n",
       " PosixPath('../data/2019-02-26_log.csv'),\n",
       " PosixPath('../data/.ipynb_checkpoints'),\n",
       " PosixPath('../data/2019-03-09_log.csv'),\n",
       " PosixPath('../data/2019-03-15_log.csv'),\n",
       " PosixPath('../data/2019-02-21_log.csv'),\n",
       " PosixPath('../data/2019-03-11_log.csv'),\n",
       " PosixPath('../data/test_set.csv'),\n",
       " PosixPath('../data/users_data.csv'),\n",
       " PosixPath('../data/2019-03-07_log.csv'),\n",
       " PosixPath('../data/2019-03-13_log_exposed.csv'),\n",
       " PosixPath('../data/2019-03-12_log.csv'),\n",
       " PosixPath('../data/2019-02-19_log.csv'),\n",
       " PosixPath('../data/log_data.tgz'),\n",
       " PosixPath('../data/2019-03-19_log_exposed.csv'),\n",
       " PosixPath('../data/2019-03-08_log.csv'),\n",
       " PosixPath('../data/2019-03-02_log_exposed.csv'),\n",
       " PosixPath('../data/2019-03-04_log_exposed.csv'),\n",
       " PosixPath('../data/2019-02-27_log.csv'),\n",
       " PosixPath('../data/2019-02-21_log_exposed.csv'),\n",
       " PosixPath('../data/ad_static_all.csv'),\n",
       " PosixPath('../data/2019-03-15_log_exposed.csv'),\n",
       " PosixPath('../data/2019-03-10_log.csv'),\n",
       " PosixPath('../data/ad_static.csv'),\n",
       " PosixPath('../data/2019-02-22_log.csv'),\n",
       " PosixPath('../data/2019-03-06_log_exposed.csv'),\n",
       " PosixPath('../data/2019-03-14_log.csv'),\n",
       " PosixPath('../data/2019-03-04_log.csv'),\n",
       " PosixPath('../data/sta_log.csv.sh'),\n",
       " PosixPath('../data/2019-02-20_log.csv'),\n",
       " PosixPath('../data/2019-03-08_log_exposed.csv'),\n",
       " PosixPath('../data/2019-03-17_log.csv'),\n",
       " PosixPath('../data/test_data.csv'),\n",
       " PosixPath('../data/2019-03-05_log.csv'),\n",
       " PosixPath('../data/2019-02-25_log.csv'),\n",
       " PosixPath('../data/2019-03-16_log_exposed.csv'),\n",
       " PosixPath('../data/2019-03-02_log.csv'),\n",
       " PosixPath('../data/2019-02-24_log_exposed.csv'),\n",
       " PosixPath('../data/2019-03-18_log_exposed.csv'),\n",
       " PosixPath('../data/2019-02-25_log_exposed.csv'),\n",
       " PosixPath('../data/2019-03-17_log_exposed.csv'),\n",
       " PosixPath('../data/2019-02-17_log_exposed.csv'),\n",
       " PosixPath('../data/2019-03-18_log.csv'),\n",
       " PosixPath('../data/log_reduced.csv'),\n",
       " PosixPath('../data/ad_static_operation.csv'),\n",
       " PosixPath('../data/2019-02-18_log_exposed.csv'),\n",
       " PosixPath('../data/2019-03-09_log_exposed.csv')]"
      ]
     },
     "execution_count": 3,
     "metadata": {},
     "output_type": "execute_result"
    }
   ],
   "source": [
    "root = Path('../data')\n",
    "root.ls()"
   ]
  },
  {
   "cell_type": "markdown",
   "metadata": {},
   "source": [
    "- 以 `log.csv` 结尾的是处理后的数据\n",
    "- 以 `log_exposed.csv` 结尾的是标签数据"
   ]
  },
  {
   "cell_type": "markdown",
   "metadata": {},
   "source": [
    "## 广告及其属性数据"
   ]
  },
  {
   "cell_type": "code",
   "execution_count": 7,
   "metadata": {},
   "outputs": [
    {
     "data": {
      "text/html": [
       "<div>\n",
       "<style scoped>\n",
       "    .dataframe tbody tr th:only-of-type {\n",
       "        vertical-align: middle;\n",
       "    }\n",
       "\n",
       "    .dataframe tbody tr th {\n",
       "        vertical-align: top;\n",
       "    }\n",
       "\n",
       "    .dataframe thead th {\n",
       "        text-align: right;\n",
       "    }\n",
       "</style>\n",
       "<table border=\"1\" class=\"dataframe\">\n",
       "  <thead>\n",
       "    <tr style=\"text-align: right;\">\n",
       "      <th></th>\n",
       "      <th>index</th>\n",
       "      <th>广告id</th>\n",
       "      <th>创建时间</th>\n",
       "      <th>广告账户id</th>\n",
       "      <th>商品id</th>\n",
       "      <th>商品类型</th>\n",
       "      <th>广告行业id</th>\n",
       "      <th>素材尺寸</th>\n",
       "      <th>人群定向</th>\n",
       "      <th>投放时段</th>\n",
       "      <th>广告状态</th>\n",
       "      <th>出价</th>\n",
       "    </tr>\n",
       "  </thead>\n",
       "  <tbody>\n",
       "    <tr>\n",
       "      <th>0</th>\n",
       "      <td>0</td>\n",
       "      <td>233649</td>\n",
       "      <td>2018-09-29 11:52:16</td>\n",
       "      <td>25681</td>\n",
       "      <td>7356</td>\n",
       "      <td>13</td>\n",
       "      <td>136</td>\n",
       "      <td>1</td>\n",
       "      <td>NaN</td>\n",
       "      <td>NaN</td>\n",
       "      <td>NaN</td>\n",
       "      <td>NaN</td>\n",
       "    </tr>\n",
       "    <tr>\n",
       "      <th>1</th>\n",
       "      <td>1</td>\n",
       "      <td>547531</td>\n",
       "      <td>2019-02-21 06:37:00</td>\n",
       "      <td>20696</td>\n",
       "      <td>-1</td>\n",
       "      <td>1</td>\n",
       "      <td>186</td>\n",
       "      <td>40</td>\n",
       "      <td>NaN</td>\n",
       "      <td>NaN</td>\n",
       "      <td>NaN</td>\n",
       "      <td>NaN</td>\n",
       "    </tr>\n",
       "    <tr>\n",
       "      <th>2</th>\n",
       "      <td>2</td>\n",
       "      <td>707841</td>\n",
       "      <td>2019-03-06 07:37:37</td>\n",
       "      <td>3968</td>\n",
       "      <td>-1</td>\n",
       "      <td>3</td>\n",
       "      <td>186</td>\n",
       "      <td>40</td>\n",
       "      <td>NaN</td>\n",
       "      <td>NaN</td>\n",
       "      <td>NaN</td>\n",
       "      <td>NaN</td>\n",
       "    </tr>\n",
       "    <tr>\n",
       "      <th>3</th>\n",
       "      <td>3</td>\n",
       "      <td>733436</td>\n",
       "      <td>2019-03-19 06:37:06</td>\n",
       "      <td>22405</td>\n",
       "      <td>31722</td>\n",
       "      <td>5</td>\n",
       "      <td>117</td>\n",
       "      <td>64</td>\n",
       "      <td>NaN</td>\n",
       "      <td>NaN</td>\n",
       "      <td>NaN</td>\n",
       "      <td>NaN</td>\n",
       "    </tr>\n",
       "    <tr>\n",
       "      <th>4</th>\n",
       "      <td>4</td>\n",
       "      <td>249105</td>\n",
       "      <td>2019-03-15 09:23:16</td>\n",
       "      <td>11360</td>\n",
       "      <td>29999</td>\n",
       "      <td>18</td>\n",
       "      <td>145</td>\n",
       "      <td>44</td>\n",
       "      <td>NaN</td>\n",
       "      <td>NaN</td>\n",
       "      <td>NaN</td>\n",
       "      <td>NaN</td>\n",
       "    </tr>\n",
       "  </tbody>\n",
       "</table>\n",
       "</div>"
      ],
      "text/plain": [
       "   index    广告id                 创建时间  广告账户id   商品id  商品类型  广告行业id 素材尺寸 人群定向  \\\n",
       "0      0  233649  2018-09-29 11:52:16   25681   7356    13     136    1  NaN   \n",
       "1      1  547531  2019-02-21 06:37:00   20696     -1     1     186   40  NaN   \n",
       "2      2  707841  2019-03-06 07:37:37    3968     -1     3     186   40  NaN   \n",
       "3      3  733436  2019-03-19 06:37:06   22405  31722     5     117   64  NaN   \n",
       "4      4  249105  2019-03-15 09:23:16   11360  29999    18     145   44  NaN   \n",
       "\n",
       "  投放时段  广告状态  出价  \n",
       "0  NaN   NaN NaN  \n",
       "1  NaN   NaN NaN  \n",
       "2  NaN   NaN NaN  \n",
       "3  NaN   NaN NaN  \n",
       "4  NaN   NaN NaN  "
      ]
     },
     "execution_count": 7,
     "metadata": {},
     "output_type": "execute_result"
    }
   ],
   "source": [
    "ads_fix = pd.read_csv(root/'ads_fix.csv', low_memory=False, encoding='utf-8')\n",
    "ads_fix.head()"
   ]
  },
  {
   "cell_type": "code",
   "execution_count": null,
   "metadata": {},
   "outputs": [],
   "source": [
    "ads_ctr = pd.read_csv(root/'ads_ctr.csv', low_memory=False, encoding='utf-8')\n",
    "ads_ctr.head()"
   ]
  },
  {
   "cell_type": "code",
   "execution_count": null,
   "metadata": {},
   "outputs": [],
   "source": [
    "new_ads = pd.concat([ads_fix, ads_crt], axis=0, ignore_index=True)"
   ]
  },
  {
   "cell_type": "markdown",
   "metadata": {},
   "source": [
    "- 删除不必要的行"
   ]
  },
  {
   "cell_type": "code",
   "execution_count": null,
   "metadata": {},
   "outputs": [],
   "source": [
    "new_ads.drop(columns=[])"
   ]
  },
  {
   "cell_type": "markdown",
   "metadata": {},
   "source": [
    "- 按创建时间进行排序"
   ]
  },
  {
   "cell_type": "code",
   "execution_count": null,
   "metadata": {},
   "outputs": [],
   "source": [
    "new_ads.sort_values('创建时间', inplace=True)\n",
    "new_ads.reset_index(drop=True, inplace=True)"
   ]
  },
  {
   "cell_type": "code",
   "execution_count": null,
   "metadata": {},
   "outputs": [],
   "source": [
    "sta_info = new_ads.pivot_table()"
   ]
  },
  {
   "cell_type": "code",
   "execution_count": null,
   "metadata": {},
   "outputs": [],
   "source": [
    "sta_info.head()"
   ]
  },
  {
   "cell_type": "markdown",
   "metadata": {},
   "source": [
    "### 解决方案\n",
    "1. 时间列 排序\n",
    "2. 统计每种时间的个数\n",
    "3. 按索引取出对应的时间子表\n",
    "4. 读取标签并 merge"
   ]
  },
  {
   "cell_type": "markdown",
   "metadata": {},
   "source": [
    "- 获取时间"
   ]
  },
  {
   "cell_type": "code",
   "execution_count": null,
   "metadata": {},
   "outputs": [],
   "source": []
  },
  {
   "cell_type": "markdown",
   "metadata": {},
   "source": [
    "- 获取个数"
   ]
  },
  {
   "cell_type": "code",
   "execution_count": null,
   "metadata": {},
   "outputs": [],
   "source": []
  },
  {
   "cell_type": "markdown",
   "metadata": {},
   "source": [
    "- 取子表，读标签，合并"
   ]
  },
  {
   "cell_type": "code",
   "execution_count": null,
   "metadata": {},
   "outputs": [],
   "source": []
  },
  {
   "cell_type": "code",
   "execution_count": null,
   "metadata": {},
   "outputs": [],
   "source": []
  },
  {
   "cell_type": "code",
   "execution_count": null,
   "metadata": {},
   "outputs": [],
   "source": []
  },
  {
   "cell_type": "markdown",
   "metadata": {},
   "source": [
    "### 时间特征"
   ]
  },
  {
   "cell_type": "code",
   "execution_count": null,
   "metadata": {},
   "outputs": [],
   "source": []
  },
  {
   "cell_type": "code",
   "execution_count": null,
   "metadata": {},
   "outputs": [],
   "source": []
  },
  {
   "cell_type": "code",
   "execution_count": null,
   "metadata": {},
   "outputs": [],
   "source": []
  },
  {
   "cell_type": "code",
   "execution_count": null,
   "metadata": {},
   "outputs": [],
   "source": []
  },
  {
   "cell_type": "markdown",
   "metadata": {},
   "source": [
    "### fin 训练集"
   ]
  },
  {
   "cell_type": "code",
   "execution_count": null,
   "metadata": {},
   "outputs": [],
   "source": []
  },
  {
   "cell_type": "markdown",
   "metadata": {},
   "source": [
    "### 测试集做相同处理"
   ]
  },
  {
   "cell_type": "code",
   "execution_count": null,
   "metadata": {},
   "outputs": [],
   "source": []
  },
  {
   "cell_type": "code",
   "execution_count": null,
   "metadata": {},
   "outputs": [],
   "source": []
  },
  {
   "cell_type": "code",
   "execution_count": null,
   "metadata": {},
   "outputs": [],
   "source": []
  },
  {
   "cell_type": "markdown",
   "metadata": {},
   "source": [
    "### fin 数据集创建"
   ]
  },
  {
   "cell_type": "code",
   "execution_count": null,
   "metadata": {},
   "outputs": [],
   "source": []
  }
 ],
 "metadata": {
  "kernelspec": {
   "display_name": "Python 3",
   "language": "python",
   "name": "python3"
  },
  "language_info": {
   "codemirror_mode": {
    "name": "ipython",
    "version": 3
   },
   "file_extension": ".py",
   "mimetype": "text/x-python",
   "name": "python",
   "nbconvert_exporter": "python",
   "pygments_lexer": "ipython3",
   "version": "3.6.7"
  }
 },
 "nbformat": 4,
 "nbformat_minor": 2
}
