{
 "cells": [
  {
   "cell_type": "code",
   "execution_count": 1,
   "metadata": {},
   "outputs": [],
   "source": [
    "%matplotlib inline\n",
    "%reload_ext autoreload\n",
    "%autoreload 2\n",
    "# 多行输出\n",
    "from IPython.core.interactiveshell import InteractiveShell\n",
    "InteractiveShell.ast_node_interactivity = \"all\""
   ]
  },
  {
   "cell_type": "markdown",
   "metadata": {},
   "source": [
    "## 数据预处理"
   ]
  },
  {
   "cell_type": "code",
   "execution_count": 2,
   "metadata": {},
   "outputs": [],
   "source": [
    "import modin as pd\n",
    "from fastai.tabular import *"
   ]
  },
  {
   "cell_type": "code",
   "execution_count": 4,
   "metadata": {},
   "outputs": [
    {
     "data": {
      "text/plain": [
       "PosixPath('../test_A')"
      ]
     },
     "execution_count": 4,
     "metadata": {},
     "output_type": "execute_result"
    },
    {
     "data": {
      "text/plain": [
       "[PosixPath('../test_A/ad_static_feature.out'),\n",
       " PosixPath('../test_A/ad_operation.dat'),\n",
       " PosixPath('../test_A/test_sample.dat'),\n",
       " PosixPath('../test_A/user'),\n",
       " PosixPath('../test_A/imps_log')]"
      ]
     },
     "execution_count": 4,
     "metadata": {},
     "output_type": "execute_result"
    }
   ],
   "source": [
    "root = Path('../test_A')\n",
    "root\n",
    "root.ls()"
   ]
  },
  {
   "cell_type": "code",
   "execution_count": 5,
   "metadata": {},
   "outputs": [
    {
     "data": {
      "text/plain": [
       "[PosixPath('../test_A/user/user_data')]"
      ]
     },
     "execution_count": 5,
     "metadata": {},
     "output_type": "execute_result"
    },
    {
     "data": {
      "text/plain": [
       "[PosixPath('../test_A/imps_log/totalExposureLog.out')]"
      ]
     },
     "execution_count": 5,
     "metadata": {},
     "output_type": "execute_result"
    }
   ],
   "source": [
    "user = root/'user'\n",
    "user.ls()\n",
    "imps_log = root/'imps_log'\n",
    "imps_log.ls()"
   ]
  },
  {
   "cell_type": "markdown",
   "metadata": {},
   "source": [
    "- 历史曝光日志数据文件"
   ]
  },
  {
   "cell_type": "code",
   "execution_count": 6,
   "metadata": {},
   "outputs": [],
   "source": [
    "col_names = ['广告请求id', '广告请求时间', '广告位id', '用户id', '曝光广告id', '曝光广告素材尺寸', '曝光广告出价bid',\n",
    "             '曝光广告pctr', '曝光广告quality_ecpm', '曝光广告totalEcpm']"
   ]
  },
  {
   "cell_type": "code",
   "execution_count": 7,
   "metadata": {},
   "outputs": [
    {
     "data": {
      "text/html": [
       "<div>\n",
       "<style scoped>\n",
       "    .dataframe tbody tr th:only-of-type {\n",
       "        vertical-align: middle;\n",
       "    }\n",
       "\n",
       "    .dataframe tbody tr th {\n",
       "        vertical-align: top;\n",
       "    }\n",
       "\n",
       "    .dataframe thead th {\n",
       "        text-align: right;\n",
       "    }\n",
       "</style>\n",
       "<table border=\"1\" class=\"dataframe\">\n",
       "  <thead>\n",
       "    <tr style=\"text-align: right;\">\n",
       "      <th></th>\n",
       "      <th>广告请求id</th>\n",
       "      <th>广告请求时间</th>\n",
       "      <th>广告位id</th>\n",
       "      <th>用户id</th>\n",
       "      <th>曝光广告id</th>\n",
       "      <th>曝光广告素材尺寸</th>\n",
       "      <th>曝光广告出价bid</th>\n",
       "      <th>曝光广告pctr</th>\n",
       "      <th>曝光广告quality_ecpm</th>\n",
       "      <th>曝光广告totalEcpm</th>\n",
       "    </tr>\n",
       "  </thead>\n",
       "  <tbody>\n",
       "    <tr>\n",
       "      <th>0</th>\n",
       "      <td>53991770</td>\n",
       "      <td>1550409746</td>\n",
       "      <td>94</td>\n",
       "      <td>1160618</td>\n",
       "      <td>451525</td>\n",
       "      <td>50</td>\n",
       "      <td>46</td>\n",
       "      <td>47.217</td>\n",
       "      <td>944.34</td>\n",
       "      <td>3122.340</td>\n",
       "    </tr>\n",
       "    <tr>\n",
       "      <th>1</th>\n",
       "      <td>25942318</td>\n",
       "      <td>1550370892</td>\n",
       "      <td>79</td>\n",
       "      <td>203814</td>\n",
       "      <td>214797</td>\n",
       "      <td>64</td>\n",
       "      <td>10</td>\n",
       "      <td>49.094</td>\n",
       "      <td>981.88</td>\n",
       "      <td>1471.880</td>\n",
       "    </tr>\n",
       "    <tr>\n",
       "      <th>2</th>\n",
       "      <td>66156247</td>\n",
       "      <td>1550416600</td>\n",
       "      <td>18</td>\n",
       "      <td>808543</td>\n",
       "      <td>92253</td>\n",
       "      <td>40</td>\n",
       "      <td>96</td>\n",
       "      <td>3.824</td>\n",
       "      <td>76.48</td>\n",
       "      <td>443.584</td>\n",
       "    </tr>\n",
       "    <tr>\n",
       "      <th>3</th>\n",
       "      <td>5935886</td>\n",
       "      <td>1550365898</td>\n",
       "      <td>198</td>\n",
       "      <td>7270</td>\n",
       "      <td>160082</td>\n",
       "      <td>64</td>\n",
       "      <td>85</td>\n",
       "      <td>6.123</td>\n",
       "      <td>122.46</td>\n",
       "      <td>642.915</td>\n",
       "    </tr>\n",
       "    <tr>\n",
       "      <th>4</th>\n",
       "      <td>11624425</td>\n",
       "      <td>1550361159</td>\n",
       "      <td>168</td>\n",
       "      <td>852707</td>\n",
       "      <td>253902</td>\n",
       "      <td>64</td>\n",
       "      <td>60</td>\n",
       "      <td>4.329</td>\n",
       "      <td>86.58</td>\n",
       "      <td>346.320</td>\n",
       "    </tr>\n",
       "  </tbody>\n",
       "</table>\n",
       "</div>"
      ],
      "text/plain": [
       "     广告请求id      广告请求时间  广告位id     用户id  曝光广告id  曝光广告素材尺寸  曝光广告出价bid  \\\n",
       "0  53991770  1550409746     94  1160618  451525        50         46   \n",
       "1  25942318  1550370892     79   203814  214797        64         10   \n",
       "2  66156247  1550416600     18   808543   92253        40         96   \n",
       "3   5935886  1550365898    198     7270  160082        64         85   \n",
       "4  11624425  1550361159    168   852707  253902        64         60   \n",
       "\n",
       "   曝光广告pctr  曝光广告quality_ecpm  曝光广告totalEcpm  \n",
       "0    47.217            944.34       3122.340  \n",
       "1    49.094            981.88       1471.880  \n",
       "2     3.824             76.48        443.584  \n",
       "3     6.123            122.46        642.915  \n",
       "4     4.329             86.58        346.320  "
      ]
     },
     "execution_count": 7,
     "metadata": {},
     "output_type": "execute_result"
    }
   ],
   "source": [
    "imps_log = pd.read_csv(imps_log/'totalExposureLog.out', sep='\\t', header=None, names=col_names, iterator=True)\n",
    "imps_log.get_chunk(5)"
   ]
  },
  {
   "cell_type": "markdown",
   "metadata": {},
   "source": [
    "- 用户特征属性文件"
   ]
  },
  {
   "cell_type": "code",
   "execution_count": 8,
   "metadata": {},
   "outputs": [],
   "source": [
    "col_names = ['用户id', 'Age', 'Gender', '地域', '婚恋状态', '学历', '消费能力',\n",
    "             '设备', '工作状态', '连接类型', '行为兴趣']"
   ]
  },
  {
   "cell_type": "code",
   "execution_count": 9,
   "metadata": {},
   "outputs": [
    {
     "data": {
      "text/html": [
       "<div>\n",
       "<style scoped>\n",
       "    .dataframe tbody tr th:only-of-type {\n",
       "        vertical-align: middle;\n",
       "    }\n",
       "\n",
       "    .dataframe tbody tr th {\n",
       "        vertical-align: top;\n",
       "    }\n",
       "\n",
       "    .dataframe thead th {\n",
       "        text-align: right;\n",
       "    }\n",
       "</style>\n",
       "<table border=\"1\" class=\"dataframe\">\n",
       "  <thead>\n",
       "    <tr style=\"text-align: right;\">\n",
       "      <th></th>\n",
       "      <th>用户id</th>\n",
       "      <th>Age</th>\n",
       "      <th>Gender</th>\n",
       "      <th>地域</th>\n",
       "      <th>婚恋状态</th>\n",
       "      <th>学历</th>\n",
       "      <th>消费能力</th>\n",
       "      <th>设备</th>\n",
       "      <th>工作状态</th>\n",
       "      <th>连接类型</th>\n",
       "      <th>行为兴趣</th>\n",
       "    </tr>\n",
       "  </thead>\n",
       "  <tbody>\n",
       "    <tr>\n",
       "      <th>0</th>\n",
       "      <td>624218</td>\n",
       "      <td>753</td>\n",
       "      <td>2</td>\n",
       "      <td>523,7589,12527,9019,14605,13489,302,6222,14214...</td>\n",
       "      <td>0</td>\n",
       "      <td>6</td>\n",
       "      <td>1</td>\n",
       "      <td>2</td>\n",
       "      <td>0</td>\n",
       "      <td>4</td>\n",
       "      <td>32612,34406,3413,33059,4275,4667,4561,34051,42...</td>\n",
       "    </tr>\n",
       "    <tr>\n",
       "      <th>1</th>\n",
       "      <td>271475</td>\n",
       "      <td>601</td>\n",
       "      <td>3</td>\n",
       "      <td>9019,9032,663,12527,14532,2416,2599,1987,9687,...</td>\n",
       "      <td>13</td>\n",
       "      <td>7</td>\n",
       "      <td>2</td>\n",
       "      <td>2</td>\n",
       "      <td>0</td>\n",
       "      <td>2</td>\n",
       "      <td>4990,4992,3413,33061,4115,4876,2393,34167,3441...</td>\n",
       "    </tr>\n",
       "    <tr>\n",
       "      <th>2</th>\n",
       "      <td>44439</td>\n",
       "      <td>819</td>\n",
       "      <td>3</td>\n",
       "      <td>12527,14188,9841,9019,14605,6222,9962,6643,172...</td>\n",
       "      <td>13</td>\n",
       "      <td>7</td>\n",
       "      <td>3</td>\n",
       "      <td>2</td>\n",
       "      <td>4</td>\n",
       "      <td>4</td>\n",
       "      <td>3099,4403,34414,431,34415,5108,31686,3240,3229...</td>\n",
       "    </tr>\n",
       "    <tr>\n",
       "      <th>3</th>\n",
       "      <td>863717</td>\n",
       "      <td>1</td>\n",
       "      <td>2</td>\n",
       "      <td>12527,3435,2398,11069,1292,9019,14605,14348,62...</td>\n",
       "      <td>6</td>\n",
       "      <td>5</td>\n",
       "      <td>3</td>\n",
       "      <td>2</td>\n",
       "      <td>0</td>\n",
       "      <td>2</td>\n",
       "      <td>34293,845,3413,3099,33061,33059,4120,4410,4415...</td>\n",
       "    </tr>\n",
       "    <tr>\n",
       "      <th>4</th>\n",
       "      <td>1305469</td>\n",
       "      <td>714</td>\n",
       "      <td>3</td>\n",
       "      <td>8928,9019,1540,719,12527,6051,10545,12118,7107...</td>\n",
       "      <td>13</td>\n",
       "      <td>5</td>\n",
       "      <td>3</td>\n",
       "      <td>2</td>\n",
       "      <td>0</td>\n",
       "      <td>2</td>\n",
       "      <td>32612,34289,34406,3413,4275,4410,4561,34051,34...</td>\n",
       "    </tr>\n",
       "  </tbody>\n",
       "</table>\n",
       "</div>"
      ],
      "text/plain": [
       "      用户id  Age  Gender                                                 地域  \\\n",
       "0   624218  753       2  523,7589,12527,9019,14605,13489,302,6222,14214...   \n",
       "1   271475  601       3  9019,9032,663,12527,14532,2416,2599,1987,9687,...   \n",
       "2    44439  819       3  12527,14188,9841,9019,14605,6222,9962,6643,172...   \n",
       "3   863717    1       2  12527,3435,2398,11069,1292,9019,14605,14348,62...   \n",
       "4  1305469  714       3  8928,9019,1540,719,12527,6051,10545,12118,7107...   \n",
       "\n",
       "   婚恋状态  学历  消费能力  设备  工作状态  连接类型  \\\n",
       "0     0   6     1   2     0     4   \n",
       "1    13   7     2   2     0     2   \n",
       "2    13   7     3   2     4     4   \n",
       "3     6   5     3   2     0     2   \n",
       "4    13   5     3   2     0     2   \n",
       "\n",
       "                                                行为兴趣  \n",
       "0  32612,34406,3413,33059,4275,4667,4561,34051,42...  \n",
       "1  4990,4992,3413,33061,4115,4876,2393,34167,3441...  \n",
       "2  3099,4403,34414,431,34415,5108,31686,3240,3229...  \n",
       "3  34293,845,3413,3099,33061,33059,4120,4410,4415...  \n",
       "4  32612,34289,34406,3413,4275,4410,4561,34051,34...  "
      ]
     },
     "execution_count": 9,
     "metadata": {},
     "output_type": "execute_result"
    }
   ],
   "source": [
    "user_data = pd.read_csv(user/'user_data', sep='\\t', header=None, names=col_names, iterator=True)\n",
    "user_data.get_chunk(5)"
   ]
  },
  {
   "cell_type": "markdown",
   "metadata": {},
   "source": [
    "- 广告静态数据"
   ]
  },
  {
   "cell_type": "code",
   "execution_count": 10,
   "metadata": {},
   "outputs": [],
   "source": [
    "col_names = ['广告id', '创建时间', '广告账户id', '商品id', '商品类型', '广告行业id', '素材尺寸']"
   ]
  },
  {
   "cell_type": "code",
   "execution_count": 11,
   "metadata": {},
   "outputs": [
    {
     "data": {
      "text/html": [
       "<div>\n",
       "<style scoped>\n",
       "    .dataframe tbody tr th:only-of-type {\n",
       "        vertical-align: middle;\n",
       "    }\n",
       "\n",
       "    .dataframe tbody tr th {\n",
       "        vertical-align: top;\n",
       "    }\n",
       "\n",
       "    .dataframe thead th {\n",
       "        text-align: right;\n",
       "    }\n",
       "</style>\n",
       "<table border=\"1\" class=\"dataframe\">\n",
       "  <thead>\n",
       "    <tr style=\"text-align: right;\">\n",
       "      <th></th>\n",
       "      <th>广告id</th>\n",
       "      <th>创建时间</th>\n",
       "      <th>广告账户id</th>\n",
       "      <th>商品id</th>\n",
       "      <th>商品类型</th>\n",
       "      <th>广告行业id</th>\n",
       "      <th>素材尺寸</th>\n",
       "    </tr>\n",
       "  </thead>\n",
       "  <tbody>\n",
       "    <tr>\n",
       "      <th>0</th>\n",
       "      <td>106452</td>\n",
       "      <td>1529958950</td>\n",
       "      <td>22226</td>\n",
       "      <td>16088</td>\n",
       "      <td>13</td>\n",
       "      <td>225</td>\n",
       "      <td>NaN</td>\n",
       "    </tr>\n",
       "    <tr>\n",
       "      <th>1</th>\n",
       "      <td>233649</td>\n",
       "      <td>1538221936</td>\n",
       "      <td>25681</td>\n",
       "      <td>7356</td>\n",
       "      <td>13</td>\n",
       "      <td>136</td>\n",
       "      <td>1.0</td>\n",
       "    </tr>\n",
       "    <tr>\n",
       "      <th>2</th>\n",
       "      <td>547531</td>\n",
       "      <td>1550731020</td>\n",
       "      <td>20696</td>\n",
       "      <td>-1</td>\n",
       "      <td>1</td>\n",
       "      <td>186</td>\n",
       "      <td>40.0</td>\n",
       "    </tr>\n",
       "    <tr>\n",
       "      <th>3</th>\n",
       "      <td>707841</td>\n",
       "      <td>1551857857</td>\n",
       "      <td>3968</td>\n",
       "      <td>-1</td>\n",
       "      <td>3</td>\n",
       "      <td>186</td>\n",
       "      <td>40.0</td>\n",
       "    </tr>\n",
       "    <tr>\n",
       "      <th>4</th>\n",
       "      <td>457009</td>\n",
       "      <td>1550439402</td>\n",
       "      <td>23614</td>\n",
       "      <td>7447</td>\n",
       "      <td>13</td>\n",
       "      <td>172</td>\n",
       "      <td>NaN</td>\n",
       "    </tr>\n",
       "  </tbody>\n",
       "</table>\n",
       "</div>"
      ],
      "text/plain": [
       "     广告id        创建时间  广告账户id   商品id  商品类型  广告行业id  素材尺寸\n",
       "0  106452  1529958950   22226  16088    13     225   NaN\n",
       "1  233649  1538221936   25681   7356    13     136   1.0\n",
       "2  547531  1550731020   20696     -1     1     186  40.0\n",
       "3  707841  1551857857    3968     -1     3     186  40.0\n",
       "4  457009  1550439402   23614   7447    13     172   NaN"
      ]
     },
     "execution_count": 11,
     "metadata": {},
     "output_type": "execute_result"
    }
   ],
   "source": [
    "ad_static_feature = pd.read_csv(root/'ad_static_feature.out', sep='\\t', header=None, names=col_names, low_memory=False, iterator=True)\n",
    "ad_static_feature.get_chunk(5)"
   ]
  },
  {
   "cell_type": "markdown",
   "metadata": {},
   "source": [
    "- 广告操作数据"
   ]
  },
  {
   "cell_type": "code",
   "execution_count": 12,
   "metadata": {},
   "outputs": [],
   "source": [
    "col_names = ['广告id', '创建/修改时间', '操作类型', '修改字段', '操作后的字段值', '人群定向']"
   ]
  },
  {
   "cell_type": "code",
   "execution_count": 13,
   "metadata": {},
   "outputs": [
    {
     "data": {
      "text/html": [
       "<div>\n",
       "<style scoped>\n",
       "    .dataframe tbody tr th:only-of-type {\n",
       "        vertical-align: middle;\n",
       "    }\n",
       "\n",
       "    .dataframe tbody tr th {\n",
       "        vertical-align: top;\n",
       "    }\n",
       "\n",
       "    .dataframe thead th {\n",
       "        text-align: right;\n",
       "    }\n",
       "</style>\n",
       "<table border=\"1\" class=\"dataframe\">\n",
       "  <thead>\n",
       "    <tr style=\"text-align: right;\">\n",
       "      <th></th>\n",
       "      <th>广告id</th>\n",
       "      <th>创建/修改时间</th>\n",
       "      <th>操作类型</th>\n",
       "      <th>修改字段</th>\n",
       "      <th>操作后的字段值</th>\n",
       "      <th>人群定向</th>\n",
       "    </tr>\n",
       "  </thead>\n",
       "  <tbody>\n",
       "    <tr>\n",
       "      <th>0</th>\n",
       "      <td>593323</td>\n",
       "      <td>0</td>\n",
       "      <td>2</td>\n",
       "      <td>2</td>\n",
       "      <td>90</td>\n",
       "      <td>NaN</td>\n",
       "    </tr>\n",
       "    <tr>\n",
       "      <th>1</th>\n",
       "      <td>593323</td>\n",
       "      <td>0</td>\n",
       "      <td>2</td>\n",
       "      <td>3</td>\n",
       "      <td>all</td>\n",
       "      <td>NaN</td>\n",
       "    </tr>\n",
       "    <tr>\n",
       "      <th>2</th>\n",
       "      <td>593323</td>\n",
       "      <td>0</td>\n",
       "      <td>2</td>\n",
       "      <td>4</td>\n",
       "      <td>281474976710655,281474976710655,28147497671065...</td>\n",
       "      <td>NaN</td>\n",
       "    </tr>\n",
       "    <tr>\n",
       "      <th>3</th>\n",
       "      <td>593323</td>\n",
       "      <td>20190217000000</td>\n",
       "      <td>1</td>\n",
       "      <td>1</td>\n",
       "      <td>0</td>\n",
       "      <td>NaN</td>\n",
       "    </tr>\n",
       "    <tr>\n",
       "      <th>4</th>\n",
       "      <td>593323</td>\n",
       "      <td>20190218233855</td>\n",
       "      <td>1</td>\n",
       "      <td>2</td>\n",
       "      <td>90</td>\n",
       "      <td>NaN</td>\n",
       "    </tr>\n",
       "  </tbody>\n",
       "</table>\n",
       "</div>"
      ],
      "text/plain": [
       "     广告id         创建/修改时间  操作类型  修改字段  \\\n",
       "0  593323               0     2     2   \n",
       "1  593323               0     2     3   \n",
       "2  593323               0     2     4   \n",
       "3  593323  20190217000000     1     1   \n",
       "4  593323  20190218233855     1     2   \n",
       "\n",
       "                                             操作后的字段值  人群定向  \n",
       "0                                                 90   NaN  \n",
       "1                                                all   NaN  \n",
       "2  281474976710655,281474976710655,28147497671065...   NaN  \n",
       "3                                                  0   NaN  \n",
       "4                                                 90   NaN  "
      ]
     },
     "execution_count": 13,
     "metadata": {},
     "output_type": "execute_result"
    }
   ],
   "source": [
    "ad_operation = pd.read_csv(root/'ad_operation.dat', sep='\\t', header=None, names=col_names, iterator=True)\n",
    "ad_operation.get_chunk(5)"
   ]
  },
  {
   "cell_type": "markdown",
   "metadata": {},
   "source": [
    "- 测试数据"
   ]
  },
  {
   "cell_type": "code",
   "execution_count": 14,
   "metadata": {},
   "outputs": [],
   "source": [
    "col_names = ['样本id', '广告id', '创建时间', '素材尺寸', '广告行业id', '商品类型', '商品id', '广告账户id', '投放时段', '人群定向', '出价']"
   ]
  },
  {
   "cell_type": "code",
   "execution_count": 15,
   "metadata": {},
   "outputs": [
    {
     "data": {
      "text/html": [
       "<div>\n",
       "<style scoped>\n",
       "    .dataframe tbody tr th:only-of-type {\n",
       "        vertical-align: middle;\n",
       "    }\n",
       "\n",
       "    .dataframe tbody tr th {\n",
       "        vertical-align: top;\n",
       "    }\n",
       "\n",
       "    .dataframe thead th {\n",
       "        text-align: right;\n",
       "    }\n",
       "</style>\n",
       "<table border=\"1\" class=\"dataframe\">\n",
       "  <thead>\n",
       "    <tr style=\"text-align: right;\">\n",
       "      <th></th>\n",
       "      <th>样本id</th>\n",
       "      <th>广告id</th>\n",
       "      <th>创建时间</th>\n",
       "      <th>素材尺寸</th>\n",
       "      <th>广告行业id</th>\n",
       "      <th>商品类型</th>\n",
       "      <th>商品id</th>\n",
       "      <th>广告账户id</th>\n",
       "      <th>投放时段</th>\n",
       "      <th>人群定向</th>\n",
       "      <th>出价</th>\n",
       "    </tr>\n",
       "  </thead>\n",
       "  <tbody>\n",
       "    <tr>\n",
       "      <th>0</th>\n",
       "      <td>1</td>\n",
       "      <td>394352</td>\n",
       "      <td>1529648412</td>\n",
       "      <td>34</td>\n",
       "      <td>84</td>\n",
       "      <td>13</td>\n",
       "      <td>29663</td>\n",
       "      <td>26657</td>\n",
       "      <td>281474976645120,281474976645120,28147497664512...</td>\n",
       "      <td>age:819,608,988,741,202,837,400,394,942,361,72...</td>\n",
       "      <td>120</td>\n",
       "    </tr>\n",
       "    <tr>\n",
       "      <th>1</th>\n",
       "      <td>2</td>\n",
       "      <td>585401</td>\n",
       "      <td>1553076190</td>\n",
       "      <td>40</td>\n",
       "      <td>221</td>\n",
       "      <td>1</td>\n",
       "      <td>-1</td>\n",
       "      <td>6262</td>\n",
       "      <td>281474976579587,281474976579587,28147497657958...</td>\n",
       "      <td>age:819,433,479,741,229,347,522,79,753,601|edu...</td>\n",
       "      <td>42</td>\n",
       "    </tr>\n",
       "    <tr>\n",
       "      <th>2</th>\n",
       "      <td>3</td>\n",
       "      <td>419408</td>\n",
       "      <td>1553031394</td>\n",
       "      <td>30</td>\n",
       "      <td>122</td>\n",
       "      <td>13</td>\n",
       "      <td>32110</td>\n",
       "      <td>17436</td>\n",
       "      <td>17592185782272,17592185782272,17592185782272,1...</td>\n",
       "      <td>all</td>\n",
       "      <td>6</td>\n",
       "    </tr>\n",
       "    <tr>\n",
       "      <th>3</th>\n",
       "      <td>4</td>\n",
       "      <td>405326</td>\n",
       "      <td>1553238836</td>\n",
       "      <td>64</td>\n",
       "      <td>136</td>\n",
       "      <td>1</td>\n",
       "      <td>-1</td>\n",
       "      <td>22359</td>\n",
       "      <td>281474976694272,281474976694272,28147497669427...</td>\n",
       "      <td>age:333,1|gender:2|area:11505,1874,3790,4566,5...</td>\n",
       "      <td>181</td>\n",
       "    </tr>\n",
       "    <tr>\n",
       "      <th>4</th>\n",
       "      <td>5</td>\n",
       "      <td>578942</td>\n",
       "      <td>1541191585</td>\n",
       "      <td>34</td>\n",
       "      <td>12</td>\n",
       "      <td>13</td>\n",
       "      <td>6372</td>\n",
       "      <td>24082</td>\n",
       "      <td>68719214592,68719214592,68719214592,6871921459...</td>\n",
       "      <td>age:819,608,988,741,202,837,400,394,942,361,72...</td>\n",
       "      <td>31</td>\n",
       "    </tr>\n",
       "  </tbody>\n",
       "</table>\n",
       "</div>"
      ],
      "text/plain": [
       "   样本id    广告id        创建时间  素材尺寸  广告行业id  商品类型   商品id  广告账户id  \\\n",
       "0     1  394352  1529648412    34      84    13  29663   26657   \n",
       "1     2  585401  1553076190    40     221     1     -1    6262   \n",
       "2     3  419408  1553031394    30     122    13  32110   17436   \n",
       "3     4  405326  1553238836    64     136     1     -1   22359   \n",
       "4     5  578942  1541191585    34      12    13   6372   24082   \n",
       "\n",
       "                                                投放时段  \\\n",
       "0  281474976645120,281474976645120,28147497664512...   \n",
       "1  281474976579587,281474976579587,28147497657958...   \n",
       "2  17592185782272,17592185782272,17592185782272,1...   \n",
       "3  281474976694272,281474976694272,28147497669427...   \n",
       "4  68719214592,68719214592,68719214592,6871921459...   \n",
       "\n",
       "                                                人群定向   出价  \n",
       "0  age:819,608,988,741,202,837,400,394,942,361,72...  120  \n",
       "1  age:819,433,479,741,229,347,522,79,753,601|edu...   42  \n",
       "2                                                all    6  \n",
       "3  age:333,1|gender:2|area:11505,1874,3790,4566,5...  181  \n",
       "4  age:819,608,988,741,202,837,400,394,942,361,72...   31  "
      ]
     },
     "execution_count": 15,
     "metadata": {},
     "output_type": "execute_result"
    }
   ],
   "source": [
    "test_sample = pd.read_csv(root/'test_sample.dat', sep='\\t', header=None, names=col_names, iterator=True)\n",
    "test_sample.get_chunk(5)"
   ]
  },
  {
   "cell_type": "code",
   "execution_count": 20,
   "metadata": {},
   "outputs": [],
   "source": [
    "data = test_sample.get_chunk(5)"
   ]
  },
  {
   "cell_type": "code",
   "execution_count": 26,
   "metadata": {},
   "outputs": [
    {
     "data": {
      "text/plain": [
       "'age:819,608,988,741,202,837,400,394,942,361,728,753,601,433,217,844,638,1,366,479,229,393,347,787,340,731,522,333,829,79,739'"
      ]
     },
     "execution_count": 26,
     "metadata": {},
     "output_type": "execute_result"
    }
   ],
   "source": [
    "data.iloc[1, 9]  # 人群定向"
   ]
  },
  {
   "cell_type": "code",
   "execution_count": 27,
   "metadata": {},
   "outputs": [
    {
     "data": {
      "text/plain": [
       "'267386880,267386880,267386880,267386880,267386880,267386880,267386880'"
      ]
     },
     "execution_count": 27,
     "metadata": {},
     "output_type": "execute_result"
    }
   ],
   "source": [
    "data.iloc[1, 8]  # 投放时段"
   ]
  },
  {
   "cell_type": "markdown",
   "metadata": {},
   "source": [
    "- 分块读取文件(整体读取) chunksize\n",
    "- 迭代读取，测试数据使用 iterator"
   ]
  },
  {
   "cell_type": "code",
   "execution_count": 17,
   "metadata": {},
   "outputs": [],
   "source": [
    "test_sample1 = pd.read_csv(root/'test_sample.dat', sep='\\t', header=None, names=col_names, chunksize=8192)"
   ]
  },
  {
   "cell_type": "code",
   "execution_count": 19,
   "metadata": {},
   "outputs": [
    {
     "name": "stdout",
     "output_type": "stream",
     "text": [
      "(8192, 11)\n",
      "(8192, 11)\n",
      "(3906, 11)\n"
     ]
    }
   ],
   "source": [
    "for chunk in test_sample1:\n",
    "    print(chunk.shape)"
   ]
  },
  {
   "cell_type": "code",
   "execution_count": null,
   "metadata": {},
   "outputs": [],
   "source": []
  }
 ],
 "metadata": {
  "kernelspec": {
   "display_name": "Python 3",
   "language": "python",
   "name": "python3"
  },
  "language_info": {
   "codemirror_mode": {
    "name": "ipython",
    "version": 3
   },
   "file_extension": ".py",
   "mimetype": "text/x-python",
   "name": "python",
   "nbconvert_exporter": "python",
   "pygments_lexer": "ipython3",
   "version": "3.6.6"
  }
 },
 "nbformat": 4,
 "nbformat_minor": 2
}
