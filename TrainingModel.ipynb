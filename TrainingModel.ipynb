{
 "cells": [
  {
   "cell_type": "code",
   "execution_count": 3,
   "metadata": {},
   "outputs": [],
   "source": [
    "import pandas as pd\n",
    "import numpy as np\n",
    "from models.utils import *\n",
    "from deepctr.models import xDeepFM"
   ]
  },
  {
   "cell_type": "code",
   "execution_count": 4,
   "metadata": {},
   "outputs": [],
   "source": [
    "path='./data/train_set_final.csv'                         #请把数据的路径写在这里\n",
    "data=pd.read_csv(path,low_memory=False,encoding='utf-8')"
   ]
  },
  {
   "cell_type": "code",
   "execution_count": 5,
   "metadata": {},
   "outputs": [
    {
     "data": {
      "text/plain": [
       "Index(['广告id', '广告行业id', '广告账户id', '商品id', '商品类型', '素材尺寸', 'is_all_field',\n",
       "       'has_product_id', 'time', 'age', 'area', 'behavior', 'connectionType',\n",
       "       'consuptionAbility', 'device', 'education', 'gender', 'status', 'work',\n",
       "       'price', 'crt_dateYear', 'crt_dateMonth', 'crt_dateWeek', 'crt_dateDay',\n",
       "       'crt_dateDayofweek', 'crt_dateDayofyear', 'crt_dateIs_month_end',\n",
       "       'crt_dateIs_month_start', 'crt_dateIs_quarter_end',\n",
       "       'crt_dateIs_quarter_start', 'crt_dateIs_year_end',\n",
       "       'crt_dateIs_year_start', 'crt_dateHour', 'crt_dateElapsed', '曝光量'],\n",
       "      dtype='object')"
      ]
     },
     "execution_count": 5,
     "metadata": {},
     "output_type": "execute_result"
    }
   ],
   "source": [
    "data.columns "
   ]
  },
  {
   "cell_type": "code",
   "execution_count": null,
   "metadata": {},
   "outputs": [],
   "source": [
    "# new_columns=['sample_id','ad_id','size','ad_type_id','item_type','item_id','ad_account_id','price']\n",
    "# data.columns[:,len(new_columns)]=new_columns"
   ]
  },
  {
   "cell_type": "code",
   "execution_count": null,
   "metadata": {},
   "outputs": [],
   "source": [
    "sparse_features = ['广告id', '广告行业id', '广告账户id', '商品id', '商品类型','is_all_field',\n",
    "       'has_product_id',] #在此加入稀疏特征名\n",
    "multi_value_features=['素材尺寸','time', 'age', 'area','behavior','connectionType','area', ]#在此加入多值特征名\n",
    "target = []#在此加入标签名\n",
    "hashing=False\n",
    "data=sparse_feature_encoding(data,sparse_features)\n",
    "sequence_input,max_len_list=multi_value_feature_encoding(data,multi_value_features)\n",
    "sparse_feat_list=sparse_feat_list_gen(data,sparse_feature,hashing)\n",
    "sequence_output=sequence_feature_acquire(max_len_list,multi_value_features,hashing)"
   ]
  },
  {
   "cell_type": "code",
   "execution_count": null,
   "metadata": {},
   "outputs": [],
   "source": [
    "# 3.generate input data for model\n",
    "sparse_input = [data[feat.name].values for feat in sparse_feat_list]\n",
    "dense_input = []#加入密集特征\n",
    "sequence_input = [genres_list]\n",
    "model_input = sparse_input + dense_input + \\\n",
    "              sequence_input  # make sure the order is right"
   ]
  },
  {
   "cell_type": "code",
   "execution_count": null,
   "metadata": {},
   "outputs": [],
   "source": [
    "# 4.Define Model,compile and train\n",
    "model = xDeepFM({\"sparse\": sparse_feat_list,\n",
    "                \"sequence\": sequence_feature}, task='regression')"
   ]
  },
  {
   "cell_type": "code",
   "execution_count": null,
   "metadata": {},
   "outputs": [],
   "source": [
    "#训练\n",
    "model.compile(\"adam\", \"mse\", metrics=['mse'], )\n",
    "history = model.fit(model_input, data[target].values,\n",
    "                    batch_size=256, epochs=10, verbose=2, validation_split=0.2, )"
   ]
  },
  {
   "cell_type": "code",
   "execution_count": null,
   "metadata": {},
   "outputs": [],
   "source": [
    "#测试集测试\n",
    "pred_ans = model.predict(test_model_input, batch_size=256)\n",
    "print(\"test MSE\", round(mean_squared_error(\n",
    "    test[target].values, pred_ans), 4))"
   ]
  },
  {
   "cell_type": "code",
   "execution_count": null,
   "metadata": {},
   "outputs": [],
   "source": [
    "#保存结果\n",
    "result_for_submission=model.predict(test_model_input, batch_size=256)\n",
    "print('Done!')\n",
    "result_for_submission.to_csv(result_name,encoding='UTF-8')"
   ]
  }
 ],
 "metadata": {
  "kernelspec": {
   "display_name": "Python 3",
   "language": "python",
   "name": "python3"
  },
  "language_info": {
   "codemirror_mode": {
    "name": "ipython",
    "version": 3
   },
   "file_extension": ".py",
   "mimetype": "text/x-python",
   "name": "python",
   "nbconvert_exporter": "python",
   "pygments_lexer": "ipython3",
   "version": "3.6.7"
  }
 },
 "nbformat": 4,
 "nbformat_minor": 2
}
